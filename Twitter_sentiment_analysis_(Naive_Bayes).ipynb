{
  "nbformat": 4,
  "nbformat_minor": 0,
  "metadata": {
    "colab": {
      "name": "Twitter sentiment analysis (Naive Bayes).ipynb",
      "provenance": [],
      "authorship_tag": "ABX9TyNCi7flql0wgiUAIxWWEXXB",
      "include_colab_link": true
    },
    "kernelspec": {
      "name": "python3",
      "display_name": "Python 3"
    }
  },
  "cells": [
    {
      "cell_type": "markdown",
      "metadata": {
        "id": "view-in-github",
        "colab_type": "text"
      },
      "source": [
        "<a href=\"https://colab.research.google.com/github/armandordorica/Twitter_Sentiment_Analysis/blob/master/Twitter_sentiment_analysis_(Naive_Bayes).ipynb\" target=\"_parent\"><img src=\"https://colab.research.google.com/assets/colab-badge.svg\" alt=\"Open In Colab\"/></a>"
      ]
    },
    {
      "cell_type": "code",
      "metadata": {
        "id": "TsFj31_yFB0R",
        "colab_type": "code",
        "colab": {}
      },
      "source": [
        "import tweepy \n",
        "from textblob import TextBlob\n",
        "from wordcloud import WordCloud\n",
        "import pandas as pd\n",
        "import numpy as np\n",
        "import re \n",
        "import matplotlib.pyplot as plt\n",
        "plt.style.use('fivethirtyeight')"
      ],
      "execution_count": 0,
      "outputs": []
    },
    {
      "cell_type": "code",
      "metadata": {
        "id": "IEPwqmCfFDiD",
        "colab_type": "code",
        "outputId": "ea47e1b4-eba2-419e-caa4-e60b67020731",
        "colab": {
          "resources": {
            "http://localhost:8080/nbextensions/google.colab/files.js": {
              "data": "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",
              "ok": true,
              "headers": [
                [
                  "content-type",
                  "application/javascript"
                ]
              ],
              "status": 200,
              "status_text": ""
            }
          },
          "base_uri": "https://localhost:8080/",
          "height": 73
        }
      },
      "source": [
        "# Load the data\n",
        "from google.colab import files\n",
        "uploaded = files.upload()\n"
      ],
      "execution_count": 15,
      "outputs": [
        {
          "output_type": "display_data",
          "data": {
            "text/html": [
              "\n",
              "     <input type=\"file\" id=\"files-6cd3fead-55b6-45f2-80e5-882938c40e92\" name=\"files[]\" multiple disabled />\n",
              "     <output id=\"result-6cd3fead-55b6-45f2-80e5-882938c40e92\">\n",
              "      Upload widget is only available when the cell has been executed in the\n",
              "      current browser session. Please rerun this cell to enable.\n",
              "      </output>\n",
              "      <script src=\"/nbextensions/google.colab/files.js\"></script> "
            ],
            "text/plain": [
              "<IPython.core.display.HTML object>"
            ]
          },
          "metadata": {
            "tags": []
          }
        },
        {
          "output_type": "stream",
          "text": [
            "Saving twitter_credentials_2.csv to twitter_credentials_2.csv\n"
          ],
          "name": "stdout"
        }
      ]
    },
    {
      "cell_type": "code",
      "metadata": {
        "id": "1tDT8tNGGuBu",
        "colab_type": "code",
        "colab": {}
      },
      "source": [
        "df = pd.read_csv(\"twitter_credentials_2.csv\")"
      ],
      "execution_count": 0,
      "outputs": []
    },
    {
      "cell_type": "code",
      "metadata": {
        "id": "fr9ABmuQIAYw",
        "colab_type": "code",
        "outputId": "e7a1cba7-a99a-431f-e500-08c9741375ac",
        "colab": {
          "base_uri": "https://localhost:8080/",
          "height": 172
        }
      },
      "source": [
        "df"
      ],
      "execution_count": 65,
      "outputs": [
        {
          "output_type": "execute_result",
          "data": {
            "text/html": [
              "<div>\n",
              "<style scoped>\n",
              "    .dataframe tbody tr th:only-of-type {\n",
              "        vertical-align: middle;\n",
              "    }\n",
              "\n",
              "    .dataframe tbody tr th {\n",
              "        vertical-align: top;\n",
              "    }\n",
              "\n",
              "    .dataframe thead th {\n",
              "        text-align: right;\n",
              "    }\n",
              "</style>\n",
              "<table border=\"1\" class=\"dataframe\">\n",
              "  <thead>\n",
              "    <tr style=\"text-align: right;\">\n",
              "      <th></th>\n",
              "      <th>Name</th>\n",
              "      <th>Key</th>\n",
              "    </tr>\n",
              "  </thead>\n",
              "  <tbody>\n",
              "    <tr>\n",
              "      <th>0</th>\n",
              "      <td>API_key</td>\n",
              "      <td>QTJhH4RuaIFjBX0mMoOuFWfdD</td>\n",
              "    </tr>\n",
              "    <tr>\n",
              "      <th>1</th>\n",
              "      <td>API_secret_key</td>\n",
              "      <td>bL46D6ikelftA41Sy3iTPPgi0vdgU8gCDk5AddE96fn8DY...</td>\n",
              "    </tr>\n",
              "    <tr>\n",
              "      <th>2</th>\n",
              "      <td>access_token</td>\n",
              "      <td>98177702-eqSOVsXXFQefnqHq1yq0QudnQP5rOfsd9BoN3...</td>\n",
              "    </tr>\n",
              "    <tr>\n",
              "      <th>3</th>\n",
              "      <td>access_token_secret</td>\n",
              "      <td>MepMWPMNgN2AnyUmTFzshLsFMPESbP5YhwmEkScIrIa9U</td>\n",
              "    </tr>\n",
              "  </tbody>\n",
              "</table>\n",
              "</div>"
            ],
            "text/plain": [
              "                  Name                                                Key\n",
              "0              API_key                          QTJhH4RuaIFjBX0mMoOuFWfdD\n",
              "1       API_secret_key  bL46D6ikelftA41Sy3iTPPgi0vdgU8gCDk5AddE96fn8DY...\n",
              "2         access_token  98177702-eqSOVsXXFQefnqHq1yq0QudnQP5rOfsd9BoN3...\n",
              "3  access_token_secret      MepMWPMNgN2AnyUmTFzshLsFMPESbP5YhwmEkScIrIa9U"
            ]
          },
          "metadata": {
            "tags": []
          },
          "execution_count": 65
        }
      ]
    },
    {
      "cell_type": "code",
      "metadata": {
        "id": "w4786Q5eINfA",
        "colab_type": "code",
        "colab": {}
      },
      "source": [
        "consumerKey = df['Key'].iloc[0]"
      ],
      "execution_count": 0,
      "outputs": []
    },
    {
      "cell_type": "code",
      "metadata": {
        "id": "moOYKmHBInfM",
        "colab_type": "code",
        "colab": {}
      },
      "source": [
        "consumerSecret = df['Key'].iloc[1]"
      ],
      "execution_count": 0,
      "outputs": []
    },
    {
      "cell_type": "code",
      "metadata": {
        "id": "QTjNzQJIIvoq",
        "colab_type": "code",
        "colab": {}
      },
      "source": [
        "accessToken = df['Key'].iloc[2]"
      ],
      "execution_count": 0,
      "outputs": []
    },
    {
      "cell_type": "code",
      "metadata": {
        "id": "4vBKOsYaI1Ed",
        "colab_type": "code",
        "colab": {}
      },
      "source": [
        "accessTokenSecret = df['Key'].iloc[3]"
      ],
      "execution_count": 0,
      "outputs": []
    },
    {
      "cell_type": "markdown",
      "metadata": {
        "id": "kDcNF5TmJBF4",
        "colab_type": "text"
      },
      "source": [
        "### Create authentication object"
      ]
    },
    {
      "cell_type": "code",
      "metadata": {
        "id": "KGk7wcixI6fB",
        "colab_type": "code",
        "colab": {}
      },
      "source": [
        "authenticate = tweepy.OAuthHandler(consumerKey, consumerSecret)"
      ],
      "execution_count": 0,
      "outputs": []
    },
    {
      "cell_type": "markdown",
      "metadata": {
        "id": "pbxq1l2DJOt1",
        "colab_type": "text"
      },
      "source": [
        "### Set the access token and access token secret"
      ]
    },
    {
      "cell_type": "code",
      "metadata": {
        "id": "oJ9jlJuxJHoq",
        "colab_type": "code",
        "colab": {}
      },
      "source": [
        "authenticate.set_access_token(accessToken, accessTokenSecret)"
      ],
      "execution_count": 0,
      "outputs": []
    },
    {
      "cell_type": "markdown",
      "metadata": {
        "id": "ScUfSKf7JR6s",
        "colab_type": "text"
      },
      "source": [
        "### Create the API object while passing in the auth information"
      ]
    },
    {
      "cell_type": "code",
      "metadata": {
        "id": "6pBwZwidJMmG",
        "colab_type": "code",
        "colab": {}
      },
      "source": [
        "api = tweepy.API(authenticate, wait_on_rate_limit= True)"
      ],
      "execution_count": 0,
      "outputs": []
    },
    {
      "cell_type": "markdown",
      "metadata": {
        "id": "giMWDNb3Ji-1",
        "colab_type": "text"
      },
      "source": [
        "### Extract 100 tweets from twitter user"
      ]
    },
    {
      "cell_type": "code",
      "metadata": {
        "id": "fkJqaHbAJY0E",
        "colab_type": "code",
        "colab": {}
      },
      "source": [
        "#save the id of the oldest tweet less one\n",
        "username = \"realDonaldTrump\"\n",
        "\n",
        "alltweets = []\t\n",
        "new_tweets = api.user_timeline(screen_name = username,count=200)\n",
        "\n",
        "#save most recent tweets\n",
        "alltweets.extend(new_tweets)\n",
        "\n",
        "#save the id of the oldest tweet less one\n",
        "\n",
        "oldest = alltweets[-1].id - 1\n",
        "\n",
        "posts = api.user_timeline(screen_name = username, count = 200, max_id=oldest, tweet_mode=\"extended\")"
      ],
      "execution_count": 0,
      "outputs": []
    },
    {
      "cell_type": "markdown",
      "metadata": {
        "id": "yhQRWgSKJu7h",
        "colab_type": "text"
      },
      "source": [
        "### Print the last 5 tweets from the account"
      ]
    },
    {
      "cell_type": "code",
      "metadata": {
        "id": "gXWmRKuERggY",
        "colab_type": "code",
        "colab": {
          "base_uri": "https://localhost:8080/",
          "height": 34
        },
        "outputId": "50bddada-a7af-46d0-9f98-c027d012aae6"
      },
      "source": [
        "type(posts[0])"
      ],
      "execution_count": 86,
      "outputs": [
        {
          "output_type": "execute_result",
          "data": {
            "text/plain": [
              "tweepy.models.Status"
            ]
          },
          "metadata": {
            "tags": []
          },
          "execution_count": 86
        }
      ]
    },
    {
      "cell_type": "code",
      "metadata": {
        "id": "4r8OtjL1Jtby",
        "colab_type": "code",
        "colab": {
          "base_uri": "https://localhost:8080/",
          "height": 280
        },
        "outputId": "0f5a3b13-3146-43ff-ae31-8d2a320e1e88"
      },
      "source": [
        "print(\"Show the 5 recent tweets: \\n \")\n",
        "i = 1\n",
        "for tweet in posts[0:5]:\n",
        "  print(str(i) + ')' +  tweet.full_text + \"\\n\")\n",
        "  i = i+1"
      ],
      "execution_count": 87,
      "outputs": [
        {
          "output_type": "stream",
          "text": [
            "Show the 5 recent tweets: \n",
            " \n",
            "1)30 DAYS TO SLOW THE SPREAD https://t.co/GIzwKSt5mq\n",
            "\n",
            "2).....Could be as high as 15 Million Barrels. Good (GREAT) news for everyone!\n",
            "\n",
            "3)Just spoke to my friend MBS (Crown Prince) of Saudi Arabia, who spoke with President Putin of Russia, &amp; I expect &amp; hope that they will be cutting back approximately 10 Million Barrels, and maybe substantially more which, if it happens, will be GREAT for the oil &amp; gas industry!\n",
            "\n",
            "4)“The States have to get the money to the people who need it.” @MariaBartiromo  And FAST!\n",
            "\n",
            "5)RT @parscale: 💯 \n",
            "\n",
            "Great idea!\n",
            "\n"
          ],
          "name": "stdout"
        }
      ]
    },
    {
      "cell_type": "code",
      "metadata": {
        "id": "NhudkN--J5KE",
        "colab_type": "code",
        "colab": {}
      },
      "source": [
        "df = pd.DataFrame([tweet.full_text for tweet in posts], columns = ['Tweets'])"
      ],
      "execution_count": 0,
      "outputs": []
    },
    {
      "cell_type": "code",
      "metadata": {
        "id": "9Lx1B45FKWkQ",
        "colab_type": "code",
        "colab": {
          "base_uri": "https://localhost:8080/",
          "height": 202
        },
        "outputId": "b86cd5ca-a4e9-42b6-f732-934b5a6245d4"
      },
      "source": [
        "df.head()"
      ],
      "execution_count": 89,
      "outputs": [
        {
          "output_type": "execute_result",
          "data": {
            "text/html": [
              "<div>\n",
              "<style scoped>\n",
              "    .dataframe tbody tr th:only-of-type {\n",
              "        vertical-align: middle;\n",
              "    }\n",
              "\n",
              "    .dataframe tbody tr th {\n",
              "        vertical-align: top;\n",
              "    }\n",
              "\n",
              "    .dataframe thead th {\n",
              "        text-align: right;\n",
              "    }\n",
              "</style>\n",
              "<table border=\"1\" class=\"dataframe\">\n",
              "  <thead>\n",
              "    <tr style=\"text-align: right;\">\n",
              "      <th></th>\n",
              "      <th>Tweets</th>\n",
              "    </tr>\n",
              "  </thead>\n",
              "  <tbody>\n",
              "    <tr>\n",
              "      <th>0</th>\n",
              "      <td>30 DAYS TO SLOW THE SPREAD https://t.co/GIzwKS...</td>\n",
              "    </tr>\n",
              "    <tr>\n",
              "      <th>1</th>\n",
              "      <td>.....Could be as high as 15 Million Barrels. G...</td>\n",
              "    </tr>\n",
              "    <tr>\n",
              "      <th>2</th>\n",
              "      <td>Just spoke to my friend MBS (Crown Prince) of ...</td>\n",
              "    </tr>\n",
              "    <tr>\n",
              "      <th>3</th>\n",
              "      <td>“The States have to get the money to the peopl...</td>\n",
              "    </tr>\n",
              "    <tr>\n",
              "      <th>4</th>\n",
              "      <td>RT @parscale: 💯 \\n\\nGreat idea!</td>\n",
              "    </tr>\n",
              "  </tbody>\n",
              "</table>\n",
              "</div>"
            ],
            "text/plain": [
              "                                              Tweets\n",
              "0  30 DAYS TO SLOW THE SPREAD https://t.co/GIzwKS...\n",
              "1  .....Could be as high as 15 Million Barrels. G...\n",
              "2  Just spoke to my friend MBS (Crown Prince) of ...\n",
              "3  “The States have to get the money to the peopl...\n",
              "4                    RT @parscale: 💯 \\n\\nGreat idea!"
            ]
          },
          "metadata": {
            "tags": []
          },
          "execution_count": 89
        }
      ]
    },
    {
      "cell_type": "markdown",
      "metadata": {
        "id": "-oWfv2VcKPYY",
        "colab_type": "text"
      },
      "source": [
        "### Cleaning the data to remove URLs and mentions "
      ]
    },
    {
      "cell_type": "code",
      "metadata": {
        "id": "iGMjxG9tKXaU",
        "colab_type": "code",
        "colab": {}
      },
      "source": [
        "# Create a function to clean the tweets\n",
        "def cleanTxt(text):\n",
        " text = re.sub('@[A-Za-z0–9]+', '', text) #Removing @mentions\n",
        " text = re.sub('#', '', text) # Removing '#' hash tag\n",
        " text = re.sub('RT[\\s]+', '', text) # Removing RT\n",
        " text = re.sub('https?:\\/\\/\\S+', '', text) # Removing hyperlink\n",
        " \n",
        " return text\n",
        "\n",
        "\n",
        "# Clean the tweets\n",
        "df['Tweets'] = df['Tweets'].apply(cleanTxt)"
      ],
      "execution_count": 0,
      "outputs": []
    },
    {
      "cell_type": "code",
      "metadata": {
        "id": "Y4o_1K6fKzGj",
        "colab_type": "code",
        "colab": {
          "base_uri": "https://localhost:8080/",
          "height": 416
        },
        "outputId": "6729d971-9868-4749-852a-86ec2121935f"
      },
      "source": [
        "df "
      ],
      "execution_count": 91,
      "outputs": [
        {
          "output_type": "execute_result",
          "data": {
            "text/html": [
              "<div>\n",
              "<style scoped>\n",
              "    .dataframe tbody tr th:only-of-type {\n",
              "        vertical-align: middle;\n",
              "    }\n",
              "\n",
              "    .dataframe tbody tr th {\n",
              "        vertical-align: top;\n",
              "    }\n",
              "\n",
              "    .dataframe thead th {\n",
              "        text-align: right;\n",
              "    }\n",
              "</style>\n",
              "<table border=\"1\" class=\"dataframe\">\n",
              "  <thead>\n",
              "    <tr style=\"text-align: right;\">\n",
              "      <th></th>\n",
              "      <th>Tweets</th>\n",
              "    </tr>\n",
              "  </thead>\n",
              "  <tbody>\n",
              "    <tr>\n",
              "      <th>0</th>\n",
              "      <td>30 DAYS TO SLOW THE SPREAD</td>\n",
              "    </tr>\n",
              "    <tr>\n",
              "      <th>1</th>\n",
              "      <td>.....Could be as high as 15 Million Barrels. G...</td>\n",
              "    </tr>\n",
              "    <tr>\n",
              "      <th>2</th>\n",
              "      <td>Just spoke to my friend MBS (Crown Prince) of ...</td>\n",
              "    </tr>\n",
              "    <tr>\n",
              "      <th>3</th>\n",
              "      <td>“The States have to get the money to the peopl...</td>\n",
              "    </tr>\n",
              "    <tr>\n",
              "      <th>4</th>\n",
              "      <td>: 💯 \\n\\nGreat idea!</td>\n",
              "    </tr>\n",
              "    <tr>\n",
              "      <th>...</th>\n",
              "      <td>...</td>\n",
              "    </tr>\n",
              "    <tr>\n",
              "      <th>195</th>\n",
              "      <td>The Defense Production Act is in full force, b...</td>\n",
              "    </tr>\n",
              "    <tr>\n",
              "      <th>196</th>\n",
              "      <td>Keep Charlie Number One. Great Book!</td>\n",
              "    </tr>\n",
              "    <tr>\n",
              "      <th>197</th>\n",
              "      <td>: Hey , what does the Kennedy Center have to d...</td>\n",
              "    </tr>\n",
              "    <tr>\n",
              "      <th>198</th>\n",
              "      <td>: When Nancy Pelosi receives a bill that will ...</td>\n",
              "    </tr>\n",
              "    <tr>\n",
              "      <th>199</th>\n",
              "      <td>2768:   Love you Kirstie, don't be afraid to s...</td>\n",
              "    </tr>\n",
              "  </tbody>\n",
              "</table>\n",
              "<p>200 rows × 1 columns</p>\n",
              "</div>"
            ],
            "text/plain": [
              "                                                Tweets\n",
              "0                          30 DAYS TO SLOW THE SPREAD \n",
              "1    .....Could be as high as 15 Million Barrels. G...\n",
              "2    Just spoke to my friend MBS (Crown Prince) of ...\n",
              "3    “The States have to get the money to the peopl...\n",
              "4                                  : 💯 \\n\\nGreat idea!\n",
              "..                                                 ...\n",
              "195  The Defense Production Act is in full force, b...\n",
              "196              Keep Charlie Number One. Great Book! \n",
              "197  : Hey , what does the Kennedy Center have to d...\n",
              "198  : When Nancy Pelosi receives a bill that will ...\n",
              "199  2768:   Love you Kirstie, don't be afraid to s...\n",
              "\n",
              "[200 rows x 1 columns]"
            ]
          },
          "metadata": {
            "tags": []
          },
          "execution_count": 91
        }
      ]
    },
    {
      "cell_type": "code",
      "metadata": {
        "id": "jEGTGL0WNM03",
        "colab_type": "code",
        "colab": {}
      },
      "source": [
        "\n",
        "# Create a function to get the subjectivity\n",
        "def getSubjectivity(text):\n",
        "   return TextBlob(text).sentiment.subjectivity\n",
        "\n",
        "# Create a function to get the polarity\n",
        "def getPolarity(text):\n",
        "   return  TextBlob(text).sentiment.polarity\n",
        "\n",
        "\n",
        "# Create two new columns 'Subjectivity' & 'Polarity'\n",
        "df['Subjectivity'] = df['Tweets'].apply(getSubjectivity)\n",
        "df['Polarity'] = df['Tweets'].apply(getPolarity)"
      ],
      "execution_count": 0,
      "outputs": []
    },
    {
      "cell_type": "code",
      "metadata": {
        "id": "YkawkmxLNXim",
        "colab_type": "code",
        "colab": {
          "base_uri": "https://localhost:8080/",
          "height": 416
        },
        "outputId": "fbf382aa-b180-4221-b82f-8d37274debd2"
      },
      "source": [
        "df"
      ],
      "execution_count": 93,
      "outputs": [
        {
          "output_type": "execute_result",
          "data": {
            "text/html": [
              "<div>\n",
              "<style scoped>\n",
              "    .dataframe tbody tr th:only-of-type {\n",
              "        vertical-align: middle;\n",
              "    }\n",
              "\n",
              "    .dataframe tbody tr th {\n",
              "        vertical-align: top;\n",
              "    }\n",
              "\n",
              "    .dataframe thead th {\n",
              "        text-align: right;\n",
              "    }\n",
              "</style>\n",
              "<table border=\"1\" class=\"dataframe\">\n",
              "  <thead>\n",
              "    <tr style=\"text-align: right;\">\n",
              "      <th></th>\n",
              "      <th>Tweets</th>\n",
              "      <th>Subjectivity</th>\n",
              "      <th>Polarity</th>\n",
              "    </tr>\n",
              "  </thead>\n",
              "  <tbody>\n",
              "    <tr>\n",
              "      <th>0</th>\n",
              "      <td>30 DAYS TO SLOW THE SPREAD</td>\n",
              "      <td>0.400</td>\n",
              "      <td>-0.300000</td>\n",
              "    </tr>\n",
              "    <tr>\n",
              "      <th>1</th>\n",
              "      <td>.....Could be as high as 15 Million Barrels. G...</td>\n",
              "      <td>0.630</td>\n",
              "      <td>0.620000</td>\n",
              "    </tr>\n",
              "    <tr>\n",
              "      <th>2</th>\n",
              "      <td>Just spoke to my friend MBS (Crown Prince) of ...</td>\n",
              "      <td>0.550</td>\n",
              "      <td>0.100000</td>\n",
              "    </tr>\n",
              "    <tr>\n",
              "      <th>3</th>\n",
              "      <td>“The States have to get the money to the peopl...</td>\n",
              "      <td>0.600</td>\n",
              "      <td>0.250000</td>\n",
              "    </tr>\n",
              "    <tr>\n",
              "      <th>4</th>\n",
              "      <td>: 💯 \\n\\nGreat idea!</td>\n",
              "      <td>0.750</td>\n",
              "      <td>1.000000</td>\n",
              "    </tr>\n",
              "    <tr>\n",
              "      <th>...</th>\n",
              "      <td>...</td>\n",
              "      <td>...</td>\n",
              "      <td>...</td>\n",
              "    </tr>\n",
              "    <tr>\n",
              "      <th>195</th>\n",
              "      <td>The Defense Production Act is in full force, b...</td>\n",
              "      <td>0.275</td>\n",
              "      <td>0.218750</td>\n",
              "    </tr>\n",
              "    <tr>\n",
              "      <th>196</th>\n",
              "      <td>Keep Charlie Number One. Great Book!</td>\n",
              "      <td>0.750</td>\n",
              "      <td>1.000000</td>\n",
              "    </tr>\n",
              "    <tr>\n",
              "      <th>197</th>\n",
              "      <td>: Hey , what does the Kennedy Center have to d...</td>\n",
              "      <td>0.100</td>\n",
              "      <td>-0.100000</td>\n",
              "    </tr>\n",
              "    <tr>\n",
              "      <th>198</th>\n",
              "      <td>: When Nancy Pelosi receives a bill that will ...</td>\n",
              "      <td>0.050</td>\n",
              "      <td>-0.050000</td>\n",
              "    </tr>\n",
              "    <tr>\n",
              "      <th>199</th>\n",
              "      <td>2768:   Love you Kirstie, don't be afraid to s...</td>\n",
              "      <td>0.800</td>\n",
              "      <td>0.054167</td>\n",
              "    </tr>\n",
              "  </tbody>\n",
              "</table>\n",
              "<p>200 rows × 3 columns</p>\n",
              "</div>"
            ],
            "text/plain": [
              "                                                Tweets  Subjectivity  Polarity\n",
              "0                          30 DAYS TO SLOW THE SPREAD          0.400 -0.300000\n",
              "1    .....Could be as high as 15 Million Barrels. G...         0.630  0.620000\n",
              "2    Just spoke to my friend MBS (Crown Prince) of ...         0.550  0.100000\n",
              "3    “The States have to get the money to the peopl...         0.600  0.250000\n",
              "4                                  : 💯 \\n\\nGreat idea!         0.750  1.000000\n",
              "..                                                 ...           ...       ...\n",
              "195  The Defense Production Act is in full force, b...         0.275  0.218750\n",
              "196              Keep Charlie Number One. Great Book!          0.750  1.000000\n",
              "197  : Hey , what does the Kennedy Center have to d...         0.100 -0.100000\n",
              "198  : When Nancy Pelosi receives a bill that will ...         0.050 -0.050000\n",
              "199  2768:   Love you Kirstie, don't be afraid to s...         0.800  0.054167\n",
              "\n",
              "[200 rows x 3 columns]"
            ]
          },
          "metadata": {
            "tags": []
          },
          "execution_count": 93
        }
      ]
    },
    {
      "cell_type": "code",
      "metadata": {
        "id": "erFaVAfiNksC",
        "colab_type": "code",
        "colab": {
          "base_uri": "https://localhost:8080/",
          "height": 256
        },
        "outputId": "4b45840d-cac8-4ce6-96b6-1c2950cc51b0"
      },
      "source": [
        " # Show the new dataframe with columns 'Subjectivity' & 'Polarity'\n",
        "df\n",
        "\n",
        "'''\n",
        "Let's see how well the sentiments are distributed. \n",
        "A good way to accomplish this task is by understanding the common words by plotting word clouds.\n",
        "A word cloud (also known as text clouds or tag clouds) is a visualization, the more a specific word \n",
        "appears in text, the bigger and bolder it appears in the word cloud.\n",
        "Let’s visualize all the words in the data using the word cloud plot.\n",
        "'''\n",
        "\n",
        "allWords = ' '.join([twts for twts in df['Tweets']])\n",
        "wordCloud = WordCloud(width=500, height=300, random_state=21, max_font_size=110).generate(allWords)\n",
        "\n",
        "\n",
        "plt.imshow(wordCloud, interpolation=\"bilinear\")\n",
        "plt.axis('off')\n",
        "plt.show()\n"
      ],
      "execution_count": 94,
      "outputs": [
        {
          "output_type": "display_data",
          "data": {
            "image/png": "[encoded data removed]",
            "text/plain": [
              "<Figure size 432x288 with 1 Axes>"
            ]
          },
          "metadata": {
            "tags": []
          }
        }
      ]
    },
    {
      "cell_type": "code",
      "metadata": {
        "id": "Vfp3z5z7NrhD",
        "colab_type": "code",
        "colab": {
          "base_uri": "https://localhost:8080/",
          "height": 416
        },
        "outputId": "513b5f93-e30c-4e06-b047-0e82d874ea29"
      },
      "source": [
        "\n",
        "\n",
        "# Create a function to compute negative (-1), neutral (0) and positive (+1) analysis\n",
        "def getAnalysis(score):\n",
        " if score < 0:\n",
        "  return 'Negative'\n",
        " elif score == 0:\n",
        "  return 'Neutral'\n",
        " else:\n",
        "  return 'Positive'\n",
        "\n",
        "\n",
        "df['Analysis'] = df['Polarity'].apply(getAnalysis)\n",
        "\n",
        "# Show the dataframe\n",
        "df"
      ],
      "execution_count": 95,
      "outputs": [
        {
          "output_type": "execute_result",
          "data": {
            "text/html": [
              "<div>\n",
              "<style scoped>\n",
              "    .dataframe tbody tr th:only-of-type {\n",
              "        vertical-align: middle;\n",
              "    }\n",
              "\n",
              "    .dataframe tbody tr th {\n",
              "        vertical-align: top;\n",
              "    }\n",
              "\n",
              "    .dataframe thead th {\n",
              "        text-align: right;\n",
              "    }\n",
              "</style>\n",
              "<table border=\"1\" class=\"dataframe\">\n",
              "  <thead>\n",
              "    <tr style=\"text-align: right;\">\n",
              "      <th></th>\n",
              "      <th>Tweets</th>\n",
              "      <th>Subjectivity</th>\n",
              "      <th>Polarity</th>\n",
              "      <th>Analysis</th>\n",
              "    </tr>\n",
              "  </thead>\n",
              "  <tbody>\n",
              "    <tr>\n",
              "      <th>0</th>\n",
              "      <td>30 DAYS TO SLOW THE SPREAD</td>\n",
              "      <td>0.400</td>\n",
              "      <td>-0.300000</td>\n",
              "      <td>Negative</td>\n",
              "    </tr>\n",
              "    <tr>\n",
              "      <th>1</th>\n",
              "      <td>.....Could be as high as 15 Million Barrels. G...</td>\n",
              "      <td>0.630</td>\n",
              "      <td>0.620000</td>\n",
              "      <td>Positive</td>\n",
              "    </tr>\n",
              "    <tr>\n",
              "      <th>2</th>\n",
              "      <td>Just spoke to my friend MBS (Crown Prince) of ...</td>\n",
              "      <td>0.550</td>\n",
              "      <td>0.100000</td>\n",
              "      <td>Positive</td>\n",
              "    </tr>\n",
              "    <tr>\n",
              "      <th>3</th>\n",
              "      <td>“The States have to get the money to the peopl...</td>\n",
              "      <td>0.600</td>\n",
              "      <td>0.250000</td>\n",
              "      <td>Positive</td>\n",
              "    </tr>\n",
              "    <tr>\n",
              "      <th>4</th>\n",
              "      <td>: 💯 \\n\\nGreat idea!</td>\n",
              "      <td>0.750</td>\n",
              "      <td>1.000000</td>\n",
              "      <td>Positive</td>\n",
              "    </tr>\n",
              "    <tr>\n",
              "      <th>...</th>\n",
              "      <td>...</td>\n",
              "      <td>...</td>\n",
              "      <td>...</td>\n",
              "      <td>...</td>\n",
              "    </tr>\n",
              "    <tr>\n",
              "      <th>195</th>\n",
              "      <td>The Defense Production Act is in full force, b...</td>\n",
              "      <td>0.275</td>\n",
              "      <td>0.218750</td>\n",
              "      <td>Positive</td>\n",
              "    </tr>\n",
              "    <tr>\n",
              "      <th>196</th>\n",
              "      <td>Keep Charlie Number One. Great Book!</td>\n",
              "      <td>0.750</td>\n",
              "      <td>1.000000</td>\n",
              "      <td>Positive</td>\n",
              "    </tr>\n",
              "    <tr>\n",
              "      <th>197</th>\n",
              "      <td>: Hey , what does the Kennedy Center have to d...</td>\n",
              "      <td>0.100</td>\n",
              "      <td>-0.100000</td>\n",
              "      <td>Negative</td>\n",
              "    </tr>\n",
              "    <tr>\n",
              "      <th>198</th>\n",
              "      <td>: When Nancy Pelosi receives a bill that will ...</td>\n",
              "      <td>0.050</td>\n",
              "      <td>-0.050000</td>\n",
              "      <td>Negative</td>\n",
              "    </tr>\n",
              "    <tr>\n",
              "      <th>199</th>\n",
              "      <td>2768:   Love you Kirstie, don't be afraid to s...</td>\n",
              "      <td>0.800</td>\n",
              "      <td>0.054167</td>\n",
              "      <td>Positive</td>\n",
              "    </tr>\n",
              "  </tbody>\n",
              "</table>\n",
              "<p>200 rows × 4 columns</p>\n",
              "</div>"
            ],
            "text/plain": [
              "                                                Tweets  ...  Analysis\n",
              "0                          30 DAYS TO SLOW THE SPREAD   ...  Negative\n",
              "1    .....Could be as high as 15 Million Barrels. G...  ...  Positive\n",
              "2    Just spoke to my friend MBS (Crown Prince) of ...  ...  Positive\n",
              "3    “The States have to get the money to the peopl...  ...  Positive\n",
              "4                                  : 💯 \\n\\nGreat idea!  ...  Positive\n",
              "..                                                 ...  ...       ...\n",
              "195  The Defense Production Act is in full force, b...  ...  Positive\n",
              "196              Keep Charlie Number One. Great Book!   ...  Positive\n",
              "197  : Hey , what does the Kennedy Center have to d...  ...  Negative\n",
              "198  : When Nancy Pelosi receives a bill that will ...  ...  Negative\n",
              "199  2768:   Love you Kirstie, don't be afraid to s...  ...  Positive\n",
              "\n",
              "[200 rows x 4 columns]"
            ]
          },
          "metadata": {
            "tags": []
          },
          "execution_count": 95
        }
      ]
    },
    {
      "cell_type": "code",
      "metadata": {
        "id": "iducmTiJOPP_",
        "colab_type": "code",
        "colab": {
          "base_uri": "https://localhost:8080/",
          "height": 54
        },
        "outputId": "2d9c3c05-692d-4dad-d24b-5e9ffb9d9f88"
      },
      "source": [
        "df.loc[97]['Tweets']"
      ],
      "execution_count": 96,
      "outputs": [
        {
          "output_type": "execute_result",
          "data": {
            "text/plain": [
              "': \"We will stop at nothing to protect the people of our country.\" -  \\n\\nCOVID19 USNavyAlwaysThere '"
            ]
          },
          "metadata": {
            "tags": []
          },
          "execution_count": 96
        }
      ]
    },
    {
      "cell_type": "code",
      "metadata": {
        "id": "JBEZceOFOUvo",
        "colab_type": "code",
        "colab": {
          "base_uri": "https://localhost:8080/",
          "height": 1000
        },
        "outputId": "b41575e2-9822-433e-d87d-cf085072177c"
      },
      "source": [
        "\n",
        "# Printing positive tweets \n",
        "print('Printing positive tweets:\\n')\n",
        "j=1\n",
        "sortedDF = df.sort_values(by=['Polarity']) #Sort the tweets\n",
        "for i in range(0, sortedDF.shape[0] ):\n",
        "  if( sortedDF['Analysis'][i] == 'Positive'):\n",
        "    print(str(j) + ') '+ sortedDF['Tweets'][i])\n",
        "    print()\n",
        "    j= j+1"
      ],
      "execution_count": 97,
      "outputs": [
        {
          "output_type": "stream",
          "text": [
            "Printing positive tweets:\n",
            "\n",
            "1) .....Could be as high as 15 Million Barrels. Good (GREAT) news for everyone!\n",
            "\n",
            "2) Just spoke to my friend MBS (Crown Prince) of Saudi Arabia, who spoke with President Putin of Russia, &amp; I expect &amp; hope that they will be cutting back approximately 10 Million Barrels, and maybe substantially more which, if it happens, will be GREAT for the oil &amp; gas industry!\n",
            "\n",
            "3) “The States have to get the money to the people who need it.”   And FAST!\n",
            "\n",
            "4) : 💯 \n",
            "\n",
            "Great idea!\n",
            "\n",
            "5) : Mr. President \n",
            "With total respect and recognizing you are doing more than any President has .. Please have 1…\n",
            "\n",
            "6) : Great to hear! CA’s Gov Newsom about \n",
            "\n",
            "“Let me just be candid with you. I’d be lying to you to say that…\n",
            "\n",
            "7) : . doesn’t care if you’re a Democrat or a Republican.\n",
            " \n",
            "He has shown he is willing to work with everyone,…\n",
            "\n",
            "8) : “The last time America faced an economic downturn, Michigan suffered mightily.  is working overtime to m…\n",
            "\n",
            "9) : A big thanks to all the workers of ups, usps, Amazon, etc. who are still going to work every day risking their health…\n",
            "\n",
            "10) ....have been stocked up and ready long before this crisis hit. Other states are thrilled with the job we have done. Sending many Ventilators today, with thousands being built. 51 large cargo planes coming in with medical supplies. Prefer sending directly to hospitals.\n",
            "\n",
            "11) Somebody please explain to Cryin’ Chuck Schumer that we do have a military man in charge of distributing goods, a very talented Admiral, in fact. New York has gotten far more than any other State, including hospitals &amp; a hospital ship, but no matter what, always complaining.....\n",
            "\n",
            "12) : We are leveraging the incredible power of American manufacturers and suppliers to make, procure, and deliver crucial medica…\n",
            "\n",
            "13) Congress must pass the old, and very strongly proven, deductibility by businesses on restaurants and entertainment. This will bring restaurants, and everything related, back - and stronger than ever. Move quickly, they will all be saved!\n",
            "\n",
            "14) : LIVE: Press Briefing with Coronavirus Task Force \n",
            "\n",
            "15) Great work , thank you! \n",
            "\n",
            "16) My proposal to the politically correct Automobile Companies would lower the average price of a car to consumers by more than $3500, while at the same time making the cars substantially safer. Engines would run smoother. Positive impact on the environment! Foolish executives!\n",
            "\n",
            "17) Great news! American families will now be able to buy safer, more affordable, and environmentally friendly cars with our new SAFE VEHICLES RULE. Get rid of those old, unsafe clunkers. Build better and safer American cars and create American jobs. Buy American!\n",
            "\n",
            "18) : I watched a portion of low rated (very) Morning Psycho (Joe) this Morning in order to see what Nancy Pelosi had to say…\n",
            "\n",
            "19) : Donald Trump donated his salary to fight the virus, Nancy Pelosi asked for a raise.\n",
            "\n",
            "This is all you really need to know.\n",
            "\n",
            "20) : A great comfort to the City during 9/11. It is once again a great comfort. Thank you ⁦⁩. \n",
            "\n",
            "21) 11: Does anyone else find it strange:\n",
            "\n",
            "Just three days after Attorney General Barr announces the DOJ will prosecute hoarders…\n",
            "\n",
            "22) : BOOM:  obliterates CNN ⬇️\n",
            "\n",
            "\"I want to keep the country calm.\"\n",
            "\n",
            "The coronavirus \"will go away.\"\n",
            "\n",
            "\"We're…\n",
            "\n",
            "23) _Jordan: Congratulations to .\n",
            "\n",
            "Mark is a dedicated public servant. \n",
            "\n",
            "He'll do a great job for President Trump and our co…\n",
            "\n",
            "24) : On NationalDoctorsDay, we recognize the remarkable men &amp; women who treat their fellow Americans, find cures for the d…\n",
            "\n",
            "25) With interest rates for the United States being at ZERO, this is the time to do our decades long awaited Infrastructure Bill. It should be VERY BIG &amp; BOLD, Two Trillion Dollars, and be focused solely on jobs and rebuilding the once great infrastructure of our Country! Phase 4\n",
            "\n",
            "26) : LIVE: Press Briefing with Coronavirus Task Force \n",
            "\n",
            "27) On NationalDoctorsDay, we recognize the remarkable men &amp; women who treat their fellow Americans, find cures for the diseases &amp; illnesses we face, and never waver in their efforts to treat every patient with the dignity, respect, and empathy they deserve. \n",
            "\n",
            "28) : LIVE: USNSComfort arrives in New York in support of the DOD’s COVID19 response efforts. (no sound) \n",
            "\n",
            "29) : FEMA and ’s administration are making sure we have the supplies we need to confront coronavirus. https:/…\n",
            "\n",
            "30) Nancy Pelosi and the Democrats delayed the Workers Help/Stimulus Bill by over a week, trying to add real “junk” into the Bill. Got some bad things, having nothing to do with those affected by the Virus, included. Republicans need their votes until we WIN BACK THE HOUSE IN 2020!\n",
            "\n",
            "31) : Will be interviewed on  at 7:55 A.M. USA STRONG!\n",
            "\n",
            "32) Thank you Dr. Hahn &amp; the FDA for your fast approval of this respected Ohio company recommended by Governor . Great potential! \n",
            "\n",
            "33) Will be interviewed on  at 7:55 A.M. USA STRONG!\n",
            "\n",
            "34) : We issued a new authorization this evening to  for their decontamination system. _FDA staff have been working non…\n",
            "\n",
            "35) : Thank you  and ! \n",
            "_FDA has now given Columbus-based  full approval of the use of ne…\n",
            "\n",
            "36) : LIVE: Press Briefing with Coronavirus Task Force \n",
            "\n",
            "37) So proud of the , , and the Federal Government for the 2,900 bed hospital they built in 4 days (way ahead of schedule) in the Javits Center for NY. We are now moving the teams to join others so they can continue to build more hospitals/beds. Keep up the GREAT WORK!\n",
            "\n",
            "38) Thank you very much to Ken Langone for being a great American and for your wonderful comments on .\n",
            "\n",
            "39) I am a great friend and admirer of the Queen &amp; the United Kingdom. It was reported that Harry and Meghan, who left the Kingdom, would reside permanently in Canada. Now they have left Canada for the U.S. however, the U.S. will not pay for their security protection. They must pay!\n",
            "\n",
            "40) Happy National Vietnam War Veterans Day to all of our Vietnam era Veterans. You have earned our gratitude and thanks by your actions years ago and what you have done since returning home. The Nation thanks you and your families for your service and sacrifice. We love you! \n",
            "\n",
            "41) ...alone attracted 6.2 million viewers for the president’s briefing — an astounding number for a 6 p.m. cable broadcast, more akin to the viewership for a popular prime-time sitcom...\n",
            "\n",
            "42) ...On Monday, nearly 12.2 million people watched Mr. Trump’s briefing on CNN, Fox News and MSNBC, according to Nielsen — ‘Monday Night Football’ numbers. Millions more are watching on ABC, CBS, NBC and online streaming sites, and the audience is expanding. On Monday, Fox News...\n",
            "\n",
            "43) Because the “Ratings” of my News Conferences etc. are so high, “Bachelor finale, Monday Night Football type numbers” according to the , the Lamestream Media is going CRAZY. “Trump is reaching too many people, we must stop him.” said one lunatic. See you at 5:00 P.M.!\n",
            "\n",
            "44) : To support the hundreds of millions of Americans making tremendous sacrifices on the home front, President …\n",
            "\n",
            "45) : “This great ship behind me is a 70,000-ton message of hope and solidarity to the incredible people of New York.” — Presiden…\n",
            "\n",
            "46) : Great advice for America’s children! \n",
            "\n",
            "47) : Smart that  looked at the data, accurate projections, and nixed the horrid idea of a federal quarantine…\n",
            "\n",
            "48) Hope the FDA can approve Mask Sterilization equipment ASAP. As per Governor , there is a company in Ohio, , which has equipment that can sterilize masks quickly.\n",
            "\n",
            "49) “With the Tax Cuts and new Trade Deals, we were set for a tremendous growth rate this year.... and then the Virus came along.” _kudlow   We were breaking all records, especially on employment. It will all come roaring back again, and fast!\n",
            "\n",
            "50) : Coronavirus In Ohio:  Pioneers Technology To Clean And Reuse PPE |  Radio\n",
            "\n",
            "\n",
            "51) Highly recommended by Governor  of Ohio.  must move quickly! \n",
            "\n",
            "52) : PopeFrancis delivers an extraordinary blessing “To the City and to the World” to pray for an end to the Covid-19 coronav…\n",
            "\n",
            "53) : The firing of Andrew McCabe is a rare example of someone being held accountable in Washington.  I hope the IG issues hi…\n",
            "\n",
            "54) Will be doing a press conference today at 5:00 P.M. The White House. People are working harder than I have ever seen people work. It is a beautiful thing to watch!\n",
            "\n",
            "55) : Thank you   for signing the CARES Act right away and for your leadership throughout this entire p…\n",
            "\n",
            "56) 45: “The ship behind me is a 70,000 ton msg of hope &amp; solidarity to the incredible people of NY: we are here for you, we are fig…\n",
            "\n",
            "57) : Domestic Travel Advisory: Due to extensive community transmission of COVID19 in New York, New Jersey, and Connecticut, CD…\n",
            "\n",
            "58) ....Federal Government. A quarantine will not be necessary. Full details will be released by CDC tonight. Thank you!\n",
            "\n",
            "59) On the recommendation of the White House CoronaVirus Task Force, and upon consultation with the Governor’s of New York, New Jersey and Connecticut, I have asked the  to issue a strong Travel Advisory, to be administered by the Governors, in consultation with the....\n",
            "\n",
            "60) With the courage of our doctors and nurses, with the skill of our scientists and innovators, with the determination of the American People, and with the grace of God, WE WILL WIN THIS WAR. When we achieve this victory, we will emerge stronger and more united than ever before! \n",
            "\n",
            "61) : LIVE: President  at Send-Off for USNS Comfort \n",
            "\n",
            "62) I am giving consideration to a QUARANTINE of developing “hot spots”, New York, New Jersey, and Connecticut. A decision will be made, one way or another, shortly.\n",
            "\n",
            "63) Heading to the Great State of Virginia now, will be there shortly. The USNSComfort is “loaded to the gills” at Naval Station Norfolk, departing for New York City this afternoon. \n",
            "\n",
            "64) : Awesome to see our team still working hard for   — stay safe everybody! 🇺🇸\n",
            "\n",
            "65) : Today President  signed the CARESAct,the single largest economic relief package in 🇺🇸history. POTUS has &amp;…\n",
            "\n",
            "66) : President ’s message to Young Americans: You are a citizen of the greatest country anywhere in the world, we…\n",
            "\n",
            "67) _:  🇺🇸 We've seen the greatest mobilization of industry since World War II\n",
            "\n",
            "President  is…\n",
            "\n",
            "68) I love Michigan, one of the reasons we are doing such a GREAT job for them during this horrible Pandemic. Yet your Governor, Gretchen “Half” Whitmer is way in over her head, she doesn’t have a clue. Likes blaming everyone for her own ineptitude! MAGA\n",
            "\n",
            "69) : Can't say enough wonderful things about _regan - one of the few conservatives in cable television. She's a great pat…\n",
            "\n",
            "70) We are marshalling the full power of government and society to achieve victory over the virus. Together, we will endure, we will prevail, and we will WIN! CARESAct \n",
            "\n",
            "71) : 🚨 Help is on the way. 🚨\n",
            "\n",
            "President  just SIGNED the Coronavirus Aid, Relief &amp; Economic Security Act into law…\n",
            "\n",
            "72) I just signed the CARES Act, the single biggest economic relief package in American History – twice as large as any relief bill ever enacted. At $2.2 Trillion Dollars, this bill will deliver urgently-needed relief for our nation’s families, workers, and businesses. CARESAct🇺🇸 \n",
            "\n",
            "73) News conference live from the  today. 5:30 P.M. Eastern!\n",
            "\n",
            "74) Thank you to Rachel  for putting our Military on full display, and showing how GREAT a job the Federal Government is doing! Also, a special thanks to General Semonite, a Patriot of the highest order and a truly talented engineer and builder! \n",
            "\n",
            "75) : Huge thanks to ! Together with the White House,  &amp; , Apple launched a COVID19 screening tool that guides…\n",
            "\n",
            "76) Never knew John Kerry had such a good sense of humor! Very impressed! \n",
            "\n",
            "77) Thousand of Federal Government (delivered) Ventilators found in New York storage. N.Y. must distribute NOW!\n",
            "\n",
            "78) We have just purchased many Ventilators from some wonderful companies. Names and numbers will be announced later today!\n",
            "\n",
            "79) As usual with “this” General Motors, things just never seem to work out. They said they were going to give us 40,000 much needed Ventilators, “very quickly”. Now they are saying it will only be 6000, in late April, and they want top dollar. Always a mess with Mary B. Invoke “P”.\n",
            "\n",
            "80) Thank you Byron. Many polls are much better than this. If it is the Fake News , add 10 points! \n",
            "\n",
            "81) By empowering the Radical Left Democrats, do nothing Kentucky politician  is making their War on the 2nd Amendment more and more difficult to win (But don’t worry, we will win anyway!). He is a disaster for America, and for the Great State of Kentucky!\n",
            "\n",
            "82) ...&amp; costly. Workers &amp; small businesses need money now in order to survive. Virus wasn’t their fault. It is “HELL” dealing with the Dems, had to give up some stupid things in order to get the “big picture” done. 90% GREAT! WIN BACK HOUSE, but throw Massie out of Republican Party!\n",
            "\n",
            "83) Looks like a third rate Grandstander named , a Congressman from, unfortunately, a truly GREAT State, Kentucky, wants to vote against the new Save Our Workers Bill in Congress. He just wants the publicity. He can’t stop it, only delay, which is both dangerous......\n",
            "\n",
            "84) Just finished a very good conversation with President Xi of China. Discussed in great detail the CoronaVirus that is ravaging large parts of our Planet. China has been through much &amp; has developed a strong understanding of the Virus. We are working closely together. Much respect!\n",
            "\n",
            "85) The world is at war with a hidden enemy. WE WILL WIN! \n",
            "\n",
            "86) Our great Oil &amp; Gas industry is under under seige after having one of the best years in recorded history. It will get better than ever as soon as our Country starts up again. Vital that it does for our National Security!\n",
            "\n",
            "87) : Thank you to the American People for continuing to practice social distancing. \n",
            "\n",
            "By staying home, you are saving lives. htt…\n",
            "\n",
            "88) : LIVE: Press Briefing with Coronavirus Task Force \n",
            "\n",
            "89) I will be doing a News Conference live from the  at 5:00 P.M. (Eastern) to discuss the mtg of the G20 Leaders that took place this morning at 7:55 A.M. by World Teleconference. Also, my 12:00 P.M. Teleconference call w/50 Governors, plus Territories, will be discussed.\n",
            "\n",
            "90) ....I have been packed all day with meetings, I have no time for stupidity. We’re working around the clock to KEEP AMERICA SAFE!\n",
            "\n",
            "91) The LameStream Media is the dominant force in trying to get me to keep our Country closed as long as possible in the hope that it will be detrimental to my election success. The real people want to get back to work ASAP.  We will be stronger than ever before!\n",
            "\n",
            "92) Congratulations to Prime Minister Abe of Japan, and the IOC, on their very wise decision to present the Olympics in 2021. It will be a great success, and I look forward to being there!\n",
            "\n",
            "93) The four hospitals that we (FEMA) are building in NYC at the Javits Convention Center are moving along very well, ahead of schedule. Many additional ventilators also delivered. Good conversation with Governor Cuomo!\n",
            "\n",
            "94) Just reported that the United States has done far more “testing” than any other nation, by far! In fact, over an eight day span, the United States now does more testing than what South Korea (which has been a very successful tester) does over an eight week span. Great job!\n",
            "\n",
            "95) The Democrat’s Best &amp; Finest! \n",
            "\n",
            "96) : Gallup poll shows strong 60% approval of President 's handling of Virus Crisis:   Overall Job Approval Rating…\n",
            "\n",
            "97) : Trump: Auto Manufacturers Given OK to Produce Much Needed Ventilators \n",
            "\n",
            "98) : Why did NPR only pick the low end to “fact check” Trump, while ignoring the high end?  The Washington Post split the diff…\n",
            "\n",
            "99) This is really great news! I am so happy I can barely speak. He may have been a terrible presidential candidate and an even worse U.S. Senator, but he is a RINO, and I like him a lot! \n",
            "\n",
            "100) : “We should never be reliant on a foreign country for the means of our own survival.” \n",
            "\n",
            "101) : The Establishment Media's Trump Derangement Syndrome hits a new low. \n",
            "\n",
            "102) : \"This crisis has underscored just how critical it is to have strong borders and a robust manufacturing sector.\" \n",
            "\n",
            "103) : ⁦Real leadership: ⁩ says there's 'light at the end of the tunnel' as White House pitches $6T coronavirus stim…\n",
            "\n",
            "104) “President Trump’s decision to very early on restrict travel from China saved tens of thousands of lives.”   \n",
            "\n",
            "105) : LIVE: Press Briefing with Coronavirus Task Force \n",
            "\n",
            "106) Price transparency is so important for the people of our Country. In many ways, it will prove to be as important as healthcare itself. A great issue for both Republicans and Democrats. Hopefully it will be approved!\n",
            "\n",
            "107) Will be doing a Town Hall on  at 12:05 P.M. (Now). I will go on around 1:00 P.M. Enjoy!\n",
            "\n",
            "108) Our people want to return to work. They will practice Social Distancing and all else, and Seniors will be watched over protectively &amp; lovingly. We can do two things together. THE CURE CANNOT BE WORSE (by far) THAN THE PROBLEM! Congress MUST ACT NOW. We will come back strong!\n",
            "\n",
            "109) This is not about the ridiculous Green New Deal. It is about putting our great workers and companies BACK TO WORK!\n",
            "\n",
            "110) The Defense Production Act is in full force, but haven’t had to use it because no one has said NO! Millions of masks coming as back up to States.\n",
            "\n",
            "111) Keep Charlie Number One. Great Book! \n",
            "\n",
            "112) 2768:   Love you Kirstie, don't be afraid to speak your mind!!  has done an a amazing job pro…\n",
            "\n"
          ],
          "name": "stdout"
        }
      ]
    },
    {
      "cell_type": "code",
      "metadata": {
        "id": "hi6PXlJjOpcn",
        "colab_type": "code",
        "colab": {
          "base_uri": "https://localhost:8080/",
          "height": 1000
        },
        "outputId": "40916f5f-01d5-4342-ca91-1266cb80ec53"
      },
      "source": [
        "# Printing negative tweets  \n",
        "print('Printing negative tweets:\\n')\n",
        "j=1\n",
        "sortedDF = df.sort_values(by=['Polarity'],ascending=False) #Sort the tweets\n",
        "for i in range(0, sortedDF.shape[0] ):\n",
        "  if( sortedDF['Analysis'][i] == 'Negative'):\n",
        "    print(str(j) + ') '+sortedDF['Tweets'][i])\n",
        "    print()\n",
        "    j=j+1"
      ],
      "execution_count": 98,
      "outputs": [
        {
          "output_type": "stream",
          "text": [
            "Printing negative tweets:\n",
            "\n",
            "1) 30 DAYS TO SLOW THE SPREAD \n",
            "\n",
            "2) Massive amounts of medical supplies, even hospitals and medical centers, are being delivered directly to states and hospitals by the Federal Government. Some have insatiable appetites &amp; are never satisfied (politics?). Remember, we are a backup for them. The complainers should...\n",
            "\n",
            "3) ...It wouldn’t matter if you got ten times what was needed, it would never be good enough. Unlike other states, New York unfortunately got off to a late start. You should have pushed harder. Stop complaining &amp; find out where all of these supplies are going. Cuomo working hard!\n",
            "\n",
            "4) Upon information and belief, Iran or its proxies are planning a sneak attack on U.S. troops and/or assets in Iraq. If this happens, Iran will pay a very heavy price, indeed!\n",
            "\n",
            "5) 30 DAYS TO SLOW THE SPREAD\n",
            "COVIDー19  \n",
            "\n",
            "6) My Administration is helping U.S. auto workers by replacing the failed Obama Emissions Rule. Impossible to satisfy its Green New Deal Standard; Lots of unnecessary and expensive penalties to car buyers!\n",
            "\n",
            "7) : With interest rates for the United States being at ZERO, this is the time to do our decades long awaited Infrastructur…\n",
            "\n",
            "8) : WATCH: Despite looking down at his notes during his TV interview, Joe Biden was still unable to make any sense. \n",
            "\n",
            "9) I watched a portion of low rated (very) Morning Psycho (Joe) this Morning in order to see what Nancy Pelosi had to say, &amp; what moves she was planning to further hurt our Country. Actually, other than her usual complaining that I’m a terrible person, she wasn’t bad. Still praying!\n",
            "\n",
            "10) “New York Governor Cuomo says President Trump has been “very helpful.”   Thank you, everybody is working very hard!\n",
            "\n",
            "11) “President Trump is a ratings hit. Since reviving the daily White House briefing Mr. Trump and his coronavirus updates have attracted an average audience of 8.5 million on cable news, roughly the viewership of the season finale of ‘The Bachelor.’ Numbers are continuing to rise...\n",
            "\n",
            "12) Polls are showing tremendous disapproval of Lamestream Media coverage of the Virus crisis. The Fake News just hasn’t figured that out yet!\n",
            "\n",
            "13) The Lamestream Media wants us to fail. That will NEVER happen!\n",
            "\n",
            "14) 41S:  Albom's softball interview with Whitmer this past Friday (AM 760 WJR) was horrific.  Wasn't sure what was more disturb…\n",
            "\n",
            "15) ....very often FAKE NEWS. Lamestream Media should be forced to reveal sources, very much as they did in the long ago past. If they did that, the media would be trusted again, and Fake News would largely be a thing of the past!\n",
            "\n",
            "16) One of the reasons that Fake News has become so prevalent &amp; far reaching is the fact that corrupt “journalists” base their stories on SOURCES that they make up in order to totally distort a narrative or story. When you see, “five sources say”, don’t believe the story, it is....\n",
            "\n",
            "17) So much of the Lamestream Media is writing and broadcasting stories with facts that are made up and knowingly wrong. They are doing it by quoting unnamed sources that simply do not exist. These are very dangerous &amp; corrupt people, who will do anything to win. NAME YOUR SOURCES!\n",
            "\n",
            "18) _Pence: Today, President  signed into the law the CARESAct which will help small businesses stay open, help worker…\n",
            "\n",
            "19) : They’re not happy because ⁦⁩ is speaking directly to American people during a crisis and getting strong…\n",
            "\n",
            "20) : Trump-haters clearly  frustrated that the American people-many of whom did not vote for him-approve of the epic job …\n",
            "\n",
            "21) More Fake News! \n",
            "\n",
            "22) Such Fake reporting by the , ,  &amp; others. They use a small portion of a sentence out of a full paragraph in order to demean. They really are corrupt and disgusting. No wonder the media is, according to polls, record setting low &amp; untrusted.  MAGA\n",
            "\n",
            "23) : \"My Administration is actively planning the next phase in an all-out war against this horrible virus.\" \n",
            "\n",
            "24) She is a third rate reporter who has nothing going. A Fake News “journalist”. \n",
            "\n",
            "25) : TRUMP: “The Media and Governors should appreciate it.. When they’re not appreciative of me, they are not appreciative to the Army…\n",
            "\n",
            "26) : How is that any different than what Hannity has said?\n",
            "\n",
            "Neither said anything wrong. They did not call Coronavirus a Hoax or Scam,…\n",
            "\n",
            "27) : FOX Business Network Fires _regan for Telling the Truth About How Liberal Media Was Using Coronavirus to Take Down Trump \n",
            "\n",
            "-…\n",
            "\n",
            "28) Will someone please explain to the Fake News New York Times (ALL THE NEWS THAT’S NOT FIT TO PRINT) that the Democrats make it almost impossible for us to fill positions within government. They “maximum” delay even the best candidates, including Judges, leaving little time!\n",
            "\n",
            "29) General Motors MUST immediately open their stupidly abandoned Lordstown plant in Ohio, or some other plant, and STAMAKING VENTILATORS, NOW!!!!!!  FORD, GET GOING ON VENTILATORS, FAST!!!!!!    \n",
            "\n",
            "30) I hear that Fake News CNN just reported that I am isolated in the White House, wondering out loud, “when will life return to normal?” Does anybody really believe that? There was no leak, they made it up – they are CORRUPT &amp; FAKE NEWS....\n",
            "\n",
            "31) : ‘Ya gotta admire the hypocrisy (and stupidity) of Adam Schiff. It’s okay for him to assert a government privilege. But wh…\n",
            "\n",
            "32) Gee, that’s too bad. Such a fine guy. Presidential aspirations you know! \n",
            "\n",
            "33) : Can We Trust China to Ban Wet Markets? \n",
            "\n",
            "34) : Snowflakes are scampering to their crying circles and clutching their emotional support puppies over this. \n",
            "\n",
            "35) I am working very hard to help New York City &amp; State. Dealing with both Mayor &amp; Governor and producing tremendously for them, including four new medical centers and four new hospitals. Fake News that I won’t help them because I don’t like Cuomo (I do). Just sent 4000 ventilators!\n",
            "\n",
            "36) : Underway - Steaming to Assist!\n",
            "USNSMercy departs Naval Base San Diego in support of the nation's COVID19 response efforts. \n",
            "R…\n",
            "\n",
            "37) : Small businesses power our economy—and President Trump won't let them weather this alone. \n",
            "\n",
            "38) Congress must approve the deal, without all of the nonsense, today. The longer it takes, the harder it will be to start up our economy. Our workers will be hurt!\n",
            "\n",
            "39) : Hey , what does the Kennedy Center have to do with COVID-19?\n",
            "\n",
            "Asking for 327 million friends\n",
            "\n",
            "40) : When Nancy Pelosi receives a bill that will expedite relief to American workers but doesn't fund the Kennedy Center: https…\n",
            "\n"
          ],
          "name": "stdout"
        }
      ]
    },
    {
      "cell_type": "code",
      "metadata": {
        "id": "hk0_s23MPYBw",
        "colab_type": "code",
        "colab": {
          "base_uri": "https://localhost:8080/",
          "height": 441
        },
        "outputId": "4aacc379-c086-4118-801a-527cf4908753"
      },
      "source": [
        "\n",
        "# Plotting\n",
        "plt.figure(figsize=(8,6))\n",
        "for i in range(0, df.shape[0]):\n",
        " plt.scatter(df[\"Polarity\"][i], df[\"Subjectivity\"][i], color='Blue') # plt.scatter(x,y,color)\n",
        " \n",
        "plt.title('Sentiment Analysis')\n",
        "plt.xlabel('Polarity')\n",
        "plt.ylabel('Subjectivity')\n",
        "plt.show()\n",
        "\n"
      ],
      "execution_count": 99,
      "outputs": [
        {
          "output_type": "display_data",
          "data": {
            "image/png": "[encoded data removed]",
            "text/plain": [
              "<Figure size 576x432 with 1 Axes>"
            ]
          },
          "metadata": {
            "tags": []
          }
        }
      ]
    },
    {
      "cell_type": "code",
      "metadata": {
        "id": "GQElCgwcPlNr",
        "colab_type": "code",
        "colab": {
          "base_uri": "https://localhost:8080/",
          "height": 34
        },
        "outputId": "b40c9f4d-8eb0-41f6-a926-7abee4c29977"
      },
      "source": [
        "\n",
        "# Print the percentage of positive tweets\n",
        "ptweets = df[df.Analysis == 'Positive']\n",
        "ptweets = ptweets['Tweets']\n",
        "ptweets\n",
        "\n",
        "round( (ptweets.shape[0] / df.shape[0]) * 100 , 1)\n"
      ],
      "execution_count": 100,
      "outputs": [
        {
          "output_type": "execute_result",
          "data": {
            "text/plain": [
              "56.0"
            ]
          },
          "metadata": {
            "tags": []
          },
          "execution_count": 100
        }
      ]
    },
    {
      "cell_type": "code",
      "metadata": {
        "id": "ROHNLwB9P-Cz",
        "colab_type": "code",
        "colab": {
          "base_uri": "https://localhost:8080/",
          "height": 34
        },
        "outputId": "d7466e7c-9f8f-4946-e305-72c15e154c6d"
      },
      "source": [
        "\n",
        "# Print the percentage of negative tweets\n",
        "ntweets = df[df.Analysis == 'Negative']\n",
        "ntweets = ntweets['Tweets']\n",
        "ntweets\n",
        "\n",
        "round( (ntweets.shape[0] / df.shape[0]) * 100, 1)"
      ],
      "execution_count": 101,
      "outputs": [
        {
          "output_type": "execute_result",
          "data": {
            "text/plain": [
              "20.0"
            ]
          },
          "metadata": {
            "tags": []
          },
          "execution_count": 101
        }
      ]
    },
    {
      "cell_type": "code",
      "metadata": {
        "id": "qOd-UsS9P_iq",
        "colab_type": "code",
        "colab": {
          "base_uri": "https://localhost:8080/",
          "height": 374
        },
        "outputId": "8de1f01e-9b13-4934-bc85-1cd070caf807"
      },
      "source": [
        "# Show the value counts\n",
        "df['Analysis'].value_counts()\n",
        "\n",
        "# Plotting and visualizing the counts\n",
        "plt.title('Sentiment Analysis')\n",
        "plt.xlabel('Sentiment')\n",
        "plt.ylabel('Counts')\n",
        "df['Analysis'].value_counts().plot(kind = 'bar')\n",
        "plt.show()"
      ],
      "execution_count": 102,
      "outputs": [
        {
          "output_type": "display_data",
          "data": {
            "image/png": "[encoded data removed]",
            "text/plain": [
              "<Figure size 432x288 with 1 Axes>"
            ]
          },
          "metadata": {
            "tags": []
          }
        }
      ]
    },
    {
      "cell_type": "code",
      "metadata": {
        "id": "EpkyaOKHQB5K",
        "colab_type": "code",
        "colab": {}
      },
      "source": [
        ""
      ],
      "execution_count": 0,
      "outputs": []
    }
  ]
}