{
  "nbformat": 4,
  "nbformat_minor": 0,
  "metadata": {
    "colab": {
      "name": "Dow Jones stock prediction ARIMA",
      "provenance": [],
      "collapsed_sections": [],
      "toc_visible": true,
      "authorship_tag": "ABX9TyO8rYEiLZLm5owOl5YOGUaW",
      "include_colab_link": true
    },
    "kernelspec": {
      "name": "python3",
      "display_name": "Python 3"
    }
  },
  "cells": [
    {
      "cell_type": "markdown",
      "metadata": {
        "id": "view-in-github",
        "colab_type": "text"
      },
      "source": [
        "<a href=\"https://colab.research.google.com/github/armandordorica/Twitter_Sentiment_Analysis/blob/master/Dow_Jones/ARIMA/Dow_Jones_stock_prediction_ARIMA.ipynb\" target=\"_parent\"><img src=\"https://colab.research.google.com/assets/colab-badge.svg\" alt=\"Open In Colab\"/></a>"
      ]
    },
    {
      "cell_type": "markdown",
      "metadata": {
        "id": "1YQWZdwpYWAJ",
        "colab_type": "text"
      },
      "source": [
        "Refs: \n",
        "https://machinelearningmastery.com/time-series-prediction-lstm-recurrent-neural-networks-python-keras/ \n",
        "\n",
        "https://github.com/deshpandenu/Time-Series-Forecasting-of-Amazon-Stock-Prices-using-Neural-Networks-LSTM-and-GAN-/blob/master/Notebook%202_%20Stock%20Market%20Analysis%20using%20LSTM(Vanilla)-how%20good%20is%20a%20LSTM%20at%20predicting%20price%20movement.ipynb\n",
        "\n",
        "https://www.datacamp.com/community/tutorials/lstm-python-stock-market\n"
      ]
    },
    {
      "cell_type": "code",
      "metadata": {
        "id": "QDLDcbvnRpS8",
        "colab_type": "code",
        "outputId": "ac550f21-1a4d-43c5-8869-4f6c40f6a41a",
        "colab": {
          "base_uri": "https://localhost:8080/",
          "height": 678
        }
      },
      "source": [
        "!pip install tensorflow==1.14"
      ],
      "execution_count": 1,
      "outputs": [
        {
          "output_type": "stream",
          "text": [
            "Collecting tensorflow==1.14\n",
            "\u001b[?25l  Downloading https://files.pythonhosted.org/packages/de/f0/96fb2e0412ae9692dbf400e5b04432885f677ad6241c088ccc5fe7724d69/tensorflow-1.14.0-cp36-cp36m-manylinux1_x86_64.whl (109.2MB)\n",
            "\u001b[K     |████████████████████████████████| 109.2MB 94kB/s \n",
            "\u001b[?25hRequirement already satisfied: gast>=0.2.0 in /usr/local/lib/python3.6/dist-packages (from tensorflow==1.14) (0.3.3)\n",
            "Requirement already satisfied: keras-applications>=1.0.6 in /usr/local/lib/python3.6/dist-packages (from tensorflow==1.14) (1.0.8)\n",
            "Requirement already satisfied: six>=1.10.0 in /usr/local/lib/python3.6/dist-packages (from tensorflow==1.14) (1.12.0)\n",
            "Collecting tensorflow-estimator<1.15.0rc0,>=1.14.0rc0\n",
            "\u001b[?25l  Downloading https://files.pythonhosted.org/packages/3c/d5/21860a5b11caf0678fbc8319341b0ae21a07156911132e0e71bffed0510d/tensorflow_estimator-1.14.0-py2.py3-none-any.whl (488kB)\n",
            "\u001b[K     |████████████████████████████████| 491kB 32.3MB/s \n",
            "\u001b[?25hRequirement already satisfied: grpcio>=1.8.6 in /usr/local/lib/python3.6/dist-packages (from tensorflow==1.14) (1.28.1)\n",
            "Requirement already satisfied: google-pasta>=0.1.6 in /usr/local/lib/python3.6/dist-packages (from tensorflow==1.14) (0.2.0)\n",
            "Requirement already satisfied: termcolor>=1.1.0 in /usr/local/lib/python3.6/dist-packages (from tensorflow==1.14) (1.1.0)\n",
            "Requirement already satisfied: absl-py>=0.7.0 in /usr/local/lib/python3.6/dist-packages (from tensorflow==1.14) (0.9.0)\n",
            "Requirement already satisfied: numpy<2.0,>=1.14.5 in /usr/local/lib/python3.6/dist-packages (from tensorflow==1.14) (1.18.2)\n",
            "Requirement already satisfied: wrapt>=1.11.1 in /usr/local/lib/python3.6/dist-packages (from tensorflow==1.14) (1.12.1)\n",
            "Collecting tensorboard<1.15.0,>=1.14.0\n",
            "\u001b[?25l  Downloading https://files.pythonhosted.org/packages/91/2d/2ed263449a078cd9c8a9ba50ebd50123adf1f8cfbea1492f9084169b89d9/tensorboard-1.14.0-py3-none-any.whl (3.1MB)\n",
            "\u001b[K     |████████████████████████████████| 3.2MB 29.4MB/s \n",
            "\u001b[?25hRequirement already satisfied: astor>=0.6.0 in /usr/local/lib/python3.6/dist-packages (from tensorflow==1.14) (0.8.1)\n",
            "Requirement already satisfied: protobuf>=3.6.1 in /usr/local/lib/python3.6/dist-packages (from tensorflow==1.14) (3.10.0)\n",
            "Requirement already satisfied: wheel>=0.26 in /usr/local/lib/python3.6/dist-packages (from tensorflow==1.14) (0.34.2)\n",
            "Requirement already satisfied: keras-preprocessing>=1.0.5 in /usr/local/lib/python3.6/dist-packages (from tensorflow==1.14) (1.1.0)\n",
            "Requirement already satisfied: h5py in /usr/local/lib/python3.6/dist-packages (from keras-applications>=1.0.6->tensorflow==1.14) (2.10.0)\n",
            "Requirement already satisfied: werkzeug>=0.11.15 in /usr/local/lib/python3.6/dist-packages (from tensorboard<1.15.0,>=1.14.0->tensorflow==1.14) (1.0.1)\n",
            "Requirement already satisfied: markdown>=2.6.8 in /usr/local/lib/python3.6/dist-packages (from tensorboard<1.15.0,>=1.14.0->tensorflow==1.14) (3.2.1)\n",
            "Requirement already satisfied: setuptools>=41.0.0 in /usr/local/lib/python3.6/dist-packages (from tensorboard<1.15.0,>=1.14.0->tensorflow==1.14) (46.1.3)\n",
            "Installing collected packages: tensorflow-estimator, tensorboard, tensorflow\n",
            "  Found existing installation: tensorflow-estimator 2.2.0rc0\n",
            "    Uninstalling tensorflow-estimator-2.2.0rc0:\n",
            "      Successfully uninstalled tensorflow-estimator-2.2.0rc0\n",
            "  Found existing installation: tensorboard 2.2.0\n",
            "    Uninstalling tensorboard-2.2.0:\n",
            "      Successfully uninstalled tensorboard-2.2.0\n",
            "  Found existing installation: tensorflow 2.2.0rc3\n",
            "    Uninstalling tensorflow-2.2.0rc3:\n",
            "      Successfully uninstalled tensorflow-2.2.0rc3\n",
            "Successfully installed tensorboard-1.14.0 tensorflow-1.14.0 tensorflow-estimator-1.14.0\n"
          ],
          "name": "stdout"
        }
      ]
    },
    {
      "cell_type": "code",
      "metadata": {
        "id": "qpFYRso7GrEL",
        "colab_type": "code",
        "outputId": "7ca75638-c3ce-486e-8943-d3d0282e47b3",
        "colab": {
          "base_uri": "https://localhost:8080/",
          "height": 552
        }
      },
      "source": [
        "\n",
        "#import libraries\n",
        "from pandas_datareader import data\n",
        "import matplotlib.pyplot as plt\n",
        "import pandas as pd\n",
        "import datetime as dt\n",
        "import urllib.request, json \n",
        "import os\n",
        "import numpy as np\n",
        "import tensorflow as tf \n",
        "from sklearn.preprocessing import MinMaxScaler\n",
        "from sklearn.model_selection import train_test_split"
      ],
      "execution_count": 2,
      "outputs": [
        {
          "output_type": "stream",
          "text": [
            "/usr/local/lib/python3.6/dist-packages/pandas_datareader/compat/__init__.py:7: FutureWarning: pandas.util.testing is deprecated. Use the functions in the public API at pandas.testing instead.\n",
            "  from pandas.util.testing import assert_frame_equal\n",
            "/usr/local/lib/python3.6/dist-packages/tensorflow/python/framework/dtypes.py:516: FutureWarning: Passing (type, 1) or '1type' as a synonym of type is deprecated; in a future version of numpy, it will be understood as (type, (1,)) / '(1,)type'.\n",
            "  _np_qint8 = np.dtype([(\"qint8\", np.int8, 1)])\n",
            "/usr/local/lib/python3.6/dist-packages/tensorflow/python/framework/dtypes.py:517: FutureWarning: Passing (type, 1) or '1type' as a synonym of type is deprecated; in a future version of numpy, it will be understood as (type, (1,)) / '(1,)type'.\n",
            "  _np_quint8 = np.dtype([(\"quint8\", np.uint8, 1)])\n",
            "/usr/local/lib/python3.6/dist-packages/tensorflow/python/framework/dtypes.py:518: FutureWarning: Passing (type, 1) or '1type' as a synonym of type is deprecated; in a future version of numpy, it will be understood as (type, (1,)) / '(1,)type'.\n",
            "  _np_qint16 = np.dtype([(\"qint16\", np.int16, 1)])\n",
            "/usr/local/lib/python3.6/dist-packages/tensorflow/python/framework/dtypes.py:519: FutureWarning: Passing (type, 1) or '1type' as a synonym of type is deprecated; in a future version of numpy, it will be understood as (type, (1,)) / '(1,)type'.\n",
            "  _np_quint16 = np.dtype([(\"quint16\", np.uint16, 1)])\n",
            "/usr/local/lib/python3.6/dist-packages/tensorflow/python/framework/dtypes.py:520: FutureWarning: Passing (type, 1) or '1type' as a synonym of type is deprecated; in a future version of numpy, it will be understood as (type, (1,)) / '(1,)type'.\n",
            "  _np_qint32 = np.dtype([(\"qint32\", np.int32, 1)])\n",
            "/usr/local/lib/python3.6/dist-packages/tensorflow/python/framework/dtypes.py:525: FutureWarning: Passing (type, 1) or '1type' as a synonym of type is deprecated; in a future version of numpy, it will be understood as (type, (1,)) / '(1,)type'.\n",
            "  np_resource = np.dtype([(\"resource\", np.ubyte, 1)])\n",
            "/usr/local/lib/python3.6/dist-packages/tensorboard/compat/tensorflow_stub/dtypes.py:541: FutureWarning: Passing (type, 1) or '1type' as a synonym of type is deprecated; in a future version of numpy, it will be understood as (type, (1,)) / '(1,)type'.\n",
            "  _np_qint8 = np.dtype([(\"qint8\", np.int8, 1)])\n",
            "/usr/local/lib/python3.6/dist-packages/tensorboard/compat/tensorflow_stub/dtypes.py:542: FutureWarning: Passing (type, 1) or '1type' as a synonym of type is deprecated; in a future version of numpy, it will be understood as (type, (1,)) / '(1,)type'.\n",
            "  _np_quint8 = np.dtype([(\"quint8\", np.uint8, 1)])\n",
            "/usr/local/lib/python3.6/dist-packages/tensorboard/compat/tensorflow_stub/dtypes.py:543: FutureWarning: Passing (type, 1) or '1type' as a synonym of type is deprecated; in a future version of numpy, it will be understood as (type, (1,)) / '(1,)type'.\n",
            "  _np_qint16 = np.dtype([(\"qint16\", np.int16, 1)])\n",
            "/usr/local/lib/python3.6/dist-packages/tensorboard/compat/tensorflow_stub/dtypes.py:544: FutureWarning: Passing (type, 1) or '1type' as a synonym of type is deprecated; in a future version of numpy, it will be understood as (type, (1,)) / '(1,)type'.\n",
            "  _np_quint16 = np.dtype([(\"quint16\", np.uint16, 1)])\n",
            "/usr/local/lib/python3.6/dist-packages/tensorboard/compat/tensorflow_stub/dtypes.py:545: FutureWarning: Passing (type, 1) or '1type' as a synonym of type is deprecated; in a future version of numpy, it will be understood as (type, (1,)) / '(1,)type'.\n",
            "  _np_qint32 = np.dtype([(\"qint32\", np.int32, 1)])\n",
            "/usr/local/lib/python3.6/dist-packages/tensorboard/compat/tensorflow_stub/dtypes.py:550: FutureWarning: Passing (type, 1) or '1type' as a synonym of type is deprecated; in a future version of numpy, it will be understood as (type, (1,)) / '(1,)type'.\n",
            "  np_resource = np.dtype([(\"resource\", np.ubyte, 1)])\n"
          ],
          "name": "stderr"
        },
        {
          "output_type": "display_data",
          "data": {
            "text/html": [
              "<p style=\"color: red;\">\n",
              "The default version of TensorFlow in Colab will switch to TensorFlow 2.x on the 27th of March, 2020.<br>\n",
              "We recommend you <a href=\"https://www.tensorflow.org/guide/migrate\" target=\"_blank\">upgrade</a> now\n",
              "or ensure your notebook will continue to use TensorFlow 1.x via the <code>%tensorflow_version 1.x</code> magic:\n",
              "<a href=\"https://colab.research.google.com/notebooks/tensorflow_version.ipynb\" target=\"_blank\">more info</a>.</p>\n"
            ],
            "text/plain": [
              "<IPython.core.display.HTML object>"
            ]
          },
          "metadata": {
            "tags": []
          }
        }
      ]
    },
    {
      "cell_type": "code",
      "metadata": {
        "id": "Y2fA_zL1GkoL",
        "colab_type": "code",
        "colab": {}
      },
      "source": [
        "df = pd.read_csv('DJI.csv')"
      ],
      "execution_count": 0,
      "outputs": []
    },
    {
      "cell_type": "code",
      "metadata": {
        "id": "KqOHllcTGoki",
        "colab_type": "code",
        "outputId": "35980cb8-3918-4ccd-af8e-e3859781a091",
        "colab": {
          "base_uri": "https://localhost:8080/",
          "height": 202
        }
      },
      "source": [
        "df.head(5)"
      ],
      "execution_count": 12,
      "outputs": [
        {
          "output_type": "execute_result",
          "data": {
            "text/html": [
              "<div>\n",
              "<style scoped>\n",
              "    .dataframe tbody tr th:only-of-type {\n",
              "        vertical-align: middle;\n",
              "    }\n",
              "\n",
              "    .dataframe tbody tr th {\n",
              "        vertical-align: top;\n",
              "    }\n",
              "\n",
              "    .dataframe thead th {\n",
              "        text-align: right;\n",
              "    }\n",
              "</style>\n",
              "<table border=\"1\" class=\"dataframe\">\n",
              "  <thead>\n",
              "    <tr style=\"text-align: right;\">\n",
              "      <th></th>\n",
              "      <th>Date</th>\n",
              "      <th>Open</th>\n",
              "      <th>High</th>\n",
              "      <th>Low</th>\n",
              "      <th>Close</th>\n",
              "      <th>Adj Close</th>\n",
              "      <th>Volume</th>\n",
              "    </tr>\n",
              "  </thead>\n",
              "  <tbody>\n",
              "    <tr>\n",
              "      <th>0</th>\n",
              "      <td>1985-01-29</td>\n",
              "      <td>1277.719971</td>\n",
              "      <td>1295.489990</td>\n",
              "      <td>1266.890015</td>\n",
              "      <td>1292.619995</td>\n",
              "      <td>1292.619995</td>\n",
              "      <td>13560000</td>\n",
              "    </tr>\n",
              "    <tr>\n",
              "      <th>1</th>\n",
              "      <td>1985-01-30</td>\n",
              "      <td>1297.369995</td>\n",
              "      <td>1305.099976</td>\n",
              "      <td>1278.930054</td>\n",
              "      <td>1287.880005</td>\n",
              "      <td>1287.880005</td>\n",
              "      <td>16820000</td>\n",
              "    </tr>\n",
              "    <tr>\n",
              "      <th>2</th>\n",
              "      <td>1985-01-31</td>\n",
              "      <td>1283.239990</td>\n",
              "      <td>1293.400024</td>\n",
              "      <td>1272.640015</td>\n",
              "      <td>1286.770020</td>\n",
              "      <td>1286.770020</td>\n",
              "      <td>14070000</td>\n",
              "    </tr>\n",
              "    <tr>\n",
              "      <th>3</th>\n",
              "      <td>1985-02-01</td>\n",
              "      <td>1276.939941</td>\n",
              "      <td>1286.109985</td>\n",
              "      <td>1269.770020</td>\n",
              "      <td>1277.719971</td>\n",
              "      <td>1277.719971</td>\n",
              "      <td>10980000</td>\n",
              "    </tr>\n",
              "    <tr>\n",
              "      <th>4</th>\n",
              "      <td>1985-02-04</td>\n",
              "      <td>1272.079956</td>\n",
              "      <td>1294.939941</td>\n",
              "      <td>1268.989990</td>\n",
              "      <td>1290.079956</td>\n",
              "      <td>1290.079956</td>\n",
              "      <td>11630000</td>\n",
              "    </tr>\n",
              "  </tbody>\n",
              "</table>\n",
              "</div>"
            ],
            "text/plain": [
              "         Date         Open         High  ...        Close    Adj Close    Volume\n",
              "0  1985-01-29  1277.719971  1295.489990  ...  1292.619995  1292.619995  13560000\n",
              "1  1985-01-30  1297.369995  1305.099976  ...  1287.880005  1287.880005  16820000\n",
              "2  1985-01-31  1283.239990  1293.400024  ...  1286.770020  1286.770020  14070000\n",
              "3  1985-02-01  1276.939941  1286.109985  ...  1277.719971  1277.719971  10980000\n",
              "4  1985-02-04  1272.079956  1294.939941  ...  1290.079956  1290.079956  11630000\n",
              "\n",
              "[5 rows x 7 columns]"
            ]
          },
          "metadata": {
            "tags": []
          },
          "execution_count": 12
        }
      ]
    },
    {
      "cell_type": "markdown",
      "metadata": {
        "id": "8pH3pHQkG_7F",
        "colab_type": "text"
      },
      "source": [
        "### **MinMaxScaler**\n",
        "Transform features by scaling each feature to a given range.\n",
        "\n",
        "This estimator scales and translates each feature individually such that it is in the given range on the training set, e.g. between zero and one."
      ]
    },
    {
      "cell_type": "code",
      "metadata": {
        "id": "GoAxo0uCGwDp",
        "colab_type": "code",
        "colab": {}
      },
      "source": [
        "df_close = df['Close']\n",
        "df_close = df_close.values.reshape(len(df_close),1)"
      ],
      "execution_count": 0,
      "outputs": []
    },
    {
      "cell_type": "code",
      "metadata": {
        "id": "UZrN0lKiHn1-",
        "colab_type": "code",
        "colab": {}
      },
      "source": [
        "df_dates = df['Date']"
      ],
      "execution_count": 0,
      "outputs": []
    },
    {
      "cell_type": "code",
      "metadata": {
        "id": "klfwtapsHy0e",
        "colab_type": "code",
        "colab": {}
      },
      "source": [
        "df_dates = np.array(df_dates)"
      ],
      "execution_count": 0,
      "outputs": []
    },
    {
      "cell_type": "code",
      "metadata": {
        "id": "rvkF4K18H2Q1",
        "colab_type": "code",
        "colab": {}
      },
      "source": [
        "df_close = np.array(df_close)"
      ],
      "execution_count": 0,
      "outputs": []
    },
    {
      "cell_type": "code",
      "metadata": {
        "id": "DfiTOZDzNpU_",
        "colab_type": "code",
        "outputId": "e09775d4-8643-42ec-d4e1-37f4dd682e54",
        "colab": {
          "base_uri": "https://localhost:8080/",
          "height": 474
        }
      },
      "source": [
        "import matplotlib.dates as mdates\n",
        "\n",
        "plt.figure(figsize = (18,9))\n",
        "plt.plot(df_dates, df_close)\n",
        "\n",
        "plt.xticks(np.arange(0,len(df),600), df['Date'][0:len(df):300])\n",
        "\n",
        "plt.ylabel('Price in USD')\n",
        "plt.xlabel('Years')\n",
        "plt.title(\"Dow Jones' stock market price over time\", fontsize = 18)\n",
        "\n",
        "plt.show()\n"
      ],
      "execution_count": 23,
      "outputs": [
        {
          "output_type": "display_data",
          "data": {
            "image/png": "[encoded data removed]",
            "text/plain": [
              "<Figure size 1296x648 with 1 Axes>"
            ]
          },
          "metadata": {
            "tags": [],
            "needs_background": "light"
          }
        }
      ]
    },
    {
      "cell_type": "code",
      "metadata": {
        "id": "mxP4ZngkHRDF",
        "colab_type": "code",
        "colab": {}
      },
      "source": [
        "X = df_dates"
      ],
      "execution_count": 0,
      "outputs": []
    },
    {
      "cell_type": "code",
      "metadata": {
        "id": "3-DC43QlPeG1",
        "colab_type": "code",
        "colab": {}
      },
      "source": [
        "Y = df_close"
      ],
      "execution_count": 0,
      "outputs": []
    },
    {
      "cell_type": "code",
      "metadata": {
        "id": "1Bw0YrypPfwE",
        "colab_type": "code",
        "colab": {}
      },
      "source": [
        "\n",
        "scaler = MinMaxScaler(feature_range=(0, 1))\n",
        "df_close = scaler.fit_transform(df_close)"
      ],
      "execution_count": 0,
      "outputs": []
    },
    {
      "cell_type": "markdown",
      "metadata": {
        "id": "dMywiuPzPxJ0",
        "colab_type": "text"
      },
      "source": [
        "### Normalizing Dow Jones' stock's price "
      ]
    },
    {
      "cell_type": "code",
      "metadata": {
        "id": "x4zV61F2PsVS",
        "colab_type": "code",
        "outputId": "7dc9664f-c527-40c6-f5c6-891b4c601670",
        "colab": {
          "base_uri": "https://localhost:8080/",
          "height": 482
        }
      },
      "source": [
        "import matplotlib.dates as mdates\n",
        "\n",
        "plt.figure(figsize = (18,9))\n",
        "plt.plot(df_dates, df_close)\n",
        "\n",
        "plt.xticks(np.arange(0,len(df),600), df['Date'][0:len(df):300])\n",
        "\n",
        "plt.ylabel('Price in USD')\n",
        "plt.xlabel('Years')\n",
        "plt.title(\"Dow Jone's stock market price over time (Normalized)\", fontsize = 18)\n",
        "\n",
        "plt.show()"
      ],
      "execution_count": 27,
      "outputs": [
        {
          "output_type": "display_data",
          "data": {
            "image/png": "[encoded data removed]",
            "text/plain": [
              "<Figure size 1296x648 with 1 Axes>"
            ]
          },
          "metadata": {
            "tags": [],
            "needs_background": "light"
          }
        }
      ]
    },
    {
      "cell_type": "code",
      "metadata": {
        "id": "WFbz3y-oAvh2",
        "colab_type": "code",
        "outputId": "e53050d3-abe6-4d29-e949-3eef6e716727",
        "colab": {
          "base_uri": "https://localhost:8080/",
          "height": 225
        }
      },
      "source": [
        "df['Close']"
      ],
      "execution_count": 28,
      "outputs": [
        {
          "output_type": "execute_result",
          "data": {
            "text/plain": [
              "0        1292.619995\n",
              "1        1287.880005\n",
              "2        1286.770020\n",
              "3        1277.719971\n",
              "4        1290.079956\n",
              "            ...     \n",
              "8872    23390.769531\n",
              "8873    23949.759766\n",
              "8874    23504.349609\n",
              "8875    23537.679688\n",
              "8876    24242.490234\n",
              "Name: Close, Length: 8877, dtype: float64"
            ]
          },
          "metadata": {
            "tags": []
          },
          "execution_count": 28
        }
      ]
    },
    {
      "cell_type": "code",
      "metadata": {
        "id": "K-648_4GAvfR",
        "colab_type": "code",
        "colab": {}
      },
      "source": [
        "\n",
        "# create a differenced series\n",
        "def difference(dataset, interval=1):\n",
        "\tdiff = list()\n",
        "\tfor i in range(interval, len(dataset)):\n",
        "\t\tvalue = dataset[i] - dataset[i - interval]\n",
        "\t\tdiff.append(value)\n",
        "\treturn numpy.array(diff)"
      ],
      "execution_count": 0,
      "outputs": []
    },
    {
      "cell_type": "code",
      "metadata": {
        "id": "Ti6D0ohCAvV5",
        "colab_type": "code",
        "colab": {}
      },
      "source": [
        "# invert differenced value\n",
        "def inverse_difference(history, yhat, interval=1):\n",
        "\treturn yhat + history[-interval]"
      ],
      "execution_count": 0,
      "outputs": []
    },
    {
      "cell_type": "code",
      "metadata": {
        "id": "dpIYLNCSBKqc",
        "colab_type": "code",
        "colab": {}
      },
      "source": [
        "series = df['Close']"
      ],
      "execution_count": 0,
      "outputs": []
    },
    {
      "cell_type": "code",
      "metadata": {
        "id": "Nn2l4O_LBg3M",
        "colab_type": "code",
        "colab": {}
      },
      "source": [
        "series.index = df['Date']"
      ],
      "execution_count": 0,
      "outputs": []
    },
    {
      "cell_type": "code",
      "metadata": {
        "id": "XiLUj9GhCTpI",
        "colab_type": "code",
        "outputId": "37012f25-1bd7-4f1b-e29d-2017ab9134d5",
        "colab": {
          "base_uri": "https://localhost:8080/",
          "height": 242
        }
      },
      "source": [
        "series"
      ],
      "execution_count": 33,
      "outputs": [
        {
          "output_type": "execute_result",
          "data": {
            "text/plain": [
              "Date\n",
              "1985-01-29     1292.619995\n",
              "1985-01-30     1287.880005\n",
              "1985-01-31     1286.770020\n",
              "1985-02-01     1277.719971\n",
              "1985-02-04     1290.079956\n",
              "                  ...     \n",
              "2020-04-13    23390.769531\n",
              "2020-04-14    23949.759766\n",
              "2020-04-15    23504.349609\n",
              "2020-04-16    23537.679688\n",
              "2020-04-17    24242.490234\n",
              "Name: Close, Length: 8877, dtype: float64"
            ]
          },
          "metadata": {
            "tags": []
          },
          "execution_count": 33
        }
      ]
    },
    {
      "cell_type": "code",
      "metadata": {
        "id": "yRd__4BWD5Gw",
        "colab_type": "code",
        "colab": {}
      },
      "source": [
        "split_point = len(series) - 7\n",
        "dataset, validation = series[0:split_point], series[split_point:]"
      ],
      "execution_count": 0,
      "outputs": []
    },
    {
      "cell_type": "code",
      "metadata": {
        "id": "kwPJgFA_BFdF",
        "colab_type": "code",
        "outputId": "24646b67-3bcd-4e69-b3e8-e199370d2465",
        "colab": {
          "base_uri": "https://localhost:8080/",
          "height": 606
        }
      },
      "source": [
        "from pandas import read_csv\n",
        "from statsmodels.tsa.arima_model import ARIMA\n",
        "import numpy\n",
        " \n",
        "# create a differenced series\n",
        "def difference(dataset, interval=1):\n",
        "\tdiff = list()\n",
        "\tfor i in range(interval, len(dataset)):\n",
        "\t\tvalue = dataset[i] - dataset[i - interval]\n",
        "\t\tdiff.append(value)\n",
        "\treturn numpy.array(diff)\n",
        " \n",
        "# load dataset\n",
        "# seasonal difference\n",
        "X = dataset.values\n",
        "days_in_year = 365\n",
        "differenced = difference(X, days_in_year)\n",
        "# fit model\n",
        "model = ARIMA(differenced, order=(7,0,1))\n",
        "model_fit = model.fit(disp=0)\n",
        "# print summary of fit model\n",
        "print(model_fit.summary())"
      ],
      "execution_count": 35,
      "outputs": [
        {
          "output_type": "stream",
          "text": [
            "                              ARMA Model Results                              \n",
            "==============================================================================\n",
            "Dep. Variable:                      y   No. Observations:                 8505\n",
            "Model:                     ARMA(7, 1)   Log Likelihood              -55919.602\n",
            "Method:                       css-mle   S.D. of innovations            173.414\n",
            "Date:                Sun, 19 Apr 2020   AIC                         111859.204\n",
            "Time:                        18:42:53   BIC                         111929.688\n",
            "Sample:                             0   HQIC                        111883.256\n",
            "                                                                              \n",
            "==============================================================================\n",
            "                 coef    std err          z      P>|z|      [0.025      0.975]\n",
            "------------------------------------------------------------------------------\n",
            "const       1057.3483    478.610      2.209      0.027     119.290    1995.407\n",
            "ar.L1.y        0.2632      0.038      7.015      0.000       0.190       0.337\n",
            "ar.L2.y        0.6975      0.034     20.443      0.000       0.631       0.764\n",
            "ar.L3.y        0.0809      0.014      5.665      0.000       0.053       0.109\n",
            "ar.L4.y       -0.0464      0.014     -3.427      0.001      -0.073      -0.020\n",
            "ar.L5.y       -0.0096      0.014     -0.708      0.479      -0.036       0.017\n",
            "ar.L6.y       -0.0711      0.012     -5.946      0.000      -0.095      -0.048\n",
            "ar.L7.y        0.0794      0.012      6.855      0.000       0.057       0.102\n",
            "ma.L1.y        0.6410      0.036     17.640      0.000       0.570       0.712\n",
            "                                    Roots                                    \n",
            "=============================================================================\n",
            "                  Real          Imaginary           Modulus         Frequency\n",
            "-----------------------------------------------------------------------------\n",
            "AR.1           -1.1793           -0.4751j            1.2714           -0.4390\n",
            "AR.2           -1.1793           +0.4751j            1.2714            0.4390\n",
            "AR.3           -0.3280           -1.5821j            1.6158           -0.2825\n",
            "AR.4           -0.3280           +1.5821j            1.6158            0.2825\n",
            "AR.5            1.0035           -0.0000j            1.0035           -0.0000\n",
            "AR.6            1.4534           -0.9288j            1.7249           -0.0905\n",
            "AR.7            1.4534           +0.9288j            1.7249            0.0905\n",
            "MA.1           -1.5602           +0.0000j            1.5602            0.5000\n",
            "-----------------------------------------------------------------------------\n"
          ],
          "name": "stdout"
        }
      ]
    },
    {
      "cell_type": "code",
      "metadata": {
        "id": "NXE2v8T6BFbg",
        "colab_type": "code",
        "colab": {}
      },
      "source": [
        "forecast = model_fit.forecast()[0]"
      ],
      "execution_count": 0,
      "outputs": []
    },
    {
      "cell_type": "code",
      "metadata": {
        "id": "9YUypOmuBFaz",
        "colab_type": "code",
        "colab": {}
      },
      "source": [
        "# invert the differenced forecast to something usable\n",
        "forecast = inverse_difference(X, forecast, days_in_year)"
      ],
      "execution_count": 0,
      "outputs": []
    },
    {
      "cell_type": "code",
      "metadata": {
        "id": "UVasabPQBFXe",
        "colab_type": "code",
        "outputId": "e4891bd5-014b-48d8-84c7-565bb2faea0d",
        "colab": {
          "base_uri": "https://localhost:8080/",
          "height": 34
        }
      },
      "source": [
        "print('Forecast: %f' % forecast)"
      ],
      "execution_count": 38,
      "outputs": [
        {
          "output_type": "stream",
          "text": [
            "Forecast: 22259.844335\n"
          ],
          "name": "stdout"
        }
      ]
    },
    {
      "cell_type": "code",
      "metadata": {
        "id": "d249oZYnBFV_",
        "colab_type": "code",
        "colab": {}
      },
      "source": [
        "# one-step out of sample forecast\n",
        "start_index = len(differenced)\n",
        "end_index = len(differenced)\n",
        "forecast = model_fit.predict(start=start_index, end=end_index)"
      ],
      "execution_count": 0,
      "outputs": []
    },
    {
      "cell_type": "code",
      "metadata": {
        "id": "hsiPzYp7BFTo",
        "colab_type": "code",
        "colab": {}
      },
      "source": [
        "from pandas import datetime\n",
        "\n",
        "forecast = model_fit.predict(start=start_index, end=end_index)"
      ],
      "execution_count": 0,
      "outputs": []
    },
    {
      "cell_type": "code",
      "metadata": {
        "id": "_uwt4HU3BFR2",
        "colab_type": "code",
        "outputId": "cff56c59-0ef5-42dd-9226-8ac702184724",
        "colab": {
          "base_uri": "https://localhost:8080/",
          "height": 34
        }
      },
      "source": [
        "\n",
        "# invert the differenced forecast to something usable\n",
        "forecast = inverse_difference(X, forecast, days_in_year)\n",
        "print('Forecast: %f' % forecast)"
      ],
      "execution_count": 41,
      "outputs": [
        {
          "output_type": "stream",
          "text": [
            "Forecast: 22259.844335\n"
          ],
          "name": "stdout"
        }
      ]
    },
    {
      "cell_type": "code",
      "metadata": {
        "id": "-UZwmC_0BFPU",
        "colab_type": "code",
        "colab": {}
      },
      "source": [
        "# multi-step out-of-sample forecast\n",
        "forecast = model_fit.forecast(steps=7)[0]"
      ],
      "execution_count": 0,
      "outputs": []
    },
    {
      "cell_type": "code",
      "metadata": {
        "id": "scaZe7XPT2bU",
        "colab_type": "code",
        "outputId": "03ed56f5-f998-4d63-e2da-df9df5382b32",
        "colab": {
          "base_uri": "https://localhost:8080/",
          "height": 138
        }
      },
      "source": [
        "forecast_one_week_ahead = []\n",
        "history = [x for x in X]\n",
        "day = 1\n",
        "for yhat in forecast:\n",
        "\tinverted = inverse_difference(history, yhat, days_in_year)\n",
        "\tprint('Day %d: %f' % (day, inverted))\n",
        "\thistory.append(inverted)\n",
        "\tday += 1"
      ],
      "execution_count": 67,
      "outputs": [
        {
          "output_type": "stream",
          "text": [
            "Day 1: 22259.844335\n",
            "Day 2: 22669.181841\n",
            "Day 3: 22328.375660\n",
            "Day 4: 22166.292495\n",
            "Day 5: 22420.093612\n",
            "Day 6: 22798.586281\n",
            "Day 7: 22977.071554\n"
          ],
          "name": "stdout"
        }
      ]
    },
    {
      "cell_type": "code",
      "metadata": {
        "id": "44BR0kn6Co6S",
        "colab_type": "code",
        "colab": {}
      },
      "source": [
        "history_np = np.array(history)"
      ],
      "execution_count": 0,
      "outputs": []
    },
    {
      "cell_type": "code",
      "metadata": {
        "id": "cryTfuzdCo3r",
        "colab_type": "code",
        "outputId": "d6e0deca-12bb-4d2e-a910-038a7fd9556f",
        "colab": {
          "base_uri": "https://localhost:8080/",
          "height": 282
        }
      },
      "source": [
        "plt.plot(history_np)"
      ],
      "execution_count": 69,
      "outputs": [
        {
          "output_type": "execute_result",
          "data": {
            "text/plain": [
              "[<matplotlib.lines.Line2D at 0x7fd3e42ca2b0>]"
            ]
          },
          "metadata": {
            "tags": []
          },
          "execution_count": 69
        },
        {
          "output_type": "display_data",
          "data": {
            "image/png": "[encoded data removed]",
            "text/plain": [
              "<Figure size 432x288 with 1 Axes>"
            ]
          },
          "metadata": {
            "tags": [],
            "needs_background": "light"
          }
        }
      ]
    },
    {
      "cell_type": "code",
      "metadata": {
        "id": "DQT7s_quCo1B",
        "colab_type": "code",
        "outputId": "6124a23c-bc5e-4ba1-c0e1-98a876624ba8",
        "colab": {
          "base_uri": "https://localhost:8080/",
          "height": 34
        }
      },
      "source": [
        "len(df)"
      ],
      "execution_count": 70,
      "outputs": [
        {
          "output_type": "execute_result",
          "data": {
            "text/plain": [
              "8877"
            ]
          },
          "metadata": {
            "tags": []
          },
          "execution_count": 70
        }
      ]
    },
    {
      "cell_type": "code",
      "metadata": {
        "id": "IZaVlVqXCoyA",
        "colab_type": "code",
        "outputId": "fa78acb1-2aa5-4ce8-9a6f-549875bc055a",
        "colab": {
          "base_uri": "https://localhost:8080/",
          "height": 34
        }
      },
      "source": [
        "len(history_np)"
      ],
      "execution_count": 71,
      "outputs": [
        {
          "output_type": "execute_result",
          "data": {
            "text/plain": [
              "8877"
            ]
          },
          "metadata": {
            "tags": []
          },
          "execution_count": 71
        }
      ]
    },
    {
      "cell_type": "code",
      "metadata": {
        "id": "7HxUB1tvCovM",
        "colab_type": "code",
        "outputId": "302c2091-8a93-4a48-fc40-f6b42fbde734",
        "colab": {
          "base_uri": "https://localhost:8080/",
          "height": 34
        }
      },
      "source": [
        "print('Dataset %d, Validation %d' % (len(dataset), len(validation)))"
      ],
      "execution_count": 72,
      "outputs": [
        {
          "output_type": "stream",
          "text": [
            "Dataset 8870, Validation 7\n"
          ],
          "name": "stdout"
        }
      ]
    },
    {
      "cell_type": "code",
      "metadata": {
        "id": "U0g8-q24G1yk",
        "colab_type": "code",
        "outputId": "ca26784e-f584-4c8f-917f-fcde28162ea9",
        "colab": {
          "base_uri": "https://localhost:8080/",
          "height": 34
        }
      },
      "source": [
        "len(list(dataset))"
      ],
      "execution_count": 73,
      "outputs": [
        {
          "output_type": "execute_result",
          "data": {
            "text/plain": [
              "8870"
            ]
          },
          "metadata": {
            "tags": []
          },
          "execution_count": 73
        }
      ]
    },
    {
      "cell_type": "code",
      "metadata": {
        "id": "iC2P6EBqG3uV",
        "colab_type": "code",
        "outputId": "d30c74f2-e547-4dd5-b40e-ca22173693e2",
        "colab": {
          "base_uri": "https://localhost:8080/",
          "height": 34
        }
      },
      "source": [
        "len(list(history))"
      ],
      "execution_count": 74,
      "outputs": [
        {
          "output_type": "execute_result",
          "data": {
            "text/plain": [
              "8877"
            ]
          },
          "metadata": {
            "tags": []
          },
          "execution_count": 74
        }
      ]
    },
    {
      "cell_type": "code",
      "metadata": {
        "id": "Tr7QdybBCoo9",
        "colab_type": "code",
        "outputId": "51793b72-7d24-456d-86cf-a9513ddd2819",
        "colab": {
          "base_uri": "https://localhost:8080/",
          "height": 298
        }
      },
      "source": [
        "plt.plot(list(series)[-50:], label = 'original dataset')\n",
        "plt.plot(history[-50:], label = 'prediction')\n",
        "plt.title(\"Past 7 days prediction of the Dow Jones using ARIMA model\")\n",
        "plt.legend()"
      ],
      "execution_count": 75,
      "outputs": [
        {
          "output_type": "execute_result",
          "data": {
            "text/plain": [
              "<matplotlib.legend.Legend at 0x7fd3e41db6d8>"
            ]
          },
          "metadata": {
            "tags": []
          },
          "execution_count": 75
        },
        {
          "output_type": "display_data",
          "data": {
            "image/png": "[encoded data removed]",
            "text/plain": [
              "<Figure size 432x288 with 1 Axes>"
            ]
          },
          "metadata": {
            "tags": [],
            "needs_background": "light"
          }
        }
      ]
    },
    {
      "cell_type": "code",
      "metadata": {
        "id": "MBYnCoc1wFHG",
        "colab_type": "code",
        "colab": {}
      },
      "source": [
        ""
      ],
      "execution_count": 0,
      "outputs": []
    }
  ]
}