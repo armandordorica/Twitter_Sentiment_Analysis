{
  "nbformat": 4,
  "nbformat_minor": 0,
  "metadata": {
    "colab": {
      "name": "Covid19 NYC - ARIMA.ipynb",
      "provenance": [],
      "authorship_tag": "ABX9TyO7KuWMPueRGFQzD9/fq/Ph",
      "include_colab_link": true
    },
    "kernelspec": {
      "name": "python3",
      "display_name": "Python 3"
    }
  },
  "cells": [
    {
      "cell_type": "markdown",
      "metadata": {
        "id": "view-in-github",
        "colab_type": "text"
      },
      "source": [
        "<a href=\"https://colab.research.google.com/github/armandordorica/Twitter_Sentiment_Analysis/blob/master/Covid19_NYC_ARIMA.ipynb\" target=\"_parent\"><img src=\"https://colab.research.google.com/assets/colab-badge.svg\" alt=\"Open In Colab\"/></a>"
      ]
    },
    {
      "cell_type": "markdown",
      "metadata": {
        "id": "UllrX_KKM1nD",
        "colab_type": "text"
      },
      "source": [
        "# **Prediction of Covid 19 Cases**\n",
        "\n",
        "The goal of this project is to analyze the evolution of Covid-19 cases in New York City. Particularly, we'd like to know if it's possible to improve univariate time series predictions by leveraging sentiment analysis on tweets related to Covid-19 in New York City area as well. \n",
        "\n"
      ]
    },
    {
      "cell_type": "markdown",
      "metadata": {
        "id": "lthGY2YvSVfm",
        "colab_type": "text"
      },
      "source": [
        "The source data is coming from the World Health Organization and is updated daily. "
      ]
    },
    {
      "cell_type": "code",
      "metadata": {
        "id": "a9NbOMgJnZxu",
        "colab_type": "code",
        "colab": {}
      },
      "source": [
        "import pandas as pd\n",
        "from pandas import read_csv\n",
        "url = \"https://raw.githubusercontent.com/CSSEGISandData/COVID-19/master/csse_covid_19_data/csse_covid_19_time_series/time_series_covid19_confirmed_US.csv\"\n",
        "series = read_csv(url, header=0)\n"
      ],
      "execution_count": 0,
      "outputs": []
    },
    {
      "cell_type": "markdown",
      "metadata": {
        "id": "hD5nwDCKSgG2",
        "colab_type": "text"
      },
      "source": [
        "**Cleaning the data to keep New York data only**"
      ]
    },
    {
      "cell_type": "code",
      "metadata": {
        "id": "WHZKAH0Onng9",
        "colab_type": "code",
        "outputId": "a064c9f9-009c-4ff4-d7d4-d3f76938bc0e",
        "colab": {
          "base_uri": "https://localhost:8080/",
          "height": 146
        }
      },
      "source": [
        "series[series['Combined_Key'].str.match('New York')]"
      ],
      "execution_count": 412,
      "outputs": [
        {
          "output_type": "execute_result",
          "data": {
            "text/html": [
              "<div>\n",
              "<style scoped>\n",
              "    .dataframe tbody tr th:only-of-type {\n",
              "        vertical-align: middle;\n",
              "    }\n",
              "\n",
              "    .dataframe tbody tr th {\n",
              "        vertical-align: top;\n",
              "    }\n",
              "\n",
              "    .dataframe thead th {\n",
              "        text-align: right;\n",
              "    }\n",
              "</style>\n",
              "<table border=\"1\" class=\"dataframe\">\n",
              "  <thead>\n",
              "    <tr style=\"text-align: right;\">\n",
              "      <th></th>\n",
              "      <th>UID</th>\n",
              "      <th>iso2</th>\n",
              "      <th>iso3</th>\n",
              "      <th>code3</th>\n",
              "      <th>FIPS</th>\n",
              "      <th>Admin2</th>\n",
              "      <th>Province_State</th>\n",
              "      <th>Country_Region</th>\n",
              "      <th>Lat</th>\n",
              "      <th>Long_</th>\n",
              "      <th>Combined_Key</th>\n",
              "      <th>1/22/20</th>\n",
              "      <th>1/23/20</th>\n",
              "      <th>1/24/20</th>\n",
              "      <th>1/25/20</th>\n",
              "      <th>1/26/20</th>\n",
              "      <th>1/27/20</th>\n",
              "      <th>1/28/20</th>\n",
              "      <th>1/29/20</th>\n",
              "      <th>1/30/20</th>\n",
              "      <th>1/31/20</th>\n",
              "      <th>2/1/20</th>\n",
              "      <th>2/2/20</th>\n",
              "      <th>2/3/20</th>\n",
              "      <th>2/4/20</th>\n",
              "      <th>2/5/20</th>\n",
              "      <th>2/6/20</th>\n",
              "      <th>2/7/20</th>\n",
              "      <th>2/8/20</th>\n",
              "      <th>2/9/20</th>\n",
              "      <th>2/10/20</th>\n",
              "      <th>2/11/20</th>\n",
              "      <th>2/12/20</th>\n",
              "      <th>2/13/20</th>\n",
              "      <th>2/14/20</th>\n",
              "      <th>2/15/20</th>\n",
              "      <th>2/16/20</th>\n",
              "      <th>2/17/20</th>\n",
              "      <th>2/18/20</th>\n",
              "      <th>2/19/20</th>\n",
              "      <th>...</th>\n",
              "      <th>3/10/20</th>\n",
              "      <th>3/11/20</th>\n",
              "      <th>3/12/20</th>\n",
              "      <th>3/13/20</th>\n",
              "      <th>3/14/20</th>\n",
              "      <th>3/15/20</th>\n",
              "      <th>3/16/20</th>\n",
              "      <th>3/17/20</th>\n",
              "      <th>3/18/20</th>\n",
              "      <th>3/19/20</th>\n",
              "      <th>3/20/20</th>\n",
              "      <th>3/21/20</th>\n",
              "      <th>3/22/20</th>\n",
              "      <th>3/23/20</th>\n",
              "      <th>3/24/20</th>\n",
              "      <th>3/25/20</th>\n",
              "      <th>3/26/20</th>\n",
              "      <th>3/27/20</th>\n",
              "      <th>3/28/20</th>\n",
              "      <th>3/29/20</th>\n",
              "      <th>3/30/20</th>\n",
              "      <th>3/31/20</th>\n",
              "      <th>4/1/20</th>\n",
              "      <th>4/2/20</th>\n",
              "      <th>4/3/20</th>\n",
              "      <th>4/4/20</th>\n",
              "      <th>4/5/20</th>\n",
              "      <th>4/6/20</th>\n",
              "      <th>4/7/20</th>\n",
              "      <th>4/8/20</th>\n",
              "      <th>4/9/20</th>\n",
              "      <th>4/10/20</th>\n",
              "      <th>4/11/20</th>\n",
              "      <th>4/12/20</th>\n",
              "      <th>4/13/20</th>\n",
              "      <th>4/14/20</th>\n",
              "      <th>4/15/20</th>\n",
              "      <th>4/16/20</th>\n",
              "      <th>4/17/20</th>\n",
              "      <th>4/18/20</th>\n",
              "    </tr>\n",
              "  </thead>\n",
              "  <tbody>\n",
              "    <tr>\n",
              "      <th>1863</th>\n",
              "      <td>84036061</td>\n",
              "      <td>US</td>\n",
              "      <td>USA</td>\n",
              "      <td>840</td>\n",
              "      <td>36061.0</td>\n",
              "      <td>New York</td>\n",
              "      <td>New York</td>\n",
              "      <td>US</td>\n",
              "      <td>40.767273</td>\n",
              "      <td>-73.971526</td>\n",
              "      <td>New York City, New York, US</td>\n",
              "      <td>0</td>\n",
              "      <td>0</td>\n",
              "      <td>0</td>\n",
              "      <td>0</td>\n",
              "      <td>0</td>\n",
              "      <td>0</td>\n",
              "      <td>0</td>\n",
              "      <td>0</td>\n",
              "      <td>0</td>\n",
              "      <td>0</td>\n",
              "      <td>0</td>\n",
              "      <td>0</td>\n",
              "      <td>0</td>\n",
              "      <td>0</td>\n",
              "      <td>0</td>\n",
              "      <td>0</td>\n",
              "      <td>0</td>\n",
              "      <td>0</td>\n",
              "      <td>0</td>\n",
              "      <td>0</td>\n",
              "      <td>0</td>\n",
              "      <td>0</td>\n",
              "      <td>0</td>\n",
              "      <td>0</td>\n",
              "      <td>0</td>\n",
              "      <td>0</td>\n",
              "      <td>0</td>\n",
              "      <td>0</td>\n",
              "      <td>0</td>\n",
              "      <td>...</td>\n",
              "      <td>25</td>\n",
              "      <td>55</td>\n",
              "      <td>95</td>\n",
              "      <td>154</td>\n",
              "      <td>269</td>\n",
              "      <td>269</td>\n",
              "      <td>463</td>\n",
              "      <td>814</td>\n",
              "      <td>1871</td>\n",
              "      <td>3954</td>\n",
              "      <td>5151</td>\n",
              "      <td>7530</td>\n",
              "      <td>9654</td>\n",
              "      <td>12305</td>\n",
              "      <td>14904</td>\n",
              "      <td>17856</td>\n",
              "      <td>21873</td>\n",
              "      <td>25573</td>\n",
              "      <td>29776</td>\n",
              "      <td>33768</td>\n",
              "      <td>37453</td>\n",
              "      <td>43119</td>\n",
              "      <td>47439</td>\n",
              "      <td>51809</td>\n",
              "      <td>57159</td>\n",
              "      <td>63306</td>\n",
              "      <td>67551</td>\n",
              "      <td>72181</td>\n",
              "      <td>76876</td>\n",
              "      <td>81803</td>\n",
              "      <td>87028</td>\n",
              "      <td>92384</td>\n",
              "      <td>98308</td>\n",
              "      <td>103208</td>\n",
              "      <td>106763</td>\n",
              "      <td>110465</td>\n",
              "      <td>118302</td>\n",
              "      <td>123146</td>\n",
              "      <td>127352</td>\n",
              "      <td>135572</td>\n",
              "    </tr>\n",
              "  </tbody>\n",
              "</table>\n",
              "<p>1 rows × 99 columns</p>\n",
              "</div>"
            ],
            "text/plain": [
              "           UID iso2 iso3  code3  ...  4/15/20 4/16/20 4/17/20 4/18/20\n",
              "1863  84036061   US  USA    840  ...   118302  123146  127352  135572\n",
              "\n",
              "[1 rows x 99 columns]"
            ]
          },
          "metadata": {
            "tags": []
          },
          "execution_count": 412
        }
      ]
    },
    {
      "cell_type": "code",
      "metadata": {
        "id": "I5Xc58IUoJ4Y",
        "colab_type": "code",
        "colab": {}
      },
      "source": [
        "df = pd.DataFrame(series)\n",
        "df_ny = df.iloc[1863]\n",
        "df_ny = pd.DataFrame(df_ny)\n",
        "df_ny = df_ny.T\n",
        "\n",
        "cols = list(df_ny.columns)\n",
        "df_ny = df_ny[cols[10:]]"
      ],
      "execution_count": 0,
      "outputs": []
    },
    {
      "cell_type": "code",
      "metadata": {
        "id": "WcaCFVI3pMq9",
        "colab_type": "code",
        "colab": {
          "base_uri": "https://localhost:8080/",
          "height": 146
        },
        "outputId": "57f09729-812f-4880-9eca-db80153bf1a5"
      },
      "source": [
        "df_ny"
      ],
      "execution_count": 414,
      "outputs": [
        {
          "output_type": "execute_result",
          "data": {
            "text/html": [
              "<div>\n",
              "<style scoped>\n",
              "    .dataframe tbody tr th:only-of-type {\n",
              "        vertical-align: middle;\n",
              "    }\n",
              "\n",
              "    .dataframe tbody tr th {\n",
              "        vertical-align: top;\n",
              "    }\n",
              "\n",
              "    .dataframe thead th {\n",
              "        text-align: right;\n",
              "    }\n",
              "</style>\n",
              "<table border=\"1\" class=\"dataframe\">\n",
              "  <thead>\n",
              "    <tr style=\"text-align: right;\">\n",
              "      <th></th>\n",
              "      <th>Combined_Key</th>\n",
              "      <th>1/22/20</th>\n",
              "      <th>1/23/20</th>\n",
              "      <th>1/24/20</th>\n",
              "      <th>1/25/20</th>\n",
              "      <th>1/26/20</th>\n",
              "      <th>1/27/20</th>\n",
              "      <th>1/28/20</th>\n",
              "      <th>1/29/20</th>\n",
              "      <th>1/30/20</th>\n",
              "      <th>1/31/20</th>\n",
              "      <th>2/1/20</th>\n",
              "      <th>2/2/20</th>\n",
              "      <th>2/3/20</th>\n",
              "      <th>2/4/20</th>\n",
              "      <th>2/5/20</th>\n",
              "      <th>2/6/20</th>\n",
              "      <th>2/7/20</th>\n",
              "      <th>2/8/20</th>\n",
              "      <th>2/9/20</th>\n",
              "      <th>2/10/20</th>\n",
              "      <th>2/11/20</th>\n",
              "      <th>2/12/20</th>\n",
              "      <th>2/13/20</th>\n",
              "      <th>2/14/20</th>\n",
              "      <th>2/15/20</th>\n",
              "      <th>2/16/20</th>\n",
              "      <th>2/17/20</th>\n",
              "      <th>2/18/20</th>\n",
              "      <th>2/19/20</th>\n",
              "      <th>2/20/20</th>\n",
              "      <th>2/21/20</th>\n",
              "      <th>2/22/20</th>\n",
              "      <th>2/23/20</th>\n",
              "      <th>2/24/20</th>\n",
              "      <th>2/25/20</th>\n",
              "      <th>2/26/20</th>\n",
              "      <th>2/27/20</th>\n",
              "      <th>2/28/20</th>\n",
              "      <th>2/29/20</th>\n",
              "      <th>...</th>\n",
              "      <th>3/10/20</th>\n",
              "      <th>3/11/20</th>\n",
              "      <th>3/12/20</th>\n",
              "      <th>3/13/20</th>\n",
              "      <th>3/14/20</th>\n",
              "      <th>3/15/20</th>\n",
              "      <th>3/16/20</th>\n",
              "      <th>3/17/20</th>\n",
              "      <th>3/18/20</th>\n",
              "      <th>3/19/20</th>\n",
              "      <th>3/20/20</th>\n",
              "      <th>3/21/20</th>\n",
              "      <th>3/22/20</th>\n",
              "      <th>3/23/20</th>\n",
              "      <th>3/24/20</th>\n",
              "      <th>3/25/20</th>\n",
              "      <th>3/26/20</th>\n",
              "      <th>3/27/20</th>\n",
              "      <th>3/28/20</th>\n",
              "      <th>3/29/20</th>\n",
              "      <th>3/30/20</th>\n",
              "      <th>3/31/20</th>\n",
              "      <th>4/1/20</th>\n",
              "      <th>4/2/20</th>\n",
              "      <th>4/3/20</th>\n",
              "      <th>4/4/20</th>\n",
              "      <th>4/5/20</th>\n",
              "      <th>4/6/20</th>\n",
              "      <th>4/7/20</th>\n",
              "      <th>4/8/20</th>\n",
              "      <th>4/9/20</th>\n",
              "      <th>4/10/20</th>\n",
              "      <th>4/11/20</th>\n",
              "      <th>4/12/20</th>\n",
              "      <th>4/13/20</th>\n",
              "      <th>4/14/20</th>\n",
              "      <th>4/15/20</th>\n",
              "      <th>4/16/20</th>\n",
              "      <th>4/17/20</th>\n",
              "      <th>4/18/20</th>\n",
              "    </tr>\n",
              "  </thead>\n",
              "  <tbody>\n",
              "    <tr>\n",
              "      <th>1863</th>\n",
              "      <td>New York City, New York, US</td>\n",
              "      <td>0</td>\n",
              "      <td>0</td>\n",
              "      <td>0</td>\n",
              "      <td>0</td>\n",
              "      <td>0</td>\n",
              "      <td>0</td>\n",
              "      <td>0</td>\n",
              "      <td>0</td>\n",
              "      <td>0</td>\n",
              "      <td>0</td>\n",
              "      <td>0</td>\n",
              "      <td>0</td>\n",
              "      <td>0</td>\n",
              "      <td>0</td>\n",
              "      <td>0</td>\n",
              "      <td>0</td>\n",
              "      <td>0</td>\n",
              "      <td>0</td>\n",
              "      <td>0</td>\n",
              "      <td>0</td>\n",
              "      <td>0</td>\n",
              "      <td>0</td>\n",
              "      <td>0</td>\n",
              "      <td>0</td>\n",
              "      <td>0</td>\n",
              "      <td>0</td>\n",
              "      <td>0</td>\n",
              "      <td>0</td>\n",
              "      <td>0</td>\n",
              "      <td>0</td>\n",
              "      <td>0</td>\n",
              "      <td>0</td>\n",
              "      <td>0</td>\n",
              "      <td>0</td>\n",
              "      <td>0</td>\n",
              "      <td>0</td>\n",
              "      <td>0</td>\n",
              "      <td>0</td>\n",
              "      <td>0</td>\n",
              "      <td>...</td>\n",
              "      <td>25</td>\n",
              "      <td>55</td>\n",
              "      <td>95</td>\n",
              "      <td>154</td>\n",
              "      <td>269</td>\n",
              "      <td>269</td>\n",
              "      <td>463</td>\n",
              "      <td>814</td>\n",
              "      <td>1871</td>\n",
              "      <td>3954</td>\n",
              "      <td>5151</td>\n",
              "      <td>7530</td>\n",
              "      <td>9654</td>\n",
              "      <td>12305</td>\n",
              "      <td>14904</td>\n",
              "      <td>17856</td>\n",
              "      <td>21873</td>\n",
              "      <td>25573</td>\n",
              "      <td>29776</td>\n",
              "      <td>33768</td>\n",
              "      <td>37453</td>\n",
              "      <td>43119</td>\n",
              "      <td>47439</td>\n",
              "      <td>51809</td>\n",
              "      <td>57159</td>\n",
              "      <td>63306</td>\n",
              "      <td>67551</td>\n",
              "      <td>72181</td>\n",
              "      <td>76876</td>\n",
              "      <td>81803</td>\n",
              "      <td>87028</td>\n",
              "      <td>92384</td>\n",
              "      <td>98308</td>\n",
              "      <td>103208</td>\n",
              "      <td>106763</td>\n",
              "      <td>110465</td>\n",
              "      <td>118302</td>\n",
              "      <td>123146</td>\n",
              "      <td>127352</td>\n",
              "      <td>135572</td>\n",
              "    </tr>\n",
              "  </tbody>\n",
              "</table>\n",
              "<p>1 rows × 89 columns</p>\n",
              "</div>"
            ],
            "text/plain": [
              "                     Combined_Key 1/22/20 1/23/20  ... 4/16/20 4/17/20 4/18/20\n",
              "1863  New York City, New York, US       0       0  ...  123146  127352  135572\n",
              "\n",
              "[1 rows x 89 columns]"
            ]
          },
          "metadata": {
            "tags": []
          },
          "execution_count": 414
        }
      ]
    },
    {
      "cell_type": "code",
      "metadata": {
        "id": "X0MqgJZ4puSz",
        "colab_type": "code",
        "colab": {}
      },
      "source": [
        "list_of_dates= list(df_ny.columns)\n",
        "list_of_dates = list_of_dates[40:]\n",
        "\n",
        "list(df_ny.values)\n",
        "values = list(df_ny.iloc[0])[40:]"
      ],
      "execution_count": 0,
      "outputs": []
    },
    {
      "cell_type": "code",
      "metadata": {
        "id": "zNWU04Rep_n4",
        "colab_type": "code",
        "colab": {
          "base_uri": "https://localhost:8080/",
          "height": 662
        },
        "outputId": "08f0d1ab-3a3a-4a94-a6eb-4ceec2d3a028"
      },
      "source": [
        "data = {'Date':list_of_dates, 'Num of daily cases': values} \n",
        "df = pd.DataFrame(data)\n",
        "df.head(20)"
      ],
      "execution_count": 416,
      "outputs": [
        {
          "output_type": "execute_result",
          "data": {
            "text/html": [
              "<div>\n",
              "<style scoped>\n",
              "    .dataframe tbody tr th:only-of-type {\n",
              "        vertical-align: middle;\n",
              "    }\n",
              "\n",
              "    .dataframe tbody tr th {\n",
              "        vertical-align: top;\n",
              "    }\n",
              "\n",
              "    .dataframe thead th {\n",
              "        text-align: right;\n",
              "    }\n",
              "</style>\n",
              "<table border=\"1\" class=\"dataframe\">\n",
              "  <thead>\n",
              "    <tr style=\"text-align: right;\">\n",
              "      <th></th>\n",
              "      <th>Date</th>\n",
              "      <th>Num of daily cases</th>\n",
              "    </tr>\n",
              "  </thead>\n",
              "  <tbody>\n",
              "    <tr>\n",
              "      <th>0</th>\n",
              "      <td>3/1/20</td>\n",
              "      <td>0</td>\n",
              "    </tr>\n",
              "    <tr>\n",
              "      <th>1</th>\n",
              "      <td>3/2/20</td>\n",
              "      <td>1</td>\n",
              "    </tr>\n",
              "    <tr>\n",
              "      <th>2</th>\n",
              "      <td>3/3/20</td>\n",
              "      <td>1</td>\n",
              "    </tr>\n",
              "    <tr>\n",
              "      <th>3</th>\n",
              "      <td>3/4/20</td>\n",
              "      <td>1</td>\n",
              "    </tr>\n",
              "    <tr>\n",
              "      <th>4</th>\n",
              "      <td>3/5/20</td>\n",
              "      <td>4</td>\n",
              "    </tr>\n",
              "    <tr>\n",
              "      <th>5</th>\n",
              "      <td>3/6/20</td>\n",
              "      <td>11</td>\n",
              "    </tr>\n",
              "    <tr>\n",
              "      <th>6</th>\n",
              "      <td>3/7/20</td>\n",
              "      <td>11</td>\n",
              "    </tr>\n",
              "    <tr>\n",
              "      <th>7</th>\n",
              "      <td>3/8/20</td>\n",
              "      <td>12</td>\n",
              "    </tr>\n",
              "    <tr>\n",
              "      <th>8</th>\n",
              "      <td>3/9/20</td>\n",
              "      <td>19</td>\n",
              "    </tr>\n",
              "    <tr>\n",
              "      <th>9</th>\n",
              "      <td>3/10/20</td>\n",
              "      <td>25</td>\n",
              "    </tr>\n",
              "    <tr>\n",
              "      <th>10</th>\n",
              "      <td>3/11/20</td>\n",
              "      <td>55</td>\n",
              "    </tr>\n",
              "    <tr>\n",
              "      <th>11</th>\n",
              "      <td>3/12/20</td>\n",
              "      <td>95</td>\n",
              "    </tr>\n",
              "    <tr>\n",
              "      <th>12</th>\n",
              "      <td>3/13/20</td>\n",
              "      <td>154</td>\n",
              "    </tr>\n",
              "    <tr>\n",
              "      <th>13</th>\n",
              "      <td>3/14/20</td>\n",
              "      <td>269</td>\n",
              "    </tr>\n",
              "    <tr>\n",
              "      <th>14</th>\n",
              "      <td>3/15/20</td>\n",
              "      <td>269</td>\n",
              "    </tr>\n",
              "    <tr>\n",
              "      <th>15</th>\n",
              "      <td>3/16/20</td>\n",
              "      <td>463</td>\n",
              "    </tr>\n",
              "    <tr>\n",
              "      <th>16</th>\n",
              "      <td>3/17/20</td>\n",
              "      <td>814</td>\n",
              "    </tr>\n",
              "    <tr>\n",
              "      <th>17</th>\n",
              "      <td>3/18/20</td>\n",
              "      <td>1871</td>\n",
              "    </tr>\n",
              "    <tr>\n",
              "      <th>18</th>\n",
              "      <td>3/19/20</td>\n",
              "      <td>3954</td>\n",
              "    </tr>\n",
              "    <tr>\n",
              "      <th>19</th>\n",
              "      <td>3/20/20</td>\n",
              "      <td>5151</td>\n",
              "    </tr>\n",
              "  </tbody>\n",
              "</table>\n",
              "</div>"
            ],
            "text/plain": [
              "       Date  Num of daily cases\n",
              "0    3/1/20                   0\n",
              "1    3/2/20                   1\n",
              "2    3/3/20                   1\n",
              "3    3/4/20                   1\n",
              "4    3/5/20                   4\n",
              "5    3/6/20                  11\n",
              "6    3/7/20                  11\n",
              "7    3/8/20                  12\n",
              "8    3/9/20                  19\n",
              "9   3/10/20                  25\n",
              "10  3/11/20                  55\n",
              "11  3/12/20                  95\n",
              "12  3/13/20                 154\n",
              "13  3/14/20                 269\n",
              "14  3/15/20                 269\n",
              "15  3/16/20                 463\n",
              "16  3/17/20                 814\n",
              "17  3/18/20                1871\n",
              "18  3/19/20                3954\n",
              "19  3/20/20                5151"
            ]
          },
          "metadata": {
            "tags": []
          },
          "execution_count": 416
        }
      ]
    },
    {
      "cell_type": "code",
      "metadata": {
        "id": "Q1YI6KiXORn6",
        "colab_type": "code",
        "colab": {}
      },
      "source": [
        "dates = list(df['Date'])\n",
        "dates = pd.date_range(start=str(dates[0]),end=str(dates[-1]))\n",
        "dates = list(dates)\n",
        "\n",
        "\n",
        "list_of_dates =  []\n",
        "for i in range(0, len(dates)):\n",
        "  list_of_dates.append(dates[i].strftime(\"%b-%d\"))\n",
        "\n",
        "x_ticks= [list_of_dates[i] for i in range(0, len(list_of_dates), 5)]"
      ],
      "execution_count": 0,
      "outputs": []
    },
    {
      "cell_type": "code",
      "metadata": {
        "id": "k_ueW6fdqaZ-",
        "colab_type": "code",
        "outputId": "6502aa30-02f6-4817-80d2-69cf21b3809a",
        "colab": {
          "base_uri": "https://localhost:8080/",
          "height": 662
        }
      },
      "source": [
        "from matplotlib import pyplot as plt\n",
        "\n",
        "plt.figure(figsize = (18,9))\n",
        "plt.yscale(\"log\")\n",
        "\n",
        "plt.title(\"Num of daily COVID-19 cases in NYC\", fontsize = 18)\n",
        "plt.plot(list_of_dates, df['Num of daily cases'])\n",
        "plt.ylabel(\"Number of daily cases\")\n",
        "plt.xlabel(\"Dates (2020)\")\n",
        "plt.xticks(x_ticks)"
      ],
      "execution_count": 478,
      "outputs": [
        {
          "output_type": "execute_result",
          "data": {
            "text/plain": [
              "([<matplotlib.axis.XTick at 0x7f0dd6559c88>,\n",
              "  <matplotlib.axis.XTick at 0x7f0dd6559c50>,\n",
              "  <matplotlib.axis.XTick at 0x7f0dd6559978>,\n",
              "  <matplotlib.axis.XTick at 0x7f0dd64f3eb8>,\n",
              "  <matplotlib.axis.XTick at 0x7f0dd64f74a8>,\n",
              "  <matplotlib.axis.XTick at 0x7f0dd64f7940>,\n",
              "  <matplotlib.axis.XTick at 0x7f0dd64f7dd8>,\n",
              "  <matplotlib.axis.XTick at 0x7f0dd64fb2b0>,\n",
              "  <matplotlib.axis.XTick at 0x7f0dd64f7eb8>,\n",
              "  <matplotlib.axis.XTick at 0x7f0dd64fb1d0>],\n",
              " <a list of 10 Text major ticklabel objects>)"
            ]
          },
          "metadata": {
            "tags": []
          },
          "execution_count": 478
        },
        {
          "output_type": "display_data",
          "data": {
            "image/png": "[encoded data removed]",
            "text/plain": [
              "<Figure size 1296x648 with 1 Axes>"
            ]
          },
          "metadata": {
            "tags": [],
            "needs_background": "light"
          }
        }
      ]
    },
    {
      "cell_type": "markdown",
      "metadata": {
        "id": "7Qah-xMcTPOc",
        "colab_type": "text"
      },
      "source": [
        "### Setting up our baseline model\n",
        "\n",
        "The parameters of the ARIMA model are defined as follows:\n",
        "\n",
        "* p: The number of lag observations included in the model, also called the lag order.\n",
        "* d: The number of times that the raw observations are differenced, also called the degree of differencing.\n",
        "* q: The size of the moving average window, also called the order of moving average."
      ]
    },
    {
      "cell_type": "markdown",
      "metadata": {
        "id": "XzfQw1QPT2ts",
        "colab_type": "text"
      },
      "source": [
        "For the purpose of this analysis, I have chosen `order=(3,0,0)`."
      ]
    },
    {
      "cell_type": "code",
      "metadata": {
        "id": "hoh0_qWdqck-",
        "colab_type": "code",
        "colab": {}
      },
      "source": [
        "# create a differenced series\n",
        "def difference(dataset, interval=1):\n",
        "\tdiff = list()\n",
        "\tfor i in range(interval, len(dataset)):\n",
        "\t\tvalue = dataset[i] - dataset[i - interval]\n",
        "\t\tdiff.append(value)\n",
        "\treturn numpy.array(diff)"
      ],
      "execution_count": 0,
      "outputs": []
    },
    {
      "cell_type": "code",
      "metadata": {
        "id": "XhciNq4kr0Z4",
        "colab_type": "code",
        "colab": {}
      },
      "source": [
        "# invert differenced value\n",
        "def inverse_difference(history, yhat, interval=1):\n",
        "\treturn yhat + history[-interval]"
      ],
      "execution_count": 0,
      "outputs": []
    },
    {
      "cell_type": "code",
      "metadata": {
        "id": "rS8DZ4V2r1fr",
        "colab_type": "code",
        "colab": {
          "base_uri": "https://localhost:8080/",
          "height": 34
        },
        "outputId": "b2f07b13-5eaa-4544-ae93-1d52557232d8"
      },
      "source": [
        "series = df['Num of daily cases']\n",
        "series.index = df['Date']\n",
        "series.shape"
      ],
      "execution_count": 421,
      "outputs": [
        {
          "output_type": "execute_result",
          "data": {
            "text/plain": [
              "(49,)"
            ]
          },
          "metadata": {
            "tags": []
          },
          "execution_count": 421
        }
      ]
    },
    {
      "cell_type": "markdown",
      "metadata": {
        "id": "gnn_J7CaVzi7",
        "colab_type": "text"
      },
      "source": [
        "### Now we'll split dataset in training and validation. "
      ]
    },
    {
      "cell_type": "code",
      "metadata": {
        "id": "EDVej11tr7bS",
        "colab_type": "code",
        "colab": {
          "base_uri": "https://localhost:8080/",
          "height": 52
        },
        "outputId": "8d807a85-abd2-4175-d1e6-a6819614bc10"
      },
      "source": [
        "validation_size =round(len(series)*.2)\n",
        "split_point = len(series) -validation_size \n",
        "\n",
        "print(\"The size of our validation set is: {}, which corresponds to 20% of our examples.\".format(validation_size))\n",
        "\n",
        "dataset, validation = series[0:split_point], series[split_point:]\n",
        "\n",
        "print(\"The training set goes from {} to {} and the validation set goes from {} to {}\".format(dataset.index[0], dataset.index[-1], validation.index[0], validation.index[-1] ))"
      ],
      "execution_count": 422,
      "outputs": [
        {
          "output_type": "stream",
          "text": [
            "The size of our validation set is: 10, which corresponds to 20% of our examples.\n",
            "The training set goes from 3/1/20 to 4/8/20 and the validation set goes from 4/9/20 to 4/18/20\n"
          ],
          "name": "stdout"
        }
      ]
    },
    {
      "cell_type": "code",
      "metadata": {
        "id": "Avcm6z15r9YC",
        "colab_type": "code",
        "outputId": "35dfdbb1-5fa4-4a70-bf1f-bb21cba50b3c",
        "colab": {
          "base_uri": "https://localhost:8080/",
          "height": 572
        }
      },
      "source": [
        "from pandas import read_csv\n",
        "from statsmodels.tsa.arima_model import ARIMA\n",
        "import numpy\n",
        " \n",
        "# create a differenced series\n",
        "def difference(dataset, interval=1):\n",
        "\tdiff = list()\n",
        "\tfor i in range(interval, len(dataset)):\n",
        "\t\tvalue = dataset[i] - dataset[i - interval]\n",
        "\t\tdiff.append(value)\n",
        "\treturn numpy.array(diff)\n",
        " \n",
        "# load dataset\n",
        "# seasonal difference\n",
        "X = dataset.values\n",
        "days_in_year = 1\n",
        "differenced = difference(X, days_in_year)\n",
        "# fit model\n",
        "model = ARIMA(differenced, order=(7,0,0))\n",
        "model_fit = model.fit(disp=0)\n",
        "# print summary of fit model\n",
        "print(model_fit.summary())"
      ],
      "execution_count": 423,
      "outputs": [
        {
          "output_type": "stream",
          "text": [
            "                              ARMA Model Results                              \n",
            "==============================================================================\n",
            "Dep. Variable:                      y   No. Observations:                   38\n",
            "Model:                     ARMA(7, 0)   Log Likelihood                -293.533\n",
            "Method:                       css-mle   S.D. of innovations            515.376\n",
            "Date:                Sun, 19 Apr 2020   AIC                            605.066\n",
            "Time:                        23:50:45   BIC                            619.804\n",
            "Sample:                             0   HQIC                           610.310\n",
            "                                                                              \n",
            "==============================================================================\n",
            "                 coef    std err          z      P>|z|      [0.025      0.975]\n",
            "------------------------------------------------------------------------------\n",
            "const       1935.4679    879.539      2.201      0.036     211.602    3659.334\n",
            "ar.L1.y        0.3081      0.161      1.919      0.065      -0.007       0.623\n",
            "ar.L2.y        0.3697      0.156      2.371      0.024       0.064       0.675\n",
            "ar.L3.y        0.4991      0.169      2.950      0.006       0.167       0.831\n",
            "ar.L4.y        0.3642      0.181      2.015      0.053       0.010       0.718\n",
            "ar.L5.y       -0.1214      0.191     -0.634      0.531      -0.497       0.254\n",
            "ar.L6.y       -0.3457      0.173     -1.999      0.055      -0.685      -0.007\n",
            "ar.L7.y       -0.1658      0.180     -0.920      0.365      -0.519       0.187\n",
            "                                    Roots                                    \n",
            "=============================================================================\n",
            "                  Real          Imaginary           Modulus         Frequency\n",
            "-----------------------------------------------------------------------------\n",
            "AR.1            1.0269           -0.1173j            1.0336           -0.0181\n",
            "AR.2            1.0269           +0.1173j            1.0336            0.0181\n",
            "AR.3           -0.0366           -1.1623j            1.1628           -0.2550\n",
            "AR.4           -0.0366           +1.1623j            1.1628            0.2550\n",
            "AR.5           -1.6526           -0.0000j            1.6526           -0.5000\n",
            "AR.6           -1.2065           -1.0349j            1.5895           -0.3872\n",
            "AR.7           -1.2065           +1.0349j            1.5895            0.3872\n",
            "-----------------------------------------------------------------------------\n"
          ],
          "name": "stdout"
        }
      ]
    },
    {
      "cell_type": "code",
      "metadata": {
        "id": "TdaFNFDguGJf",
        "colab_type": "code",
        "outputId": "713633ac-60fa-4840-fd58-601a36bbf9f0",
        "colab": {
          "base_uri": "https://localhost:8080/",
          "height": 34
        }
      },
      "source": [
        "len(dataset)"
      ],
      "execution_count": 424,
      "outputs": [
        {
          "output_type": "execute_result",
          "data": {
            "text/plain": [
              "39"
            ]
          },
          "metadata": {
            "tags": []
          },
          "execution_count": 424
        }
      ]
    },
    {
      "cell_type": "code",
      "metadata": {
        "id": "Ad1NR4-NvPRb",
        "colab_type": "code",
        "colab": {
          "base_uri": "https://localhost:8080/",
          "height": 34
        },
        "outputId": "d7856c0b-6117-4c22-a441-5cfcb85e04a3"
      },
      "source": [
        "len(validation)"
      ],
      "execution_count": 425,
      "outputs": [
        {
          "output_type": "execute_result",
          "data": {
            "text/plain": [
              "10"
            ]
          },
          "metadata": {
            "tags": []
          },
          "execution_count": 425
        }
      ]
    },
    {
      "cell_type": "code",
      "metadata": {
        "id": "P6SlqbZwtIRQ",
        "colab_type": "code",
        "colab": {}
      },
      "source": [
        "# one-step out of sample forecast\n",
        "start_index = len(differenced)\n",
        "end_index = len(differenced)\n",
        "forecast = model_fit.predict(start=start_index, end=end_index)"
      ],
      "execution_count": 0,
      "outputs": []
    },
    {
      "cell_type": "code",
      "metadata": {
        "id": "Mh_SOXmbtPfo",
        "colab_type": "code",
        "outputId": "965da0a2-6d5c-4c72-b7e2-2a8dd2108055",
        "colab": {
          "base_uri": "https://localhost:8080/",
          "height": 34
        }
      },
      "source": [
        "from pandas import datetime\n",
        "# invert the differenced forecast to something usable\n",
        "forecast = inverse_difference(X, forecast, days_in_year)\n",
        "print('Forecast: %f' % forecast)"
      ],
      "execution_count": 427,
      "outputs": [
        {
          "output_type": "stream",
          "text": [
            "Forecast: 85771.094729\n"
          ],
          "name": "stdout"
        }
      ]
    },
    {
      "cell_type": "code",
      "metadata": {
        "id": "bZ5q-LBKtQo_",
        "colab_type": "code",
        "colab": {}
      },
      "source": [
        "# multi-step out-of-sample forecast\n",
        "num_steps = 10\n",
        "forecast = model_fit.forecast(steps=num_steps)[0]"
      ],
      "execution_count": 0,
      "outputs": []
    },
    {
      "cell_type": "code",
      "metadata": {
        "id": "NQ7ivJQ9tS92",
        "colab_type": "code",
        "outputId": "0e6f52ac-19f9-49ea-dfd8-6f2b0d95ad41",
        "colab": {
          "base_uri": "https://localhost:8080/",
          "height": 190
        }
      },
      "source": [
        "forecast_one_week_ahead = []\n",
        "history = [x for x in X]\n",
        "day = 1\n",
        "for yhat in forecast:\n",
        "\tinverted = inverse_difference(history, yhat, days_in_year)\n",
        "\tprint('Day %d: %f' % (day, inverted))\n",
        "\thistory.append(inverted)\n",
        "\tday += 1"
      ],
      "execution_count": 429,
      "outputs": [
        {
          "output_type": "stream",
          "text": [
            "Day 1: 85771.094729\n",
            "Day 2: 89495.019766\n",
            "Day 3: 93407.251220\n",
            "Day 4: 97067.539606\n",
            "Day 5: 100134.304754\n",
            "Day 6: 102955.519937\n",
            "Day 7: 105747.126035\n",
            "Day 8: 108271.406274\n",
            "Day 9: 110369.656892\n",
            "Day 10: 112261.517852\n"
          ],
          "name": "stdout"
        }
      ]
    },
    {
      "cell_type": "code",
      "metadata": {
        "id": "50Nr9sCHwLe3",
        "colab_type": "code",
        "colab": {}
      },
      "source": [
        "pd.DataFrame(history).to_csv(\"history.csv\")"
      ],
      "execution_count": 0,
      "outputs": []
    },
    {
      "cell_type": "code",
      "metadata": {
        "id": "WRptEyQgYCi-",
        "colab_type": "code",
        "colab": {
          "base_uri": "https://localhost:8080/",
          "height": 225
        },
        "outputId": "9e912cd8-65ed-40fd-f39e-0c63a3cc9dfc"
      },
      "source": [
        "validation[:num_steps]"
      ],
      "execution_count": 431,
      "outputs": [
        {
          "output_type": "execute_result",
          "data": {
            "text/plain": [
              "Date\n",
              "4/9/20      87028\n",
              "4/10/20     92384\n",
              "4/11/20     98308\n",
              "4/12/20    103208\n",
              "4/13/20    106763\n",
              "4/14/20    110465\n",
              "4/15/20    118302\n",
              "4/16/20    123146\n",
              "4/17/20    127352\n",
              "4/18/20    135572\n",
              "Name: Num of daily cases, dtype: int64"
            ]
          },
          "metadata": {
            "tags": []
          },
          "execution_count": 431
        }
      ]
    },
    {
      "cell_type": "code",
      "metadata": {
        "id": "uJ050X4kXv_v",
        "colab_type": "code",
        "colab": {
          "base_uri": "https://localhost:8080/",
          "height": 262
        },
        "outputId": "fbfcfb12-7f95-4ee2-f311-13286237828f"
      },
      "source": [
        "print(\"For the next {} days, from {} the values forecasted are: {}. \\nThe true values are:{} \".format(num_steps, dataset.index[-1], history[-num_steps:], validation[:num_steps]))"
      ],
      "execution_count": 432,
      "outputs": [
        {
          "output_type": "stream",
          "text": [
            "For the next 10 days, from 4/8/20 the values forecasted are: [85771.09472933489, 89495.01976560151, 93407.25122042082, 97067.53960558794, 100134.3047537031, 102955.51993689436, 105747.12603464875, 108271.40627377042, 110369.65689195148, 112261.51785234839]. \n",
            "The true values are:Date\n",
            "4/9/20      87028\n",
            "4/10/20     92384\n",
            "4/11/20     98308\n",
            "4/12/20    103208\n",
            "4/13/20    106763\n",
            "4/14/20    110465\n",
            "4/15/20    118302\n",
            "4/16/20    123146\n",
            "4/17/20    127352\n",
            "4/18/20    135572\n",
            "Name: Num of daily cases, dtype: int64 \n"
          ],
          "name": "stdout"
        }
      ]
    },
    {
      "cell_type": "code",
      "metadata": {
        "id": "XHpjkb8OtUP_",
        "colab_type": "code",
        "colab": {}
      },
      "source": [
        "import numpy as np\n",
        "history_np = np.array(history)"
      ],
      "execution_count": 0,
      "outputs": []
    },
    {
      "cell_type": "code",
      "metadata": {
        "id": "MKMnr7VxtkFk",
        "colab_type": "code",
        "outputId": "38eea55b-5238-4e73-eb06-148f22edae24",
        "colab": {
          "base_uri": "https://localhost:8080/",
          "height": 412
        }
      },
      "source": [
        "plt.figure(figsize = (10,6))\n",
        "\n",
        "plt.yscale(\"log\")\n",
        "plt.plot(list_of_dates, list(series)[-50:], label = 'original dataset' )\n",
        "plt.plot(list_of_dates[-10:], history[-10:], label = 'prediction' , ls = 'dashed')\n",
        "plt.xticks(x_ticks)\n",
        "plt.legend()\n",
        "\n",
        "plt.title(\"Num of daily COVID-19 cases in NYC\", fontsize = 18)\n"
      ],
      "execution_count": 473,
      "outputs": [
        {
          "output_type": "execute_result",
          "data": {
            "text/plain": [
              "Text(0.5, 1.0, 'Num of daily COVID-19 cases in NYC')"
            ]
          },
          "metadata": {
            "tags": []
          },
          "execution_count": 473
        },
        {
          "output_type": "display_data",
          "data": {
            "image/png": "[encoded data removed]",
            "text/plain": [
              "<Figure size 720x432 with 1 Axes>"
            ]
          },
          "metadata": {
            "tags": [],
            "needs_background": "light"
          }
        }
      ]
    },
    {
      "cell_type": "code",
      "metadata": {
        "id": "ALka9esu4AOs",
        "colab_type": "code",
        "colab": {}
      },
      "source": [
        "true_values = list(series)[-10:]"
      ],
      "execution_count": 0,
      "outputs": []
    },
    {
      "cell_type": "code",
      "metadata": {
        "id": "6OE9Imk34H_k",
        "colab_type": "code",
        "colab": {}
      },
      "source": [
        "predicted_values = list(history[-10:])"
      ],
      "execution_count": 0,
      "outputs": []
    },
    {
      "cell_type": "code",
      "metadata": {
        "id": "M9maPlHD4M06",
        "colab_type": "code",
        "colab": {}
      },
      "source": [
        "data = {'true_values': true_values, \n",
        "        'predicted_values': predicted_values}\n",
        "comparison = pd.DataFrame(data)"
      ],
      "execution_count": 0,
      "outputs": []
    },
    {
      "cell_type": "code",
      "metadata": {
        "id": "5ThM9qQc4nJJ",
        "colab_type": "code",
        "colab": {
          "base_uri": "https://localhost:8080/",
          "height": 356
        },
        "outputId": "8ebbb34b-0cf1-43fb-c0ef-eb94ef5e7eab"
      },
      "source": [
        "log_comparison = np.log10(comparison)\n",
        "log_comparison\n"
      ],
      "execution_count": 453,
      "outputs": [
        {
          "output_type": "execute_result",
          "data": {
            "text/html": [
              "<div>\n",
              "<style scoped>\n",
              "    .dataframe tbody tr th:only-of-type {\n",
              "        vertical-align: middle;\n",
              "    }\n",
              "\n",
              "    .dataframe tbody tr th {\n",
              "        vertical-align: top;\n",
              "    }\n",
              "\n",
              "    .dataframe thead th {\n",
              "        text-align: right;\n",
              "    }\n",
              "</style>\n",
              "<table border=\"1\" class=\"dataframe\">\n",
              "  <thead>\n",
              "    <tr style=\"text-align: right;\">\n",
              "      <th></th>\n",
              "      <th>true_values</th>\n",
              "      <th>predicted_values</th>\n",
              "    </tr>\n",
              "  </thead>\n",
              "  <tbody>\n",
              "    <tr>\n",
              "      <th>0</th>\n",
              "      <td>4.939659</td>\n",
              "      <td>4.933341</td>\n",
              "    </tr>\n",
              "    <tr>\n",
              "      <th>1</th>\n",
              "      <td>4.965597</td>\n",
              "      <td>4.951799</td>\n",
              "    </tr>\n",
              "    <tr>\n",
              "      <th>2</th>\n",
              "      <td>4.992589</td>\n",
              "      <td>4.970381</td>\n",
              "    </tr>\n",
              "    <tr>\n",
              "      <th>3</th>\n",
              "      <td>5.013713</td>\n",
              "      <td>4.987074</td>\n",
              "    </tr>\n",
              "    <tr>\n",
              "      <th>4</th>\n",
              "      <td>5.028421</td>\n",
              "      <td>5.000583</td>\n",
              "    </tr>\n",
              "    <tr>\n",
              "      <th>5</th>\n",
              "      <td>5.043225</td>\n",
              "      <td>5.012650</td>\n",
              "    </tr>\n",
              "    <tr>\n",
              "      <th>6</th>\n",
              "      <td>5.072992</td>\n",
              "      <td>5.024269</td>\n",
              "    </tr>\n",
              "    <tr>\n",
              "      <th>7</th>\n",
              "      <td>5.090420</td>\n",
              "      <td>5.034514</td>\n",
              "    </tr>\n",
              "    <tr>\n",
              "      <th>8</th>\n",
              "      <td>5.105006</td>\n",
              "      <td>5.042850</td>\n",
              "    </tr>\n",
              "    <tr>\n",
              "      <th>9</th>\n",
              "      <td>5.132170</td>\n",
              "      <td>5.050231</td>\n",
              "    </tr>\n",
              "  </tbody>\n",
              "</table>\n",
              "</div>"
            ],
            "text/plain": [
              "   true_values  predicted_values\n",
              "0     4.939659          4.933341\n",
              "1     4.965597          4.951799\n",
              "2     4.992589          4.970381\n",
              "3     5.013713          4.987074\n",
              "4     5.028421          5.000583\n",
              "5     5.043225          5.012650\n",
              "6     5.072992          5.024269\n",
              "7     5.090420          5.034514\n",
              "8     5.105006          5.042850\n",
              "9     5.132170          5.050231"
            ]
          },
          "metadata": {
            "tags": []
          },
          "execution_count": 453
        }
      ]
    },
    {
      "cell_type": "code",
      "metadata": {
        "id": "GlpY3GZT43xW",
        "colab_type": "code",
        "colab": {}
      },
      "source": [
        "log_comparison['error']= (log_comparison['true_values'] - log_comparison['predicted_values'])/log_comparison['true_values']"
      ],
      "execution_count": 0,
      "outputs": []
    },
    {
      "cell_type": "markdown",
      "metadata": {
        "id": "bjyP8zGs53RQ",
        "colab_type": "text"
      },
      "source": [
        "On the plot below we can see that the prediction error is very low even for far ahead values. \n",
        "\n",
        "Forecasting using ARIMA can be thought of as a random process modeled as a random walk, where variance increases with time. Since the error depends on the variance, it also increases linearly (parabolically) with time.\n",
        "\n",
        "The ARIMA model was trained on only 39 examples and it has been able to predict 10 days ahead with less than 2% error.   "
      ]
    },
    {
      "cell_type": "code",
      "metadata": {
        "id": "QIMjFVaX5JZc",
        "colab_type": "code",
        "colab": {
          "base_uri": "https://localhost:8080/",
          "height": 425
        },
        "outputId": "b6195550-f762-4f52-f899-5e5823ed7003"
      },
      "source": [
        "log_comparison['error']\n",
        "\n",
        "plt.figure(figsize = (10,6))\n",
        "\n",
        "plt.plot(list_of_dates[-10:], log_comparison['error'], label = 'original dataset' )\n",
        "plt.title(\"Error on out-of-sample forecasted values\", fontsize = 18)\n",
        "plt.ylabel(\"Percentage error\")\n",
        "plt.xlabel(\"Dates ahead\")\n",
        "\n",
        "plt.legend()\n"
      ],
      "execution_count": 480,
      "outputs": [
        {
          "output_type": "execute_result",
          "data": {
            "text/plain": [
              "<matplotlib.legend.Legend at 0x7f0dd6313dd8>"
            ]
          },
          "metadata": {
            "tags": []
          },
          "execution_count": 480
        },
        {
          "output_type": "display_data",
          "data": {
            "image/png": "[encoded data removed]",
            "text/plain": [
              "<Figure size 720x432 with 1 Axes>"
            ]
          },
          "metadata": {
            "tags": [],
            "needs_background": "light"
          }
        }
      ]
    },
    {
      "cell_type": "markdown",
      "metadata": {
        "id": "1AbusAXC7ZuT",
        "colab_type": "text"
      },
      "source": [
        "### **Twitter Sentiment Analysis**\n",
        "The following section performs sentiment analysis on Twitter data"
      ]
    },
    {
      "cell_type": "code",
      "metadata": {
        "id": "Z-AVNMVR9dz4",
        "colab_type": "code",
        "colab": {
          "base_uri": "https://localhost:8080/",
          "height": 146
        },
        "outputId": "e6365c2a-9283-49b7-a075-b1f754de646e"
      },
      "source": [
        "url = \"https://raw.githubusercontent.com/CSSEGISandData/COVID-19/master/csse_covid_19_data/csse_covid_19_time_series/time_series_covid19_confirmed_US.csv\"\n",
        "series = read_csv(url, header=0)\n",
        "series[series['Combined_Key'].str.match('New York')]"
      ],
      "execution_count": 492,
      "outputs": [
        {
          "output_type": "execute_result",
          "data": {
            "text/html": [
              "<div>\n",
              "<style scoped>\n",
              "    .dataframe tbody tr th:only-of-type {\n",
              "        vertical-align: middle;\n",
              "    }\n",
              "\n",
              "    .dataframe tbody tr th {\n",
              "        vertical-align: top;\n",
              "    }\n",
              "\n",
              "    .dataframe thead th {\n",
              "        text-align: right;\n",
              "    }\n",
              "</style>\n",
              "<table border=\"1\" class=\"dataframe\">\n",
              "  <thead>\n",
              "    <tr style=\"text-align: right;\">\n",
              "      <th></th>\n",
              "      <th>UID</th>\n",
              "      <th>iso2</th>\n",
              "      <th>iso3</th>\n",
              "      <th>code3</th>\n",
              "      <th>FIPS</th>\n",
              "      <th>Admin2</th>\n",
              "      <th>Province_State</th>\n",
              "      <th>Country_Region</th>\n",
              "      <th>Lat</th>\n",
              "      <th>Long_</th>\n",
              "      <th>Combined_Key</th>\n",
              "      <th>1/22/20</th>\n",
              "      <th>1/23/20</th>\n",
              "      <th>1/24/20</th>\n",
              "      <th>1/25/20</th>\n",
              "      <th>1/26/20</th>\n",
              "      <th>1/27/20</th>\n",
              "      <th>1/28/20</th>\n",
              "      <th>1/29/20</th>\n",
              "      <th>1/30/20</th>\n",
              "      <th>1/31/20</th>\n",
              "      <th>2/1/20</th>\n",
              "      <th>2/2/20</th>\n",
              "      <th>2/3/20</th>\n",
              "      <th>2/4/20</th>\n",
              "      <th>2/5/20</th>\n",
              "      <th>2/6/20</th>\n",
              "      <th>2/7/20</th>\n",
              "      <th>2/8/20</th>\n",
              "      <th>2/9/20</th>\n",
              "      <th>2/10/20</th>\n",
              "      <th>2/11/20</th>\n",
              "      <th>2/12/20</th>\n",
              "      <th>2/13/20</th>\n",
              "      <th>2/14/20</th>\n",
              "      <th>2/15/20</th>\n",
              "      <th>2/16/20</th>\n",
              "      <th>2/17/20</th>\n",
              "      <th>2/18/20</th>\n",
              "      <th>2/19/20</th>\n",
              "      <th>...</th>\n",
              "      <th>3/11/20</th>\n",
              "      <th>3/12/20</th>\n",
              "      <th>3/13/20</th>\n",
              "      <th>3/14/20</th>\n",
              "      <th>3/15/20</th>\n",
              "      <th>3/16/20</th>\n",
              "      <th>3/17/20</th>\n",
              "      <th>3/18/20</th>\n",
              "      <th>3/19/20</th>\n",
              "      <th>3/20/20</th>\n",
              "      <th>3/21/20</th>\n",
              "      <th>3/22/20</th>\n",
              "      <th>3/23/20</th>\n",
              "      <th>3/24/20</th>\n",
              "      <th>3/25/20</th>\n",
              "      <th>3/26/20</th>\n",
              "      <th>3/27/20</th>\n",
              "      <th>3/28/20</th>\n",
              "      <th>3/29/20</th>\n",
              "      <th>3/30/20</th>\n",
              "      <th>3/31/20</th>\n",
              "      <th>4/1/20</th>\n",
              "      <th>4/2/20</th>\n",
              "      <th>4/3/20</th>\n",
              "      <th>4/4/20</th>\n",
              "      <th>4/5/20</th>\n",
              "      <th>4/6/20</th>\n",
              "      <th>4/7/20</th>\n",
              "      <th>4/8/20</th>\n",
              "      <th>4/9/20</th>\n",
              "      <th>4/10/20</th>\n",
              "      <th>4/11/20</th>\n",
              "      <th>4/12/20</th>\n",
              "      <th>4/13/20</th>\n",
              "      <th>4/14/20</th>\n",
              "      <th>4/15/20</th>\n",
              "      <th>4/16/20</th>\n",
              "      <th>4/17/20</th>\n",
              "      <th>4/18/20</th>\n",
              "      <th>4/19/20</th>\n",
              "    </tr>\n",
              "  </thead>\n",
              "  <tbody>\n",
              "    <tr>\n",
              "      <th>1863</th>\n",
              "      <td>84036061</td>\n",
              "      <td>US</td>\n",
              "      <td>USA</td>\n",
              "      <td>840</td>\n",
              "      <td>36061.0</td>\n",
              "      <td>New York</td>\n",
              "      <td>New York</td>\n",
              "      <td>US</td>\n",
              "      <td>40.767273</td>\n",
              "      <td>-73.971526</td>\n",
              "      <td>New York City, New York, US</td>\n",
              "      <td>0</td>\n",
              "      <td>0</td>\n",
              "      <td>0</td>\n",
              "      <td>0</td>\n",
              "      <td>0</td>\n",
              "      <td>0</td>\n",
              "      <td>0</td>\n",
              "      <td>0</td>\n",
              "      <td>0</td>\n",
              "      <td>0</td>\n",
              "      <td>0</td>\n",
              "      <td>0</td>\n",
              "      <td>0</td>\n",
              "      <td>0</td>\n",
              "      <td>0</td>\n",
              "      <td>0</td>\n",
              "      <td>0</td>\n",
              "      <td>0</td>\n",
              "      <td>0</td>\n",
              "      <td>0</td>\n",
              "      <td>0</td>\n",
              "      <td>0</td>\n",
              "      <td>0</td>\n",
              "      <td>0</td>\n",
              "      <td>0</td>\n",
              "      <td>0</td>\n",
              "      <td>0</td>\n",
              "      <td>0</td>\n",
              "      <td>0</td>\n",
              "      <td>...</td>\n",
              "      <td>55</td>\n",
              "      <td>95</td>\n",
              "      <td>154</td>\n",
              "      <td>269</td>\n",
              "      <td>269</td>\n",
              "      <td>463</td>\n",
              "      <td>814</td>\n",
              "      <td>1871</td>\n",
              "      <td>3954</td>\n",
              "      <td>5151</td>\n",
              "      <td>7530</td>\n",
              "      <td>9654</td>\n",
              "      <td>12305</td>\n",
              "      <td>14904</td>\n",
              "      <td>17856</td>\n",
              "      <td>21873</td>\n",
              "      <td>25573</td>\n",
              "      <td>29776</td>\n",
              "      <td>33768</td>\n",
              "      <td>37453</td>\n",
              "      <td>43119</td>\n",
              "      <td>47439</td>\n",
              "      <td>51809</td>\n",
              "      <td>57159</td>\n",
              "      <td>63306</td>\n",
              "      <td>67551</td>\n",
              "      <td>72181</td>\n",
              "      <td>76876</td>\n",
              "      <td>81803</td>\n",
              "      <td>87028</td>\n",
              "      <td>92384</td>\n",
              "      <td>98308</td>\n",
              "      <td>103208</td>\n",
              "      <td>106763</td>\n",
              "      <td>110465</td>\n",
              "      <td>118302</td>\n",
              "      <td>123146</td>\n",
              "      <td>127352</td>\n",
              "      <td>135572</td>\n",
              "      <td>138700</td>\n",
              "    </tr>\n",
              "  </tbody>\n",
              "</table>\n",
              "<p>1 rows × 100 columns</p>\n",
              "</div>"
            ],
            "text/plain": [
              "           UID iso2 iso3  code3  ...  4/16/20 4/17/20 4/18/20 4/19/20\n",
              "1863  84036061   US  USA    840  ...   123146  127352  135572  138700\n",
              "\n",
              "[1 rows x 100 columns]"
            ]
          },
          "metadata": {
            "tags": []
          },
          "execution_count": 492
        }
      ]
    },
    {
      "cell_type": "code",
      "metadata": {
        "id": "ikboLvkgv9sw",
        "colab_type": "code",
        "colab": {}
      },
      "source": [
        "df = pd.DataFrame(series)\n",
        "df_ny = df.iloc[1863]\n",
        "df_ny = pd.DataFrame(df_ny)\n",
        "df_ny = df_ny.T"
      ],
      "execution_count": 0,
      "outputs": []
    },
    {
      "cell_type": "code",
      "metadata": {
        "id": "s8pMAnkO9sv9",
        "colab_type": "code",
        "colab": {
          "base_uri": "https://localhost:8080/",
          "height": 146
        },
        "outputId": "8539e643-3625-4426-9a54-771a2658afde"
      },
      "source": [
        "df_ny"
      ],
      "execution_count": 494,
      "outputs": [
        {
          "output_type": "execute_result",
          "data": {
            "text/html": [
              "<div>\n",
              "<style scoped>\n",
              "    .dataframe tbody tr th:only-of-type {\n",
              "        vertical-align: middle;\n",
              "    }\n",
              "\n",
              "    .dataframe tbody tr th {\n",
              "        vertical-align: top;\n",
              "    }\n",
              "\n",
              "    .dataframe thead th {\n",
              "        text-align: right;\n",
              "    }\n",
              "</style>\n",
              "<table border=\"1\" class=\"dataframe\">\n",
              "  <thead>\n",
              "    <tr style=\"text-align: right;\">\n",
              "      <th></th>\n",
              "      <th>UID</th>\n",
              "      <th>iso2</th>\n",
              "      <th>iso3</th>\n",
              "      <th>code3</th>\n",
              "      <th>FIPS</th>\n",
              "      <th>Admin2</th>\n",
              "      <th>Province_State</th>\n",
              "      <th>Country_Region</th>\n",
              "      <th>Lat</th>\n",
              "      <th>Long_</th>\n",
              "      <th>Combined_Key</th>\n",
              "      <th>1/22/20</th>\n",
              "      <th>1/23/20</th>\n",
              "      <th>1/24/20</th>\n",
              "      <th>1/25/20</th>\n",
              "      <th>1/26/20</th>\n",
              "      <th>1/27/20</th>\n",
              "      <th>1/28/20</th>\n",
              "      <th>1/29/20</th>\n",
              "      <th>1/30/20</th>\n",
              "      <th>1/31/20</th>\n",
              "      <th>2/1/20</th>\n",
              "      <th>2/2/20</th>\n",
              "      <th>2/3/20</th>\n",
              "      <th>2/4/20</th>\n",
              "      <th>2/5/20</th>\n",
              "      <th>2/6/20</th>\n",
              "      <th>2/7/20</th>\n",
              "      <th>2/8/20</th>\n",
              "      <th>2/9/20</th>\n",
              "      <th>2/10/20</th>\n",
              "      <th>2/11/20</th>\n",
              "      <th>2/12/20</th>\n",
              "      <th>2/13/20</th>\n",
              "      <th>2/14/20</th>\n",
              "      <th>2/15/20</th>\n",
              "      <th>2/16/20</th>\n",
              "      <th>2/17/20</th>\n",
              "      <th>2/18/20</th>\n",
              "      <th>2/19/20</th>\n",
              "      <th>...</th>\n",
              "      <th>3/11/20</th>\n",
              "      <th>3/12/20</th>\n",
              "      <th>3/13/20</th>\n",
              "      <th>3/14/20</th>\n",
              "      <th>3/15/20</th>\n",
              "      <th>3/16/20</th>\n",
              "      <th>3/17/20</th>\n",
              "      <th>3/18/20</th>\n",
              "      <th>3/19/20</th>\n",
              "      <th>3/20/20</th>\n",
              "      <th>3/21/20</th>\n",
              "      <th>3/22/20</th>\n",
              "      <th>3/23/20</th>\n",
              "      <th>3/24/20</th>\n",
              "      <th>3/25/20</th>\n",
              "      <th>3/26/20</th>\n",
              "      <th>3/27/20</th>\n",
              "      <th>3/28/20</th>\n",
              "      <th>3/29/20</th>\n",
              "      <th>3/30/20</th>\n",
              "      <th>3/31/20</th>\n",
              "      <th>4/1/20</th>\n",
              "      <th>4/2/20</th>\n",
              "      <th>4/3/20</th>\n",
              "      <th>4/4/20</th>\n",
              "      <th>4/5/20</th>\n",
              "      <th>4/6/20</th>\n",
              "      <th>4/7/20</th>\n",
              "      <th>4/8/20</th>\n",
              "      <th>4/9/20</th>\n",
              "      <th>4/10/20</th>\n",
              "      <th>4/11/20</th>\n",
              "      <th>4/12/20</th>\n",
              "      <th>4/13/20</th>\n",
              "      <th>4/14/20</th>\n",
              "      <th>4/15/20</th>\n",
              "      <th>4/16/20</th>\n",
              "      <th>4/17/20</th>\n",
              "      <th>4/18/20</th>\n",
              "      <th>4/19/20</th>\n",
              "    </tr>\n",
              "  </thead>\n",
              "  <tbody>\n",
              "    <tr>\n",
              "      <th>1863</th>\n",
              "      <td>84036061</td>\n",
              "      <td>US</td>\n",
              "      <td>USA</td>\n",
              "      <td>840</td>\n",
              "      <td>36061</td>\n",
              "      <td>New York</td>\n",
              "      <td>New York</td>\n",
              "      <td>US</td>\n",
              "      <td>40.7673</td>\n",
              "      <td>-73.9715</td>\n",
              "      <td>New York City, New York, US</td>\n",
              "      <td>0</td>\n",
              "      <td>0</td>\n",
              "      <td>0</td>\n",
              "      <td>0</td>\n",
              "      <td>0</td>\n",
              "      <td>0</td>\n",
              "      <td>0</td>\n",
              "      <td>0</td>\n",
              "      <td>0</td>\n",
              "      <td>0</td>\n",
              "      <td>0</td>\n",
              "      <td>0</td>\n",
              "      <td>0</td>\n",
              "      <td>0</td>\n",
              "      <td>0</td>\n",
              "      <td>0</td>\n",
              "      <td>0</td>\n",
              "      <td>0</td>\n",
              "      <td>0</td>\n",
              "      <td>0</td>\n",
              "      <td>0</td>\n",
              "      <td>0</td>\n",
              "      <td>0</td>\n",
              "      <td>0</td>\n",
              "      <td>0</td>\n",
              "      <td>0</td>\n",
              "      <td>0</td>\n",
              "      <td>0</td>\n",
              "      <td>0</td>\n",
              "      <td>...</td>\n",
              "      <td>55</td>\n",
              "      <td>95</td>\n",
              "      <td>154</td>\n",
              "      <td>269</td>\n",
              "      <td>269</td>\n",
              "      <td>463</td>\n",
              "      <td>814</td>\n",
              "      <td>1871</td>\n",
              "      <td>3954</td>\n",
              "      <td>5151</td>\n",
              "      <td>7530</td>\n",
              "      <td>9654</td>\n",
              "      <td>12305</td>\n",
              "      <td>14904</td>\n",
              "      <td>17856</td>\n",
              "      <td>21873</td>\n",
              "      <td>25573</td>\n",
              "      <td>29776</td>\n",
              "      <td>33768</td>\n",
              "      <td>37453</td>\n",
              "      <td>43119</td>\n",
              "      <td>47439</td>\n",
              "      <td>51809</td>\n",
              "      <td>57159</td>\n",
              "      <td>63306</td>\n",
              "      <td>67551</td>\n",
              "      <td>72181</td>\n",
              "      <td>76876</td>\n",
              "      <td>81803</td>\n",
              "      <td>87028</td>\n",
              "      <td>92384</td>\n",
              "      <td>98308</td>\n",
              "      <td>103208</td>\n",
              "      <td>106763</td>\n",
              "      <td>110465</td>\n",
              "      <td>118302</td>\n",
              "      <td>123146</td>\n",
              "      <td>127352</td>\n",
              "      <td>135572</td>\n",
              "      <td>138700</td>\n",
              "    </tr>\n",
              "  </tbody>\n",
              "</table>\n",
              "<p>1 rows × 100 columns</p>\n",
              "</div>"
            ],
            "text/plain": [
              "           UID iso2 iso3 code3   FIPS  ... 4/15/20 4/16/20 4/17/20 4/18/20 4/19/20\n",
              "1863  84036061   US  USA   840  36061  ...  118302  123146  127352  135572  138700\n",
              "\n",
              "[1 rows x 100 columns]"
            ]
          },
          "metadata": {
            "tags": []
          },
          "execution_count": 494
        }
      ]
    },
    {
      "cell_type": "code",
      "metadata": {
        "id": "dKZ-ZyVw9hsz",
        "colab_type": "code",
        "colab": {
          "base_uri": "https://localhost:8080/",
          "height": 846
        },
        "outputId": "0a0d6af9-6fe6-40b6-a5e8-6d2f23e808a2"
      },
      "source": [
        "cols = list(df_ny.columns)\n",
        "df_ny = df_ny[cols[10:]]\n",
        "df_ny = df_ny[['Combined_Key','3/4/20',\n",
        "       '3/5/20', '3/6/20', '3/7/20', '3/8/20', '3/9/20', '3/10/20', '3/11/20',\n",
        "       '3/12/20', '3/13/20', '3/14/20', '3/15/20', '3/16/20', '3/17/20',\n",
        "       '3/18/20', '3/19/20', '3/20/20', '3/21/20', '3/22/20', '3/23/20',\n",
        "       '3/24/20', '3/25/20', '3/26/20', '3/27/20', '3/28/20']]\n",
        "df_ny = df_ny.T\n",
        "df_ny.head()"
      ],
      "execution_count": 496,
      "outputs": [
        {
          "output_type": "execute_result",
          "data": {
            "text/html": [
              "<div>\n",
              "<style scoped>\n",
              "    .dataframe tbody tr th:only-of-type {\n",
              "        vertical-align: middle;\n",
              "    }\n",
              "\n",
              "    .dataframe tbody tr th {\n",
              "        vertical-align: top;\n",
              "    }\n",
              "\n",
              "    .dataframe thead th {\n",
              "        text-align: right;\n",
              "    }\n",
              "</style>\n",
              "<table border=\"1\" class=\"dataframe\">\n",
              "  <thead>\n",
              "    <tr style=\"text-align: right;\">\n",
              "      <th></th>\n",
              "      <th>1863</th>\n",
              "    </tr>\n",
              "  </thead>\n",
              "  <tbody>\n",
              "    <tr>\n",
              "      <th>Combined_Key</th>\n",
              "      <td>New York City, New York, US</td>\n",
              "    </tr>\n",
              "    <tr>\n",
              "      <th>3/4/20</th>\n",
              "      <td>1</td>\n",
              "    </tr>\n",
              "    <tr>\n",
              "      <th>3/5/20</th>\n",
              "      <td>4</td>\n",
              "    </tr>\n",
              "    <tr>\n",
              "      <th>3/6/20</th>\n",
              "      <td>11</td>\n",
              "    </tr>\n",
              "    <tr>\n",
              "      <th>3/7/20</th>\n",
              "      <td>11</td>\n",
              "    </tr>\n",
              "    <tr>\n",
              "      <th>3/8/20</th>\n",
              "      <td>12</td>\n",
              "    </tr>\n",
              "    <tr>\n",
              "      <th>3/9/20</th>\n",
              "      <td>19</td>\n",
              "    </tr>\n",
              "    <tr>\n",
              "      <th>3/10/20</th>\n",
              "      <td>25</td>\n",
              "    </tr>\n",
              "    <tr>\n",
              "      <th>3/11/20</th>\n",
              "      <td>55</td>\n",
              "    </tr>\n",
              "    <tr>\n",
              "      <th>3/12/20</th>\n",
              "      <td>95</td>\n",
              "    </tr>\n",
              "    <tr>\n",
              "      <th>3/13/20</th>\n",
              "      <td>154</td>\n",
              "    </tr>\n",
              "    <tr>\n",
              "      <th>3/14/20</th>\n",
              "      <td>269</td>\n",
              "    </tr>\n",
              "    <tr>\n",
              "      <th>3/15/20</th>\n",
              "      <td>269</td>\n",
              "    </tr>\n",
              "    <tr>\n",
              "      <th>3/16/20</th>\n",
              "      <td>463</td>\n",
              "    </tr>\n",
              "    <tr>\n",
              "      <th>3/17/20</th>\n",
              "      <td>814</td>\n",
              "    </tr>\n",
              "    <tr>\n",
              "      <th>3/18/20</th>\n",
              "      <td>1871</td>\n",
              "    </tr>\n",
              "    <tr>\n",
              "      <th>3/19/20</th>\n",
              "      <td>3954</td>\n",
              "    </tr>\n",
              "    <tr>\n",
              "      <th>3/20/20</th>\n",
              "      <td>5151</td>\n",
              "    </tr>\n",
              "    <tr>\n",
              "      <th>3/21/20</th>\n",
              "      <td>7530</td>\n",
              "    </tr>\n",
              "    <tr>\n",
              "      <th>3/22/20</th>\n",
              "      <td>9654</td>\n",
              "    </tr>\n",
              "    <tr>\n",
              "      <th>3/23/20</th>\n",
              "      <td>12305</td>\n",
              "    </tr>\n",
              "    <tr>\n",
              "      <th>3/24/20</th>\n",
              "      <td>14904</td>\n",
              "    </tr>\n",
              "    <tr>\n",
              "      <th>3/25/20</th>\n",
              "      <td>17856</td>\n",
              "    </tr>\n",
              "    <tr>\n",
              "      <th>3/26/20</th>\n",
              "      <td>21873</td>\n",
              "    </tr>\n",
              "    <tr>\n",
              "      <th>3/27/20</th>\n",
              "      <td>25573</td>\n",
              "    </tr>\n",
              "    <tr>\n",
              "      <th>3/28/20</th>\n",
              "      <td>29776</td>\n",
              "    </tr>\n",
              "  </tbody>\n",
              "</table>\n",
              "</div>"
            ],
            "text/plain": [
              "                                     1863\n",
              "Combined_Key  New York City, New York, US\n",
              "3/4/20                                  1\n",
              "3/5/20                                  4\n",
              "3/6/20                                 11\n",
              "3/7/20                                 11\n",
              "3/8/20                                 12\n",
              "3/9/20                                 19\n",
              "3/10/20                                25\n",
              "3/11/20                                55\n",
              "3/12/20                                95\n",
              "3/13/20                               154\n",
              "3/14/20                               269\n",
              "3/15/20                               269\n",
              "3/16/20                               463\n",
              "3/17/20                               814\n",
              "3/18/20                              1871\n",
              "3/19/20                              3954\n",
              "3/20/20                              5151\n",
              "3/21/20                              7530\n",
              "3/22/20                              9654\n",
              "3/23/20                             12305\n",
              "3/24/20                             14904\n",
              "3/25/20                             17856\n",
              "3/26/20                             21873\n",
              "3/27/20                             25573\n",
              "3/28/20                             29776"
            ]
          },
          "metadata": {
            "tags": []
          },
          "execution_count": 496
        }
      ]
    },
    {
      "cell_type": "code",
      "metadata": {
        "id": "OAt-e3gV9i0l",
        "colab_type": "code",
        "colab": {
          "base_uri": "https://localhost:8080/",
          "height": 450
        },
        "outputId": "46a51c8c-6cf8-4880-a871-6a09a5386f1d"
      },
      "source": [
        "import datetime\n",
        "base = datetime.datetime(2020, 3, 28)\n",
        "date_list = [base - datetime.timedelta(days=x) for x in range(25)]\n",
        "\n",
        "list_of_dates =  []\n",
        "for i in range(0, len(date_list)):\n",
        "  list_of_dates.append(date_list[i].strftime(\"%Y-%m-%d\"))\n",
        "\n",
        "list_of_dates.reverse()\n",
        "list_of_dates"
      ],
      "execution_count": 497,
      "outputs": [
        {
          "output_type": "execute_result",
          "data": {
            "text/plain": [
              "['2020-03-04',\n",
              " '2020-03-05',\n",
              " '2020-03-06',\n",
              " '2020-03-07',\n",
              " '2020-03-08',\n",
              " '2020-03-09',\n",
              " '2020-03-10',\n",
              " '2020-03-11',\n",
              " '2020-03-12',\n",
              " '2020-03-13',\n",
              " '2020-03-14',\n",
              " '2020-03-15',\n",
              " '2020-03-16',\n",
              " '2020-03-17',\n",
              " '2020-03-18',\n",
              " '2020-03-19',\n",
              " '2020-03-20',\n",
              " '2020-03-21',\n",
              " '2020-03-22',\n",
              " '2020-03-23',\n",
              " '2020-03-24',\n",
              " '2020-03-25',\n",
              " '2020-03-26',\n",
              " '2020-03-27',\n",
              " '2020-03-28']"
            ]
          },
          "metadata": {
            "tags": []
          },
          "execution_count": 497
        }
      ]
    },
    {
      "cell_type": "code",
      "metadata": {
        "id": "bjk7JoxN948B",
        "colab_type": "code",
        "colab": {}
      },
      "source": [
        "list_of_lists = df_ny.iloc[1:].values\n",
        "flattened_values  = [val for sublist in list_of_lists for val in sublist]"
      ],
      "execution_count": 0,
      "outputs": []
    },
    {
      "cell_type": "code",
      "metadata": {
        "id": "ldO7yJBm-DlA",
        "colab_type": "code",
        "colab": {
          "base_uri": "https://localhost:8080/",
          "height": 34
        },
        "outputId": "ec60c6f1-29f7-42f6-ba26-c74895cb0503"
      },
      "source": [
        "len(flattened_values)"
      ],
      "execution_count": 499,
      "outputs": [
        {
          "output_type": "execute_result",
          "data": {
            "text/plain": [
              "25"
            ]
          },
          "metadata": {
            "tags": []
          },
          "execution_count": 499
        }
      ]
    },
    {
      "cell_type": "code",
      "metadata": {
        "id": "JTlzxO39-Ef5",
        "colab_type": "code",
        "colab": {
          "base_uri": "https://localhost:8080/",
          "height": 34
        },
        "outputId": "78837b9d-6815-4e7d-ec65-ecf8e342e134"
      },
      "source": [
        "len(list_of_dates)"
      ],
      "execution_count": 500,
      "outputs": [
        {
          "output_type": "execute_result",
          "data": {
            "text/plain": [
              "25"
            ]
          },
          "metadata": {
            "tags": []
          },
          "execution_count": 500
        }
      ]
    },
    {
      "cell_type": "code",
      "metadata": {
        "id": "PBDVUBSc-FYQ",
        "colab_type": "code",
        "colab": {}
      },
      "source": [
        "d = {'date': list_of_dates, 'Num of Cases in NY': flattened_values}"
      ],
      "execution_count": 0,
      "outputs": []
    },
    {
      "cell_type": "code",
      "metadata": {
        "id": "nhPVKLAX-Gan",
        "colab_type": "code",
        "colab": {}
      },
      "source": [
        "df = pd.DataFrame(data=d)"
      ],
      "execution_count": 0,
      "outputs": []
    },
    {
      "cell_type": "markdown",
      "metadata": {
        "id": "70Vu7Pxs-J1r",
        "colab_type": "text"
      },
      "source": [
        "### Getting the Twitter data"
      ]
    },
    {
      "cell_type": "code",
      "metadata": {
        "id": "jPLmntH1-HT4",
        "colab_type": "code",
        "colab": {
          "base_uri": "https://localhost:8080/",
          "height": 413
        },
        "outputId": "7e97ae2e-6655-4140-8ffe-10a59245d9ac"
      },
      "source": [
        "url = \"https://raw.githubusercontent.com/armandordorica/Twitter_Sentiment_Analysis/master/raw_data/ny_covid_twitter_data.csv\"\n",
        "from pandas import read_csv\n",
        "twitter_df = read_csv(url, header=0)\n",
        "twitter_df.head()"
      ],
      "execution_count": 505,
      "outputs": [
        {
          "output_type": "execute_result",
          "data": {
            "text/html": [
              "<div>\n",
              "<style scoped>\n",
              "    .dataframe tbody tr th:only-of-type {\n",
              "        vertical-align: middle;\n",
              "    }\n",
              "\n",
              "    .dataframe tbody tr th {\n",
              "        vertical-align: top;\n",
              "    }\n",
              "\n",
              "    .dataframe thead th {\n",
              "        text-align: right;\n",
              "    }\n",
              "</style>\n",
              "<table border=\"1\" class=\"dataframe\">\n",
              "  <thead>\n",
              "    <tr style=\"text-align: right;\">\n",
              "      <th></th>\n",
              "      <th>Unnamed: 0</th>\n",
              "      <th>created_at</th>\n",
              "      <th>text</th>\n",
              "      <th>source</th>\n",
              "      <th>is_quote</th>\n",
              "      <th>is_retweet</th>\n",
              "      <th>favourites_count</th>\n",
              "      <th>retweet_count</th>\n",
              "      <th>place_full_name</th>\n",
              "      <th>place_type</th>\n",
              "      <th>followers_count</th>\n",
              "      <th>friends_count</th>\n",
              "      <th>account_created_at</th>\n",
              "    </tr>\n",
              "  </thead>\n",
              "  <tbody>\n",
              "    <tr>\n",
              "      <th>0</th>\n",
              "      <td>48</td>\n",
              "      <td>2020-03-04T11:22:46Z</td>\n",
              "      <td>Can  &amp;amp;  focus on tackling potential Corona...</td>\n",
              "      <td>Twitter for iPhone</td>\n",
              "      <td>False</td>\n",
              "      <td>False</td>\n",
              "      <td>25462.0</td>\n",
              "      <td>0.0</td>\n",
              "      <td>Queens, NY</td>\n",
              "      <td>city</td>\n",
              "      <td>12378.0</td>\n",
              "      <td>13567.0</td>\n",
              "      <td>2009-01-21T21:17:54Z</td>\n",
              "    </tr>\n",
              "    <tr>\n",
              "      <th>1</th>\n",
              "      <td>1111</td>\n",
              "      <td>2020-03-04T13:46:00Z</td>\n",
              "      <td>(3/3) \\n🧳 Self-evaluation of inherent bias/rac...</td>\n",
              "      <td>Twitter for iPhone</td>\n",
              "      <td>False</td>\n",
              "      <td>False</td>\n",
              "      <td>6366.0</td>\n",
              "      <td>0.0</td>\n",
              "      <td>Manhattan, NY</td>\n",
              "      <td>city</td>\n",
              "      <td>656.0</td>\n",
              "      <td>829.0</td>\n",
              "      <td>2017-12-03T21:45:57Z</td>\n",
              "    </tr>\n",
              "    <tr>\n",
              "      <th>2</th>\n",
              "      <td>1701</td>\n",
              "      <td>2020-03-04T14:39:30Z</td>\n",
              "      <td>Sensible feedback on the CoronavirusOutbreak</td>\n",
              "      <td>Twitter for iPhone</td>\n",
              "      <td>True</td>\n",
              "      <td>False</td>\n",
              "      <td>1623.0</td>\n",
              "      <td>0.0</td>\n",
              "      <td>Manhattan, NY</td>\n",
              "      <td>city</td>\n",
              "      <td>248.0</td>\n",
              "      <td>1309.0</td>\n",
              "      <td>2018-02-06T22:46:58Z</td>\n",
              "    </tr>\n",
              "    <tr>\n",
              "      <th>3</th>\n",
              "      <td>1737</td>\n",
              "      <td>2020-03-04T14:41:57Z</td>\n",
              "      <td>Bill Gates tried to warn us 4 years ago about ...</td>\n",
              "      <td>Twitter for Android</td>\n",
              "      <td>False</td>\n",
              "      <td>False</td>\n",
              "      <td>39912.0</td>\n",
              "      <td>0.0</td>\n",
              "      <td>Brooklyn, NY</td>\n",
              "      <td>city</td>\n",
              "      <td>1511.0</td>\n",
              "      <td>2619.0</td>\n",
              "      <td>2009-06-19T20:33:46Z</td>\n",
              "    </tr>\n",
              "    <tr>\n",
              "      <th>4</th>\n",
              "      <td>2344</td>\n",
              "      <td>2020-03-04T15:44:59Z</td>\n",
              "      <td>👀😁CoronavirusOutbreak</td>\n",
              "      <td>Twitter for iPhone</td>\n",
              "      <td>False</td>\n",
              "      <td>False</td>\n",
              "      <td>41637.0</td>\n",
              "      <td>0.0</td>\n",
              "      <td>New York, NY</td>\n",
              "      <td>admin</td>\n",
              "      <td>358.0</td>\n",
              "      <td>563.0</td>\n",
              "      <td>2019-05-08T11:02:45Z</td>\n",
              "    </tr>\n",
              "  </tbody>\n",
              "</table>\n",
              "</div>"
            ],
            "text/plain": [
              "   Unnamed: 0            created_at  ... friends_count    account_created_at\n",
              "0          48  2020-03-04T11:22:46Z  ...       13567.0  2009-01-21T21:17:54Z\n",
              "1        1111  2020-03-04T13:46:00Z  ...         829.0  2017-12-03T21:45:57Z\n",
              "2        1701  2020-03-04T14:39:30Z  ...        1309.0  2018-02-06T22:46:58Z\n",
              "3        1737  2020-03-04T14:41:57Z  ...        2619.0  2009-06-19T20:33:46Z\n",
              "4        2344  2020-03-04T15:44:59Z  ...         563.0  2019-05-08T11:02:45Z\n",
              "\n",
              "[5 rows x 13 columns]"
            ]
          },
          "metadata": {
            "tags": []
          },
          "execution_count": 505
        }
      ]
    },
    {
      "cell_type": "code",
      "metadata": {
        "id": "R94Uhbc5AVZh",
        "colab_type": "code",
        "colab": {}
      },
      "source": [
        "df_ny = twitter_df"
      ],
      "execution_count": 0,
      "outputs": []
    },
    {
      "cell_type": "code",
      "metadata": {
        "id": "0b40Rcl0ANTu",
        "colab_type": "code",
        "colab": {}
      },
      "source": [
        "from textblob import TextBlob\n",
        "\n",
        "# Create a function to get the subjectivity\n",
        "def getSubjectivity(text):\n",
        "    return TextBlob(text).sentiment.subjectivity\n",
        "\n",
        "# Create a function to get the polarity\n",
        "def getPolarity(text):\n",
        "    return  TextBlob(text).sentiment.polarity"
      ],
      "execution_count": 0,
      "outputs": []
    },
    {
      "cell_type": "code",
      "metadata": {
        "id": "u7JHZyUNAaU0",
        "colab_type": "code",
        "colab": {
          "base_uri": "https://localhost:8080/",
          "height": 34
        },
        "outputId": "83ade1af-7a5c-457c-ecaf-92d85b79c46d"
      },
      "source": [
        "getSubjectivity(df_ny['text'][0])"
      ],
      "execution_count": 515,
      "outputs": [
        {
          "output_type": "execute_result",
          "data": {
            "text/plain": [
              "0.65"
            ]
          },
          "metadata": {
            "tags": []
          },
          "execution_count": 515
        }
      ]
    },
    {
      "cell_type": "code",
      "metadata": {
        "id": "j5uQ_bEnAuLO",
        "colab_type": "code",
        "colab": {
          "base_uri": "https://localhost:8080/",
          "height": 800
        },
        "outputId": "7e5db567-d58a-4e38-e194-6424a179e627"
      },
      "source": [
        "df_ny.dropna(subset=['text'])"
      ],
      "execution_count": 517,
      "outputs": [
        {
          "output_type": "execute_result",
          "data": {
            "text/html": [
              "<div>\n",
              "<style scoped>\n",
              "    .dataframe tbody tr th:only-of-type {\n",
              "        vertical-align: middle;\n",
              "    }\n",
              "\n",
              "    .dataframe tbody tr th {\n",
              "        vertical-align: top;\n",
              "    }\n",
              "\n",
              "    .dataframe thead th {\n",
              "        text-align: right;\n",
              "    }\n",
              "</style>\n",
              "<table border=\"1\" class=\"dataframe\">\n",
              "  <thead>\n",
              "    <tr style=\"text-align: right;\">\n",
              "      <th></th>\n",
              "      <th>Unnamed: 0</th>\n",
              "      <th>created_at</th>\n",
              "      <th>text</th>\n",
              "      <th>source</th>\n",
              "      <th>is_quote</th>\n",
              "      <th>is_retweet</th>\n",
              "      <th>favourites_count</th>\n",
              "      <th>retweet_count</th>\n",
              "      <th>place_full_name</th>\n",
              "      <th>place_type</th>\n",
              "      <th>followers_count</th>\n",
              "      <th>friends_count</th>\n",
              "      <th>account_created_at</th>\n",
              "    </tr>\n",
              "  </thead>\n",
              "  <tbody>\n",
              "    <tr>\n",
              "      <th>0</th>\n",
              "      <td>48</td>\n",
              "      <td>2020-03-04T11:22:46Z</td>\n",
              "      <td>Can  &amp;amp;  focus on tackling potential Corona...</td>\n",
              "      <td>Twitter for iPhone</td>\n",
              "      <td>False</td>\n",
              "      <td>False</td>\n",
              "      <td>25462.0</td>\n",
              "      <td>0.0</td>\n",
              "      <td>Queens, NY</td>\n",
              "      <td>city</td>\n",
              "      <td>12378.0</td>\n",
              "      <td>13567.0</td>\n",
              "      <td>2009-01-21T21:17:54Z</td>\n",
              "    </tr>\n",
              "    <tr>\n",
              "      <th>1</th>\n",
              "      <td>1111</td>\n",
              "      <td>2020-03-04T13:46:00Z</td>\n",
              "      <td>(3/3) \\n🧳 Self-evaluation of inherent bias/rac...</td>\n",
              "      <td>Twitter for iPhone</td>\n",
              "      <td>False</td>\n",
              "      <td>False</td>\n",
              "      <td>6366.0</td>\n",
              "      <td>0.0</td>\n",
              "      <td>Manhattan, NY</td>\n",
              "      <td>city</td>\n",
              "      <td>656.0</td>\n",
              "      <td>829.0</td>\n",
              "      <td>2017-12-03T21:45:57Z</td>\n",
              "    </tr>\n",
              "    <tr>\n",
              "      <th>2</th>\n",
              "      <td>1701</td>\n",
              "      <td>2020-03-04T14:39:30Z</td>\n",
              "      <td>Sensible feedback on the CoronavirusOutbreak</td>\n",
              "      <td>Twitter for iPhone</td>\n",
              "      <td>True</td>\n",
              "      <td>False</td>\n",
              "      <td>1623.0</td>\n",
              "      <td>0.0</td>\n",
              "      <td>Manhattan, NY</td>\n",
              "      <td>city</td>\n",
              "      <td>248.0</td>\n",
              "      <td>1309.0</td>\n",
              "      <td>2018-02-06T22:46:58Z</td>\n",
              "    </tr>\n",
              "    <tr>\n",
              "      <th>3</th>\n",
              "      <td>1737</td>\n",
              "      <td>2020-03-04T14:41:57Z</td>\n",
              "      <td>Bill Gates tried to warn us 4 years ago about ...</td>\n",
              "      <td>Twitter for Android</td>\n",
              "      <td>False</td>\n",
              "      <td>False</td>\n",
              "      <td>39912.0</td>\n",
              "      <td>0.0</td>\n",
              "      <td>Brooklyn, NY</td>\n",
              "      <td>city</td>\n",
              "      <td>1511.0</td>\n",
              "      <td>2619.0</td>\n",
              "      <td>2009-06-19T20:33:46Z</td>\n",
              "    </tr>\n",
              "    <tr>\n",
              "      <th>4</th>\n",
              "      <td>2344</td>\n",
              "      <td>2020-03-04T15:44:59Z</td>\n",
              "      <td>👀😁CoronavirusOutbreak</td>\n",
              "      <td>Twitter for iPhone</td>\n",
              "      <td>False</td>\n",
              "      <td>False</td>\n",
              "      <td>41637.0</td>\n",
              "      <td>0.0</td>\n",
              "      <td>New York, NY</td>\n",
              "      <td>admin</td>\n",
              "      <td>358.0</td>\n",
              "      <td>563.0</td>\n",
              "      <td>2019-05-08T11:02:45Z</td>\n",
              "    </tr>\n",
              "    <tr>\n",
              "      <th>...</th>\n",
              "      <td>...</td>\n",
              "      <td>...</td>\n",
              "      <td>...</td>\n",
              "      <td>...</td>\n",
              "      <td>...</td>\n",
              "      <td>...</td>\n",
              "      <td>...</td>\n",
              "      <td>...</td>\n",
              "      <td>...</td>\n",
              "      <td>...</td>\n",
              "      <td>...</td>\n",
              "      <td>...</td>\n",
              "      <td>...</td>\n",
              "    </tr>\n",
              "    <tr>\n",
              "      <th>20687</th>\n",
              "      <td>15443927</td>\n",
              "      <td>2020-03-25T23:13:33Z</td>\n",
              "      <td>Takeout in the age of coronavirus:\\n\\nStep 1: ...</td>\n",
              "      <td>Twitter for iPhone</td>\n",
              "      <td>False</td>\n",
              "      <td>False</td>\n",
              "      <td>20.0</td>\n",
              "      <td>0.0</td>\n",
              "      <td>New York, NY</td>\n",
              "      <td>admin</td>\n",
              "      <td>3.0</td>\n",
              "      <td>11.0</td>\n",
              "      <td>2020-03-07T05:35:22Z</td>\n",
              "    </tr>\n",
              "    <tr>\n",
              "      <th>20688</th>\n",
              "      <td>15447672</td>\n",
              "      <td>2020-03-25T23:22:18Z</td>\n",
              "      <td>JOIN US LIVE: We might be isolated and SocialD...</td>\n",
              "      <td>Twitter for Android</td>\n",
              "      <td>False</td>\n",
              "      <td>False</td>\n",
              "      <td>850.0</td>\n",
              "      <td>2.0</td>\n",
              "      <td>New York, NY</td>\n",
              "      <td>admin</td>\n",
              "      <td>1243.0</td>\n",
              "      <td>954.0</td>\n",
              "      <td>2008-12-12T16:25:35Z</td>\n",
              "    </tr>\n",
              "    <tr>\n",
              "      <th>20689</th>\n",
              "      <td>15453231</td>\n",
              "      <td>2020-03-25T23:34:43Z</td>\n",
              "      <td>COVID19</td>\n",
              "      <td>Twitter for iPhone</td>\n",
              "      <td>False</td>\n",
              "      <td>False</td>\n",
              "      <td>17646.0</td>\n",
              "      <td>0.0</td>\n",
              "      <td>New York, USA</td>\n",
              "      <td>admin</td>\n",
              "      <td>1312.0</td>\n",
              "      <td>2165.0</td>\n",
              "      <td>2008-10-27T19:40:19Z</td>\n",
              "    </tr>\n",
              "    <tr>\n",
              "      <th>20690</th>\n",
              "      <td>15453397</td>\n",
              "      <td>2020-03-25T23:35:05Z</td>\n",
              "      <td>Missing the Broadcast Center, missing the  tea...</td>\n",
              "      <td>Twitter for Android</td>\n",
              "      <td>False</td>\n",
              "      <td>False</td>\n",
              "      <td>294926.0</td>\n",
              "      <td>0.0</td>\n",
              "      <td>New York, NY</td>\n",
              "      <td>admin</td>\n",
              "      <td>1394.0</td>\n",
              "      <td>1369.0</td>\n",
              "      <td>2010-09-12T17:17:03Z</td>\n",
              "    </tr>\n",
              "    <tr>\n",
              "      <th>20691</th>\n",
              "      <td>15456638</td>\n",
              "      <td>2020-03-25T23:42:09Z</td>\n",
              "      <td>13 Deaths in a Day: An ‘Apocalyptic’ Coronavir...</td>\n",
              "      <td>Twitter for Android</td>\n",
              "      <td>False</td>\n",
              "      <td>False</td>\n",
              "      <td>82460.0</td>\n",
              "      <td>0.0</td>\n",
              "      <td>New York, USA</td>\n",
              "      <td>admin</td>\n",
              "      <td>7426.0</td>\n",
              "      <td>7566.0</td>\n",
              "      <td>2015-12-03T22:59:35Z</td>\n",
              "    </tr>\n",
              "  </tbody>\n",
              "</table>\n",
              "<p>19478 rows × 13 columns</p>\n",
              "</div>"
            ],
            "text/plain": [
              "       Unnamed: 0            created_at  ... friends_count    account_created_at\n",
              "0              48  2020-03-04T11:22:46Z  ...       13567.0  2009-01-21T21:17:54Z\n",
              "1            1111  2020-03-04T13:46:00Z  ...         829.0  2017-12-03T21:45:57Z\n",
              "2            1701  2020-03-04T14:39:30Z  ...        1309.0  2018-02-06T22:46:58Z\n",
              "3            1737  2020-03-04T14:41:57Z  ...        2619.0  2009-06-19T20:33:46Z\n",
              "4            2344  2020-03-04T15:44:59Z  ...         563.0  2019-05-08T11:02:45Z\n",
              "...           ...                   ...  ...           ...                   ...\n",
              "20687    15443927  2020-03-25T23:13:33Z  ...          11.0  2020-03-07T05:35:22Z\n",
              "20688    15447672  2020-03-25T23:22:18Z  ...         954.0  2008-12-12T16:25:35Z\n",
              "20689    15453231  2020-03-25T23:34:43Z  ...        2165.0  2008-10-27T19:40:19Z\n",
              "20690    15453397  2020-03-25T23:35:05Z  ...        1369.0  2010-09-12T17:17:03Z\n",
              "20691    15456638  2020-03-25T23:42:09Z  ...        7566.0  2015-12-03T22:59:35Z\n",
              "\n",
              "[19478 rows x 13 columns]"
            ]
          },
          "metadata": {
            "tags": []
          },
          "execution_count": 517
        }
      ]
    },
    {
      "cell_type": "code",
      "metadata": {
        "id": "LUmX8wL9BZFa",
        "colab_type": "code",
        "colab": {}
      },
      "source": [
        "df_ny= df_ny.dropna(subset=['text'])\n"
      ],
      "execution_count": 0,
      "outputs": []
    },
    {
      "cell_type": "code",
      "metadata": {
        "id": "cPVAj4K0-NMg",
        "colab_type": "code",
        "colab": {
          "base_uri": "https://localhost:8080/",
          "height": 245
        },
        "outputId": "77f2e6b9-b58d-48a2-c70d-cd12553eea3a"
      },
      "source": [
        "df_ny['Subjectivity'] = df_ny['text'].apply(getSubjectivity)\n",
        "df_ny['Polarity'] = df_ny['text'].apply(getPolarity)\n"
      ],
      "execution_count": 530,
      "outputs": [
        {
          "output_type": "stream",
          "text": [
            "/usr/local/lib/python3.6/dist-packages/ipykernel_launcher.py:1: SettingWithCopyWarning: \n",
            "A value is trying to be set on a copy of a slice from a DataFrame.\n",
            "Try using .loc[row_indexer,col_indexer] = value instead\n",
            "\n",
            "See the caveats in the documentation: https://pandas.pydata.org/pandas-docs/stable/user_guide/indexing.html#returning-a-view-versus-a-copy\n",
            "  \"\"\"Entry point for launching an IPython kernel.\n",
            "/usr/local/lib/python3.6/dist-packages/ipykernel_launcher.py:2: SettingWithCopyWarning: \n",
            "A value is trying to be set on a copy of a slice from a DataFrame.\n",
            "Try using .loc[row_indexer,col_indexer] = value instead\n",
            "\n",
            "See the caveats in the documentation: https://pandas.pydata.org/pandas-docs/stable/user_guide/indexing.html#returning-a-view-versus-a-copy\n",
            "  \n"
          ],
          "name": "stderr"
        }
      ]
    },
    {
      "cell_type": "code",
      "metadata": {
        "id": "9BMofuafAQlP",
        "colab_type": "code",
        "colab": {
          "base_uri": "https://localhost:8080/",
          "height": 800
        },
        "outputId": "e31d00f0-014d-4954-ae61-809f243908b4"
      },
      "source": [
        "df_ny"
      ],
      "execution_count": 531,
      "outputs": [
        {
          "output_type": "execute_result",
          "data": {
            "text/html": [
              "<div>\n",
              "<style scoped>\n",
              "    .dataframe tbody tr th:only-of-type {\n",
              "        vertical-align: middle;\n",
              "    }\n",
              "\n",
              "    .dataframe tbody tr th {\n",
              "        vertical-align: top;\n",
              "    }\n",
              "\n",
              "    .dataframe thead th {\n",
              "        text-align: right;\n",
              "    }\n",
              "</style>\n",
              "<table border=\"1\" class=\"dataframe\">\n",
              "  <thead>\n",
              "    <tr style=\"text-align: right;\">\n",
              "      <th></th>\n",
              "      <th>Unnamed: 0</th>\n",
              "      <th>created_at</th>\n",
              "      <th>text</th>\n",
              "      <th>source</th>\n",
              "      <th>is_quote</th>\n",
              "      <th>is_retweet</th>\n",
              "      <th>favourites_count</th>\n",
              "      <th>retweet_count</th>\n",
              "      <th>place_full_name</th>\n",
              "      <th>place_type</th>\n",
              "      <th>followers_count</th>\n",
              "      <th>friends_count</th>\n",
              "      <th>account_created_at</th>\n",
              "      <th>Subjectivity</th>\n",
              "      <th>Polarity</th>\n",
              "    </tr>\n",
              "  </thead>\n",
              "  <tbody>\n",
              "    <tr>\n",
              "      <th>0</th>\n",
              "      <td>48</td>\n",
              "      <td>2020-03-04T11:22:46Z</td>\n",
              "      <td>Can  &amp;amp;  focus on tackling potential Corona...</td>\n",
              "      <td>Twitter for iPhone</td>\n",
              "      <td>False</td>\n",
              "      <td>False</td>\n",
              "      <td>25462.0</td>\n",
              "      <td>0.0</td>\n",
              "      <td>Queens, NY</td>\n",
              "      <td>city</td>\n",
              "      <td>12378.0</td>\n",
              "      <td>13567.0</td>\n",
              "      <td>2009-01-21T21:17:54Z</td>\n",
              "      <td>0.650000</td>\n",
              "      <td>0.500000</td>\n",
              "    </tr>\n",
              "    <tr>\n",
              "      <th>1</th>\n",
              "      <td>1111</td>\n",
              "      <td>2020-03-04T13:46:00Z</td>\n",
              "      <td>(3/3) \\n🧳 Self-evaluation of inherent bias/rac...</td>\n",
              "      <td>Twitter for iPhone</td>\n",
              "      <td>False</td>\n",
              "      <td>False</td>\n",
              "      <td>6366.0</td>\n",
              "      <td>0.0</td>\n",
              "      <td>Manhattan, NY</td>\n",
              "      <td>city</td>\n",
              "      <td>656.0</td>\n",
              "      <td>829.0</td>\n",
              "      <td>2017-12-03T21:45:57Z</td>\n",
              "      <td>0.472727</td>\n",
              "      <td>0.113636</td>\n",
              "    </tr>\n",
              "    <tr>\n",
              "      <th>2</th>\n",
              "      <td>1701</td>\n",
              "      <td>2020-03-04T14:39:30Z</td>\n",
              "      <td>Sensible feedback on the CoronavirusOutbreak</td>\n",
              "      <td>Twitter for iPhone</td>\n",
              "      <td>True</td>\n",
              "      <td>False</td>\n",
              "      <td>1623.0</td>\n",
              "      <td>0.0</td>\n",
              "      <td>Manhattan, NY</td>\n",
              "      <td>city</td>\n",
              "      <td>248.0</td>\n",
              "      <td>1309.0</td>\n",
              "      <td>2018-02-06T22:46:58Z</td>\n",
              "      <td>0.000000</td>\n",
              "      <td>0.000000</td>\n",
              "    </tr>\n",
              "    <tr>\n",
              "      <th>3</th>\n",
              "      <td>1737</td>\n",
              "      <td>2020-03-04T14:41:57Z</td>\n",
              "      <td>Bill Gates tried to warn us 4 years ago about ...</td>\n",
              "      <td>Twitter for Android</td>\n",
              "      <td>False</td>\n",
              "      <td>False</td>\n",
              "      <td>39912.0</td>\n",
              "      <td>0.0</td>\n",
              "      <td>Brooklyn, NY</td>\n",
              "      <td>city</td>\n",
              "      <td>1511.0</td>\n",
              "      <td>2619.0</td>\n",
              "      <td>2009-06-19T20:33:46Z</td>\n",
              "      <td>0.477273</td>\n",
              "      <td>0.018182</td>\n",
              "    </tr>\n",
              "    <tr>\n",
              "      <th>4</th>\n",
              "      <td>2344</td>\n",
              "      <td>2020-03-04T15:44:59Z</td>\n",
              "      <td>👀😁CoronavirusOutbreak</td>\n",
              "      <td>Twitter for iPhone</td>\n",
              "      <td>False</td>\n",
              "      <td>False</td>\n",
              "      <td>41637.0</td>\n",
              "      <td>0.0</td>\n",
              "      <td>New York, NY</td>\n",
              "      <td>admin</td>\n",
              "      <td>358.0</td>\n",
              "      <td>563.0</td>\n",
              "      <td>2019-05-08T11:02:45Z</td>\n",
              "      <td>0.000000</td>\n",
              "      <td>0.000000</td>\n",
              "    </tr>\n",
              "    <tr>\n",
              "      <th>...</th>\n",
              "      <td>...</td>\n",
              "      <td>...</td>\n",
              "      <td>...</td>\n",
              "      <td>...</td>\n",
              "      <td>...</td>\n",
              "      <td>...</td>\n",
              "      <td>...</td>\n",
              "      <td>...</td>\n",
              "      <td>...</td>\n",
              "      <td>...</td>\n",
              "      <td>...</td>\n",
              "      <td>...</td>\n",
              "      <td>...</td>\n",
              "      <td>...</td>\n",
              "      <td>...</td>\n",
              "    </tr>\n",
              "    <tr>\n",
              "      <th>20687</th>\n",
              "      <td>15443927</td>\n",
              "      <td>2020-03-25T23:13:33Z</td>\n",
              "      <td>Takeout in the age of coronavirus:\\n\\nStep 1: ...</td>\n",
              "      <td>Twitter for iPhone</td>\n",
              "      <td>False</td>\n",
              "      <td>False</td>\n",
              "      <td>20.0</td>\n",
              "      <td>0.0</td>\n",
              "      <td>New York, NY</td>\n",
              "      <td>admin</td>\n",
              "      <td>3.0</td>\n",
              "      <td>11.0</td>\n",
              "      <td>2020-03-07T05:35:22Z</td>\n",
              "      <td>0.638889</td>\n",
              "      <td>0.055556</td>\n",
              "    </tr>\n",
              "    <tr>\n",
              "      <th>20688</th>\n",
              "      <td>15447672</td>\n",
              "      <td>2020-03-25T23:22:18Z</td>\n",
              "      <td>JOIN US LIVE: We might be isolated and SocialD...</td>\n",
              "      <td>Twitter for Android</td>\n",
              "      <td>False</td>\n",
              "      <td>False</td>\n",
              "      <td>850.0</td>\n",
              "      <td>2.0</td>\n",
              "      <td>New York, NY</td>\n",
              "      <td>admin</td>\n",
              "      <td>1243.0</td>\n",
              "      <td>954.0</td>\n",
              "      <td>2008-12-12T16:25:35Z</td>\n",
              "      <td>0.500000</td>\n",
              "      <td>0.136364</td>\n",
              "    </tr>\n",
              "    <tr>\n",
              "      <th>20689</th>\n",
              "      <td>15453231</td>\n",
              "      <td>2020-03-25T23:34:43Z</td>\n",
              "      <td>COVID19</td>\n",
              "      <td>Twitter for iPhone</td>\n",
              "      <td>False</td>\n",
              "      <td>False</td>\n",
              "      <td>17646.0</td>\n",
              "      <td>0.0</td>\n",
              "      <td>New York, USA</td>\n",
              "      <td>admin</td>\n",
              "      <td>1312.0</td>\n",
              "      <td>2165.0</td>\n",
              "      <td>2008-10-27T19:40:19Z</td>\n",
              "      <td>0.000000</td>\n",
              "      <td>0.000000</td>\n",
              "    </tr>\n",
              "    <tr>\n",
              "      <th>20690</th>\n",
              "      <td>15453397</td>\n",
              "      <td>2020-03-25T23:35:05Z</td>\n",
              "      <td>Missing the Broadcast Center, missing the  tea...</td>\n",
              "      <td>Twitter for Android</td>\n",
              "      <td>False</td>\n",
              "      <td>False</td>\n",
              "      <td>294926.0</td>\n",
              "      <td>0.0</td>\n",
              "      <td>New York, NY</td>\n",
              "      <td>admin</td>\n",
              "      <td>1394.0</td>\n",
              "      <td>1369.0</td>\n",
              "      <td>2010-09-12T17:17:03Z</td>\n",
              "      <td>0.125000</td>\n",
              "      <td>-0.041667</td>\n",
              "    </tr>\n",
              "    <tr>\n",
              "      <th>20691</th>\n",
              "      <td>15456638</td>\n",
              "      <td>2020-03-25T23:42:09Z</td>\n",
              "      <td>13 Deaths in a Day: An ‘Apocalyptic’ Coronavir...</td>\n",
              "      <td>Twitter for Android</td>\n",
              "      <td>False</td>\n",
              "      <td>False</td>\n",
              "      <td>82460.0</td>\n",
              "      <td>0.0</td>\n",
              "      <td>New York, USA</td>\n",
              "      <td>admin</td>\n",
              "      <td>7426.0</td>\n",
              "      <td>7566.0</td>\n",
              "      <td>2015-12-03T22:59:35Z</td>\n",
              "      <td>0.000000</td>\n",
              "      <td>0.000000</td>\n",
              "    </tr>\n",
              "  </tbody>\n",
              "</table>\n",
              "<p>19478 rows × 15 columns</p>\n",
              "</div>"
            ],
            "text/plain": [
              "       Unnamed: 0            created_at  ... Subjectivity  Polarity\n",
              "0              48  2020-03-04T11:22:46Z  ...     0.650000  0.500000\n",
              "1            1111  2020-03-04T13:46:00Z  ...     0.472727  0.113636\n",
              "2            1701  2020-03-04T14:39:30Z  ...     0.000000  0.000000\n",
              "3            1737  2020-03-04T14:41:57Z  ...     0.477273  0.018182\n",
              "4            2344  2020-03-04T15:44:59Z  ...     0.000000  0.000000\n",
              "...           ...                   ...  ...          ...       ...\n",
              "20687    15443927  2020-03-25T23:13:33Z  ...     0.638889  0.055556\n",
              "20688    15447672  2020-03-25T23:22:18Z  ...     0.500000  0.136364\n",
              "20689    15453231  2020-03-25T23:34:43Z  ...     0.000000  0.000000\n",
              "20690    15453397  2020-03-25T23:35:05Z  ...     0.125000 -0.041667\n",
              "20691    15456638  2020-03-25T23:42:09Z  ...     0.000000  0.000000\n",
              "\n",
              "[19478 rows x 15 columns]"
            ]
          },
          "metadata": {
            "tags": []
          },
          "execution_count": 531
        }
      ]
    },
    {
      "cell_type": "code",
      "metadata": {
        "id": "bckOsHwYB44E",
        "colab_type": "code",
        "colab": {}
      },
      "source": [
        "allWords = ' '.join([twts for twts in df_ny['text']])\n"
      ],
      "execution_count": 0,
      "outputs": []
    },
    {
      "cell_type": "code",
      "metadata": {
        "id": "pLI3h3DiB9RZ",
        "colab_type": "code",
        "colab": {}
      },
      "source": [
        "\n",
        "from wordcloud import WordCloud\n",
        "\n",
        "wordCloud = WordCloud(width=500, height=300, random_state=21, max_font_size=110).generate(allWords)"
      ],
      "execution_count": 0,
      "outputs": []
    },
    {
      "cell_type": "code",
      "metadata": {
        "id": "QDImq_nMB-hv",
        "colab_type": "code",
        "colab": {}
      },
      "source": [
        "plt.style.use('classic')\n"
      ],
      "execution_count": 0,
      "outputs": []
    },
    {
      "cell_type": "code",
      "metadata": {
        "id": "3SFKdb-fCEKg",
        "colab_type": "code",
        "colab": {
          "base_uri": "https://localhost:8080/",
          "height": 330
        },
        "outputId": "da1aeade-de67-425d-c3f9-10696e45de21"
      },
      "source": [
        "\n",
        "plt.imshow(wordCloud, interpolation=\"bilinear\")\n",
        "plt.axis('off')\n",
        "plt.show()"
      ],
      "execution_count": 587,
      "outputs": [
        {
          "output_type": "display_data",
          "data": {
            "image/png": "[encoded data removed]",
            "text/plain": [
              "<Figure size 640x480 with 1 Axes>"
            ]
          },
          "metadata": {
            "tags": []
          }
        }
      ]
    },
    {
      "cell_type": "code",
      "metadata": {
        "id": "4CqqUZ5ECFbv",
        "colab_type": "code",
        "colab": {}
      },
      "source": [
        "def getAnalysis(score):\n",
        "    if score < 0:\n",
        "        return 'Negative'\n",
        "    elif score == 0:\n",
        "        return 'Neutral'\n",
        "    else:\n",
        "        return 'Positive'"
      ],
      "execution_count": 0,
      "outputs": []
    },
    {
      "cell_type": "code",
      "metadata": {
        "id": "ehN6XZzgCHRH",
        "colab_type": "code",
        "colab": {
          "base_uri": "https://localhost:8080/",
          "height": 141
        },
        "outputId": "6175d6db-bfca-44d6-b907-950b868619a9"
      },
      "source": [
        "df_ny['Analysis'] = df_ny['Polarity'].apply(getAnalysis)\n"
      ],
      "execution_count": 589,
      "outputs": [
        {
          "output_type": "stream",
          "text": [
            "/usr/local/lib/python3.6/dist-packages/ipykernel_launcher.py:1: SettingWithCopyWarning: \n",
            "A value is trying to be set on a copy of a slice from a DataFrame.\n",
            "Try using .loc[row_indexer,col_indexer] = value instead\n",
            "\n",
            "See the caveats in the documentation: https://pandas.pydata.org/pandas-docs/stable/user_guide/indexing.html#returning-a-view-versus-a-copy\n",
            "  \"\"\"Entry point for launching an IPython kernel.\n"
          ],
          "name": "stderr"
        }
      ]
    },
    {
      "cell_type": "code",
      "metadata": {
        "id": "HhBqjXLACJEQ",
        "colab_type": "code",
        "colab": {}
      },
      "source": [
        "sortedDF = df_ny.sort_values(by=['Polarity'])\n"
      ],
      "execution_count": 0,
      "outputs": []
    },
    {
      "cell_type": "code",
      "metadata": {
        "id": "ITOqX6oSCK8u",
        "colab_type": "code",
        "colab": {}
      },
      "source": [
        "sortedDF = sortedDF.reset_index(drop=True)\n"
      ],
      "execution_count": 0,
      "outputs": []
    },
    {
      "cell_type": "code",
      "metadata": {
        "id": "sfeRkDsYCMQv",
        "colab_type": "code",
        "colab": {}
      },
      "source": [
        "sortedDF = sortedDF[list(sortedDF.columns)[1:]]"
      ],
      "execution_count": 0,
      "outputs": []
    },
    {
      "cell_type": "code",
      "metadata": {
        "id": "579wo3I6CSpe",
        "colab_type": "code",
        "colab": {
          "base_uri": "https://localhost:8080/",
          "height": 169
        },
        "outputId": "cb3d5e77-a613-4e47-bf86-a2e4248ed046"
      },
      "source": [
        "sortedDF.head(1)"
      ],
      "execution_count": 593,
      "outputs": [
        {
          "output_type": "execute_result",
          "data": {
            "text/html": [
              "<div>\n",
              "<style scoped>\n",
              "    .dataframe tbody tr th:only-of-type {\n",
              "        vertical-align: middle;\n",
              "    }\n",
              "\n",
              "    .dataframe tbody tr th {\n",
              "        vertical-align: top;\n",
              "    }\n",
              "\n",
              "    .dataframe thead th {\n",
              "        text-align: right;\n",
              "    }\n",
              "</style>\n",
              "<table border=\"1\" class=\"dataframe\">\n",
              "  <thead>\n",
              "    <tr style=\"text-align: right;\">\n",
              "      <th></th>\n",
              "      <th>created_at</th>\n",
              "      <th>text</th>\n",
              "      <th>source</th>\n",
              "      <th>is_quote</th>\n",
              "      <th>is_retweet</th>\n",
              "      <th>favourites_count</th>\n",
              "      <th>retweet_count</th>\n",
              "      <th>place_full_name</th>\n",
              "      <th>place_type</th>\n",
              "      <th>followers_count</th>\n",
              "      <th>friends_count</th>\n",
              "      <th>account_created_at</th>\n",
              "      <th>Subjectivity</th>\n",
              "      <th>Polarity</th>\n",
              "      <th>Analysis</th>\n",
              "    </tr>\n",
              "  </thead>\n",
              "  <tbody>\n",
              "    <tr>\n",
              "      <th>0</th>\n",
              "      <td>2020-03-17T13:26:02Z</td>\n",
              "      <td>This is a cruel tease. COVID19 covidncancer PP...</td>\n",
              "      <td>Twitter for iPhone</td>\n",
              "      <td>True</td>\n",
              "      <td>False</td>\n",
              "      <td>13973.0</td>\n",
              "      <td>0.0</td>\n",
              "      <td>Manhattan, NY</td>\n",
              "      <td>city</td>\n",
              "      <td>5650.0</td>\n",
              "      <td>5473.0</td>\n",
              "      <td>2013-03-05T23:23:23Z</td>\n",
              "      <td>1.0</td>\n",
              "      <td>-1.0</td>\n",
              "      <td>Negative</td>\n",
              "    </tr>\n",
              "  </tbody>\n",
              "</table>\n",
              "</div>"
            ],
            "text/plain": [
              "             created_at  ...  Analysis\n",
              "0  2020-03-17T13:26:02Z  ...  Negative\n",
              "\n",
              "[1 rows x 15 columns]"
            ]
          },
          "metadata": {
            "tags": []
          },
          "execution_count": 593
        }
      ]
    },
    {
      "cell_type": "markdown",
      "metadata": {
        "id": "VU_BgHefCw4E",
        "colab_type": "text"
      },
      "source": [
        "### Printing a sample of negative tweets"
      ]
    },
    {
      "cell_type": "code",
      "metadata": {
        "id": "DaOqV1qpCqFs",
        "colab_type": "code",
        "colab": {
          "base_uri": "https://localhost:8080/",
          "height": 488
        },
        "outputId": "6a3fc1c0-aa6b-4a2c-a2ec-5840f58595bd"
      },
      "source": [
        "for i in range(1, 10):\n",
        "    print(str(i) + ') ' + sortedDF.iloc[i].text)\n",
        "    print()"
      ],
      "execution_count": 594,
      "outputs": [
        {
          "output_type": "stream",
          "text": [
            "1) SUNY CUNY   you guys literally DONT CARE about the safety of your students. This is absolutely DISGUSTING.\n",
            "\n",
            "Why does it need to affect a STUDENT for you guys to CloseTheSchools CoronavirusOutbreak coronaVirus Coronavirusny \n",
            "\n",
            "2) Geraldo Rivera Clashes With Dan Bongino Over Trump Travel Ban...These ppl are insane!  coronavirus  \n",
            "\n",
            "3) Yyyooooooo y’all motherfuckers are RUTHLESS 😭😭😭‼️‼️‼️\n",
            "\n",
            "🤦🏾‍♀️🤦🏾‍♀️🤦🏾‍♀️ coronavirus \n",
            "\n",
            "4) This is just disgusting. COVID19 theranos SoftBank patenttroll \n",
            "\n",
            "5) This is outrageous &amp; U wonder why there is panic over COVID19... StayHome StopTheSpread FlattenTheCurve WashYourHands DontPanic YouGottaLaugh NotMyPhoto COMMONSENSEMATTERS WeWillSurvive HomemadeHazMatSuit     \n",
            "\n",
            "6) In Syria's prisons, 10000s languish in horrific humanitarian conditions. Even one case of COVID19 there would be catastrophic. That's why humanitarian organizations and UN agencies must urgently press for access. \n",
            "\n",
            "7)  what’s your plan for when employees get sick!!! No plan for paid time off, no safety plans in place. Employees with coughs are told they still have to workThe biggest gas station chain in CNY and nothing... COVID2019 StPatricksDay QuarantineLife CoronavirusOutbreak\n",
            "\n",
            "8) 🗣shout out to all you nasty ass people that don’t wash your hands\n",
            "CoronavirusPandemic \n",
            "\n",
            "9) Make it so I don’t have to go to work, but then close all the bars...\n",
            "You’re a cruel plague, Covid. You’re a cruel plague.\n",
            "\n",
            "coronavirus COVID19 panic relax work drink breathe plague\n",
            "\n"
          ],
          "name": "stdout"
        }
      ]
    },
    {
      "cell_type": "code",
      "metadata": {
        "id": "afzE9x-BCyzy",
        "colab_type": "code",
        "colab": {
          "base_uri": "https://localhost:8080/",
          "height": 169
        },
        "outputId": "94b4aa4f-ae98-45e1-e5d8-739874140cf5"
      },
      "source": [
        "inverseSortedDF = df_ny.sort_values(by=['Polarity'], ascending= False)\n",
        "inverseSortedDF.head(1)"
      ],
      "execution_count": 595,
      "outputs": [
        {
          "output_type": "execute_result",
          "data": {
            "text/html": [
              "<div>\n",
              "<style scoped>\n",
              "    .dataframe tbody tr th:only-of-type {\n",
              "        vertical-align: middle;\n",
              "    }\n",
              "\n",
              "    .dataframe tbody tr th {\n",
              "        vertical-align: top;\n",
              "    }\n",
              "\n",
              "    .dataframe thead th {\n",
              "        text-align: right;\n",
              "    }\n",
              "</style>\n",
              "<table border=\"1\" class=\"dataframe\">\n",
              "  <thead>\n",
              "    <tr style=\"text-align: right;\">\n",
              "      <th></th>\n",
              "      <th>Unnamed: 0</th>\n",
              "      <th>created_at</th>\n",
              "      <th>text</th>\n",
              "      <th>source</th>\n",
              "      <th>is_quote</th>\n",
              "      <th>is_retweet</th>\n",
              "      <th>favourites_count</th>\n",
              "      <th>retweet_count</th>\n",
              "      <th>place_full_name</th>\n",
              "      <th>place_type</th>\n",
              "      <th>followers_count</th>\n",
              "      <th>friends_count</th>\n",
              "      <th>account_created_at</th>\n",
              "      <th>Subjectivity</th>\n",
              "      <th>Polarity</th>\n",
              "      <th>Analysis</th>\n",
              "    </tr>\n",
              "  </thead>\n",
              "  <tbody>\n",
              "    <tr>\n",
              "      <th>11231</th>\n",
              "      <td>8976443</td>\n",
              "      <td>2020-03-21T03:27:54Z</td>\n",
              "      <td>crowdsourcing masks\\nhow can u help?\\nmet elia...</td>\n",
              "      <td>Twitter for iPhone</td>\n",
              "      <td>False</td>\n",
              "      <td>False</td>\n",
              "      <td>10695.0</td>\n",
              "      <td>1.0</td>\n",
              "      <td>Manhattan, NY</td>\n",
              "      <td>city</td>\n",
              "      <td>4620.0</td>\n",
              "      <td>3302.0</td>\n",
              "      <td>2008-01-06T01:37:22Z</td>\n",
              "      <td>0.9</td>\n",
              "      <td>1.0</td>\n",
              "      <td>Positive</td>\n",
              "    </tr>\n",
              "  </tbody>\n",
              "</table>\n",
              "</div>"
            ],
            "text/plain": [
              "       Unnamed: 0            created_at  ... Polarity  Analysis\n",
              "11231     8976443  2020-03-21T03:27:54Z  ...      1.0  Positive\n",
              "\n",
              "[1 rows x 16 columns]"
            ]
          },
          "metadata": {
            "tags": []
          },
          "execution_count": 595
        }
      ]
    },
    {
      "cell_type": "code",
      "metadata": {
        "id": "yKRyo9KUC3NI",
        "colab_type": "code",
        "colab": {
          "base_uri": "https://localhost:8080/",
          "height": 152
        },
        "outputId": "acf0f887-5bd7-4690-fedc-a425346e092b"
      },
      "source": [
        "inverseSortedDF = inverseSortedDF[list(inverseSortedDF.columns)[1:]]\n",
        "inverseSortedDF.head(1)"
      ],
      "execution_count": 596,
      "outputs": [
        {
          "output_type": "execute_result",
          "data": {
            "text/html": [
              "<div>\n",
              "<style scoped>\n",
              "    .dataframe tbody tr th:only-of-type {\n",
              "        vertical-align: middle;\n",
              "    }\n",
              "\n",
              "    .dataframe tbody tr th {\n",
              "        vertical-align: top;\n",
              "    }\n",
              "\n",
              "    .dataframe thead th {\n",
              "        text-align: right;\n",
              "    }\n",
              "</style>\n",
              "<table border=\"1\" class=\"dataframe\">\n",
              "  <thead>\n",
              "    <tr style=\"text-align: right;\">\n",
              "      <th></th>\n",
              "      <th>created_at</th>\n",
              "      <th>text</th>\n",
              "      <th>source</th>\n",
              "      <th>is_quote</th>\n",
              "      <th>is_retweet</th>\n",
              "      <th>favourites_count</th>\n",
              "      <th>retweet_count</th>\n",
              "      <th>place_full_name</th>\n",
              "      <th>place_type</th>\n",
              "      <th>followers_count</th>\n",
              "      <th>friends_count</th>\n",
              "      <th>account_created_at</th>\n",
              "      <th>Subjectivity</th>\n",
              "      <th>Polarity</th>\n",
              "      <th>Analysis</th>\n",
              "    </tr>\n",
              "  </thead>\n",
              "  <tbody>\n",
              "    <tr>\n",
              "      <th>11231</th>\n",
              "      <td>2020-03-21T03:27:54Z</td>\n",
              "      <td>crowdsourcing masks\\nhow can u help?\\nmet elia...</td>\n",
              "      <td>Twitter for iPhone</td>\n",
              "      <td>False</td>\n",
              "      <td>False</td>\n",
              "      <td>10695.0</td>\n",
              "      <td>1.0</td>\n",
              "      <td>Manhattan, NY</td>\n",
              "      <td>city</td>\n",
              "      <td>4620.0</td>\n",
              "      <td>3302.0</td>\n",
              "      <td>2008-01-06T01:37:22Z</td>\n",
              "      <td>0.9</td>\n",
              "      <td>1.0</td>\n",
              "      <td>Positive</td>\n",
              "    </tr>\n",
              "  </tbody>\n",
              "</table>\n",
              "</div>"
            ],
            "text/plain": [
              "                 created_at  ...  Analysis\n",
              "11231  2020-03-21T03:27:54Z  ...  Positive\n",
              "\n",
              "[1 rows x 15 columns]"
            ]
          },
          "metadata": {
            "tags": []
          },
          "execution_count": 596
        }
      ]
    },
    {
      "cell_type": "markdown",
      "metadata": {
        "id": "HlhkAMaqDRW5",
        "colab_type": "text"
      },
      "source": [
        "Printing a sample of positive tweets "
      ]
    },
    {
      "cell_type": "code",
      "metadata": {
        "id": "cE5dvJtMC3yK",
        "colab_type": "code",
        "colab": {
          "base_uri": "https://localhost:8080/",
          "height": 418
        },
        "outputId": "6c629a58-e618-4dc0-848e-1ede83f498cd"
      },
      "source": [
        "for i in range(1, 10):\n",
        "    print(str(i) + ') ' + inverseSortedDF.iloc[i].text)\n",
        "    print()"
      ],
      "execution_count": 597,
      "outputs": [
        {
          "output_type": "stream",
          "text": [
            "1)  are awesome! COVID19\n",
            "\n",
            "2) Is this the best decision to move ahead with  meeting? Cc   COVID19 coronavirus \n",
            "\n",
            "3) A Doctor friend passed this along and suggested I share. \n",
            "\n",
            "It illustrates perfectly how the virus infects you and answers a lot of questions you may have. \n",
            "\n",
            "CoronavirusPandemic \n",
            "\n",
            "4) Mother knows best! coronavirus TrumpRecession CoronavirusOutbreak  \n",
            "\n",
            "5) Proud to organize with my students! sickout closenyschools CloseTheSchools coronapocolypse coronavirus COVIDー19 COVID19 NYCDOE \n",
            "\n",
            "6) One of the best Memes of the WuhanVirus CoronaVirus ChineseFlu 👇👇👇👇👇 \n",
            "\n",
            "7) We should require everyone to read/watch this before their phones will work again. That would be the best national emergency alert system ever - compliance training via mobile OS takeover. Thoughts   ??  pivotpodcast COVID19\n",
            "\n",
            "8) Happy to announce that 46 will be joining us for pancchat tonight! Tune in at 8pm EST to tweet all things COVID19 CoronavirusOutbreak covidncancer TuesdayMotivation QuarantineLife \n",
            "\n",
            "9)  This seems like a perfect time to separate and split NYS into the proposed 3 districts! COVID19 4NY \n",
            "\n"
          ],
          "name": "stdout"
        }
      ]
    },
    {
      "cell_type": "code",
      "metadata": {
        "id": "G1PCqUhWDT5m",
        "colab_type": "code",
        "colab": {
          "base_uri": "https://localhost:8080/",
          "height": 34
        },
        "outputId": "91ce63fe-36a3-4fa7-d27a-795cdcec50cd"
      },
      "source": [
        "# Print the percentage of positive tweetsptweets = df_ny[df_ny.Analysis == 'Positive']\n",
        "ptweets = df_ny[df_ny.Analysis == 'Positive']\n",
        "ptweets = ptweets['text']\n",
        "ptweets\n",
        "\n",
        "round( (ptweets.shape[0] / df_ny.shape[0]) * 100 , 1)"
      ],
      "execution_count": 598,
      "outputs": [
        {
          "output_type": "execute_result",
          "data": {
            "text/plain": [
              "47.0"
            ]
          },
          "metadata": {
            "tags": []
          },
          "execution_count": 598
        }
      ]
    },
    {
      "cell_type": "code",
      "metadata": {
        "id": "6BAkNy3WDfz1",
        "colab_type": "code",
        "colab": {
          "base_uri": "https://localhost:8080/",
          "height": 34
        },
        "outputId": "bd401d30-6f26-4ac1-abc8-73dc9e099c5e"
      },
      "source": [
        "# Print the percentage of negative tweets\n",
        "ntweets = df_ny[df_ny.Analysis == 'Negative']\n",
        "ntweets = ntweets['text']\n",
        "ntweets\n",
        "\n",
        "round( (ntweets.shape[0] / df_ny.shape[0]) * 100, 1)"
      ],
      "execution_count": 599,
      "outputs": [
        {
          "output_type": "execute_result",
          "data": {
            "text/plain": [
              "20.0"
            ]
          },
          "metadata": {
            "tags": []
          },
          "execution_count": 599
        }
      ]
    },
    {
      "cell_type": "code",
      "metadata": {
        "id": "gFi2ijt4DjBe",
        "colab_type": "code",
        "colab": {
          "base_uri": "https://localhost:8080/",
          "height": 517
        },
        "outputId": "de4d5578-845e-403c-f2da-a1cdbc3a9ca2"
      },
      "source": [
        "# Show the value counts\n",
        "df_ny['Analysis'].value_counts()\n",
        "\n",
        "# Plotting and visualizing the counts\n",
        "plt.title('Sentiment Analysis')\n",
        "plt.xlabel('Sentiment')\n",
        "plt.ylabel('Counts')\n",
        "df_ny['Analysis'].value_counts().plot(kind = 'bar')\n",
        "plt.show()"
      ],
      "execution_count": 600,
      "outputs": [
        {
          "output_type": "display_data",
          "data": {
            "image/png": "[encoded data removed]",
            "text/plain": [
              "<Figure size 640x480 with 1 Axes>"
            ]
          },
          "metadata": {
            "tags": []
          }
        }
      ]
    },
    {
      "cell_type": "markdown",
      "metadata": {
        "id": "9eGdwUlJDuRF",
        "colab_type": "text"
      },
      "source": [
        "### Creating time series of positive tweets only"
      ]
    },
    {
      "cell_type": "code",
      "metadata": {
        "id": "8z8zRcBjDlwE",
        "colab_type": "code",
        "colab": {
          "base_uri": "https://localhost:8080/",
          "height": 785
        },
        "outputId": "3eaaa71a-3593-44f9-a940-c40babe0393c"
      },
      "source": [
        "df_ny_pos = df_ny[df_ny['Analysis']=='Positive']\n",
        "\n",
        "### Created at time stamp into YYYY-MM-DD date format \n",
        "df_ny_pos['date'] = df_ny_pos['created_at'].iloc[9163][0:10:1]\n",
        "\n",
        "for i in range(0, len(df_ny_pos)):\n",
        "    df_ny_pos['date'].iloc[i]= df_ny_pos['created_at'].iloc[i][0:10:1]\n",
        "\n",
        "df_ny_pos = df_ny_pos[list(df_ny_pos.columns)[1:]]\n",
        "\n",
        "# plt.style.context('dark_background')\n",
        "plt.figure(figsize=(10,6))\n",
        "\n",
        "df_ny_pos.groupby('date').count()['created_at'].plot()\n",
        "plt.title(\"positive tweets regarding Covid 19\")"
      ],
      "execution_count": 609,
      "outputs": [
        {
          "output_type": "stream",
          "text": [
            "/usr/local/lib/python3.6/dist-packages/ipykernel_launcher.py:4: SettingWithCopyWarning: \n",
            "A value is trying to be set on a copy of a slice from a DataFrame.\n",
            "Try using .loc[row_indexer,col_indexer] = value instead\n",
            "\n",
            "See the caveats in the documentation: https://pandas.pydata.org/pandas-docs/stable/user_guide/indexing.html#returning-a-view-versus-a-copy\n",
            "  after removing the cwd from sys.path.\n",
            "/usr/local/lib/python3.6/dist-packages/pandas/core/indexing.py:671: SettingWithCopyWarning: \n",
            "A value is trying to be set on a copy of a slice from a DataFrame\n",
            "\n",
            "See the caveats in the documentation: https://pandas.pydata.org/pandas-docs/stable/user_guide/indexing.html#returning-a-view-versus-a-copy\n",
            "  self._setitem_with_indexer(indexer, value)\n",
            "/usr/local/lib/python3.6/dist-packages/ipykernel_launcher.py:7: SettingWithCopyWarning: \n",
            "A value is trying to be set on a copy of a slice from a DataFrame\n",
            "\n",
            "See the caveats in the documentation: https://pandas.pydata.org/pandas-docs/stable/user_guide/indexing.html#returning-a-view-versus-a-copy\n",
            "  import sys\n"
          ],
          "name": "stderr"
        },
        {
          "output_type": "execute_result",
          "data": {
            "text/plain": [
              "Text(0.5, 1.0, 'positive tweets regarding Covid 19')"
            ]
          },
          "metadata": {
            "tags": []
          },
          "execution_count": 609
        },
        {
          "output_type": "display_data",
          "data": {
            "image/png": "[encoded data removed]",
            "text/plain": [
              "<Figure size 800x480 with 1 Axes>"
            ]
          },
          "metadata": {
            "tags": []
          }
        }
      ]
    },
    {
      "cell_type": "markdown",
      "metadata": {
        "id": "KPLuV2f0Fjw-",
        "colab_type": "text"
      },
      "source": [
        "### Now we'll get time series for neutral and negative comments as well"
      ]
    },
    {
      "cell_type": "code",
      "metadata": {
        "id": "6ZTSPzE3ElAb",
        "colab_type": "code",
        "colab": {
          "base_uri": "https://localhost:8080/",
          "height": 785
        },
        "outputId": "a6ab72ff-80cf-4265-8e0e-738877d484d1"
      },
      "source": [
        "df_ny_neg = df_ny[df_ny['Analysis']=='Negative']\n",
        "\n",
        "### Created at time stamp into YYYY-MM-DD date format \n",
        "df_ny_neg['date'] = df_ny_neg['created_at'].iloc[0][0:10:1]\n",
        "\n",
        "for i in range(0, len(df_ny_neg)):\n",
        "    df_ny_neg['date'].iloc[i]= df_ny_neg['created_at'].iloc[i][0:10:1]\n",
        "\n",
        "df_ny_neg = df_ny_neg[list(df_ny_neg.columns)[1:]]\n",
        "\n",
        "# plt.style.context('dark_background')\n",
        "plt.figure(figsize=(10,6))\n",
        "\n",
        "df_ny_neg.groupby('date').count()['created_at'].plot()\n",
        "plt.title(\"Negative tweets regarding Covid 19\")"
      ],
      "execution_count": 616,
      "outputs": [
        {
          "output_type": "stream",
          "text": [
            "/usr/local/lib/python3.6/dist-packages/ipykernel_launcher.py:4: SettingWithCopyWarning: \n",
            "A value is trying to be set on a copy of a slice from a DataFrame.\n",
            "Try using .loc[row_indexer,col_indexer] = value instead\n",
            "\n",
            "See the caveats in the documentation: https://pandas.pydata.org/pandas-docs/stable/user_guide/indexing.html#returning-a-view-versus-a-copy\n",
            "  after removing the cwd from sys.path.\n",
            "/usr/local/lib/python3.6/dist-packages/pandas/core/indexing.py:671: SettingWithCopyWarning: \n",
            "A value is trying to be set on a copy of a slice from a DataFrame\n",
            "\n",
            "See the caveats in the documentation: https://pandas.pydata.org/pandas-docs/stable/user_guide/indexing.html#returning-a-view-versus-a-copy\n",
            "  self._setitem_with_indexer(indexer, value)\n",
            "/usr/local/lib/python3.6/dist-packages/ipykernel_launcher.py:7: SettingWithCopyWarning: \n",
            "A value is trying to be set on a copy of a slice from a DataFrame\n",
            "\n",
            "See the caveats in the documentation: https://pandas.pydata.org/pandas-docs/stable/user_guide/indexing.html#returning-a-view-versus-a-copy\n",
            "  import sys\n"
          ],
          "name": "stderr"
        },
        {
          "output_type": "execute_result",
          "data": {
            "text/plain": [
              "Text(0.5, 1.0, 'Negative tweets regarding Covid 19')"
            ]
          },
          "metadata": {
            "tags": []
          },
          "execution_count": 616
        },
        {
          "output_type": "display_data",
          "data": {
            "image/png": "[encoded data removed]",
            "text/plain": [
              "<Figure size 800x480 with 1 Axes>"
            ]
          },
          "metadata": {
            "tags": []
          }
        }
      ]
    },
    {
      "cell_type": "code",
      "metadata": {
        "id": "B9rWx0POFy-N",
        "colab_type": "code",
        "colab": {
          "base_uri": "https://localhost:8080/",
          "height": 785
        },
        "outputId": "f4c06686-4748-4ac2-b567-f48602e419dc"
      },
      "source": [
        "df_ny_neutral = df_ny[df_ny['Analysis']=='Neutral']\n",
        "\n",
        "### Created at time stamp into YYYY-MM-DD date format \n",
        "df_ny_neutral['date'] = df_ny_neutral['created_at'].iloc[0][0:10:1]\n",
        "\n",
        "for i in range(0, len(df_ny_neutral)):\n",
        "    df_ny_neutral['date'].iloc[i]= df_ny_neutral['created_at'].iloc[i][0:10:1]\n",
        "\n",
        "df_ny_neutral = df_ny_neutral[list(df_ny_neutral.columns)[1:]]\n",
        "\n",
        "# plt.style.context('dark_background')\n",
        "plt.figure(figsize=(10,6))\n",
        "\n",
        "df_ny_neutral.groupby('date').count()['created_at'].plot()\n",
        "plt.title(\"Neutral tweets regarding Covid 19\")"
      ],
      "execution_count": 620,
      "outputs": [
        {
          "output_type": "stream",
          "text": [
            "/usr/local/lib/python3.6/dist-packages/ipykernel_launcher.py:4: SettingWithCopyWarning: \n",
            "A value is trying to be set on a copy of a slice from a DataFrame.\n",
            "Try using .loc[row_indexer,col_indexer] = value instead\n",
            "\n",
            "See the caveats in the documentation: https://pandas.pydata.org/pandas-docs/stable/user_guide/indexing.html#returning-a-view-versus-a-copy\n",
            "  after removing the cwd from sys.path.\n",
            "/usr/local/lib/python3.6/dist-packages/pandas/core/indexing.py:671: SettingWithCopyWarning: \n",
            "A value is trying to be set on a copy of a slice from a DataFrame\n",
            "\n",
            "See the caveats in the documentation: https://pandas.pydata.org/pandas-docs/stable/user_guide/indexing.html#returning-a-view-versus-a-copy\n",
            "  self._setitem_with_indexer(indexer, value)\n",
            "/usr/local/lib/python3.6/dist-packages/ipykernel_launcher.py:7: SettingWithCopyWarning: \n",
            "A value is trying to be set on a copy of a slice from a DataFrame\n",
            "\n",
            "See the caveats in the documentation: https://pandas.pydata.org/pandas-docs/stable/user_guide/indexing.html#returning-a-view-versus-a-copy\n",
            "  import sys\n"
          ],
          "name": "stderr"
        },
        {
          "output_type": "execute_result",
          "data": {
            "text/plain": [
              "Text(0.5, 1.0, 'Neutral tweets regarding Covid 19')"
            ]
          },
          "metadata": {
            "tags": []
          },
          "execution_count": 620
        },
        {
          "output_type": "display_data",
          "data": {
            "image/png": "[encoded data removed]",
            "text/plain": [
              "<Figure size 800x480 with 1 Axes>"
            ]
          },
          "metadata": {
            "tags": []
          }
        }
      ]
    },
    {
      "cell_type": "code",
      "metadata": {
        "id": "j1QSbdPKGTwQ",
        "colab_type": "code",
        "colab": {
          "base_uri": "https://localhost:8080/",
          "height": 314
        },
        "outputId": "2859e0a8-234a-4d0f-81f7-bb2d08a4a70c"
      },
      "source": [
        "df_ny['date'] = df_ny['created_at'].iloc[0][0:10:1]\n",
        "\n",
        "for i in range(0, len(df_ny)):\n",
        "    df_ny['date'].iloc[i]= df_ny['created_at'].iloc[i][0:10:1]"
      ],
      "execution_count": 623,
      "outputs": [
        {
          "output_type": "stream",
          "text": [
            "/usr/local/lib/python3.6/dist-packages/ipykernel_launcher.py:1: SettingWithCopyWarning: \n",
            "A value is trying to be set on a copy of a slice from a DataFrame.\n",
            "Try using .loc[row_indexer,col_indexer] = value instead\n",
            "\n",
            "See the caveats in the documentation: https://pandas.pydata.org/pandas-docs/stable/user_guide/indexing.html#returning-a-view-versus-a-copy\n",
            "  \"\"\"Entry point for launching an IPython kernel.\n",
            "/usr/local/lib/python3.6/dist-packages/pandas/core/indexing.py:671: SettingWithCopyWarning: \n",
            "A value is trying to be set on a copy of a slice from a DataFrame\n",
            "\n",
            "See the caveats in the documentation: https://pandas.pydata.org/pandas-docs/stable/user_guide/indexing.html#returning-a-view-versus-a-copy\n",
            "  self._setitem_with_indexer(indexer, value)\n",
            "/usr/local/lib/python3.6/dist-packages/ipykernel_launcher.py:4: SettingWithCopyWarning: \n",
            "A value is trying to be set on a copy of a slice from a DataFrame\n",
            "\n",
            "See the caveats in the documentation: https://pandas.pydata.org/pandas-docs/stable/user_guide/indexing.html#returning-a-view-versus-a-copy\n",
            "  after removing the cwd from sys.path.\n"
          ],
          "name": "stderr"
        }
      ]
    },
    {
      "cell_type": "code",
      "metadata": {
        "id": "AC7mzW6tG10e",
        "colab_type": "code",
        "colab": {}
      },
      "source": [
        "all_series = df_ny.groupby('date').count()['created_at']\n",
        "pos_series = df_ny_pos.groupby('date').count()['created_at']\n",
        "neg_series = df_ny_neg.groupby('date').count()['created_at']\n",
        "neutral_series = df_ny_neutral.groupby('date').count()['created_at']\n"
      ],
      "execution_count": 0,
      "outputs": []
    },
    {
      "cell_type": "code",
      "metadata": {
        "id": "g2nc7lDMF-bi",
        "colab_type": "code",
        "colab": {}
      },
      "source": [
        "df1 = pd.merge(all_series, pos_series, on='date', how='left')\n",
        "df2 = pd.merge(df1, neg_series, on='date', how='left')\n",
        "df3 = pd.merge(df2, neutral_series, on='date', how='left')\n",
        "df3.columns = ['all tweets', 'positive tweets', 'negative tweets', 'neutral tweets']\n",
        "df3['Total'] = df3['positive tweets'] + df3['negative tweets'] + df3['neutral tweets']\n",
        "df3.to_csv(\"sentiment_analysis_time_series_nyc_twitter.csv\")\n"
      ],
      "execution_count": 0,
      "outputs": []
    },
    {
      "cell_type": "code",
      "metadata": {
        "id": "UzQY_7iWGeIu",
        "colab_type": "code",
        "colab": {
          "base_uri": "https://localhost:8080/",
          "height": 846
        },
        "outputId": "9a9c11dd-b090-4406-8c8e-cccd18cba96f"
      },
      "source": [
        "df3"
      ],
      "execution_count": 628,
      "outputs": [
        {
          "output_type": "execute_result",
          "data": {
            "text/html": [
              "<div>\n",
              "<style scoped>\n",
              "    .dataframe tbody tr th:only-of-type {\n",
              "        vertical-align: middle;\n",
              "    }\n",
              "\n",
              "    .dataframe tbody tr th {\n",
              "        vertical-align: top;\n",
              "    }\n",
              "\n",
              "    .dataframe thead th {\n",
              "        text-align: right;\n",
              "    }\n",
              "</style>\n",
              "<table border=\"1\" class=\"dataframe\">\n",
              "  <thead>\n",
              "    <tr style=\"text-align: right;\">\n",
              "      <th></th>\n",
              "      <th>all tweets</th>\n",
              "      <th>positive tweets</th>\n",
              "      <th>negative tweets</th>\n",
              "      <th>neutral tweets</th>\n",
              "      <th>Total</th>\n",
              "    </tr>\n",
              "    <tr>\n",
              "      <th>date</th>\n",
              "      <th></th>\n",
              "      <th></th>\n",
              "      <th></th>\n",
              "      <th></th>\n",
              "      <th></th>\n",
              "    </tr>\n",
              "  </thead>\n",
              "  <tbody>\n",
              "    <tr>\n",
              "      <th>2020-03-04</th>\n",
              "      <td>17</td>\n",
              "      <td>7</td>\n",
              "      <td>2</td>\n",
              "      <td>8</td>\n",
              "      <td>17</td>\n",
              "    </tr>\n",
              "    <tr>\n",
              "      <th>2020-03-05</th>\n",
              "      <td>30</td>\n",
              "      <td>5</td>\n",
              "      <td>8</td>\n",
              "      <td>17</td>\n",
              "      <td>30</td>\n",
              "    </tr>\n",
              "    <tr>\n",
              "      <th>2020-03-06</th>\n",
              "      <td>15</td>\n",
              "      <td>9</td>\n",
              "      <td>2</td>\n",
              "      <td>4</td>\n",
              "      <td>15</td>\n",
              "    </tr>\n",
              "    <tr>\n",
              "      <th>2020-03-07</th>\n",
              "      <td>9</td>\n",
              "      <td>3</td>\n",
              "      <td>1</td>\n",
              "      <td>5</td>\n",
              "      <td>9</td>\n",
              "    </tr>\n",
              "    <tr>\n",
              "      <th>2020-03-08</th>\n",
              "      <td>13</td>\n",
              "      <td>4</td>\n",
              "      <td>5</td>\n",
              "      <td>4</td>\n",
              "      <td>13</td>\n",
              "    </tr>\n",
              "    <tr>\n",
              "      <th>2020-03-09</th>\n",
              "      <td>71</td>\n",
              "      <td>22</td>\n",
              "      <td>17</td>\n",
              "      <td>32</td>\n",
              "      <td>71</td>\n",
              "    </tr>\n",
              "    <tr>\n",
              "      <th>2020-03-10</th>\n",
              "      <td>287</td>\n",
              "      <td>127</td>\n",
              "      <td>67</td>\n",
              "      <td>93</td>\n",
              "      <td>287</td>\n",
              "    </tr>\n",
              "    <tr>\n",
              "      <th>2020-03-11</th>\n",
              "      <td>438</td>\n",
              "      <td>175</td>\n",
              "      <td>106</td>\n",
              "      <td>157</td>\n",
              "      <td>438</td>\n",
              "    </tr>\n",
              "    <tr>\n",
              "      <th>2020-03-12</th>\n",
              "      <td>975</td>\n",
              "      <td>393</td>\n",
              "      <td>207</td>\n",
              "      <td>375</td>\n",
              "      <td>975</td>\n",
              "    </tr>\n",
              "    <tr>\n",
              "      <th>2020-03-13</th>\n",
              "      <td>1712</td>\n",
              "      <td>794</td>\n",
              "      <td>383</td>\n",
              "      <td>535</td>\n",
              "      <td>1712</td>\n",
              "    </tr>\n",
              "    <tr>\n",
              "      <th>2020-03-14</th>\n",
              "      <td>842</td>\n",
              "      <td>397</td>\n",
              "      <td>195</td>\n",
              "      <td>250</td>\n",
              "      <td>842</td>\n",
              "    </tr>\n",
              "    <tr>\n",
              "      <th>2020-03-15</th>\n",
              "      <td>961</td>\n",
              "      <td>442</td>\n",
              "      <td>204</td>\n",
              "      <td>315</td>\n",
              "      <td>961</td>\n",
              "    </tr>\n",
              "    <tr>\n",
              "      <th>2020-03-16</th>\n",
              "      <td>1035</td>\n",
              "      <td>493</td>\n",
              "      <td>205</td>\n",
              "      <td>337</td>\n",
              "      <td>1035</td>\n",
              "    </tr>\n",
              "    <tr>\n",
              "      <th>2020-03-17</th>\n",
              "      <td>1431</td>\n",
              "      <td>673</td>\n",
              "      <td>257</td>\n",
              "      <td>501</td>\n",
              "      <td>1431</td>\n",
              "    </tr>\n",
              "    <tr>\n",
              "      <th>2020-03-18</th>\n",
              "      <td>961</td>\n",
              "      <td>434</td>\n",
              "      <td>207</td>\n",
              "      <td>320</td>\n",
              "      <td>961</td>\n",
              "    </tr>\n",
              "    <tr>\n",
              "      <th>2020-03-19</th>\n",
              "      <td>1302</td>\n",
              "      <td>617</td>\n",
              "      <td>278</td>\n",
              "      <td>407</td>\n",
              "      <td>1302</td>\n",
              "    </tr>\n",
              "    <tr>\n",
              "      <th>2020-03-20</th>\n",
              "      <td>1238</td>\n",
              "      <td>582</td>\n",
              "      <td>246</td>\n",
              "      <td>410</td>\n",
              "      <td>1238</td>\n",
              "    </tr>\n",
              "    <tr>\n",
              "      <th>2020-03-21</th>\n",
              "      <td>1247</td>\n",
              "      <td>568</td>\n",
              "      <td>238</td>\n",
              "      <td>441</td>\n",
              "      <td>1247</td>\n",
              "    </tr>\n",
              "    <tr>\n",
              "      <th>2020-03-22</th>\n",
              "      <td>1073</td>\n",
              "      <td>515</td>\n",
              "      <td>195</td>\n",
              "      <td>363</td>\n",
              "      <td>1073</td>\n",
              "    </tr>\n",
              "    <tr>\n",
              "      <th>2020-03-23</th>\n",
              "      <td>911</td>\n",
              "      <td>453</td>\n",
              "      <td>194</td>\n",
              "      <td>264</td>\n",
              "      <td>911</td>\n",
              "    </tr>\n",
              "    <tr>\n",
              "      <th>2020-03-24</th>\n",
              "      <td>869</td>\n",
              "      <td>459</td>\n",
              "      <td>154</td>\n",
              "      <td>256</td>\n",
              "      <td>869</td>\n",
              "    </tr>\n",
              "    <tr>\n",
              "      <th>2020-03-25</th>\n",
              "      <td>915</td>\n",
              "      <td>473</td>\n",
              "      <td>159</td>\n",
              "      <td>283</td>\n",
              "      <td>915</td>\n",
              "    </tr>\n",
              "    <tr>\n",
              "      <th>2020-03-26</th>\n",
              "      <td>1199</td>\n",
              "      <td>573</td>\n",
              "      <td>227</td>\n",
              "      <td>399</td>\n",
              "      <td>1199</td>\n",
              "    </tr>\n",
              "    <tr>\n",
              "      <th>2020-03-27</th>\n",
              "      <td>947</td>\n",
              "      <td>489</td>\n",
              "      <td>170</td>\n",
              "      <td>288</td>\n",
              "      <td>947</td>\n",
              "    </tr>\n",
              "    <tr>\n",
              "      <th>2020-03-28</th>\n",
              "      <td>980</td>\n",
              "      <td>457</td>\n",
              "      <td>167</td>\n",
              "      <td>356</td>\n",
              "      <td>980</td>\n",
              "    </tr>\n",
              "  </tbody>\n",
              "</table>\n",
              "</div>"
            ],
            "text/plain": [
              "            all tweets  positive tweets  negative tweets  neutral tweets  Total\n",
              "date                                                                           \n",
              "2020-03-04          17                7                2               8     17\n",
              "2020-03-05          30                5                8              17     30\n",
              "2020-03-06          15                9                2               4     15\n",
              "2020-03-07           9                3                1               5      9\n",
              "2020-03-08          13                4                5               4     13\n",
              "2020-03-09          71               22               17              32     71\n",
              "2020-03-10         287              127               67              93    287\n",
              "2020-03-11         438              175              106             157    438\n",
              "2020-03-12         975              393              207             375    975\n",
              "2020-03-13        1712              794              383             535   1712\n",
              "2020-03-14         842              397              195             250    842\n",
              "2020-03-15         961              442              204             315    961\n",
              "2020-03-16        1035              493              205             337   1035\n",
              "2020-03-17        1431              673              257             501   1431\n",
              "2020-03-18         961              434              207             320    961\n",
              "2020-03-19        1302              617              278             407   1302\n",
              "2020-03-20        1238              582              246             410   1238\n",
              "2020-03-21        1247              568              238             441   1247\n",
              "2020-03-22        1073              515              195             363   1073\n",
              "2020-03-23         911              453              194             264    911\n",
              "2020-03-24         869              459              154             256    869\n",
              "2020-03-25         915              473              159             283    915\n",
              "2020-03-26        1199              573              227             399   1199\n",
              "2020-03-27         947              489              170             288    947\n",
              "2020-03-28         980              457              167             356    980"
            ]
          },
          "metadata": {
            "tags": []
          },
          "execution_count": 628
        }
      ]
    },
    {
      "cell_type": "code",
      "metadata": {
        "id": "pzS9MTEWHy14",
        "colab_type": "code",
        "colab": {}
      },
      "source": [
        "merged_df = pd.merge(df, df3, on='date', how='inner')"
      ],
      "execution_count": 0,
      "outputs": []
    },
    {
      "cell_type": "code",
      "metadata": {
        "id": "PwyP58i0H0bS",
        "colab_type": "code",
        "colab": {}
      },
      "source": [
        "merged_df = merged_df[['Num of Cases in NY','positive tweets',\n",
        "       'negative tweets', 'neutral tweets', 'Total']]"
      ],
      "execution_count": 0,
      "outputs": []
    },
    {
      "cell_type": "code",
      "metadata": {
        "id": "tZIuyEP_IR_W",
        "colab_type": "code",
        "colab": {}
      },
      "source": [
        "merged_df.index= df3.index"
      ],
      "execution_count": 0,
      "outputs": []
    },
    {
      "cell_type": "code",
      "metadata": {
        "id": "5OmVst31IYXe",
        "colab_type": "code",
        "colab": {
          "base_uri": "https://localhost:8080/",
          "height": 846
        },
        "outputId": "f5cebcd0-b63e-40e7-e864-3d9a1d152e01"
      },
      "source": [
        "merged_df"
      ],
      "execution_count": 640,
      "outputs": [
        {
          "output_type": "execute_result",
          "data": {
            "text/html": [
              "<div>\n",
              "<style scoped>\n",
              "    .dataframe tbody tr th:only-of-type {\n",
              "        vertical-align: middle;\n",
              "    }\n",
              "\n",
              "    .dataframe tbody tr th {\n",
              "        vertical-align: top;\n",
              "    }\n",
              "\n",
              "    .dataframe thead th {\n",
              "        text-align: right;\n",
              "    }\n",
              "</style>\n",
              "<table border=\"1\" class=\"dataframe\">\n",
              "  <thead>\n",
              "    <tr style=\"text-align: right;\">\n",
              "      <th></th>\n",
              "      <th>Num of Cases in NY</th>\n",
              "      <th>positive tweets</th>\n",
              "      <th>negative tweets</th>\n",
              "      <th>neutral tweets</th>\n",
              "      <th>Total</th>\n",
              "    </tr>\n",
              "    <tr>\n",
              "      <th>date</th>\n",
              "      <th></th>\n",
              "      <th></th>\n",
              "      <th></th>\n",
              "      <th></th>\n",
              "      <th></th>\n",
              "    </tr>\n",
              "  </thead>\n",
              "  <tbody>\n",
              "    <tr>\n",
              "      <th>2020-03-04</th>\n",
              "      <td>1</td>\n",
              "      <td>7</td>\n",
              "      <td>2</td>\n",
              "      <td>8</td>\n",
              "      <td>17</td>\n",
              "    </tr>\n",
              "    <tr>\n",
              "      <th>2020-03-05</th>\n",
              "      <td>4</td>\n",
              "      <td>5</td>\n",
              "      <td>8</td>\n",
              "      <td>17</td>\n",
              "      <td>30</td>\n",
              "    </tr>\n",
              "    <tr>\n",
              "      <th>2020-03-06</th>\n",
              "      <td>11</td>\n",
              "      <td>9</td>\n",
              "      <td>2</td>\n",
              "      <td>4</td>\n",
              "      <td>15</td>\n",
              "    </tr>\n",
              "    <tr>\n",
              "      <th>2020-03-07</th>\n",
              "      <td>11</td>\n",
              "      <td>3</td>\n",
              "      <td>1</td>\n",
              "      <td>5</td>\n",
              "      <td>9</td>\n",
              "    </tr>\n",
              "    <tr>\n",
              "      <th>2020-03-08</th>\n",
              "      <td>12</td>\n",
              "      <td>4</td>\n",
              "      <td>5</td>\n",
              "      <td>4</td>\n",
              "      <td>13</td>\n",
              "    </tr>\n",
              "    <tr>\n",
              "      <th>2020-03-09</th>\n",
              "      <td>19</td>\n",
              "      <td>22</td>\n",
              "      <td>17</td>\n",
              "      <td>32</td>\n",
              "      <td>71</td>\n",
              "    </tr>\n",
              "    <tr>\n",
              "      <th>2020-03-10</th>\n",
              "      <td>25</td>\n",
              "      <td>127</td>\n",
              "      <td>67</td>\n",
              "      <td>93</td>\n",
              "      <td>287</td>\n",
              "    </tr>\n",
              "    <tr>\n",
              "      <th>2020-03-11</th>\n",
              "      <td>55</td>\n",
              "      <td>175</td>\n",
              "      <td>106</td>\n",
              "      <td>157</td>\n",
              "      <td>438</td>\n",
              "    </tr>\n",
              "    <tr>\n",
              "      <th>2020-03-12</th>\n",
              "      <td>95</td>\n",
              "      <td>393</td>\n",
              "      <td>207</td>\n",
              "      <td>375</td>\n",
              "      <td>975</td>\n",
              "    </tr>\n",
              "    <tr>\n",
              "      <th>2020-03-13</th>\n",
              "      <td>154</td>\n",
              "      <td>794</td>\n",
              "      <td>383</td>\n",
              "      <td>535</td>\n",
              "      <td>1712</td>\n",
              "    </tr>\n",
              "    <tr>\n",
              "      <th>2020-03-14</th>\n",
              "      <td>269</td>\n",
              "      <td>397</td>\n",
              "      <td>195</td>\n",
              "      <td>250</td>\n",
              "      <td>842</td>\n",
              "    </tr>\n",
              "    <tr>\n",
              "      <th>2020-03-15</th>\n",
              "      <td>269</td>\n",
              "      <td>442</td>\n",
              "      <td>204</td>\n",
              "      <td>315</td>\n",
              "      <td>961</td>\n",
              "    </tr>\n",
              "    <tr>\n",
              "      <th>2020-03-16</th>\n",
              "      <td>463</td>\n",
              "      <td>493</td>\n",
              "      <td>205</td>\n",
              "      <td>337</td>\n",
              "      <td>1035</td>\n",
              "    </tr>\n",
              "    <tr>\n",
              "      <th>2020-03-17</th>\n",
              "      <td>814</td>\n",
              "      <td>673</td>\n",
              "      <td>257</td>\n",
              "      <td>501</td>\n",
              "      <td>1431</td>\n",
              "    </tr>\n",
              "    <tr>\n",
              "      <th>2020-03-18</th>\n",
              "      <td>1871</td>\n",
              "      <td>434</td>\n",
              "      <td>207</td>\n",
              "      <td>320</td>\n",
              "      <td>961</td>\n",
              "    </tr>\n",
              "    <tr>\n",
              "      <th>2020-03-19</th>\n",
              "      <td>3954</td>\n",
              "      <td>617</td>\n",
              "      <td>278</td>\n",
              "      <td>407</td>\n",
              "      <td>1302</td>\n",
              "    </tr>\n",
              "    <tr>\n",
              "      <th>2020-03-20</th>\n",
              "      <td>5151</td>\n",
              "      <td>582</td>\n",
              "      <td>246</td>\n",
              "      <td>410</td>\n",
              "      <td>1238</td>\n",
              "    </tr>\n",
              "    <tr>\n",
              "      <th>2020-03-21</th>\n",
              "      <td>7530</td>\n",
              "      <td>568</td>\n",
              "      <td>238</td>\n",
              "      <td>441</td>\n",
              "      <td>1247</td>\n",
              "    </tr>\n",
              "    <tr>\n",
              "      <th>2020-03-22</th>\n",
              "      <td>9654</td>\n",
              "      <td>515</td>\n",
              "      <td>195</td>\n",
              "      <td>363</td>\n",
              "      <td>1073</td>\n",
              "    </tr>\n",
              "    <tr>\n",
              "      <th>2020-03-23</th>\n",
              "      <td>12305</td>\n",
              "      <td>453</td>\n",
              "      <td>194</td>\n",
              "      <td>264</td>\n",
              "      <td>911</td>\n",
              "    </tr>\n",
              "    <tr>\n",
              "      <th>2020-03-24</th>\n",
              "      <td>14904</td>\n",
              "      <td>459</td>\n",
              "      <td>154</td>\n",
              "      <td>256</td>\n",
              "      <td>869</td>\n",
              "    </tr>\n",
              "    <tr>\n",
              "      <th>2020-03-25</th>\n",
              "      <td>17856</td>\n",
              "      <td>473</td>\n",
              "      <td>159</td>\n",
              "      <td>283</td>\n",
              "      <td>915</td>\n",
              "    </tr>\n",
              "    <tr>\n",
              "      <th>2020-03-26</th>\n",
              "      <td>21873</td>\n",
              "      <td>573</td>\n",
              "      <td>227</td>\n",
              "      <td>399</td>\n",
              "      <td>1199</td>\n",
              "    </tr>\n",
              "    <tr>\n",
              "      <th>2020-03-27</th>\n",
              "      <td>25573</td>\n",
              "      <td>489</td>\n",
              "      <td>170</td>\n",
              "      <td>288</td>\n",
              "      <td>947</td>\n",
              "    </tr>\n",
              "    <tr>\n",
              "      <th>2020-03-28</th>\n",
              "      <td>29776</td>\n",
              "      <td>457</td>\n",
              "      <td>167</td>\n",
              "      <td>356</td>\n",
              "      <td>980</td>\n",
              "    </tr>\n",
              "  </tbody>\n",
              "</table>\n",
              "</div>"
            ],
            "text/plain": [
              "            Num of Cases in NY  positive tweets  ...  neutral tweets  Total\n",
              "date                                             ...                       \n",
              "2020-03-04                   1                7  ...               8     17\n",
              "2020-03-05                   4                5  ...              17     30\n",
              "2020-03-06                  11                9  ...               4     15\n",
              "2020-03-07                  11                3  ...               5      9\n",
              "2020-03-08                  12                4  ...               4     13\n",
              "2020-03-09                  19               22  ...              32     71\n",
              "2020-03-10                  25              127  ...              93    287\n",
              "2020-03-11                  55              175  ...             157    438\n",
              "2020-03-12                  95              393  ...             375    975\n",
              "2020-03-13                 154              794  ...             535   1712\n",
              "2020-03-14                 269              397  ...             250    842\n",
              "2020-03-15                 269              442  ...             315    961\n",
              "2020-03-16                 463              493  ...             337   1035\n",
              "2020-03-17                 814              673  ...             501   1431\n",
              "2020-03-18                1871              434  ...             320    961\n",
              "2020-03-19                3954              617  ...             407   1302\n",
              "2020-03-20                5151              582  ...             410   1238\n",
              "2020-03-21                7530              568  ...             441   1247\n",
              "2020-03-22                9654              515  ...             363   1073\n",
              "2020-03-23               12305              453  ...             264    911\n",
              "2020-03-24               14904              459  ...             256    869\n",
              "2020-03-25               17856              473  ...             283    915\n",
              "2020-03-26               21873              573  ...             399   1199\n",
              "2020-03-27               25573              489  ...             288    947\n",
              "2020-03-28               29776              457  ...             356    980\n",
              "\n",
              "[25 rows x 5 columns]"
            ]
          },
          "metadata": {
            "tags": []
          },
          "execution_count": 640
        }
      ]
    },
    {
      "cell_type": "code",
      "metadata": {
        "id": "QGnCqUIsIpqe",
        "colab_type": "code",
        "colab": {
          "base_uri": "https://localhost:8080/",
          "height": 485
        },
        "outputId": "ee091cf8-f4ac-4b0b-8561-9f3e0b3ad8a3"
      },
      "source": [
        "merged_df['Total']"
      ],
      "execution_count": 641,
      "outputs": [
        {
          "output_type": "execute_result",
          "data": {
            "text/plain": [
              "date\n",
              "2020-03-04      17\n",
              "2020-03-05      30\n",
              "2020-03-06      15\n",
              "2020-03-07       9\n",
              "2020-03-08      13\n",
              "2020-03-09      71\n",
              "2020-03-10     287\n",
              "2020-03-11     438\n",
              "2020-03-12     975\n",
              "2020-03-13    1712\n",
              "2020-03-14     842\n",
              "2020-03-15     961\n",
              "2020-03-16    1035\n",
              "2020-03-17    1431\n",
              "2020-03-18     961\n",
              "2020-03-19    1302\n",
              "2020-03-20    1238\n",
              "2020-03-21    1247\n",
              "2020-03-22    1073\n",
              "2020-03-23     911\n",
              "2020-03-24     869\n",
              "2020-03-25     915\n",
              "2020-03-26    1199\n",
              "2020-03-27     947\n",
              "2020-03-28     980\n",
              "Name: Total, dtype: int64"
            ]
          },
          "metadata": {
            "tags": []
          },
          "execution_count": 641
        }
      ]
    },
    {
      "cell_type": "code",
      "metadata": {
        "id": "HsN4tUyoI6KI",
        "colab_type": "code",
        "colab": {}
      },
      "source": [
        "list_of_dates_twitter = list(merged_df['Total'].index)"
      ],
      "execution_count": 0,
      "outputs": []
    },
    {
      "cell_type": "code",
      "metadata": {
        "id": "W5Y4iBIII4Fo",
        "colab_type": "code",
        "colab": {}
      },
      "source": [
        "x_ticks_twitter= [list_of_dates_twitter[i] for i in range(0, len(list_of_dates_twitter), 5)]"
      ],
      "execution_count": 0,
      "outputs": []
    },
    {
      "cell_type": "code",
      "metadata": {
        "id": "1ShgQJzBI_uw",
        "colab_type": "code",
        "colab": {
          "base_uri": "https://localhost:8080/",
          "height": 34
        },
        "outputId": "8d0eb8b9-9d8a-4d0d-f20a-fa7b9d71a39c"
      },
      "source": [
        "x_ticks_twitter"
      ],
      "execution_count": 645,
      "outputs": [
        {
          "output_type": "execute_result",
          "data": {
            "text/plain": [
              "['2020-03-04', '2020-03-09', '2020-03-14', '2020-03-19', '2020-03-24']"
            ]
          },
          "metadata": {
            "tags": []
          },
          "execution_count": 645
        }
      ]
    },
    {
      "cell_type": "code",
      "metadata": {
        "id": "D5bDwwLOIcGG",
        "colab_type": "code",
        "colab": {
          "base_uri": "https://localhost:8080/",
          "height": 380
        },
        "outputId": "8f9cf543-7a34-4395-fbfe-aacf6ad93f4f"
      },
      "source": [
        "plt.figure(figsize = (10,4))\n",
        "\n",
        "plt.yscale(\"log\")\n",
        "plt.plot(merged_df['Total'].index, merged_df['Total'] )\n",
        "plt.xticks(x_ticks_twitter)\n",
        "plt.ylabel(\"Number of daily tweets\")\n",
        "plt.xlabel(\"Date\")\n",
        "plt.legend()\n",
        "\n",
        "plt.title(\"Num of daily tweets related to COVID-19 in NYC area\", fontsize = 18)"
      ],
      "execution_count": 662,
      "outputs": [
        {
          "output_type": "stream",
          "text": [
            "No handles with labels found to put in legend.\n"
          ],
          "name": "stderr"
        },
        {
          "output_type": "execute_result",
          "data": {
            "text/plain": [
              "Text(0.5, 1.0, 'Num of daily tweets related to COVID-19 in NYC area')"
            ]
          },
          "metadata": {
            "tags": []
          },
          "execution_count": 662
        },
        {
          "output_type": "display_data",
          "data": {
            "image/png": "[encoded data removed]",
            "text/plain": [
              "<Figure size 800x320 with 1 Axes>"
            ]
          },
          "metadata": {
            "tags": []
          }
        }
      ]
    },
    {
      "cell_type": "code",
      "metadata": {
        "id": "SG6w7_FhIwUs",
        "colab_type": "code",
        "colab": {
          "base_uri": "https://localhost:8080/",
          "height": 376
        },
        "outputId": "b06c8f73-1ce4-451a-87d1-258e7158c43e"
      },
      "source": [
        "plt.figure(figsize = (10,4))\n",
        "\n",
        "plt.yscale(\"log\")\n",
        "plt.plot(merged_df['positive tweets'].index, merged_df['positive tweets'], label=\"positive sentiment\")\n",
        "plt.plot(merged_df['positive tweets'].index, merged_df['negative tweets'], label='negative sentiment')\n",
        "plt.plot(merged_df['positive tweets'].index, merged_df['neutral tweets'], label='neutral sentiment')\n",
        "plt.xticks(x_ticks_twitter)\n",
        "plt.title(\"Breakdown of tweet sentiement over time regarding Covid 19 in NYC\", pad =20)\n",
        "plt.ylabel(\"Number of daily tweets\")\n",
        "plt.xlabel(\"Date\")\n",
        "plt.legend(loc = 'lower right')"
      ],
      "execution_count": 661,
      "outputs": [
        {
          "output_type": "execute_result",
          "data": {
            "text/plain": [
              "<matplotlib.legend.Legend at 0x7f0dcceabcc0>"
            ]
          },
          "metadata": {
            "tags": []
          },
          "execution_count": 661
        },
        {
          "output_type": "display_data",
          "data": {
            "image/png": "[encoded data removed]",
            "text/plain": [
              "<Figure size 800x320 with 1 Axes>"
            ]
          },
          "metadata": {
            "tags": []
          }
        }
      ]
    },
    {
      "cell_type": "markdown",
      "metadata": {
        "id": "rmGfcIOxKeJr",
        "colab_type": "text"
      },
      "source": [
        "# Now we will try a regression model to see if we can predict the number of COVID-19 cases in New York City area by leveraging Twitter data. \n"
      ]
    },
    {
      "cell_type": "markdown",
      "metadata": {
        "id": "a1bVRusCLm_4",
        "colab_type": "text"
      },
      "source": [
        "### First we'll normalize our data by using MinMaxScaler from SciKitLearn. This will lead to more stability on the gradient flow. "
      ]
    },
    {
      "cell_type": "code",
      "metadata": {
        "id": "A5qdeDmrL5Dr",
        "colab_type": "code",
        "colab": {}
      },
      "source": [
        "merged_df = np.log(merged_df)"
      ],
      "execution_count": 0,
      "outputs": []
    },
    {
      "cell_type": "code",
      "metadata": {
        "id": "sgWHxOCXLtAJ",
        "colab_type": "code",
        "colab": {
          "base_uri": "https://localhost:8080/",
          "height": 34
        },
        "outputId": "2e7c96b0-cf36-499a-c97f-d3bb3cb80f5b"
      },
      "source": [
        "from sklearn.preprocessing import MinMaxScaler\n",
        "scaler = MinMaxScaler()\n",
        "print(scaler.fit(merged_df))"
      ],
      "execution_count": 675,
      "outputs": [
        {
          "output_type": "stream",
          "text": [
            "MinMaxScaler(copy=True, feature_range=(0, 1))\n"
          ],
          "name": "stdout"
        }
      ]
    },
    {
      "cell_type": "code",
      "metadata": {
        "id": "0665Q3vCMHG1",
        "colab_type": "code",
        "colab": {}
      },
      "source": [
        "merged_df_scaled = scaler.fit_transform(merged_df[['positive tweets',\n",
        "       'negative tweets', 'neutral tweets', 'Total']])"
      ],
      "execution_count": 0,
      "outputs": []
    },
    {
      "cell_type": "code",
      "metadata": {
        "id": "tlVKROCTN4dL",
        "colab_type": "code",
        "colab": {
          "base_uri": "https://localhost:8080/",
          "height": 846
        },
        "outputId": "05450e63-53a5-4d19-9b69-6bdf86b4c215"
      },
      "source": [
        "merged_df_scaled"
      ],
      "execution_count": 708,
      "outputs": [
        {
          "output_type": "execute_result",
          "data": {
            "text/html": [
              "<div>\n",
              "<style scoped>\n",
              "    .dataframe tbody tr th:only-of-type {\n",
              "        vertical-align: middle;\n",
              "    }\n",
              "\n",
              "    .dataframe tbody tr th {\n",
              "        vertical-align: top;\n",
              "    }\n",
              "\n",
              "    .dataframe thead th {\n",
              "        text-align: right;\n",
              "    }\n",
              "</style>\n",
              "<table border=\"1\" class=\"dataframe\">\n",
              "  <thead>\n",
              "    <tr style=\"text-align: right;\">\n",
              "      <th></th>\n",
              "      <th>positive tweets</th>\n",
              "      <th>negative tweets</th>\n",
              "      <th>neutral tweets</th>\n",
              "      <th>Total</th>\n",
              "    </tr>\n",
              "    <tr>\n",
              "      <th>date</th>\n",
              "      <th></th>\n",
              "      <th></th>\n",
              "      <th></th>\n",
              "      <th></th>\n",
              "    </tr>\n",
              "  </thead>\n",
              "  <tbody>\n",
              "    <tr>\n",
              "      <th>2020-03-04</th>\n",
              "      <td>0.151887</td>\n",
              "      <td>0.116534</td>\n",
              "      <td>0.141575</td>\n",
              "      <td>0.121182</td>\n",
              "    </tr>\n",
              "    <tr>\n",
              "      <th>2020-03-05</th>\n",
              "      <td>0.091571</td>\n",
              "      <td>0.349601</td>\n",
              "      <td>0.295533</td>\n",
              "      <td>0.229407</td>\n",
              "    </tr>\n",
              "    <tr>\n",
              "      <th>2020-03-06</th>\n",
              "      <td>0.196938</td>\n",
              "      <td>0.116534</td>\n",
              "      <td>0.000000</td>\n",
              "      <td>0.097334</td>\n",
              "    </tr>\n",
              "    <tr>\n",
              "      <th>2020-03-07</th>\n",
              "      <td>0.000000</td>\n",
              "      <td>0.000000</td>\n",
              "      <td>0.045577</td>\n",
              "      <td>0.000000</td>\n",
              "    </tr>\n",
              "    <tr>\n",
              "      <th>2020-03-08</th>\n",
              "      <td>0.051570</td>\n",
              "      <td>0.270583</td>\n",
              "      <td>0.000000</td>\n",
              "      <td>0.070067</td>\n",
              "    </tr>\n",
              "    <tr>\n",
              "      <th>2020-03-09</th>\n",
              "      <td>0.357164</td>\n",
              "      <td>0.476328</td>\n",
              "      <td>0.424725</td>\n",
              "      <td>0.393556</td>\n",
              "    </tr>\n",
              "    <tr>\n",
              "      <th>2020-03-10</th>\n",
              "      <td>0.671434</td>\n",
              "      <td>0.706904</td>\n",
              "      <td>0.642631</td>\n",
              "      <td>0.659705</td>\n",
              "    </tr>\n",
              "    <tr>\n",
              "      <th>2020-03-11</th>\n",
              "      <td>0.728905</td>\n",
              "      <td>0.784030</td>\n",
              "      <td>0.749586</td>\n",
              "      <td>0.740254</td>\n",
              "    </tr>\n",
              "    <tr>\n",
              "      <th>2020-03-12</th>\n",
              "      <td>0.873931</td>\n",
              "      <td>0.896551</td>\n",
              "      <td>0.927422</td>\n",
              "      <td>0.892729</td>\n",
              "    </tr>\n",
              "    <tr>\n",
              "      <th>2020-03-13</th>\n",
              "      <td>1.000000</td>\n",
              "      <td>1.000000</td>\n",
              "      <td>1.000000</td>\n",
              "      <td>1.000000</td>\n",
              "    </tr>\n",
              "    <tr>\n",
              "      <th>2020-03-14</th>\n",
              "      <td>0.875746</td>\n",
              "      <td>0.886511</td>\n",
              "      <td>0.844606</td>\n",
              "      <td>0.864784</td>\n",
              "    </tr>\n",
              "    <tr>\n",
              "      <th>2020-03-15</th>\n",
              "      <td>0.894994</td>\n",
              "      <td>0.894097</td>\n",
              "      <td>0.891810</td>\n",
              "      <td>0.889973</td>\n",
              "    </tr>\n",
              "    <tr>\n",
              "      <th>2020-03-16</th>\n",
              "      <td>0.914569</td>\n",
              "      <td>0.894919</td>\n",
              "      <td>0.905599</td>\n",
              "      <td>0.904108</td>\n",
              "    </tr>\n",
              "    <tr>\n",
              "      <th>2020-03-17</th>\n",
              "      <td>0.970361</td>\n",
              "      <td>0.932926</td>\n",
              "      <td>0.986589</td>\n",
              "      <td>0.965838</td>\n",
              "    </tr>\n",
              "    <tr>\n",
              "      <th>2020-03-18</th>\n",
              "      <td>0.891720</td>\n",
              "      <td>0.896551</td>\n",
              "      <td>0.895027</td>\n",
              "      <td>0.889973</td>\n",
              "    </tr>\n",
              "    <tr>\n",
              "      <th>2020-03-19</th>\n",
              "      <td>0.954788</td>\n",
              "      <td>0.946131</td>\n",
              "      <td>0.944147</td>\n",
              "      <td>0.947837</td>\n",
              "    </tr>\n",
              "    <tr>\n",
              "      <th>2020-03-20</th>\n",
              "      <td>0.944319</td>\n",
              "      <td>0.925571</td>\n",
              "      <td>0.945647</td>\n",
              "      <td>0.938233</td>\n",
              "    </tr>\n",
              "    <tr>\n",
              "      <th>2020-03-21</th>\n",
              "      <td>0.939955</td>\n",
              "      <td>0.920013</td>\n",
              "      <td>0.960535</td>\n",
              "      <td>0.939613</td>\n",
              "    </tr>\n",
              "    <tr>\n",
              "      <th>2020-03-22</th>\n",
              "      <td>0.922395</td>\n",
              "      <td>0.886511</td>\n",
              "      <td>0.920779</td>\n",
              "      <td>0.910978</td>\n",
              "    </tr>\n",
              "    <tr>\n",
              "      <th>2020-03-23</th>\n",
              "      <td>0.899401</td>\n",
              "      <td>0.885647</td>\n",
              "      <td>0.855735</td>\n",
              "      <td>0.879792</td>\n",
              "    </tr>\n",
              "    <tr>\n",
              "      <th>2020-03-24</th>\n",
              "      <td>0.901759</td>\n",
              "      <td>0.846826</td>\n",
              "      <td>0.849450</td>\n",
              "      <td>0.870798</td>\n",
              "    </tr>\n",
              "    <tr>\n",
              "      <th>2020-03-25</th>\n",
              "      <td>0.907145</td>\n",
              "      <td>0.852198</td>\n",
              "      <td>0.869930</td>\n",
              "      <td>0.880627</td>\n",
              "    </tr>\n",
              "    <tr>\n",
              "      <th>2020-03-26</th>\n",
              "      <td>0.941526</td>\n",
              "      <td>0.912058</td>\n",
              "      <td>0.940093</td>\n",
              "      <td>0.932134</td>\n",
              "    </tr>\n",
              "    <tr>\n",
              "      <th>2020-03-27</th>\n",
              "      <td>0.913109</td>\n",
              "      <td>0.863445</td>\n",
              "      <td>0.873507</td>\n",
              "      <td>0.887177</td>\n",
              "    </tr>\n",
              "    <tr>\n",
              "      <th>2020-03-28</th>\n",
              "      <td>0.900976</td>\n",
              "      <td>0.860451</td>\n",
              "      <td>0.916802</td>\n",
              "      <td>0.893703</td>\n",
              "    </tr>\n",
              "  </tbody>\n",
              "</table>\n",
              "</div>"
            ],
            "text/plain": [
              "            positive tweets  negative tweets  neutral tweets     Total\n",
              "date                                                                  \n",
              "2020-03-04         0.151887         0.116534        0.141575  0.121182\n",
              "2020-03-05         0.091571         0.349601        0.295533  0.229407\n",
              "2020-03-06         0.196938         0.116534        0.000000  0.097334\n",
              "2020-03-07         0.000000         0.000000        0.045577  0.000000\n",
              "2020-03-08         0.051570         0.270583        0.000000  0.070067\n",
              "2020-03-09         0.357164         0.476328        0.424725  0.393556\n",
              "2020-03-10         0.671434         0.706904        0.642631  0.659705\n",
              "2020-03-11         0.728905         0.784030        0.749586  0.740254\n",
              "2020-03-12         0.873931         0.896551        0.927422  0.892729\n",
              "2020-03-13         1.000000         1.000000        1.000000  1.000000\n",
              "2020-03-14         0.875746         0.886511        0.844606  0.864784\n",
              "2020-03-15         0.894994         0.894097        0.891810  0.889973\n",
              "2020-03-16         0.914569         0.894919        0.905599  0.904108\n",
              "2020-03-17         0.970361         0.932926        0.986589  0.965838\n",
              "2020-03-18         0.891720         0.896551        0.895027  0.889973\n",
              "2020-03-19         0.954788         0.946131        0.944147  0.947837\n",
              "2020-03-20         0.944319         0.925571        0.945647  0.938233\n",
              "2020-03-21         0.939955         0.920013        0.960535  0.939613\n",
              "2020-03-22         0.922395         0.886511        0.920779  0.910978\n",
              "2020-03-23         0.899401         0.885647        0.855735  0.879792\n",
              "2020-03-24         0.901759         0.846826        0.849450  0.870798\n",
              "2020-03-25         0.907145         0.852198        0.869930  0.880627\n",
              "2020-03-26         0.941526         0.912058        0.940093  0.932134\n",
              "2020-03-27         0.913109         0.863445        0.873507  0.887177\n",
              "2020-03-28         0.900976         0.860451        0.916802  0.893703"
            ]
          },
          "metadata": {
            "tags": []
          },
          "execution_count": 708
        }
      ]
    },
    {
      "cell_type": "code",
      "metadata": {
        "id": "KuKV_1IXML6P",
        "colab_type": "code",
        "colab": {}
      },
      "source": [
        "merged_df_scaled = pd.DataFrame(merged_df_scaled, index = merged_df.index, columns=['positive tweets',\n",
        "       'negative tweets', 'neutral tweets', 'Total'])"
      ],
      "execution_count": 0,
      "outputs": []
    },
    {
      "cell_type": "markdown",
      "metadata": {
        "id": "gVjA-m_zMVUA",
        "colab_type": "text"
      },
      "source": [
        "### We will use a **bagging** technique to train on random subsets of the full training data."
      ]
    },
    {
      "cell_type": "code",
      "metadata": {
        "id": "tWYN3chJJTxY",
        "colab_type": "code",
        "colab": {}
      },
      "source": [
        "import matplotlib.pyplot as plt\n",
        "import numpy as np\n",
        "from sklearn import datasets, linear_model\n",
        "from sklearn.metrics import mean_squared_error, r2_score"
      ],
      "execution_count": 0,
      "outputs": []
    },
    {
      "cell_type": "code",
      "metadata": {
        "id": "XbMayxnwKx49",
        "colab_type": "code",
        "colab": {
          "base_uri": "https://localhost:8080/",
          "height": 156
        },
        "outputId": "fd47097a-53e4-44d4-a35a-3fdb45927759"
      },
      "source": [
        "\n",
        "# generate random integer values\n",
        "from random import seed\n",
        "from random import randint\n",
        "# seed random number generator\n",
        "seed(1)\n",
        "test_indices = []\n",
        "# generate some integers\n",
        "for _ in range(8):\n",
        "  value = randint(0, 24)\n",
        "  test_indices.append(value)\n",
        "  print(value)"
      ],
      "execution_count": 711,
      "outputs": [
        {
          "output_type": "stream",
          "text": [
            "4\n",
            "18\n",
            "24\n",
            "2\n",
            "8\n",
            "3\n",
            "15\n",
            "24\n"
          ],
          "name": "stdout"
        }
      ]
    },
    {
      "cell_type": "code",
      "metadata": {
        "id": "_K9MowAILdCq",
        "colab_type": "code",
        "colab": {
          "base_uri": "https://localhost:8080/",
          "height": 34
        },
        "outputId": "eb8ab0f0-3262-4786-f45f-fc4134072db3"
      },
      "source": [
        "test_indices"
      ],
      "execution_count": 724,
      "outputs": [
        {
          "output_type": "execute_result",
          "data": {
            "text/plain": [
              "[4, 18, 24, 2, 8, 3, 15, 24]"
            ]
          },
          "metadata": {
            "tags": []
          },
          "execution_count": 724
        }
      ]
    },
    {
      "cell_type": "code",
      "metadata": {
        "id": "VHDkkvtXLdK-",
        "colab_type": "code",
        "colab": {}
      },
      "source": [
        "\n",
        "import numpy as np\n",
        "all_indices = list(np.arange(0,24))"
      ],
      "execution_count": 0,
      "outputs": []
    },
    {
      "cell_type": "code",
      "metadata": {
        "id": "MHOQSCmtLexO",
        "colab_type": "code",
        "colab": {}
      },
      "source": [
        "train_indices = list(set(all_indices) - set(test_indices))\n",
        "test_indices = list(set(test_indices))"
      ],
      "execution_count": 0,
      "outputs": []
    },
    {
      "cell_type": "code",
      "metadata": {
        "id": "5dDqlbDgLglG",
        "colab_type": "code",
        "colab": {}
      },
      "source": [
        "train = merged_df_scaled.iloc[train_indices]\n",
        "test = merged_df_scaled.iloc[test_indices]"
      ],
      "execution_count": 0,
      "outputs": []
    },
    {
      "cell_type": "code",
      "metadata": {
        "id": "dTbwdChiMeiL",
        "colab_type": "code",
        "colab": {}
      },
      "source": [
        "X_train = train[['positive tweets', 'negative tweets',\n",
        "       'neutral tweets']]\n",
        "X_train =  X_train.sort_index()\n",
        "X_test = test[['positive tweets', 'negative tweets',\n",
        "       'neutral tweets']]\n",
        "X_test =  X_test.sort_index()"
      ],
      "execution_count": 0,
      "outputs": []
    },
    {
      "cell_type": "code",
      "metadata": {
        "id": "CpezoIn-Mlps",
        "colab_type": "code",
        "colab": {}
      },
      "source": [
        "Y_train = train[['Total']]\n",
        "Y_train =  Y_train.sort_index()\n",
        "Y_test =  test[['Total']]\n",
        "Y_test =  Y_test.sort_index()\n"
      ],
      "execution_count": 0,
      "outputs": []
    },
    {
      "cell_type": "markdown",
      "metadata": {
        "id": "BvHczdr7MwKU",
        "colab_type": "text"
      },
      "source": [
        "### Defining the model - we'll use a linear regression as a baseline"
      ]
    },
    {
      "cell_type": "code",
      "metadata": {
        "id": "QAZgpnPPOHNw",
        "colab_type": "code",
        "colab": {
          "base_uri": "https://localhost:8080/",
          "height": 294
        },
        "outputId": "a6037d61-a6d6-4326-e97c-22e574efbb72"
      },
      "source": [
        "X_test"
      ],
      "execution_count": 744,
      "outputs": [
        {
          "output_type": "execute_result",
          "data": {
            "text/html": [
              "<div>\n",
              "<style scoped>\n",
              "    .dataframe tbody tr th:only-of-type {\n",
              "        vertical-align: middle;\n",
              "    }\n",
              "\n",
              "    .dataframe tbody tr th {\n",
              "        vertical-align: top;\n",
              "    }\n",
              "\n",
              "    .dataframe thead th {\n",
              "        text-align: right;\n",
              "    }\n",
              "</style>\n",
              "<table border=\"1\" class=\"dataframe\">\n",
              "  <thead>\n",
              "    <tr style=\"text-align: right;\">\n",
              "      <th></th>\n",
              "      <th>positive tweets</th>\n",
              "      <th>negative tweets</th>\n",
              "      <th>neutral tweets</th>\n",
              "    </tr>\n",
              "    <tr>\n",
              "      <th>date</th>\n",
              "      <th></th>\n",
              "      <th></th>\n",
              "      <th></th>\n",
              "    </tr>\n",
              "  </thead>\n",
              "  <tbody>\n",
              "    <tr>\n",
              "      <th>2020-03-06</th>\n",
              "      <td>0.196938</td>\n",
              "      <td>0.116534</td>\n",
              "      <td>0.000000</td>\n",
              "    </tr>\n",
              "    <tr>\n",
              "      <th>2020-03-07</th>\n",
              "      <td>0.000000</td>\n",
              "      <td>0.000000</td>\n",
              "      <td>0.045577</td>\n",
              "    </tr>\n",
              "    <tr>\n",
              "      <th>2020-03-08</th>\n",
              "      <td>0.051570</td>\n",
              "      <td>0.270583</td>\n",
              "      <td>0.000000</td>\n",
              "    </tr>\n",
              "    <tr>\n",
              "      <th>2020-03-12</th>\n",
              "      <td>0.873931</td>\n",
              "      <td>0.896551</td>\n",
              "      <td>0.927422</td>\n",
              "    </tr>\n",
              "    <tr>\n",
              "      <th>2020-03-19</th>\n",
              "      <td>0.954788</td>\n",
              "      <td>0.946131</td>\n",
              "      <td>0.944147</td>\n",
              "    </tr>\n",
              "    <tr>\n",
              "      <th>2020-03-22</th>\n",
              "      <td>0.922395</td>\n",
              "      <td>0.886511</td>\n",
              "      <td>0.920779</td>\n",
              "    </tr>\n",
              "    <tr>\n",
              "      <th>2020-03-28</th>\n",
              "      <td>0.900976</td>\n",
              "      <td>0.860451</td>\n",
              "      <td>0.916802</td>\n",
              "    </tr>\n",
              "  </tbody>\n",
              "</table>\n",
              "</div>"
            ],
            "text/plain": [
              "            positive tweets  negative tweets  neutral tweets\n",
              "date                                                        \n",
              "2020-03-06         0.196938         0.116534        0.000000\n",
              "2020-03-07         0.000000         0.000000        0.045577\n",
              "2020-03-08         0.051570         0.270583        0.000000\n",
              "2020-03-12         0.873931         0.896551        0.927422\n",
              "2020-03-19         0.954788         0.946131        0.944147\n",
              "2020-03-22         0.922395         0.886511        0.920779\n",
              "2020-03-28         0.900976         0.860451        0.916802"
            ]
          },
          "metadata": {
            "tags": []
          },
          "execution_count": 744
        }
      ]
    },
    {
      "cell_type": "code",
      "metadata": {
        "id": "ombXP36jObM3",
        "colab_type": "code",
        "colab": {
          "base_uri": "https://localhost:8080/",
          "height": 294
        },
        "outputId": "3880cc2f-1f72-48cc-863f-28a1273b5d95"
      },
      "source": [
        "Y_test"
      ],
      "execution_count": 745,
      "outputs": [
        {
          "output_type": "execute_result",
          "data": {
            "text/html": [
              "<div>\n",
              "<style scoped>\n",
              "    .dataframe tbody tr th:only-of-type {\n",
              "        vertical-align: middle;\n",
              "    }\n",
              "\n",
              "    .dataframe tbody tr th {\n",
              "        vertical-align: top;\n",
              "    }\n",
              "\n",
              "    .dataframe thead th {\n",
              "        text-align: right;\n",
              "    }\n",
              "</style>\n",
              "<table border=\"1\" class=\"dataframe\">\n",
              "  <thead>\n",
              "    <tr style=\"text-align: right;\">\n",
              "      <th></th>\n",
              "      <th>Total</th>\n",
              "    </tr>\n",
              "    <tr>\n",
              "      <th>date</th>\n",
              "      <th></th>\n",
              "    </tr>\n",
              "  </thead>\n",
              "  <tbody>\n",
              "    <tr>\n",
              "      <th>2020-03-06</th>\n",
              "      <td>0.097334</td>\n",
              "    </tr>\n",
              "    <tr>\n",
              "      <th>2020-03-07</th>\n",
              "      <td>0.000000</td>\n",
              "    </tr>\n",
              "    <tr>\n",
              "      <th>2020-03-08</th>\n",
              "      <td>0.070067</td>\n",
              "    </tr>\n",
              "    <tr>\n",
              "      <th>2020-03-12</th>\n",
              "      <td>0.892729</td>\n",
              "    </tr>\n",
              "    <tr>\n",
              "      <th>2020-03-19</th>\n",
              "      <td>0.947837</td>\n",
              "    </tr>\n",
              "    <tr>\n",
              "      <th>2020-03-22</th>\n",
              "      <td>0.910978</td>\n",
              "    </tr>\n",
              "    <tr>\n",
              "      <th>2020-03-28</th>\n",
              "      <td>0.893703</td>\n",
              "    </tr>\n",
              "  </tbody>\n",
              "</table>\n",
              "</div>"
            ],
            "text/plain": [
              "               Total\n",
              "date                \n",
              "2020-03-06  0.097334\n",
              "2020-03-07  0.000000\n",
              "2020-03-08  0.070067\n",
              "2020-03-12  0.892729\n",
              "2020-03-19  0.947837\n",
              "2020-03-22  0.910978\n",
              "2020-03-28  0.893703"
            ]
          },
          "metadata": {
            "tags": []
          },
          "execution_count": 745
        }
      ]
    },
    {
      "cell_type": "code",
      "metadata": {
        "id": "M6lRK1LoOQrP",
        "colab_type": "code",
        "colab": {
          "base_uri": "https://localhost:8080/",
          "height": 632
        },
        "outputId": "aeca5aaa-856c-4022-c303-d8fb5ab116a0"
      },
      "source": [
        "X_train"
      ],
      "execution_count": 746,
      "outputs": [
        {
          "output_type": "execute_result",
          "data": {
            "text/html": [
              "<div>\n",
              "<style scoped>\n",
              "    .dataframe tbody tr th:only-of-type {\n",
              "        vertical-align: middle;\n",
              "    }\n",
              "\n",
              "    .dataframe tbody tr th {\n",
              "        vertical-align: top;\n",
              "    }\n",
              "\n",
              "    .dataframe thead th {\n",
              "        text-align: right;\n",
              "    }\n",
              "</style>\n",
              "<table border=\"1\" class=\"dataframe\">\n",
              "  <thead>\n",
              "    <tr style=\"text-align: right;\">\n",
              "      <th></th>\n",
              "      <th>positive tweets</th>\n",
              "      <th>negative tweets</th>\n",
              "      <th>neutral tweets</th>\n",
              "    </tr>\n",
              "    <tr>\n",
              "      <th>date</th>\n",
              "      <th></th>\n",
              "      <th></th>\n",
              "      <th></th>\n",
              "    </tr>\n",
              "  </thead>\n",
              "  <tbody>\n",
              "    <tr>\n",
              "      <th>2020-03-04</th>\n",
              "      <td>0.151887</td>\n",
              "      <td>0.116534</td>\n",
              "      <td>0.141575</td>\n",
              "    </tr>\n",
              "    <tr>\n",
              "      <th>2020-03-05</th>\n",
              "      <td>0.091571</td>\n",
              "      <td>0.349601</td>\n",
              "      <td>0.295533</td>\n",
              "    </tr>\n",
              "    <tr>\n",
              "      <th>2020-03-09</th>\n",
              "      <td>0.357164</td>\n",
              "      <td>0.476328</td>\n",
              "      <td>0.424725</td>\n",
              "    </tr>\n",
              "    <tr>\n",
              "      <th>2020-03-10</th>\n",
              "      <td>0.671434</td>\n",
              "      <td>0.706904</td>\n",
              "      <td>0.642631</td>\n",
              "    </tr>\n",
              "    <tr>\n",
              "      <th>2020-03-11</th>\n",
              "      <td>0.728905</td>\n",
              "      <td>0.784030</td>\n",
              "      <td>0.749586</td>\n",
              "    </tr>\n",
              "    <tr>\n",
              "      <th>2020-03-13</th>\n",
              "      <td>1.000000</td>\n",
              "      <td>1.000000</td>\n",
              "      <td>1.000000</td>\n",
              "    </tr>\n",
              "    <tr>\n",
              "      <th>2020-03-14</th>\n",
              "      <td>0.875746</td>\n",
              "      <td>0.886511</td>\n",
              "      <td>0.844606</td>\n",
              "    </tr>\n",
              "    <tr>\n",
              "      <th>2020-03-15</th>\n",
              "      <td>0.894994</td>\n",
              "      <td>0.894097</td>\n",
              "      <td>0.891810</td>\n",
              "    </tr>\n",
              "    <tr>\n",
              "      <th>2020-03-16</th>\n",
              "      <td>0.914569</td>\n",
              "      <td>0.894919</td>\n",
              "      <td>0.905599</td>\n",
              "    </tr>\n",
              "    <tr>\n",
              "      <th>2020-03-17</th>\n",
              "      <td>0.970361</td>\n",
              "      <td>0.932926</td>\n",
              "      <td>0.986589</td>\n",
              "    </tr>\n",
              "    <tr>\n",
              "      <th>2020-03-18</th>\n",
              "      <td>0.891720</td>\n",
              "      <td>0.896551</td>\n",
              "      <td>0.895027</td>\n",
              "    </tr>\n",
              "    <tr>\n",
              "      <th>2020-03-20</th>\n",
              "      <td>0.944319</td>\n",
              "      <td>0.925571</td>\n",
              "      <td>0.945647</td>\n",
              "    </tr>\n",
              "    <tr>\n",
              "      <th>2020-03-21</th>\n",
              "      <td>0.939955</td>\n",
              "      <td>0.920013</td>\n",
              "      <td>0.960535</td>\n",
              "    </tr>\n",
              "    <tr>\n",
              "      <th>2020-03-23</th>\n",
              "      <td>0.899401</td>\n",
              "      <td>0.885647</td>\n",
              "      <td>0.855735</td>\n",
              "    </tr>\n",
              "    <tr>\n",
              "      <th>2020-03-24</th>\n",
              "      <td>0.901759</td>\n",
              "      <td>0.846826</td>\n",
              "      <td>0.849450</td>\n",
              "    </tr>\n",
              "    <tr>\n",
              "      <th>2020-03-25</th>\n",
              "      <td>0.907145</td>\n",
              "      <td>0.852198</td>\n",
              "      <td>0.869930</td>\n",
              "    </tr>\n",
              "    <tr>\n",
              "      <th>2020-03-26</th>\n",
              "      <td>0.941526</td>\n",
              "      <td>0.912058</td>\n",
              "      <td>0.940093</td>\n",
              "    </tr>\n",
              "    <tr>\n",
              "      <th>2020-03-27</th>\n",
              "      <td>0.913109</td>\n",
              "      <td>0.863445</td>\n",
              "      <td>0.873507</td>\n",
              "    </tr>\n",
              "  </tbody>\n",
              "</table>\n",
              "</div>"
            ],
            "text/plain": [
              "            positive tweets  negative tweets  neutral tweets\n",
              "date                                                        \n",
              "2020-03-04         0.151887         0.116534        0.141575\n",
              "2020-03-05         0.091571         0.349601        0.295533\n",
              "2020-03-09         0.357164         0.476328        0.424725\n",
              "2020-03-10         0.671434         0.706904        0.642631\n",
              "2020-03-11         0.728905         0.784030        0.749586\n",
              "2020-03-13         1.000000         1.000000        1.000000\n",
              "2020-03-14         0.875746         0.886511        0.844606\n",
              "2020-03-15         0.894994         0.894097        0.891810\n",
              "2020-03-16         0.914569         0.894919        0.905599\n",
              "2020-03-17         0.970361         0.932926        0.986589\n",
              "2020-03-18         0.891720         0.896551        0.895027\n",
              "2020-03-20         0.944319         0.925571        0.945647\n",
              "2020-03-21         0.939955         0.920013        0.960535\n",
              "2020-03-23         0.899401         0.885647        0.855735\n",
              "2020-03-24         0.901759         0.846826        0.849450\n",
              "2020-03-25         0.907145         0.852198        0.869930\n",
              "2020-03-26         0.941526         0.912058        0.940093\n",
              "2020-03-27         0.913109         0.863445        0.873507"
            ]
          },
          "metadata": {
            "tags": []
          },
          "execution_count": 746
        }
      ]
    },
    {
      "cell_type": "code",
      "metadata": {
        "id": "b-eT77qiOW8F",
        "colab_type": "code",
        "colab": {
          "base_uri": "https://localhost:8080/",
          "height": 632
        },
        "outputId": "cbbab01f-7834-477c-e42d-078c2ecea2b4"
      },
      "source": [
        "Y_train"
      ],
      "execution_count": 747,
      "outputs": [
        {
          "output_type": "execute_result",
          "data": {
            "text/html": [
              "<div>\n",
              "<style scoped>\n",
              "    .dataframe tbody tr th:only-of-type {\n",
              "        vertical-align: middle;\n",
              "    }\n",
              "\n",
              "    .dataframe tbody tr th {\n",
              "        vertical-align: top;\n",
              "    }\n",
              "\n",
              "    .dataframe thead th {\n",
              "        text-align: right;\n",
              "    }\n",
              "</style>\n",
              "<table border=\"1\" class=\"dataframe\">\n",
              "  <thead>\n",
              "    <tr style=\"text-align: right;\">\n",
              "      <th></th>\n",
              "      <th>Total</th>\n",
              "    </tr>\n",
              "    <tr>\n",
              "      <th>date</th>\n",
              "      <th></th>\n",
              "    </tr>\n",
              "  </thead>\n",
              "  <tbody>\n",
              "    <tr>\n",
              "      <th>2020-03-04</th>\n",
              "      <td>0.121182</td>\n",
              "    </tr>\n",
              "    <tr>\n",
              "      <th>2020-03-05</th>\n",
              "      <td>0.229407</td>\n",
              "    </tr>\n",
              "    <tr>\n",
              "      <th>2020-03-09</th>\n",
              "      <td>0.393556</td>\n",
              "    </tr>\n",
              "    <tr>\n",
              "      <th>2020-03-10</th>\n",
              "      <td>0.659705</td>\n",
              "    </tr>\n",
              "    <tr>\n",
              "      <th>2020-03-11</th>\n",
              "      <td>0.740254</td>\n",
              "    </tr>\n",
              "    <tr>\n",
              "      <th>2020-03-13</th>\n",
              "      <td>1.000000</td>\n",
              "    </tr>\n",
              "    <tr>\n",
              "      <th>2020-03-14</th>\n",
              "      <td>0.864784</td>\n",
              "    </tr>\n",
              "    <tr>\n",
              "      <th>2020-03-15</th>\n",
              "      <td>0.889973</td>\n",
              "    </tr>\n",
              "    <tr>\n",
              "      <th>2020-03-16</th>\n",
              "      <td>0.904108</td>\n",
              "    </tr>\n",
              "    <tr>\n",
              "      <th>2020-03-17</th>\n",
              "      <td>0.965838</td>\n",
              "    </tr>\n",
              "    <tr>\n",
              "      <th>2020-03-18</th>\n",
              "      <td>0.889973</td>\n",
              "    </tr>\n",
              "    <tr>\n",
              "      <th>2020-03-20</th>\n",
              "      <td>0.938233</td>\n",
              "    </tr>\n",
              "    <tr>\n",
              "      <th>2020-03-21</th>\n",
              "      <td>0.939613</td>\n",
              "    </tr>\n",
              "    <tr>\n",
              "      <th>2020-03-23</th>\n",
              "      <td>0.879792</td>\n",
              "    </tr>\n",
              "    <tr>\n",
              "      <th>2020-03-24</th>\n",
              "      <td>0.870798</td>\n",
              "    </tr>\n",
              "    <tr>\n",
              "      <th>2020-03-25</th>\n",
              "      <td>0.880627</td>\n",
              "    </tr>\n",
              "    <tr>\n",
              "      <th>2020-03-26</th>\n",
              "      <td>0.932134</td>\n",
              "    </tr>\n",
              "    <tr>\n",
              "      <th>2020-03-27</th>\n",
              "      <td>0.887177</td>\n",
              "    </tr>\n",
              "  </tbody>\n",
              "</table>\n",
              "</div>"
            ],
            "text/plain": [
              "               Total\n",
              "date                \n",
              "2020-03-04  0.121182\n",
              "2020-03-05  0.229407\n",
              "2020-03-09  0.393556\n",
              "2020-03-10  0.659705\n",
              "2020-03-11  0.740254\n",
              "2020-03-13  1.000000\n",
              "2020-03-14  0.864784\n",
              "2020-03-15  0.889973\n",
              "2020-03-16  0.904108\n",
              "2020-03-17  0.965838\n",
              "2020-03-18  0.889973\n",
              "2020-03-20  0.938233\n",
              "2020-03-21  0.939613\n",
              "2020-03-23  0.879792\n",
              "2020-03-24  0.870798\n",
              "2020-03-25  0.880627\n",
              "2020-03-26  0.932134\n",
              "2020-03-27  0.887177"
            ]
          },
          "metadata": {
            "tags": []
          },
          "execution_count": 747
        }
      ]
    },
    {
      "cell_type": "code",
      "metadata": {
        "id": "wvKZAVI5Mv0S",
        "colab_type": "code",
        "colab": {}
      },
      "source": [
        "# Create linear regression object\n",
        "regr = linear_model.LinearRegression()"
      ],
      "execution_count": 0,
      "outputs": []
    },
    {
      "cell_type": "code",
      "metadata": {
        "id": "R9lTmKQoMl6T",
        "colab_type": "code",
        "colab": {
          "base_uri": "https://localhost:8080/",
          "height": 34
        },
        "outputId": "1466478e-0610-4867-bcb6-32835dcad731"
      },
      "source": [
        "regr.fit(X_train, Y_train)\n"
      ],
      "execution_count": 749,
      "outputs": [
        {
          "output_type": "execute_result",
          "data": {
            "text/plain": [
              "LinearRegression(copy_X=True, fit_intercept=True, n_jobs=None, normalize=False)"
            ]
          },
          "metadata": {
            "tags": []
          },
          "execution_count": 749
        }
      ]
    },
    {
      "cell_type": "code",
      "metadata": {
        "id": "pthK48jUM5Vq",
        "colab_type": "code",
        "colab": {}
      },
      "source": [
        "Y_pred = regr.predict(X_test)\n"
      ],
      "execution_count": 0,
      "outputs": []
    },
    {
      "cell_type": "code",
      "metadata": {
        "id": "_MGht8hLM6OR",
        "colab_type": "code",
        "colab": {
          "base_uri": "https://localhost:8080/",
          "height": 69
        },
        "outputId": "cc512d37-b02c-4d0f-e7b3-c4ba872bcab6"
      },
      "source": [
        "\n",
        "print('Coefficients: \\n', regr.coef_)\n",
        "# The mean squared error\n",
        "print('Mean squared error: %.2f'\n",
        "      % mean_squared_error(Y_test, Y_pred))"
      ],
      "execution_count": 751,
      "outputs": [
        {
          "output_type": "stream",
          "text": [
            "Coefficients: \n",
            " [[0.3577451  0.24496416 0.41754993]]\n",
            "Mean squared error: 0.00\n"
          ],
          "name": "stdout"
        }
      ]
    },
    {
      "cell_type": "code",
      "metadata": {
        "id": "cv-tA5WlM7vB",
        "colab_type": "code",
        "colab": {}
      },
      "source": [
        "Y_test = Y_test.sort_index()\n"
      ],
      "execution_count": 0,
      "outputs": []
    },
    {
      "cell_type": "code",
      "metadata": {
        "id": "CBCl8cxjM9MI",
        "colab_type": "code",
        "colab": {}
      },
      "source": [
        "list_of_lists = list(Y_pred)"
      ],
      "execution_count": 0,
      "outputs": []
    },
    {
      "cell_type": "code",
      "metadata": {
        "id": "B1ETQngNM-pR",
        "colab_type": "code",
        "colab": {}
      },
      "source": [
        "Y_pred  = [val for sublist in list_of_lists for val in sublist]\n"
      ],
      "execution_count": 0,
      "outputs": []
    },
    {
      "cell_type": "code",
      "metadata": {
        "id": "Yv_P9caINANp",
        "colab_type": "code",
        "colab": {}
      },
      "source": [
        "\n",
        "results = pd.DataFrame({'Y_true':list(Y_test['Total']), \n",
        "              'Y_pred': Y_pred})"
      ],
      "execution_count": 0,
      "outputs": []
    },
    {
      "cell_type": "code",
      "metadata": {
        "id": "DCDadSC2NKLX",
        "colab_type": "code",
        "colab": {
          "base_uri": "https://localhost:8080/",
          "height": 402
        },
        "outputId": "82792fe4-1c7b-4f6a-cbf9-bd50887583c6"
      },
      "source": [
        "results.plot(title = 'Prediction of test cases using Linear Regression', figsize = (10,5), fontsize = 10)"
      ],
      "execution_count": 756,
      "outputs": [
        {
          "output_type": "execute_result",
          "data": {
            "text/plain": [
              "<matplotlib.axes._subplots.AxesSubplot at 0x7f0dcc1dc160>"
            ]
          },
          "metadata": {
            "tags": []
          },
          "execution_count": 756
        },
        {
          "output_type": "display_data",
          "data": {
            "image/png": "[encoded data removed]",
            "text/plain": [
              "<Figure size 800x400 with 1 Axes>"
            ]
          },
          "metadata": {
            "tags": []
          }
        }
      ]
    },
    {
      "cell_type": "code",
      "metadata": {
        "id": "QZrQg-AHNNKG",
        "colab_type": "code",
        "colab": {}
      },
      "source": [
        "Y_pred_all = regr.predict(merged_df_scaled[['positive tweets', 'negative tweets',\n",
        "       'neutral tweets']])\n"
      ],
      "execution_count": 0,
      "outputs": []
    },
    {
      "cell_type": "code",
      "metadata": {
        "id": "VbdimsxfNQk_",
        "colab_type": "code",
        "colab": {}
      },
      "source": [
        "list_of_lists = list(Y_pred_all)\n",
        "Y_pred_all = [val for sublist in list_of_lists for val in sublist]"
      ],
      "execution_count": 0,
      "outputs": []
    },
    {
      "cell_type": "code",
      "metadata": {
        "id": "8cD1dv91NSB-",
        "colab_type": "code",
        "colab": {}
      },
      "source": [
        "results_all = pd.DataFrame({'Y_true':list(merged_df_scaled['Total']), \n",
        "              'Y_pred_all': Y_pred_all})\n",
        "results_all.index = merged_df_scaled.index"
      ],
      "execution_count": 0,
      "outputs": []
    },
    {
      "cell_type": "code",
      "metadata": {
        "id": "_r8P3LEmNTv-",
        "colab_type": "code",
        "colab": {
          "base_uri": "https://localhost:8080/",
          "height": 420
        },
        "outputId": "32bae433-7436-45f1-f5e3-d6e079d80d98"
      },
      "source": [
        "\n",
        "results_all.plot(title = 'Prediction of all cases using Linear Regression', figsize = (10,5), fontsize = 10)"
      ],
      "execution_count": 761,
      "outputs": [
        {
          "output_type": "execute_result",
          "data": {
            "text/plain": [
              "<matplotlib.axes._subplots.AxesSubplot at 0x7f0dcc1640f0>"
            ]
          },
          "metadata": {
            "tags": []
          },
          "execution_count": 761
        },
        {
          "output_type": "display_data",
          "data": {
            "image/png": "[encoded data removed]",
            "text/plain": [
              "<Figure size 800x400 with 1 Axes>"
            ]
          },
          "metadata": {
            "tags": []
          }
        }
      ]
    },
    {
      "cell_type": "code",
      "metadata": {
        "id": "Q6e4CG5SNXf9",
        "colab_type": "code",
        "colab": {
          "base_uri": "https://localhost:8080/",
          "height": 846
        },
        "outputId": "2d428f4d-7d04-41b2-926e-117a6b67df89"
      },
      "source": [
        "results_all"
      ],
      "execution_count": 762,
      "outputs": [
        {
          "output_type": "execute_result",
          "data": {
            "text/html": [
              "<div>\n",
              "<style scoped>\n",
              "    .dataframe tbody tr th:only-of-type {\n",
              "        vertical-align: middle;\n",
              "    }\n",
              "\n",
              "    .dataframe tbody tr th {\n",
              "        vertical-align: top;\n",
              "    }\n",
              "\n",
              "    .dataframe thead th {\n",
              "        text-align: right;\n",
              "    }\n",
              "</style>\n",
              "<table border=\"1\" class=\"dataframe\">\n",
              "  <thead>\n",
              "    <tr style=\"text-align: right;\">\n",
              "      <th></th>\n",
              "      <th>Y_true</th>\n",
              "      <th>Y_pred_all</th>\n",
              "    </tr>\n",
              "    <tr>\n",
              "      <th>date</th>\n",
              "      <th></th>\n",
              "      <th></th>\n",
              "    </tr>\n",
              "  </thead>\n",
              "  <tbody>\n",
              "    <tr>\n",
              "      <th>2020-03-04</th>\n",
              "      <td>0.121182</td>\n",
              "      <td>0.121970</td>\n",
              "    </tr>\n",
              "    <tr>\n",
              "      <th>2020-03-05</th>\n",
              "      <td>0.229407</td>\n",
              "      <td>0.221770</td>\n",
              "    </tr>\n",
              "    <tr>\n",
              "      <th>2020-03-06</th>\n",
              "      <td>0.097334</td>\n",
              "      <td>0.078972</td>\n",
              "    </tr>\n",
              "    <tr>\n",
              "      <th>2020-03-07</th>\n",
              "      <td>0.000000</td>\n",
              "      <td>-0.000997</td>\n",
              "    </tr>\n",
              "    <tr>\n",
              "      <th>2020-03-08</th>\n",
              "      <td>0.070067</td>\n",
              "      <td>0.064704</td>\n",
              "    </tr>\n",
              "    <tr>\n",
              "      <th>2020-03-09</th>\n",
              "      <td>0.393556</td>\n",
              "      <td>0.401773</td>\n",
              "    </tr>\n",
              "    <tr>\n",
              "      <th>2020-03-10</th>\n",
              "      <td>0.659705</td>\n",
              "      <td>0.661671</td>\n",
              "    </tr>\n",
              "    <tr>\n",
              "      <th>2020-03-11</th>\n",
              "      <td>0.740254</td>\n",
              "      <td>0.745783</td>\n",
              "    </tr>\n",
              "    <tr>\n",
              "      <th>2020-03-12</th>\n",
              "      <td>0.892729</td>\n",
              "      <td>0.899484</td>\n",
              "    </tr>\n",
              "    <tr>\n",
              "      <th>2020-03-13</th>\n",
              "      <td>1.000000</td>\n",
              "      <td>1.000231</td>\n",
              "    </tr>\n",
              "    <tr>\n",
              "      <th>2020-03-14</th>\n",
              "      <td>0.864784</td>\n",
              "      <td>0.863094</td>\n",
              "    </tr>\n",
              "    <tr>\n",
              "      <th>2020-03-15</th>\n",
              "      <td>0.889973</td>\n",
              "      <td>0.891549</td>\n",
              "    </tr>\n",
              "    <tr>\n",
              "      <th>2020-03-16</th>\n",
              "      <td>0.904108</td>\n",
              "      <td>0.904510</td>\n",
              "    </tr>\n",
              "    <tr>\n",
              "      <th>2020-03-17</th>\n",
              "      <td>0.965838</td>\n",
              "      <td>0.967597</td>\n",
              "    </tr>\n",
              "    <tr>\n",
              "      <th>2020-03-18</th>\n",
              "      <td>0.889973</td>\n",
              "      <td>0.892322</td>\n",
              "    </tr>\n",
              "    <tr>\n",
              "      <th>2020-03-19</th>\n",
              "      <td>0.947837</td>\n",
              "      <td>0.947539</td>\n",
              "    </tr>\n",
              "    <tr>\n",
              "      <th>2020-03-20</th>\n",
              "      <td>0.938233</td>\n",
              "      <td>0.939384</td>\n",
              "    </tr>\n",
              "    <tr>\n",
              "      <th>2020-03-21</th>\n",
              "      <td>0.939613</td>\n",
              "      <td>0.942677</td>\n",
              "    </tr>\n",
              "    <tr>\n",
              "      <th>2020-03-22</th>\n",
              "      <td>0.910978</td>\n",
              "      <td>0.911589</td>\n",
              "    </tr>\n",
              "    <tr>\n",
              "      <th>2020-03-23</th>\n",
              "      <td>0.879792</td>\n",
              "      <td>0.875992</td>\n",
              "    </tr>\n",
              "    <tr>\n",
              "      <th>2020-03-24</th>\n",
              "      <td>0.870798</td>\n",
              "      <td>0.864702</td>\n",
              "    </tr>\n",
              "    <tr>\n",
              "      <th>2020-03-25</th>\n",
              "      <td>0.880627</td>\n",
              "      <td>0.876496</td>\n",
              "    </tr>\n",
              "    <tr>\n",
              "      <th>2020-03-26</th>\n",
              "      <td>0.932134</td>\n",
              "      <td>0.932755</td>\n",
              "    </tr>\n",
              "    <tr>\n",
              "      <th>2020-03-27</th>\n",
              "      <td>0.887177</td>\n",
              "      <td>0.882878</td>\n",
              "    </tr>\n",
              "    <tr>\n",
              "      <th>2020-03-28</th>\n",
              "      <td>0.893703</td>\n",
              "      <td>0.895882</td>\n",
              "    </tr>\n",
              "  </tbody>\n",
              "</table>\n",
              "</div>"
            ],
            "text/plain": [
              "              Y_true  Y_pred_all\n",
              "date                            \n",
              "2020-03-04  0.121182    0.121970\n",
              "2020-03-05  0.229407    0.221770\n",
              "2020-03-06  0.097334    0.078972\n",
              "2020-03-07  0.000000   -0.000997\n",
              "2020-03-08  0.070067    0.064704\n",
              "2020-03-09  0.393556    0.401773\n",
              "2020-03-10  0.659705    0.661671\n",
              "2020-03-11  0.740254    0.745783\n",
              "2020-03-12  0.892729    0.899484\n",
              "2020-03-13  1.000000    1.000231\n",
              "2020-03-14  0.864784    0.863094\n",
              "2020-03-15  0.889973    0.891549\n",
              "2020-03-16  0.904108    0.904510\n",
              "2020-03-17  0.965838    0.967597\n",
              "2020-03-18  0.889973    0.892322\n",
              "2020-03-19  0.947837    0.947539\n",
              "2020-03-20  0.938233    0.939384\n",
              "2020-03-21  0.939613    0.942677\n",
              "2020-03-22  0.910978    0.911589\n",
              "2020-03-23  0.879792    0.875992\n",
              "2020-03-24  0.870798    0.864702\n",
              "2020-03-25  0.880627    0.876496\n",
              "2020-03-26  0.932134    0.932755\n",
              "2020-03-27  0.887177    0.882878\n",
              "2020-03-28  0.893703    0.895882"
            ]
          },
          "metadata": {
            "tags": []
          },
          "execution_count": 762
        }
      ]
    },
    {
      "cell_type": "code",
      "metadata": {
        "id": "DjKDOt6ENsNW",
        "colab_type": "code",
        "colab": {}
      },
      "source": [
        ""
      ],
      "execution_count": 0,
      "outputs": []
    }
  ]
}