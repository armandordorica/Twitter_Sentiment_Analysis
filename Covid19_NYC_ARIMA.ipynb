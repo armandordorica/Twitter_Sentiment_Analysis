{
  "nbformat": 4,
  "nbformat_minor": 0,
  "metadata": {
    "colab": {
      "name": "Covid19 NYC - ARIMA.ipynb",
      "provenance": [],
      "toc_visible": true,
      "authorship_tag": "ABX9TyP7n0lZbh5DwT8uiSMSvxO5",
      "include_colab_link": true
    },
    "kernelspec": {
      "name": "python3",
      "display_name": "Python 3"
    }
  },
  "cells": [
    {
      "cell_type": "markdown",
      "metadata": {
        "id": "view-in-github",
        "colab_type": "text"
      },
      "source": [
        "<a href=\"https://colab.research.google.com/github/armandordorica/Twitter_Sentiment_Analysis/blob/master/Covid19_NYC_ARIMA.ipynb\" target=\"_parent\"><img src=\"https://colab.research.google.com/assets/colab-badge.svg\" alt=\"Open In Colab\"/></a>"
      ]
    },
    {
      "cell_type": "markdown",
      "metadata": {
        "id": "UllrX_KKM1nD",
        "colab_type": "text"
      },
      "source": [
        "# **Prediction of Covid 19 Cases**\n",
        "\n",
        "The goal of this project is to analyze the evolution of Covid-19 cases in New York City. Particularly, we'd like to know if it's possible to improve univariate time series predictions by leveraging sentiment analysis on tweets related to Covid-19 in New York City area as well. \n",
        "\n"
      ]
    },
    {
      "cell_type": "markdown",
      "metadata": {
        "id": "lthGY2YvSVfm",
        "colab_type": "text"
      },
      "source": [
        "The source data is coming from the World Health Organization and is updated daily. "
      ]
    },
    {
      "cell_type": "code",
      "metadata": {
        "id": "a9NbOMgJnZxu",
        "colab_type": "code",
        "colab": {}
      },
      "source": [
        "import pandas as pd\n",
        "from pandas import read_csv\n",
        "url = \"https://raw.githubusercontent.com/CSSEGISandData/COVID-19/master/csse_covid_19_data/csse_covid_19_time_series/time_series_covid19_confirmed_US.csv\"\n",
        "series = read_csv(url, header=0)\n"
      ],
      "execution_count": 0,
      "outputs": []
    },
    {
      "cell_type": "markdown",
      "metadata": {
        "id": "hD5nwDCKSgG2",
        "colab_type": "text"
      },
      "source": [
        "**Cleaning the data to keep New York data only**"
      ]
    },
    {
      "cell_type": "code",
      "metadata": {
        "id": "WHZKAH0Onng9",
        "colab_type": "code",
        "outputId": "a064c9f9-009c-4ff4-d7d4-d3f76938bc0e",
        "colab": {
          "base_uri": "https://localhost:8080/",
          "height": 146
        }
      },
      "source": [
        "series[series['Combined_Key'].str.match('New York')]"
      ],
      "execution_count": 412,
      "outputs": [
        {
          "output_type": "execute_result",
          "data": {
            "text/html": [
              "<div>\n",
              "<style scoped>\n",
              "    .dataframe tbody tr th:only-of-type {\n",
              "        vertical-align: middle;\n",
              "    }\n",
              "\n",
              "    .dataframe tbody tr th {\n",
              "        vertical-align: top;\n",
              "    }\n",
              "\n",
              "    .dataframe thead th {\n",
              "        text-align: right;\n",
              "    }\n",
              "</style>\n",
              "<table border=\"1\" class=\"dataframe\">\n",
              "  <thead>\n",
              "    <tr style=\"text-align: right;\">\n",
              "      <th></th>\n",
              "      <th>UID</th>\n",
              "      <th>iso2</th>\n",
              "      <th>iso3</th>\n",
              "      <th>code3</th>\n",
              "      <th>FIPS</th>\n",
              "      <th>Admin2</th>\n",
              "      <th>Province_State</th>\n",
              "      <th>Country_Region</th>\n",
              "      <th>Lat</th>\n",
              "      <th>Long_</th>\n",
              "      <th>Combined_Key</th>\n",
              "      <th>1/22/20</th>\n",
              "      <th>1/23/20</th>\n",
              "      <th>1/24/20</th>\n",
              "      <th>1/25/20</th>\n",
              "      <th>1/26/20</th>\n",
              "      <th>1/27/20</th>\n",
              "      <th>1/28/20</th>\n",
              "      <th>1/29/20</th>\n",
              "      <th>1/30/20</th>\n",
              "      <th>1/31/20</th>\n",
              "      <th>2/1/20</th>\n",
              "      <th>2/2/20</th>\n",
              "      <th>2/3/20</th>\n",
              "      <th>2/4/20</th>\n",
              "      <th>2/5/20</th>\n",
              "      <th>2/6/20</th>\n",
              "      <th>2/7/20</th>\n",
              "      <th>2/8/20</th>\n",
              "      <th>2/9/20</th>\n",
              "      <th>2/10/20</th>\n",
              "      <th>2/11/20</th>\n",
              "      <th>2/12/20</th>\n",
              "      <th>2/13/20</th>\n",
              "      <th>2/14/20</th>\n",
              "      <th>2/15/20</th>\n",
              "      <th>2/16/20</th>\n",
              "      <th>2/17/20</th>\n",
              "      <th>2/18/20</th>\n",
              "      <th>2/19/20</th>\n",
              "      <th>...</th>\n",
              "      <th>3/10/20</th>\n",
              "      <th>3/11/20</th>\n",
              "      <th>3/12/20</th>\n",
              "      <th>3/13/20</th>\n",
              "      <th>3/14/20</th>\n",
              "      <th>3/15/20</th>\n",
              "      <th>3/16/20</th>\n",
              "      <th>3/17/20</th>\n",
              "      <th>3/18/20</th>\n",
              "      <th>3/19/20</th>\n",
              "      <th>3/20/20</th>\n",
              "      <th>3/21/20</th>\n",
              "      <th>3/22/20</th>\n",
              "      <th>3/23/20</th>\n",
              "      <th>3/24/20</th>\n",
              "      <th>3/25/20</th>\n",
              "      <th>3/26/20</th>\n",
              "      <th>3/27/20</th>\n",
              "      <th>3/28/20</th>\n",
              "      <th>3/29/20</th>\n",
              "      <th>3/30/20</th>\n",
              "      <th>3/31/20</th>\n",
              "      <th>4/1/20</th>\n",
              "      <th>4/2/20</th>\n",
              "      <th>4/3/20</th>\n",
              "      <th>4/4/20</th>\n",
              "      <th>4/5/20</th>\n",
              "      <th>4/6/20</th>\n",
              "      <th>4/7/20</th>\n",
              "      <th>4/8/20</th>\n",
              "      <th>4/9/20</th>\n",
              "      <th>4/10/20</th>\n",
              "      <th>4/11/20</th>\n",
              "      <th>4/12/20</th>\n",
              "      <th>4/13/20</th>\n",
              "      <th>4/14/20</th>\n",
              "      <th>4/15/20</th>\n",
              "      <th>4/16/20</th>\n",
              "      <th>4/17/20</th>\n",
              "      <th>4/18/20</th>\n",
              "    </tr>\n",
              "  </thead>\n",
              "  <tbody>\n",
              "    <tr>\n",
              "      <th>1863</th>\n",
              "      <td>84036061</td>\n",
              "      <td>US</td>\n",
              "      <td>USA</td>\n",
              "      <td>840</td>\n",
              "      <td>36061.0</td>\n",
              "      <td>New York</td>\n",
              "      <td>New York</td>\n",
              "      <td>US</td>\n",
              "      <td>40.767273</td>\n",
              "      <td>-73.971526</td>\n",
              "      <td>New York City, New York, US</td>\n",
              "      <td>0</td>\n",
              "      <td>0</td>\n",
              "      <td>0</td>\n",
              "      <td>0</td>\n",
              "      <td>0</td>\n",
              "      <td>0</td>\n",
              "      <td>0</td>\n",
              "      <td>0</td>\n",
              "      <td>0</td>\n",
              "      <td>0</td>\n",
              "      <td>0</td>\n",
              "      <td>0</td>\n",
              "      <td>0</td>\n",
              "      <td>0</td>\n",
              "      <td>0</td>\n",
              "      <td>0</td>\n",
              "      <td>0</td>\n",
              "      <td>0</td>\n",
              "      <td>0</td>\n",
              "      <td>0</td>\n",
              "      <td>0</td>\n",
              "      <td>0</td>\n",
              "      <td>0</td>\n",
              "      <td>0</td>\n",
              "      <td>0</td>\n",
              "      <td>0</td>\n",
              "      <td>0</td>\n",
              "      <td>0</td>\n",
              "      <td>0</td>\n",
              "      <td>...</td>\n",
              "      <td>25</td>\n",
              "      <td>55</td>\n",
              "      <td>95</td>\n",
              "      <td>154</td>\n",
              "      <td>269</td>\n",
              "      <td>269</td>\n",
              "      <td>463</td>\n",
              "      <td>814</td>\n",
              "      <td>1871</td>\n",
              "      <td>3954</td>\n",
              "      <td>5151</td>\n",
              "      <td>7530</td>\n",
              "      <td>9654</td>\n",
              "      <td>12305</td>\n",
              "      <td>14904</td>\n",
              "      <td>17856</td>\n",
              "      <td>21873</td>\n",
              "      <td>25573</td>\n",
              "      <td>29776</td>\n",
              "      <td>33768</td>\n",
              "      <td>37453</td>\n",
              "      <td>43119</td>\n",
              "      <td>47439</td>\n",
              "      <td>51809</td>\n",
              "      <td>57159</td>\n",
              "      <td>63306</td>\n",
              "      <td>67551</td>\n",
              "      <td>72181</td>\n",
              "      <td>76876</td>\n",
              "      <td>81803</td>\n",
              "      <td>87028</td>\n",
              "      <td>92384</td>\n",
              "      <td>98308</td>\n",
              "      <td>103208</td>\n",
              "      <td>106763</td>\n",
              "      <td>110465</td>\n",
              "      <td>118302</td>\n",
              "      <td>123146</td>\n",
              "      <td>127352</td>\n",
              "      <td>135572</td>\n",
              "    </tr>\n",
              "  </tbody>\n",
              "</table>\n",
              "<p>1 rows × 99 columns</p>\n",
              "</div>"
            ],
            "text/plain": [
              "           UID iso2 iso3  code3  ...  4/15/20 4/16/20 4/17/20 4/18/20\n",
              "1863  84036061   US  USA    840  ...   118302  123146  127352  135572\n",
              "\n",
              "[1 rows x 99 columns]"
            ]
          },
          "metadata": {
            "tags": []
          },
          "execution_count": 412
        }
      ]
    },
    {
      "cell_type": "code",
      "metadata": {
        "id": "I5Xc58IUoJ4Y",
        "colab_type": "code",
        "colab": {}
      },
      "source": [
        "df = pd.DataFrame(series)\n",
        "df_ny = df.iloc[1863]\n",
        "df_ny = pd.DataFrame(df_ny)\n",
        "df_ny = df_ny.T\n",
        "\n",
        "cols = list(df_ny.columns)\n",
        "df_ny = df_ny[cols[10:]]"
      ],
      "execution_count": 0,
      "outputs": []
    },
    {
      "cell_type": "code",
      "metadata": {
        "id": "WcaCFVI3pMq9",
        "colab_type": "code",
        "colab": {
          "base_uri": "https://localhost:8080/",
          "height": 146
        },
        "outputId": "57f09729-812f-4880-9eca-db80153bf1a5"
      },
      "source": [
        "df_ny"
      ],
      "execution_count": 414,
      "outputs": [
        {
          "output_type": "execute_result",
          "data": {
            "text/html": [
              "<div>\n",
              "<style scoped>\n",
              "    .dataframe tbody tr th:only-of-type {\n",
              "        vertical-align: middle;\n",
              "    }\n",
              "\n",
              "    .dataframe tbody tr th {\n",
              "        vertical-align: top;\n",
              "    }\n",
              "\n",
              "    .dataframe thead th {\n",
              "        text-align: right;\n",
              "    }\n",
              "</style>\n",
              "<table border=\"1\" class=\"dataframe\">\n",
              "  <thead>\n",
              "    <tr style=\"text-align: right;\">\n",
              "      <th></th>\n",
              "      <th>Combined_Key</th>\n",
              "      <th>1/22/20</th>\n",
              "      <th>1/23/20</th>\n",
              "      <th>1/24/20</th>\n",
              "      <th>1/25/20</th>\n",
              "      <th>1/26/20</th>\n",
              "      <th>1/27/20</th>\n",
              "      <th>1/28/20</th>\n",
              "      <th>1/29/20</th>\n",
              "      <th>1/30/20</th>\n",
              "      <th>1/31/20</th>\n",
              "      <th>2/1/20</th>\n",
              "      <th>2/2/20</th>\n",
              "      <th>2/3/20</th>\n",
              "      <th>2/4/20</th>\n",
              "      <th>2/5/20</th>\n",
              "      <th>2/6/20</th>\n",
              "      <th>2/7/20</th>\n",
              "      <th>2/8/20</th>\n",
              "      <th>2/9/20</th>\n",
              "      <th>2/10/20</th>\n",
              "      <th>2/11/20</th>\n",
              "      <th>2/12/20</th>\n",
              "      <th>2/13/20</th>\n",
              "      <th>2/14/20</th>\n",
              "      <th>2/15/20</th>\n",
              "      <th>2/16/20</th>\n",
              "      <th>2/17/20</th>\n",
              "      <th>2/18/20</th>\n",
              "      <th>2/19/20</th>\n",
              "      <th>2/20/20</th>\n",
              "      <th>2/21/20</th>\n",
              "      <th>2/22/20</th>\n",
              "      <th>2/23/20</th>\n",
              "      <th>2/24/20</th>\n",
              "      <th>2/25/20</th>\n",
              "      <th>2/26/20</th>\n",
              "      <th>2/27/20</th>\n",
              "      <th>2/28/20</th>\n",
              "      <th>2/29/20</th>\n",
              "      <th>...</th>\n",
              "      <th>3/10/20</th>\n",
              "      <th>3/11/20</th>\n",
              "      <th>3/12/20</th>\n",
              "      <th>3/13/20</th>\n",
              "      <th>3/14/20</th>\n",
              "      <th>3/15/20</th>\n",
              "      <th>3/16/20</th>\n",
              "      <th>3/17/20</th>\n",
              "      <th>3/18/20</th>\n",
              "      <th>3/19/20</th>\n",
              "      <th>3/20/20</th>\n",
              "      <th>3/21/20</th>\n",
              "      <th>3/22/20</th>\n",
              "      <th>3/23/20</th>\n",
              "      <th>3/24/20</th>\n",
              "      <th>3/25/20</th>\n",
              "      <th>3/26/20</th>\n",
              "      <th>3/27/20</th>\n",
              "      <th>3/28/20</th>\n",
              "      <th>3/29/20</th>\n",
              "      <th>3/30/20</th>\n",
              "      <th>3/31/20</th>\n",
              "      <th>4/1/20</th>\n",
              "      <th>4/2/20</th>\n",
              "      <th>4/3/20</th>\n",
              "      <th>4/4/20</th>\n",
              "      <th>4/5/20</th>\n",
              "      <th>4/6/20</th>\n",
              "      <th>4/7/20</th>\n",
              "      <th>4/8/20</th>\n",
              "      <th>4/9/20</th>\n",
              "      <th>4/10/20</th>\n",
              "      <th>4/11/20</th>\n",
              "      <th>4/12/20</th>\n",
              "      <th>4/13/20</th>\n",
              "      <th>4/14/20</th>\n",
              "      <th>4/15/20</th>\n",
              "      <th>4/16/20</th>\n",
              "      <th>4/17/20</th>\n",
              "      <th>4/18/20</th>\n",
              "    </tr>\n",
              "  </thead>\n",
              "  <tbody>\n",
              "    <tr>\n",
              "      <th>1863</th>\n",
              "      <td>New York City, New York, US</td>\n",
              "      <td>0</td>\n",
              "      <td>0</td>\n",
              "      <td>0</td>\n",
              "      <td>0</td>\n",
              "      <td>0</td>\n",
              "      <td>0</td>\n",
              "      <td>0</td>\n",
              "      <td>0</td>\n",
              "      <td>0</td>\n",
              "      <td>0</td>\n",
              "      <td>0</td>\n",
              "      <td>0</td>\n",
              "      <td>0</td>\n",
              "      <td>0</td>\n",
              "      <td>0</td>\n",
              "      <td>0</td>\n",
              "      <td>0</td>\n",
              "      <td>0</td>\n",
              "      <td>0</td>\n",
              "      <td>0</td>\n",
              "      <td>0</td>\n",
              "      <td>0</td>\n",
              "      <td>0</td>\n",
              "      <td>0</td>\n",
              "      <td>0</td>\n",
              "      <td>0</td>\n",
              "      <td>0</td>\n",
              "      <td>0</td>\n",
              "      <td>0</td>\n",
              "      <td>0</td>\n",
              "      <td>0</td>\n",
              "      <td>0</td>\n",
              "      <td>0</td>\n",
              "      <td>0</td>\n",
              "      <td>0</td>\n",
              "      <td>0</td>\n",
              "      <td>0</td>\n",
              "      <td>0</td>\n",
              "      <td>0</td>\n",
              "      <td>...</td>\n",
              "      <td>25</td>\n",
              "      <td>55</td>\n",
              "      <td>95</td>\n",
              "      <td>154</td>\n",
              "      <td>269</td>\n",
              "      <td>269</td>\n",
              "      <td>463</td>\n",
              "      <td>814</td>\n",
              "      <td>1871</td>\n",
              "      <td>3954</td>\n",
              "      <td>5151</td>\n",
              "      <td>7530</td>\n",
              "      <td>9654</td>\n",
              "      <td>12305</td>\n",
              "      <td>14904</td>\n",
              "      <td>17856</td>\n",
              "      <td>21873</td>\n",
              "      <td>25573</td>\n",
              "      <td>29776</td>\n",
              "      <td>33768</td>\n",
              "      <td>37453</td>\n",
              "      <td>43119</td>\n",
              "      <td>47439</td>\n",
              "      <td>51809</td>\n",
              "      <td>57159</td>\n",
              "      <td>63306</td>\n",
              "      <td>67551</td>\n",
              "      <td>72181</td>\n",
              "      <td>76876</td>\n",
              "      <td>81803</td>\n",
              "      <td>87028</td>\n",
              "      <td>92384</td>\n",
              "      <td>98308</td>\n",
              "      <td>103208</td>\n",
              "      <td>106763</td>\n",
              "      <td>110465</td>\n",
              "      <td>118302</td>\n",
              "      <td>123146</td>\n",
              "      <td>127352</td>\n",
              "      <td>135572</td>\n",
              "    </tr>\n",
              "  </tbody>\n",
              "</table>\n",
              "<p>1 rows × 89 columns</p>\n",
              "</div>"
            ],
            "text/plain": [
              "                     Combined_Key 1/22/20 1/23/20  ... 4/16/20 4/17/20 4/18/20\n",
              "1863  New York City, New York, US       0       0  ...  123146  127352  135572\n",
              "\n",
              "[1 rows x 89 columns]"
            ]
          },
          "metadata": {
            "tags": []
          },
          "execution_count": 414
        }
      ]
    },
    {
      "cell_type": "code",
      "metadata": {
        "id": "X0MqgJZ4puSz",
        "colab_type": "code",
        "colab": {}
      },
      "source": [
        "list_of_dates= list(df_ny.columns)\n",
        "list_of_dates = list_of_dates[40:]\n",
        "\n",
        "list(df_ny.values)\n",
        "values = list(df_ny.iloc[0])[40:]"
      ],
      "execution_count": 0,
      "outputs": []
    },
    {
      "cell_type": "code",
      "metadata": {
        "id": "zNWU04Rep_n4",
        "colab_type": "code",
        "colab": {
          "base_uri": "https://localhost:8080/",
          "height": 662
        },
        "outputId": "08f0d1ab-3a3a-4a94-a6eb-4ceec2d3a028"
      },
      "source": [
        "data = {'Date':list_of_dates, 'Num of daily cases': values} \n",
        "df = pd.DataFrame(data)\n",
        "df.head(20)"
      ],
      "execution_count": 416,
      "outputs": [
        {
          "output_type": "execute_result",
          "data": {
            "text/html": [
              "<div>\n",
              "<style scoped>\n",
              "    .dataframe tbody tr th:only-of-type {\n",
              "        vertical-align: middle;\n",
              "    }\n",
              "\n",
              "    .dataframe tbody tr th {\n",
              "        vertical-align: top;\n",
              "    }\n",
              "\n",
              "    .dataframe thead th {\n",
              "        text-align: right;\n",
              "    }\n",
              "</style>\n",
              "<table border=\"1\" class=\"dataframe\">\n",
              "  <thead>\n",
              "    <tr style=\"text-align: right;\">\n",
              "      <th></th>\n",
              "      <th>Date</th>\n",
              "      <th>Num of daily cases</th>\n",
              "    </tr>\n",
              "  </thead>\n",
              "  <tbody>\n",
              "    <tr>\n",
              "      <th>0</th>\n",
              "      <td>3/1/20</td>\n",
              "      <td>0</td>\n",
              "    </tr>\n",
              "    <tr>\n",
              "      <th>1</th>\n",
              "      <td>3/2/20</td>\n",
              "      <td>1</td>\n",
              "    </tr>\n",
              "    <tr>\n",
              "      <th>2</th>\n",
              "      <td>3/3/20</td>\n",
              "      <td>1</td>\n",
              "    </tr>\n",
              "    <tr>\n",
              "      <th>3</th>\n",
              "      <td>3/4/20</td>\n",
              "      <td>1</td>\n",
              "    </tr>\n",
              "    <tr>\n",
              "      <th>4</th>\n",
              "      <td>3/5/20</td>\n",
              "      <td>4</td>\n",
              "    </tr>\n",
              "    <tr>\n",
              "      <th>5</th>\n",
              "      <td>3/6/20</td>\n",
              "      <td>11</td>\n",
              "    </tr>\n",
              "    <tr>\n",
              "      <th>6</th>\n",
              "      <td>3/7/20</td>\n",
              "      <td>11</td>\n",
              "    </tr>\n",
              "    <tr>\n",
              "      <th>7</th>\n",
              "      <td>3/8/20</td>\n",
              "      <td>12</td>\n",
              "    </tr>\n",
              "    <tr>\n",
              "      <th>8</th>\n",
              "      <td>3/9/20</td>\n",
              "      <td>19</td>\n",
              "    </tr>\n",
              "    <tr>\n",
              "      <th>9</th>\n",
              "      <td>3/10/20</td>\n",
              "      <td>25</td>\n",
              "    </tr>\n",
              "    <tr>\n",
              "      <th>10</th>\n",
              "      <td>3/11/20</td>\n",
              "      <td>55</td>\n",
              "    </tr>\n",
              "    <tr>\n",
              "      <th>11</th>\n",
              "      <td>3/12/20</td>\n",
              "      <td>95</td>\n",
              "    </tr>\n",
              "    <tr>\n",
              "      <th>12</th>\n",
              "      <td>3/13/20</td>\n",
              "      <td>154</td>\n",
              "    </tr>\n",
              "    <tr>\n",
              "      <th>13</th>\n",
              "      <td>3/14/20</td>\n",
              "      <td>269</td>\n",
              "    </tr>\n",
              "    <tr>\n",
              "      <th>14</th>\n",
              "      <td>3/15/20</td>\n",
              "      <td>269</td>\n",
              "    </tr>\n",
              "    <tr>\n",
              "      <th>15</th>\n",
              "      <td>3/16/20</td>\n",
              "      <td>463</td>\n",
              "    </tr>\n",
              "    <tr>\n",
              "      <th>16</th>\n",
              "      <td>3/17/20</td>\n",
              "      <td>814</td>\n",
              "    </tr>\n",
              "    <tr>\n",
              "      <th>17</th>\n",
              "      <td>3/18/20</td>\n",
              "      <td>1871</td>\n",
              "    </tr>\n",
              "    <tr>\n",
              "      <th>18</th>\n",
              "      <td>3/19/20</td>\n",
              "      <td>3954</td>\n",
              "    </tr>\n",
              "    <tr>\n",
              "      <th>19</th>\n",
              "      <td>3/20/20</td>\n",
              "      <td>5151</td>\n",
              "    </tr>\n",
              "  </tbody>\n",
              "</table>\n",
              "</div>"
            ],
            "text/plain": [
              "       Date  Num of daily cases\n",
              "0    3/1/20                   0\n",
              "1    3/2/20                   1\n",
              "2    3/3/20                   1\n",
              "3    3/4/20                   1\n",
              "4    3/5/20                   4\n",
              "5    3/6/20                  11\n",
              "6    3/7/20                  11\n",
              "7    3/8/20                  12\n",
              "8    3/9/20                  19\n",
              "9   3/10/20                  25\n",
              "10  3/11/20                  55\n",
              "11  3/12/20                  95\n",
              "12  3/13/20                 154\n",
              "13  3/14/20                 269\n",
              "14  3/15/20                 269\n",
              "15  3/16/20                 463\n",
              "16  3/17/20                 814\n",
              "17  3/18/20                1871\n",
              "18  3/19/20                3954\n",
              "19  3/20/20                5151"
            ]
          },
          "metadata": {
            "tags": []
          },
          "execution_count": 416
        }
      ]
    },
    {
      "cell_type": "code",
      "metadata": {
        "id": "Q1YI6KiXORn6",
        "colab_type": "code",
        "colab": {}
      },
      "source": [
        "dates = list(df['Date'])\n",
        "dates = pd.date_range(start=str(dates[0]),end=str(dates[-1]))\n",
        "dates = list(dates)\n",
        "\n",
        "\n",
        "list_of_dates =  []\n",
        "for i in range(0, len(dates)):\n",
        "  list_of_dates.append(dates[i].strftime(\"%b-%d\"))\n",
        "\n",
        "x_ticks= [list_of_dates[i] for i in range(0, len(list_of_dates), 5)]"
      ],
      "execution_count": 0,
      "outputs": []
    },
    {
      "cell_type": "code",
      "metadata": {
        "id": "k_ueW6fdqaZ-",
        "colab_type": "code",
        "outputId": "6502aa30-02f6-4817-80d2-69cf21b3809a",
        "colab": {
          "base_uri": "https://localhost:8080/",
          "height": 761
        }
      },
      "source": [
        "from matplotlib import pyplot as plt\n",
        "\n",
        "plt.figure(figsize = (18,9))\n",
        "plt.yscale(\"log\")\n",
        "\n",
        "plt.title(\"Num of daily COVID-19 cases in NYC\", fontsize = 18)\n",
        "plt.plot(list_of_dates, df['Num of daily cases'])\n",
        "plt.ylabel(\"Number of daily cases\")\n",
        "plt.xlabel(\"Dates (2020)\")\n",
        "plt.xticks(x_ticks)"
      ],
      "execution_count": 478,
      "outputs": [
        {
          "output_type": "execute_result",
          "data": {
            "text/plain": [
              "([<matplotlib.axis.XTick at 0x7f0dd6559c88>,\n",
              "  <matplotlib.axis.XTick at 0x7f0dd6559c50>,\n",
              "  <matplotlib.axis.XTick at 0x7f0dd6559978>,\n",
              "  <matplotlib.axis.XTick at 0x7f0dd64f3eb8>,\n",
              "  <matplotlib.axis.XTick at 0x7f0dd64f74a8>,\n",
              "  <matplotlib.axis.XTick at 0x7f0dd64f7940>,\n",
              "  <matplotlib.axis.XTick at 0x7f0dd64f7dd8>,\n",
              "  <matplotlib.axis.XTick at 0x7f0dd64fb2b0>,\n",
              "  <matplotlib.axis.XTick at 0x7f0dd64f7eb8>,\n",
              "  <matplotlib.axis.XTick at 0x7f0dd64fb1d0>],\n",
              " <a list of 10 Text major ticklabel objects>)"
            ]
          },
          "metadata": {
            "tags": []
          },
          "execution_count": 478
        },
        {
          "output_type": "display_data",
          "data": {
            "image/png": "[encoded data removed]",
            "text/plain": [
              "<Figure size 1296x648 with 1 Axes>"
            ]
          },
          "metadata": {
            "tags": [],
            "needs_background": "light"
          }
        }
      ]
    },
    {
      "cell_type": "markdown",
      "metadata": {
        "id": "7Qah-xMcTPOc",
        "colab_type": "text"
      },
      "source": [
        "### Setting up our baseline model\n",
        "\n",
        "The parameters of the ARIMA model are defined as follows:\n",
        "\n",
        "* p: The number of lag observations included in the model, also called the lag order.\n",
        "* d: The number of times that the raw observations are differenced, also called the degree of differencing.\n",
        "* q: The size of the moving average window, also called the order of moving average."
      ]
    },
    {
      "cell_type": "markdown",
      "metadata": {
        "id": "XzfQw1QPT2ts",
        "colab_type": "text"
      },
      "source": [
        "For the purpose of this analysis, I have chosen `order=(3,0,0)`."
      ]
    },
    {
      "cell_type": "code",
      "metadata": {
        "id": "hoh0_qWdqck-",
        "colab_type": "code",
        "colab": {}
      },
      "source": [
        "# create a differenced series\n",
        "def difference(dataset, interval=1):\n",
        "\tdiff = list()\n",
        "\tfor i in range(interval, len(dataset)):\n",
        "\t\tvalue = dataset[i] - dataset[i - interval]\n",
        "\t\tdiff.append(value)\n",
        "\treturn numpy.array(diff)"
      ],
      "execution_count": 0,
      "outputs": []
    },
    {
      "cell_type": "code",
      "metadata": {
        "id": "XhciNq4kr0Z4",
        "colab_type": "code",
        "colab": {}
      },
      "source": [
        "# invert differenced value\n",
        "def inverse_difference(history, yhat, interval=1):\n",
        "\treturn yhat + history[-interval]"
      ],
      "execution_count": 0,
      "outputs": []
    },
    {
      "cell_type": "code",
      "metadata": {
        "id": "rS8DZ4V2r1fr",
        "colab_type": "code",
        "colab": {
          "base_uri": "https://localhost:8080/",
          "height": 34
        },
        "outputId": "b2f07b13-5eaa-4544-ae93-1d52557232d8"
      },
      "source": [
        "series = df['Num of daily cases']\n",
        "series.index = df['Date']\n",
        "series.shape"
      ],
      "execution_count": 421,
      "outputs": [
        {
          "output_type": "execute_result",
          "data": {
            "text/plain": [
              "(49,)"
            ]
          },
          "metadata": {
            "tags": []
          },
          "execution_count": 421
        }
      ]
    },
    {
      "cell_type": "markdown",
      "metadata": {
        "id": "gnn_J7CaVzi7",
        "colab_type": "text"
      },
      "source": [
        "### Now we'll split dataset in training and validation. "
      ]
    },
    {
      "cell_type": "code",
      "metadata": {
        "id": "EDVej11tr7bS",
        "colab_type": "code",
        "colab": {
          "base_uri": "https://localhost:8080/",
          "height": 52
        },
        "outputId": "8d807a85-abd2-4175-d1e6-a6819614bc10"
      },
      "source": [
        "validation_size =round(len(series)*.2)\n",
        "split_point = len(series) -validation_size \n",
        "\n",
        "print(\"The size of our validation set is: {}, which corresponds to 20% of our examples.\".format(validation_size))\n",
        "\n",
        "dataset, validation = series[0:split_point], series[split_point:]\n",
        "\n",
        "print(\"The training set goes from {} to {} and the validation set goes from {} to {}\".format(dataset.index[0], dataset.index[-1], validation.index[0], validation.index[-1] ))"
      ],
      "execution_count": 422,
      "outputs": [
        {
          "output_type": "stream",
          "text": [
            "The size of our validation set is: 10, which corresponds to 20% of our examples.\n",
            "The training set goes from 3/1/20 to 4/8/20 and the validation set goes from 4/9/20 to 4/18/20\n"
          ],
          "name": "stdout"
        }
      ]
    },
    {
      "cell_type": "code",
      "metadata": {
        "id": "Avcm6z15r9YC",
        "colab_type": "code",
        "outputId": "35dfdbb1-5fa4-4a70-bf1f-bb21cba50b3c",
        "colab": {
          "base_uri": "https://localhost:8080/",
          "height": 572
        }
      },
      "source": [
        "from pandas import read_csv\n",
        "from statsmodels.tsa.arima_model import ARIMA\n",
        "import numpy\n",
        " \n",
        "# create a differenced series\n",
        "def difference(dataset, interval=1):\n",
        "\tdiff = list()\n",
        "\tfor i in range(interval, len(dataset)):\n",
        "\t\tvalue = dataset[i] - dataset[i - interval]\n",
        "\t\tdiff.append(value)\n",
        "\treturn numpy.array(diff)\n",
        " \n",
        "# load dataset\n",
        "# seasonal difference\n",
        "X = dataset.values\n",
        "days_in_year = 1\n",
        "differenced = difference(X, days_in_year)\n",
        "# fit model\n",
        "model = ARIMA(differenced, order=(7,0,0))\n",
        "model_fit = model.fit(disp=0)\n",
        "# print summary of fit model\n",
        "print(model_fit.summary())"
      ],
      "execution_count": 423,
      "outputs": [
        {
          "output_type": "stream",
          "text": [
            "                              ARMA Model Results                              \n",
            "==============================================================================\n",
            "Dep. Variable:                      y   No. Observations:                   38\n",
            "Model:                     ARMA(7, 0)   Log Likelihood                -293.533\n",
            "Method:                       css-mle   S.D. of innovations            515.376\n",
            "Date:                Sun, 19 Apr 2020   AIC                            605.066\n",
            "Time:                        23:50:45   BIC                            619.804\n",
            "Sample:                             0   HQIC                           610.310\n",
            "                                                                              \n",
            "==============================================================================\n",
            "                 coef    std err          z      P>|z|      [0.025      0.975]\n",
            "------------------------------------------------------------------------------\n",
            "const       1935.4679    879.539      2.201      0.036     211.602    3659.334\n",
            "ar.L1.y        0.3081      0.161      1.919      0.065      -0.007       0.623\n",
            "ar.L2.y        0.3697      0.156      2.371      0.024       0.064       0.675\n",
            "ar.L3.y        0.4991      0.169      2.950      0.006       0.167       0.831\n",
            "ar.L4.y        0.3642      0.181      2.015      0.053       0.010       0.718\n",
            "ar.L5.y       -0.1214      0.191     -0.634      0.531      -0.497       0.254\n",
            "ar.L6.y       -0.3457      0.173     -1.999      0.055      -0.685      -0.007\n",
            "ar.L7.y       -0.1658      0.180     -0.920      0.365      -0.519       0.187\n",
            "                                    Roots                                    \n",
            "=============================================================================\n",
            "                  Real          Imaginary           Modulus         Frequency\n",
            "-----------------------------------------------------------------------------\n",
            "AR.1            1.0269           -0.1173j            1.0336           -0.0181\n",
            "AR.2            1.0269           +0.1173j            1.0336            0.0181\n",
            "AR.3           -0.0366           -1.1623j            1.1628           -0.2550\n",
            "AR.4           -0.0366           +1.1623j            1.1628            0.2550\n",
            "AR.5           -1.6526           -0.0000j            1.6526           -0.5000\n",
            "AR.6           -1.2065           -1.0349j            1.5895           -0.3872\n",
            "AR.7           -1.2065           +1.0349j            1.5895            0.3872\n",
            "-----------------------------------------------------------------------------\n"
          ],
          "name": "stdout"
        }
      ]
    },
    {
      "cell_type": "code",
      "metadata": {
        "id": "TdaFNFDguGJf",
        "colab_type": "code",
        "outputId": "713633ac-60fa-4840-fd58-601a36bbf9f0",
        "colab": {
          "base_uri": "https://localhost:8080/",
          "height": 34
        }
      },
      "source": [
        "len(dataset)"
      ],
      "execution_count": 424,
      "outputs": [
        {
          "output_type": "execute_result",
          "data": {
            "text/plain": [
              "39"
            ]
          },
          "metadata": {
            "tags": []
          },
          "execution_count": 424
        }
      ]
    },
    {
      "cell_type": "code",
      "metadata": {
        "id": "Ad1NR4-NvPRb",
        "colab_type": "code",
        "colab": {
          "base_uri": "https://localhost:8080/",
          "height": 34
        },
        "outputId": "d7856c0b-6117-4c22-a441-5cfcb85e04a3"
      },
      "source": [
        "len(validation)"
      ],
      "execution_count": 425,
      "outputs": [
        {
          "output_type": "execute_result",
          "data": {
            "text/plain": [
              "10"
            ]
          },
          "metadata": {
            "tags": []
          },
          "execution_count": 425
        }
      ]
    },
    {
      "cell_type": "code",
      "metadata": {
        "id": "P6SlqbZwtIRQ",
        "colab_type": "code",
        "colab": {}
      },
      "source": [
        "# one-step out of sample forecast\n",
        "start_index = len(differenced)\n",
        "end_index = len(differenced)\n",
        "forecast = model_fit.predict(start=start_index, end=end_index)"
      ],
      "execution_count": 0,
      "outputs": []
    },
    {
      "cell_type": "code",
      "metadata": {
        "id": "Mh_SOXmbtPfo",
        "colab_type": "code",
        "outputId": "965da0a2-6d5c-4c72-b7e2-2a8dd2108055",
        "colab": {
          "base_uri": "https://localhost:8080/",
          "height": 34
        }
      },
      "source": [
        "from pandas import datetime\n",
        "# invert the differenced forecast to something usable\n",
        "forecast = inverse_difference(X, forecast, days_in_year)\n",
        "print('Forecast: %f' % forecast)"
      ],
      "execution_count": 427,
      "outputs": [
        {
          "output_type": "stream",
          "text": [
            "Forecast: 85771.094729\n"
          ],
          "name": "stdout"
        }
      ]
    },
    {
      "cell_type": "code",
      "metadata": {
        "id": "bZ5q-LBKtQo_",
        "colab_type": "code",
        "colab": {}
      },
      "source": [
        "# multi-step out-of-sample forecast\n",
        "num_steps = 10\n",
        "forecast = model_fit.forecast(steps=num_steps)[0]"
      ],
      "execution_count": 0,
      "outputs": []
    },
    {
      "cell_type": "code",
      "metadata": {
        "id": "NQ7ivJQ9tS92",
        "colab_type": "code",
        "outputId": "0e6f52ac-19f9-49ea-dfd8-6f2b0d95ad41",
        "colab": {
          "base_uri": "https://localhost:8080/",
          "height": 190
        }
      },
      "source": [
        "forecast_one_week_ahead = []\n",
        "history = [x for x in X]\n",
        "day = 1\n",
        "for yhat in forecast:\n",
        "\tinverted = inverse_difference(history, yhat, days_in_year)\n",
        "\tprint('Day %d: %f' % (day, inverted))\n",
        "\thistory.append(inverted)\n",
        "\tday += 1"
      ],
      "execution_count": 429,
      "outputs": [
        {
          "output_type": "stream",
          "text": [
            "Day 1: 85771.094729\n",
            "Day 2: 89495.019766\n",
            "Day 3: 93407.251220\n",
            "Day 4: 97067.539606\n",
            "Day 5: 100134.304754\n",
            "Day 6: 102955.519937\n",
            "Day 7: 105747.126035\n",
            "Day 8: 108271.406274\n",
            "Day 9: 110369.656892\n",
            "Day 10: 112261.517852\n"
          ],
          "name": "stdout"
        }
      ]
    },
    {
      "cell_type": "code",
      "metadata": {
        "id": "50Nr9sCHwLe3",
        "colab_type": "code",
        "colab": {}
      },
      "source": [
        "pd.DataFrame(history).to_csv(\"history.csv\")"
      ],
      "execution_count": 0,
      "outputs": []
    },
    {
      "cell_type": "code",
      "metadata": {
        "id": "WRptEyQgYCi-",
        "colab_type": "code",
        "colab": {
          "base_uri": "https://localhost:8080/",
          "height": 225
        },
        "outputId": "9e912cd8-65ed-40fd-f39e-0c63a3cc9dfc"
      },
      "source": [
        "validation[:num_steps]"
      ],
      "execution_count": 431,
      "outputs": [
        {
          "output_type": "execute_result",
          "data": {
            "text/plain": [
              "Date\n",
              "4/9/20      87028\n",
              "4/10/20     92384\n",
              "4/11/20     98308\n",
              "4/12/20    103208\n",
              "4/13/20    106763\n",
              "4/14/20    110465\n",
              "4/15/20    118302\n",
              "4/16/20    123146\n",
              "4/17/20    127352\n",
              "4/18/20    135572\n",
              "Name: Num of daily cases, dtype: int64"
            ]
          },
          "metadata": {
            "tags": []
          },
          "execution_count": 431
        }
      ]
    },
    {
      "cell_type": "code",
      "metadata": {
        "id": "uJ050X4kXv_v",
        "colab_type": "code",
        "colab": {
          "base_uri": "https://localhost:8080/",
          "height": 262
        },
        "outputId": "fbfcfb12-7f95-4ee2-f311-13286237828f"
      },
      "source": [
        "print(\"For the next {} days, from {} the values forecasted are: {}. \\nThe true values are:{} \".format(num_steps, dataset.index[-1], history[-num_steps:], validation[:num_steps]))"
      ],
      "execution_count": 432,
      "outputs": [
        {
          "output_type": "stream",
          "text": [
            "For the next 10 days, from 4/8/20 the values forecasted are: [85771.09472933489, 89495.01976560151, 93407.25122042082, 97067.53960558794, 100134.3047537031, 102955.51993689436, 105747.12603464875, 108271.40627377042, 110369.65689195148, 112261.51785234839]. \n",
            "The true values are:Date\n",
            "4/9/20      87028\n",
            "4/10/20     92384\n",
            "4/11/20     98308\n",
            "4/12/20    103208\n",
            "4/13/20    106763\n",
            "4/14/20    110465\n",
            "4/15/20    118302\n",
            "4/16/20    123146\n",
            "4/17/20    127352\n",
            "4/18/20    135572\n",
            "Name: Num of daily cases, dtype: int64 \n"
          ],
          "name": "stdout"
        }
      ]
    },
    {
      "cell_type": "code",
      "metadata": {
        "id": "XHpjkb8OtUP_",
        "colab_type": "code",
        "colab": {}
      },
      "source": [
        "import numpy as np\n",
        "history_np = np.array(history)"
      ],
      "execution_count": 0,
      "outputs": []
    },
    {
      "cell_type": "code",
      "metadata": {
        "id": "MKMnr7VxtkFk",
        "colab_type": "code",
        "outputId": "38eea55b-5238-4e73-eb06-148f22edae24",
        "colab": {
          "base_uri": "https://localhost:8080/",
          "height": 412
        }
      },
      "source": [
        "plt.figure(figsize = (10,6))\n",
        "\n",
        "plt.yscale(\"log\")\n",
        "plt.plot(list_of_dates, list(series)[-50:], label = 'original dataset' )\n",
        "plt.plot(list_of_dates[-10:], history[-10:], label = 'prediction' , ls = 'dashed')\n",
        "plt.xticks(x_ticks)\n",
        "plt.legend()\n",
        "\n",
        "plt.title(\"Num of daily COVID-19 cases in NYC\", fontsize = 18)\n"
      ],
      "execution_count": 473,
      "outputs": [
        {
          "output_type": "execute_result",
          "data": {
            "text/plain": [
              "Text(0.5, 1.0, 'Num of daily COVID-19 cases in NYC')"
            ]
          },
          "metadata": {
            "tags": []
          },
          "execution_count": 473
        },
        {
          "output_type": "display_data",
          "data": {
            "image/png": "[encoded data removed]",
            "text/plain": [
              "<Figure size 720x432 with 1 Axes>"
            ]
          },
          "metadata": {
            "tags": [],
            "needs_background": "light"
          }
        }
      ]
    },
    {
      "cell_type": "code",
      "metadata": {
        "id": "ALka9esu4AOs",
        "colab_type": "code",
        "colab": {}
      },
      "source": [
        "true_values = list(series)[-10:]"
      ],
      "execution_count": 0,
      "outputs": []
    },
    {
      "cell_type": "code",
      "metadata": {
        "id": "6OE9Imk34H_k",
        "colab_type": "code",
        "colab": {}
      },
      "source": [
        "predicted_values = list(history[-10:])"
      ],
      "execution_count": 0,
      "outputs": []
    },
    {
      "cell_type": "code",
      "metadata": {
        "id": "M9maPlHD4M06",
        "colab_type": "code",
        "colab": {}
      },
      "source": [
        "data = {'true_values': true_values, \n",
        "        'predicted_values': predicted_values}\n",
        "comparison = pd.DataFrame(data)"
      ],
      "execution_count": 0,
      "outputs": []
    },
    {
      "cell_type": "code",
      "metadata": {
        "id": "5ThM9qQc4nJJ",
        "colab_type": "code",
        "colab": {
          "base_uri": "https://localhost:8080/",
          "height": 356
        },
        "outputId": "8ebbb34b-0cf1-43fb-c0ef-eb94ef5e7eab"
      },
      "source": [
        "log_comparison = np.log10(comparison)\n",
        "log_comparison\n"
      ],
      "execution_count": 453,
      "outputs": [
        {
          "output_type": "execute_result",
          "data": {
            "text/html": [
              "<div>\n",
              "<style scoped>\n",
              "    .dataframe tbody tr th:only-of-type {\n",
              "        vertical-align: middle;\n",
              "    }\n",
              "\n",
              "    .dataframe tbody tr th {\n",
              "        vertical-align: top;\n",
              "    }\n",
              "\n",
              "    .dataframe thead th {\n",
              "        text-align: right;\n",
              "    }\n",
              "</style>\n",
              "<table border=\"1\" class=\"dataframe\">\n",
              "  <thead>\n",
              "    <tr style=\"text-align: right;\">\n",
              "      <th></th>\n",
              "      <th>true_values</th>\n",
              "      <th>predicted_values</th>\n",
              "    </tr>\n",
              "  </thead>\n",
              "  <tbody>\n",
              "    <tr>\n",
              "      <th>0</th>\n",
              "      <td>4.939659</td>\n",
              "      <td>4.933341</td>\n",
              "    </tr>\n",
              "    <tr>\n",
              "      <th>1</th>\n",
              "      <td>4.965597</td>\n",
              "      <td>4.951799</td>\n",
              "    </tr>\n",
              "    <tr>\n",
              "      <th>2</th>\n",
              "      <td>4.992589</td>\n",
              "      <td>4.970381</td>\n",
              "    </tr>\n",
              "    <tr>\n",
              "      <th>3</th>\n",
              "      <td>5.013713</td>\n",
              "      <td>4.987074</td>\n",
              "    </tr>\n",
              "    <tr>\n",
              "      <th>4</th>\n",
              "      <td>5.028421</td>\n",
              "      <td>5.000583</td>\n",
              "    </tr>\n",
              "    <tr>\n",
              "      <th>5</th>\n",
              "      <td>5.043225</td>\n",
              "      <td>5.012650</td>\n",
              "    </tr>\n",
              "    <tr>\n",
              "      <th>6</th>\n",
              "      <td>5.072992</td>\n",
              "      <td>5.024269</td>\n",
              "    </tr>\n",
              "    <tr>\n",
              "      <th>7</th>\n",
              "      <td>5.090420</td>\n",
              "      <td>5.034514</td>\n",
              "    </tr>\n",
              "    <tr>\n",
              "      <th>8</th>\n",
              "      <td>5.105006</td>\n",
              "      <td>5.042850</td>\n",
              "    </tr>\n",
              "    <tr>\n",
              "      <th>9</th>\n",
              "      <td>5.132170</td>\n",
              "      <td>5.050231</td>\n",
              "    </tr>\n",
              "  </tbody>\n",
              "</table>\n",
              "</div>"
            ],
            "text/plain": [
              "   true_values  predicted_values\n",
              "0     4.939659          4.933341\n",
              "1     4.965597          4.951799\n",
              "2     4.992589          4.970381\n",
              "3     5.013713          4.987074\n",
              "4     5.028421          5.000583\n",
              "5     5.043225          5.012650\n",
              "6     5.072992          5.024269\n",
              "7     5.090420          5.034514\n",
              "8     5.105006          5.042850\n",
              "9     5.132170          5.050231"
            ]
          },
          "metadata": {
            "tags": []
          },
          "execution_count": 453
        }
      ]
    },
    {
      "cell_type": "code",
      "metadata": {
        "id": "GlpY3GZT43xW",
        "colab_type": "code",
        "colab": {}
      },
      "source": [
        "log_comparison['error']= (log_comparison['true_values'] - log_comparison['predicted_values'])/log_comparison['true_values']"
      ],
      "execution_count": 0,
      "outputs": []
    },
    {
      "cell_type": "markdown",
      "metadata": {
        "id": "bjyP8zGs53RQ",
        "colab_type": "text"
      },
      "source": [
        "On the plot below we can see that the prediction error is very low even for far ahead values. \n",
        "\n",
        "Forecasting using ARIMA can be thought of as a random process modeled as a random walk, where variance increases with time. Since the error depends on the variance, it also increases linearly (parabolically) with time.\n",
        "\n",
        "The ARIMA model was trained on only 39 examples and it has been able to predict 10 days ahead with less than 2% error.   "
      ]
    },
    {
      "cell_type": "code",
      "metadata": {
        "id": "QIMjFVaX5JZc",
        "colab_type": "code",
        "colab": {
          "base_uri": "https://localhost:8080/",
          "height": 425
        },
        "outputId": "b6195550-f762-4f52-f899-5e5823ed7003"
      },
      "source": [
        "log_comparison['error']\n",
        "\n",
        "plt.figure(figsize = (10,6))\n",
        "\n",
        "plt.plot(list_of_dates[-10:], log_comparison['error'], label = 'original dataset' )\n",
        "plt.title(\"Error on out-of-sample forecasted values\", fontsize = 18)\n",
        "plt.ylabel(\"Percentage error\")\n",
        "plt.xlabel(\"Dates ahead\")\n",
        "\n",
        "plt.legend()\n"
      ],
      "execution_count": 480,
      "outputs": [
        {
          "output_type": "execute_result",
          "data": {
            "text/plain": [
              "<matplotlib.legend.Legend at 0x7f0dd6313dd8>"
            ]
          },
          "metadata": {
            "tags": []
          },
          "execution_count": 480
        },
        {
          "output_type": "display_data",
          "data": {
            "image/png": "[encoded data removed]",
            "text/plain": [
              "<Figure size 720x432 with 1 Axes>"
            ]
          },
          "metadata": {
            "tags": [],
            "needs_background": "light"
          }
        }
      ]
    },
    {
      "cell_type": "markdown",
      "metadata": {
        "id": "1AbusAXC7ZuT",
        "colab_type": "text"
      },
      "source": [
        "### **Twitter Sentiment Analysis**\n",
        "The following section performs sentiment analysis on Twitter data"
      ]
    },
    {
      "cell_type": "code",
      "metadata": {
        "id": "Z-AVNMVR9dz4",
        "colab_type": "code",
        "colab": {
          "base_uri": "https://localhost:8080/",
          "height": 146
        },
        "outputId": "e6365c2a-9283-49b7-a075-b1f754de646e"
      },
      "source": [
        "url = \"https://raw.githubusercontent.com/CSSEGISandData/COVID-19/master/csse_covid_19_data/csse_covid_19_time_series/time_series_covid19_confirmed_US.csv\"\n",
        "series = read_csv(url, header=0)\n",
        "series[series['Combined_Key'].str.match('New York')]"
      ],
      "execution_count": 492,
      "outputs": [
        {
          "output_type": "execute_result",
          "data": {
            "text/html": [
              "<div>\n",
              "<style scoped>\n",
              "    .dataframe tbody tr th:only-of-type {\n",
              "        vertical-align: middle;\n",
              "    }\n",
              "\n",
              "    .dataframe tbody tr th {\n",
              "        vertical-align: top;\n",
              "    }\n",
              "\n",
              "    .dataframe thead th {\n",
              "        text-align: right;\n",
              "    }\n",
              "</style>\n",
              "<table border=\"1\" class=\"dataframe\">\n",
              "  <thead>\n",
              "    <tr style=\"text-align: right;\">\n",
              "      <th></th>\n",
              "      <th>UID</th>\n",
              "      <th>iso2</th>\n",
              "      <th>iso3</th>\n",
              "      <th>code3</th>\n",
              "      <th>FIPS</th>\n",
              "      <th>Admin2</th>\n",
              "      <th>Province_State</th>\n",
              "      <th>Country_Region</th>\n",
              "      <th>Lat</th>\n",
              "      <th>Long_</th>\n",
              "      <th>Combined_Key</th>\n",
              "      <th>1/22/20</th>\n",
              "      <th>1/23/20</th>\n",
              "      <th>1/24/20</th>\n",
              "      <th>1/25/20</th>\n",
              "      <th>1/26/20</th>\n",
              "      <th>1/27/20</th>\n",
              "      <th>1/28/20</th>\n",
              "      <th>1/29/20</th>\n",
              "      <th>1/30/20</th>\n",
              "      <th>1/31/20</th>\n",
              "      <th>2/1/20</th>\n",
              "      <th>2/2/20</th>\n",
              "      <th>2/3/20</th>\n",
              "      <th>2/4/20</th>\n",
              "      <th>2/5/20</th>\n",
              "      <th>2/6/20</th>\n",
              "      <th>2/7/20</th>\n",
              "      <th>2/8/20</th>\n",
              "      <th>2/9/20</th>\n",
              "      <th>2/10/20</th>\n",
              "      <th>2/11/20</th>\n",
              "      <th>2/12/20</th>\n",
              "      <th>2/13/20</th>\n",
              "      <th>2/14/20</th>\n",
              "      <th>2/15/20</th>\n",
              "      <th>2/16/20</th>\n",
              "      <th>2/17/20</th>\n",
              "      <th>2/18/20</th>\n",
              "      <th>2/19/20</th>\n",
              "      <th>...</th>\n",
              "      <th>3/11/20</th>\n",
              "      <th>3/12/20</th>\n",
              "      <th>3/13/20</th>\n",
              "      <th>3/14/20</th>\n",
              "      <th>3/15/20</th>\n",
              "      <th>3/16/20</th>\n",
              "      <th>3/17/20</th>\n",
              "      <th>3/18/20</th>\n",
              "      <th>3/19/20</th>\n",
              "      <th>3/20/20</th>\n",
              "      <th>3/21/20</th>\n",
              "      <th>3/22/20</th>\n",
              "      <th>3/23/20</th>\n",
              "      <th>3/24/20</th>\n",
              "      <th>3/25/20</th>\n",
              "      <th>3/26/20</th>\n",
              "      <th>3/27/20</th>\n",
              "      <th>3/28/20</th>\n",
              "      <th>3/29/20</th>\n",
              "      <th>3/30/20</th>\n",
              "      <th>3/31/20</th>\n",
              "      <th>4/1/20</th>\n",
              "      <th>4/2/20</th>\n",
              "      <th>4/3/20</th>\n",
              "      <th>4/4/20</th>\n",
              "      <th>4/5/20</th>\n",
              "      <th>4/6/20</th>\n",
              "      <th>4/7/20</th>\n",
              "      <th>4/8/20</th>\n",
              "      <th>4/9/20</th>\n",
              "      <th>4/10/20</th>\n",
              "      <th>4/11/20</th>\n",
              "      <th>4/12/20</th>\n",
              "      <th>4/13/20</th>\n",
              "      <th>4/14/20</th>\n",
              "      <th>4/15/20</th>\n",
              "      <th>4/16/20</th>\n",
              "      <th>4/17/20</th>\n",
              "      <th>4/18/20</th>\n",
              "      <th>4/19/20</th>\n",
              "    </tr>\n",
              "  </thead>\n",
              "  <tbody>\n",
              "    <tr>\n",
              "      <th>1863</th>\n",
              "      <td>84036061</td>\n",
              "      <td>US</td>\n",
              "      <td>USA</td>\n",
              "      <td>840</td>\n",
              "      <td>36061.0</td>\n",
              "      <td>New York</td>\n",
              "      <td>New York</td>\n",
              "      <td>US</td>\n",
              "      <td>40.767273</td>\n",
              "      <td>-73.971526</td>\n",
              "      <td>New York City, New York, US</td>\n",
              "      <td>0</td>\n",
              "      <td>0</td>\n",
              "      <td>0</td>\n",
              "      <td>0</td>\n",
              "      <td>0</td>\n",
              "      <td>0</td>\n",
              "      <td>0</td>\n",
              "      <td>0</td>\n",
              "      <td>0</td>\n",
              "      <td>0</td>\n",
              "      <td>0</td>\n",
              "      <td>0</td>\n",
              "      <td>0</td>\n",
              "      <td>0</td>\n",
              "      <td>0</td>\n",
              "      <td>0</td>\n",
              "      <td>0</td>\n",
              "      <td>0</td>\n",
              "      <td>0</td>\n",
              "      <td>0</td>\n",
              "      <td>0</td>\n",
              "      <td>0</td>\n",
              "      <td>0</td>\n",
              "      <td>0</td>\n",
              "      <td>0</td>\n",
              "      <td>0</td>\n",
              "      <td>0</td>\n",
              "      <td>0</td>\n",
              "      <td>0</td>\n",
              "      <td>...</td>\n",
              "      <td>55</td>\n",
              "      <td>95</td>\n",
              "      <td>154</td>\n",
              "      <td>269</td>\n",
              "      <td>269</td>\n",
              "      <td>463</td>\n",
              "      <td>814</td>\n",
              "      <td>1871</td>\n",
              "      <td>3954</td>\n",
              "      <td>5151</td>\n",
              "      <td>7530</td>\n",
              "      <td>9654</td>\n",
              "      <td>12305</td>\n",
              "      <td>14904</td>\n",
              "      <td>17856</td>\n",
              "      <td>21873</td>\n",
              "      <td>25573</td>\n",
              "      <td>29776</td>\n",
              "      <td>33768</td>\n",
              "      <td>37453</td>\n",
              "      <td>43119</td>\n",
              "      <td>47439</td>\n",
              "      <td>51809</td>\n",
              "      <td>57159</td>\n",
              "      <td>63306</td>\n",
              "      <td>67551</td>\n",
              "      <td>72181</td>\n",
              "      <td>76876</td>\n",
              "      <td>81803</td>\n",
              "      <td>87028</td>\n",
              "      <td>92384</td>\n",
              "      <td>98308</td>\n",
              "      <td>103208</td>\n",
              "      <td>106763</td>\n",
              "      <td>110465</td>\n",
              "      <td>118302</td>\n",
              "      <td>123146</td>\n",
              "      <td>127352</td>\n",
              "      <td>135572</td>\n",
              "      <td>138700</td>\n",
              "    </tr>\n",
              "  </tbody>\n",
              "</table>\n",
              "<p>1 rows × 100 columns</p>\n",
              "</div>"
            ],
            "text/plain": [
              "           UID iso2 iso3  code3  ...  4/16/20 4/17/20 4/18/20 4/19/20\n",
              "1863  84036061   US  USA    840  ...   123146  127352  135572  138700\n",
              "\n",
              "[1 rows x 100 columns]"
            ]
          },
          "metadata": {
            "tags": []
          },
          "execution_count": 492
        }
      ]
    },
    {
      "cell_type": "code",
      "metadata": {
        "id": "ikboLvkgv9sw",
        "colab_type": "code",
        "colab": {}
      },
      "source": [
        "df = pd.DataFrame(series)\n",
        "df_ny = df.iloc[1863]\n",
        "df_ny = pd.DataFrame(df_ny)\n",
        "df_ny = df_ny.T"
      ],
      "execution_count": 0,
      "outputs": []
    },
    {
      "cell_type": "code",
      "metadata": {
        "id": "s8pMAnkO9sv9",
        "colab_type": "code",
        "colab": {
          "base_uri": "https://localhost:8080/",
          "height": 146
        },
        "outputId": "8539e643-3625-4426-9a54-771a2658afde"
      },
      "source": [
        "df_ny"
      ],
      "execution_count": 494,
      "outputs": [
        {
          "output_type": "execute_result",
          "data": {
            "text/html": [
              "<div>\n",
              "<style scoped>\n",
              "    .dataframe tbody tr th:only-of-type {\n",
              "        vertical-align: middle;\n",
              "    }\n",
              "\n",
              "    .dataframe tbody tr th {\n",
              "        vertical-align: top;\n",
              "    }\n",
              "\n",
              "    .dataframe thead th {\n",
              "        text-align: right;\n",
              "    }\n",
              "</style>\n",
              "<table border=\"1\" class=\"dataframe\">\n",
              "  <thead>\n",
              "    <tr style=\"text-align: right;\">\n",
              "      <th></th>\n",
              "      <th>UID</th>\n",
              "      <th>iso2</th>\n",
              "      <th>iso3</th>\n",
              "      <th>code3</th>\n",
              "      <th>FIPS</th>\n",
              "      <th>Admin2</th>\n",
              "      <th>Province_State</th>\n",
              "      <th>Country_Region</th>\n",
              "      <th>Lat</th>\n",
              "      <th>Long_</th>\n",
              "      <th>Combined_Key</th>\n",
              "      <th>1/22/20</th>\n",
              "      <th>1/23/20</th>\n",
              "      <th>1/24/20</th>\n",
              "      <th>1/25/20</th>\n",
              "      <th>1/26/20</th>\n",
              "      <th>1/27/20</th>\n",
              "      <th>1/28/20</th>\n",
              "      <th>1/29/20</th>\n",
              "      <th>1/30/20</th>\n",
              "      <th>1/31/20</th>\n",
              "      <th>2/1/20</th>\n",
              "      <th>2/2/20</th>\n",
              "      <th>2/3/20</th>\n",
              "      <th>2/4/20</th>\n",
              "      <th>2/5/20</th>\n",
              "      <th>2/6/20</th>\n",
              "      <th>2/7/20</th>\n",
              "      <th>2/8/20</th>\n",
              "      <th>2/9/20</th>\n",
              "      <th>2/10/20</th>\n",
              "      <th>2/11/20</th>\n",
              "      <th>2/12/20</th>\n",
              "      <th>2/13/20</th>\n",
              "      <th>2/14/20</th>\n",
              "      <th>2/15/20</th>\n",
              "      <th>2/16/20</th>\n",
              "      <th>2/17/20</th>\n",
              "      <th>2/18/20</th>\n",
              "      <th>2/19/20</th>\n",
              "      <th>...</th>\n",
              "      <th>3/11/20</th>\n",
              "      <th>3/12/20</th>\n",
              "      <th>3/13/20</th>\n",
              "      <th>3/14/20</th>\n",
              "      <th>3/15/20</th>\n",
              "      <th>3/16/20</th>\n",
              "      <th>3/17/20</th>\n",
              "      <th>3/18/20</th>\n",
              "      <th>3/19/20</th>\n",
              "      <th>3/20/20</th>\n",
              "      <th>3/21/20</th>\n",
              "      <th>3/22/20</th>\n",
              "      <th>3/23/20</th>\n",
              "      <th>3/24/20</th>\n",
              "      <th>3/25/20</th>\n",
              "      <th>3/26/20</th>\n",
              "      <th>3/27/20</th>\n",
              "      <th>3/28/20</th>\n",
              "      <th>3/29/20</th>\n",
              "      <th>3/30/20</th>\n",
              "      <th>3/31/20</th>\n",
              "      <th>4/1/20</th>\n",
              "      <th>4/2/20</th>\n",
              "      <th>4/3/20</th>\n",
              "      <th>4/4/20</th>\n",
              "      <th>4/5/20</th>\n",
              "      <th>4/6/20</th>\n",
              "      <th>4/7/20</th>\n",
              "      <th>4/8/20</th>\n",
              "      <th>4/9/20</th>\n",
              "      <th>4/10/20</th>\n",
              "      <th>4/11/20</th>\n",
              "      <th>4/12/20</th>\n",
              "      <th>4/13/20</th>\n",
              "      <th>4/14/20</th>\n",
              "      <th>4/15/20</th>\n",
              "      <th>4/16/20</th>\n",
              "      <th>4/17/20</th>\n",
              "      <th>4/18/20</th>\n",
              "      <th>4/19/20</th>\n",
              "    </tr>\n",
              "  </thead>\n",
              "  <tbody>\n",
              "    <tr>\n",
              "      <th>1863</th>\n",
              "      <td>84036061</td>\n",
              "      <td>US</td>\n",
              "      <td>USA</td>\n",
              "      <td>840</td>\n",
              "      <td>36061</td>\n",
              "      <td>New York</td>\n",
              "      <td>New York</td>\n",
              "      <td>US</td>\n",
              "      <td>40.7673</td>\n",
              "      <td>-73.9715</td>\n",
              "      <td>New York City, New York, US</td>\n",
              "      <td>0</td>\n",
              "      <td>0</td>\n",
              "      <td>0</td>\n",
              "      <td>0</td>\n",
              "      <td>0</td>\n",
              "      <td>0</td>\n",
              "      <td>0</td>\n",
              "      <td>0</td>\n",
              "      <td>0</td>\n",
              "      <td>0</td>\n",
              "      <td>0</td>\n",
              "      <td>0</td>\n",
              "      <td>0</td>\n",
              "      <td>0</td>\n",
              "      <td>0</td>\n",
              "      <td>0</td>\n",
              "      <td>0</td>\n",
              "      <td>0</td>\n",
              "      <td>0</td>\n",
              "      <td>0</td>\n",
              "      <td>0</td>\n",
              "      <td>0</td>\n",
              "      <td>0</td>\n",
              "      <td>0</td>\n",
              "      <td>0</td>\n",
              "      <td>0</td>\n",
              "      <td>0</td>\n",
              "      <td>0</td>\n",
              "      <td>0</td>\n",
              "      <td>...</td>\n",
              "      <td>55</td>\n",
              "      <td>95</td>\n",
              "      <td>154</td>\n",
              "      <td>269</td>\n",
              "      <td>269</td>\n",
              "      <td>463</td>\n",
              "      <td>814</td>\n",
              "      <td>1871</td>\n",
              "      <td>3954</td>\n",
              "      <td>5151</td>\n",
              "      <td>7530</td>\n",
              "      <td>9654</td>\n",
              "      <td>12305</td>\n",
              "      <td>14904</td>\n",
              "      <td>17856</td>\n",
              "      <td>21873</td>\n",
              "      <td>25573</td>\n",
              "      <td>29776</td>\n",
              "      <td>33768</td>\n",
              "      <td>37453</td>\n",
              "      <td>43119</td>\n",
              "      <td>47439</td>\n",
              "      <td>51809</td>\n",
              "      <td>57159</td>\n",
              "      <td>63306</td>\n",
              "      <td>67551</td>\n",
              "      <td>72181</td>\n",
              "      <td>76876</td>\n",
              "      <td>81803</td>\n",
              "      <td>87028</td>\n",
              "      <td>92384</td>\n",
              "      <td>98308</td>\n",
              "      <td>103208</td>\n",
              "      <td>106763</td>\n",
              "      <td>110465</td>\n",
              "      <td>118302</td>\n",
              "      <td>123146</td>\n",
              "      <td>127352</td>\n",
              "      <td>135572</td>\n",
              "      <td>138700</td>\n",
              "    </tr>\n",
              "  </tbody>\n",
              "</table>\n",
              "<p>1 rows × 100 columns</p>\n",
              "</div>"
            ],
            "text/plain": [
              "           UID iso2 iso3 code3   FIPS  ... 4/15/20 4/16/20 4/17/20 4/18/20 4/19/20\n",
              "1863  84036061   US  USA   840  36061  ...  118302  123146  127352  135572  138700\n",
              "\n",
              "[1 rows x 100 columns]"
            ]
          },
          "metadata": {
            "tags": []
          },
          "execution_count": 494
        }
      ]
    },
    {
      "cell_type": "code",
      "metadata": {
        "id": "dKZ-ZyVw9hsz",
        "colab_type": "code",
        "colab": {
          "base_uri": "https://localhost:8080/",
          "height": 846
        },
        "outputId": "0a0d6af9-6fe6-40b6-a5e8-6d2f23e808a2"
      },
      "source": [
        "cols = list(df_ny.columns)\n",
        "df_ny = df_ny[cols[10:]]\n",
        "df_ny = df_ny[['Combined_Key','3/4/20',\n",
        "       '3/5/20', '3/6/20', '3/7/20', '3/8/20', '3/9/20', '3/10/20', '3/11/20',\n",
        "       '3/12/20', '3/13/20', '3/14/20', '3/15/20', '3/16/20', '3/17/20',\n",
        "       '3/18/20', '3/19/20', '3/20/20', '3/21/20', '3/22/20', '3/23/20',\n",
        "       '3/24/20', '3/25/20', '3/26/20', '3/27/20', '3/28/20']]\n",
        "df_ny = df_ny.T\n",
        "df_ny.head()"
      ],
      "execution_count": 496,
      "outputs": [
        {
          "output_type": "execute_result",
          "data": {
            "text/html": [
              "<div>\n",
              "<style scoped>\n",
              "    .dataframe tbody tr th:only-of-type {\n",
              "        vertical-align: middle;\n",
              "    }\n",
              "\n",
              "    .dataframe tbody tr th {\n",
              "        vertical-align: top;\n",
              "    }\n",
              "\n",
              "    .dataframe thead th {\n",
              "        text-align: right;\n",
              "    }\n",
              "</style>\n",
              "<table border=\"1\" class=\"dataframe\">\n",
              "  <thead>\n",
              "    <tr style=\"text-align: right;\">\n",
              "      <th></th>\n",
              "      <th>1863</th>\n",
              "    </tr>\n",
              "  </thead>\n",
              "  <tbody>\n",
              "    <tr>\n",
              "      <th>Combined_Key</th>\n",
              "      <td>New York City, New York, US</td>\n",
              "    </tr>\n",
              "    <tr>\n",
              "      <th>3/4/20</th>\n",
              "      <td>1</td>\n",
              "    </tr>\n",
              "    <tr>\n",
              "      <th>3/5/20</th>\n",
              "      <td>4</td>\n",
              "    </tr>\n",
              "    <tr>\n",
              "      <th>3/6/20</th>\n",
              "      <td>11</td>\n",
              "    </tr>\n",
              "    <tr>\n",
              "      <th>3/7/20</th>\n",
              "      <td>11</td>\n",
              "    </tr>\n",
              "    <tr>\n",
              "      <th>3/8/20</th>\n",
              "      <td>12</td>\n",
              "    </tr>\n",
              "    <tr>\n",
              "      <th>3/9/20</th>\n",
              "      <td>19</td>\n",
              "    </tr>\n",
              "    <tr>\n",
              "      <th>3/10/20</th>\n",
              "      <td>25</td>\n",
              "    </tr>\n",
              "    <tr>\n",
              "      <th>3/11/20</th>\n",
              "      <td>55</td>\n",
              "    </tr>\n",
              "    <tr>\n",
              "      <th>3/12/20</th>\n",
              "      <td>95</td>\n",
              "    </tr>\n",
              "    <tr>\n",
              "      <th>3/13/20</th>\n",
              "      <td>154</td>\n",
              "    </tr>\n",
              "    <tr>\n",
              "      <th>3/14/20</th>\n",
              "      <td>269</td>\n",
              "    </tr>\n",
              "    <tr>\n",
              "      <th>3/15/20</th>\n",
              "      <td>269</td>\n",
              "    </tr>\n",
              "    <tr>\n",
              "      <th>3/16/20</th>\n",
              "      <td>463</td>\n",
              "    </tr>\n",
              "    <tr>\n",
              "      <th>3/17/20</th>\n",
              "      <td>814</td>\n",
              "    </tr>\n",
              "    <tr>\n",
              "      <th>3/18/20</th>\n",
              "      <td>1871</td>\n",
              "    </tr>\n",
              "    <tr>\n",
              "      <th>3/19/20</th>\n",
              "      <td>3954</td>\n",
              "    </tr>\n",
              "    <tr>\n",
              "      <th>3/20/20</th>\n",
              "      <td>5151</td>\n",
              "    </tr>\n",
              "    <tr>\n",
              "      <th>3/21/20</th>\n",
              "      <td>7530</td>\n",
              "    </tr>\n",
              "    <tr>\n",
              "      <th>3/22/20</th>\n",
              "      <td>9654</td>\n",
              "    </tr>\n",
              "    <tr>\n",
              "      <th>3/23/20</th>\n",
              "      <td>12305</td>\n",
              "    </tr>\n",
              "    <tr>\n",
              "      <th>3/24/20</th>\n",
              "      <td>14904</td>\n",
              "    </tr>\n",
              "    <tr>\n",
              "      <th>3/25/20</th>\n",
              "      <td>17856</td>\n",
              "    </tr>\n",
              "    <tr>\n",
              "      <th>3/26/20</th>\n",
              "      <td>21873</td>\n",
              "    </tr>\n",
              "    <tr>\n",
              "      <th>3/27/20</th>\n",
              "      <td>25573</td>\n",
              "    </tr>\n",
              "    <tr>\n",
              "      <th>3/28/20</th>\n",
              "      <td>29776</td>\n",
              "    </tr>\n",
              "  </tbody>\n",
              "</table>\n",
              "</div>"
            ],
            "text/plain": [
              "                                     1863\n",
              "Combined_Key  New York City, New York, US\n",
              "3/4/20                                  1\n",
              "3/5/20                                  4\n",
              "3/6/20                                 11\n",
              "3/7/20                                 11\n",
              "3/8/20                                 12\n",
              "3/9/20                                 19\n",
              "3/10/20                                25\n",
              "3/11/20                                55\n",
              "3/12/20                                95\n",
              "3/13/20                               154\n",
              "3/14/20                               269\n",
              "3/15/20                               269\n",
              "3/16/20                               463\n",
              "3/17/20                               814\n",
              "3/18/20                              1871\n",
              "3/19/20                              3954\n",
              "3/20/20                              5151\n",
              "3/21/20                              7530\n",
              "3/22/20                              9654\n",
              "3/23/20                             12305\n",
              "3/24/20                             14904\n",
              "3/25/20                             17856\n",
              "3/26/20                             21873\n",
              "3/27/20                             25573\n",
              "3/28/20                             29776"
            ]
          },
          "metadata": {
            "tags": []
          },
          "execution_count": 496
        }
      ]
    },
    {
      "cell_type": "code",
      "metadata": {
        "id": "OAt-e3gV9i0l",
        "colab_type": "code",
        "colab": {
          "base_uri": "https://localhost:8080/",
          "height": 450
        },
        "outputId": "46a51c8c-6cf8-4880-a871-6a09a5386f1d"
      },
      "source": [
        "import datetime\n",
        "base = datetime.datetime(2020, 3, 28)\n",
        "date_list = [base - datetime.timedelta(days=x) for x in range(25)]\n",
        "\n",
        "list_of_dates =  []\n",
        "for i in range(0, len(date_list)):\n",
        "  list_of_dates.append(date_list[i].strftime(\"%Y-%m-%d\"))\n",
        "\n",
        "list_of_dates.reverse()\n",
        "list_of_dates"
      ],
      "execution_count": 497,
      "outputs": [
        {
          "output_type": "execute_result",
          "data": {
            "text/plain": [
              "['2020-03-04',\n",
              " '2020-03-05',\n",
              " '2020-03-06',\n",
              " '2020-03-07',\n",
              " '2020-03-08',\n",
              " '2020-03-09',\n",
              " '2020-03-10',\n",
              " '2020-03-11',\n",
              " '2020-03-12',\n",
              " '2020-03-13',\n",
              " '2020-03-14',\n",
              " '2020-03-15',\n",
              " '2020-03-16',\n",
              " '2020-03-17',\n",
              " '2020-03-18',\n",
              " '2020-03-19',\n",
              " '2020-03-20',\n",
              " '2020-03-21',\n",
              " '2020-03-22',\n",
              " '2020-03-23',\n",
              " '2020-03-24',\n",
              " '2020-03-25',\n",
              " '2020-03-26',\n",
              " '2020-03-27',\n",
              " '2020-03-28']"
            ]
          },
          "metadata": {
            "tags": []
          },
          "execution_count": 497
        }
      ]
    },
    {
      "cell_type": "code",
      "metadata": {
        "id": "bjk7JoxN948B",
        "colab_type": "code",
        "colab": {}
      },
      "source": [
        "list_of_lists = df_ny.iloc[1:].values\n",
        "flattened_values  = [val for sublist in list_of_lists for val in sublist]"
      ],
      "execution_count": 0,
      "outputs": []
    },
    {
      "cell_type": "code",
      "metadata": {
        "id": "ldO7yJBm-DlA",
        "colab_type": "code",
        "colab": {
          "base_uri": "https://localhost:8080/",
          "height": 34
        },
        "outputId": "ec60c6f1-29f7-42f6-ba26-c74895cb0503"
      },
      "source": [
        "len(flattened_values)"
      ],
      "execution_count": 499,
      "outputs": [
        {
          "output_type": "execute_result",
          "data": {
            "text/plain": [
              "25"
            ]
          },
          "metadata": {
            "tags": []
          },
          "execution_count": 499
        }
      ]
    },
    {
      "cell_type": "code",
      "metadata": {
        "id": "JTlzxO39-Ef5",
        "colab_type": "code",
        "colab": {
          "base_uri": "https://localhost:8080/",
          "height": 34
        },
        "outputId": "78837b9d-6815-4e7d-ec65-ecf8e342e134"
      },
      "source": [
        "len(list_of_dates)"
      ],
      "execution_count": 500,
      "outputs": [
        {
          "output_type": "execute_result",
          "data": {
            "text/plain": [
              "25"
            ]
          },
          "metadata": {
            "tags": []
          },
          "execution_count": 500
        }
      ]
    },
    {
      "cell_type": "code",
      "metadata": {
        "id": "PBDVUBSc-FYQ",
        "colab_type": "code",
        "colab": {}
      },
      "source": [
        "d = {'date': list_of_dates, 'Num of Cases in NY': flattened_values}"
      ],
      "execution_count": 0,
      "outputs": []
    },
    {
      "cell_type": "code",
      "metadata": {
        "id": "nhPVKLAX-Gan",
        "colab_type": "code",
        "colab": {}
      },
      "source": [
        "df = pd.DataFrame(data=d)"
      ],
      "execution_count": 0,
      "outputs": []
    },
    {
      "cell_type": "markdown",
      "metadata": {
        "id": "70Vu7Pxs-J1r",
        "colab_type": "text"
      },
      "source": [
        "### Getting the Twitter data"
      ]
    },
    {
      "cell_type": "code",
      "metadata": {
        "id": "jPLmntH1-HT4",
        "colab_type": "code",
        "colab": {
          "base_uri": "https://localhost:8080/",
          "height": 413
        },
        "outputId": "7e97ae2e-6655-4140-8ffe-10a59245d9ac"
      },
      "source": [
        "url = \"https://raw.githubusercontent.com/armandordorica/Twitter_Sentiment_Analysis/master/raw_data/ny_covid_twitter_data.csv\"\n",
        "from pandas import read_csv\n",
        "twitter_df = read_csv(url, header=0)\n",
        "twitter_df.head()"
      ],
      "execution_count": 505,
      "outputs": [
        {
          "output_type": "execute_result",
          "data": {
            "text/html": [
              "<div>\n",
              "<style scoped>\n",
              "    .dataframe tbody tr th:only-of-type {\n",
              "        vertical-align: middle;\n",
              "    }\n",
              "\n",
              "    .dataframe tbody tr th {\n",
              "        vertical-align: top;\n",
              "    }\n",
              "\n",
              "    .dataframe thead th {\n",
              "        text-align: right;\n",
              "    }\n",
              "</style>\n",
              "<table border=\"1\" class=\"dataframe\">\n",
              "  <thead>\n",
              "    <tr style=\"text-align: right;\">\n",
              "      <th></th>\n",
              "      <th>Unnamed: 0</th>\n",
              "      <th>created_at</th>\n",
              "      <th>text</th>\n",
              "      <th>source</th>\n",
              "      <th>is_quote</th>\n",
              "      <th>is_retweet</th>\n",
              "      <th>favourites_count</th>\n",
              "      <th>retweet_count</th>\n",
              "      <th>place_full_name</th>\n",
              "      <th>place_type</th>\n",
              "      <th>followers_count</th>\n",
              "      <th>friends_count</th>\n",
              "      <th>account_created_at</th>\n",
              "    </tr>\n",
              "  </thead>\n",
              "  <tbody>\n",
              "    <tr>\n",
              "      <th>0</th>\n",
              "      <td>48</td>\n",
              "      <td>2020-03-04T11:22:46Z</td>\n",
              "      <td>Can  &amp;amp;  focus on tackling potential Corona...</td>\n",
              "      <td>Twitter for iPhone</td>\n",
              "      <td>False</td>\n",
              "      <td>False</td>\n",
              "      <td>25462.0</td>\n",
              "      <td>0.0</td>\n",
              "      <td>Queens, NY</td>\n",
              "      <td>city</td>\n",
              "      <td>12378.0</td>\n",
              "      <td>13567.0</td>\n",
              "      <td>2009-01-21T21:17:54Z</td>\n",
              "    </tr>\n",
              "    <tr>\n",
              "      <th>1</th>\n",
              "      <td>1111</td>\n",
              "      <td>2020-03-04T13:46:00Z</td>\n",
              "      <td>(3/3) \\n🧳 Self-evaluation of inherent bias/rac...</td>\n",
              "      <td>Twitter for iPhone</td>\n",
              "      <td>False</td>\n",
              "      <td>False</td>\n",
              "      <td>6366.0</td>\n",
              "      <td>0.0</td>\n",
              "      <td>Manhattan, NY</td>\n",
              "      <td>city</td>\n",
              "      <td>656.0</td>\n",
              "      <td>829.0</td>\n",
              "      <td>2017-12-03T21:45:57Z</td>\n",
              "    </tr>\n",
              "    <tr>\n",
              "      <th>2</th>\n",
              "      <td>1701</td>\n",
              "      <td>2020-03-04T14:39:30Z</td>\n",
              "      <td>Sensible feedback on the CoronavirusOutbreak</td>\n",
              "      <td>Twitter for iPhone</td>\n",
              "      <td>True</td>\n",
              "      <td>False</td>\n",
              "      <td>1623.0</td>\n",
              "      <td>0.0</td>\n",
              "      <td>Manhattan, NY</td>\n",
              "      <td>city</td>\n",
              "      <td>248.0</td>\n",
              "      <td>1309.0</td>\n",
              "      <td>2018-02-06T22:46:58Z</td>\n",
              "    </tr>\n",
              "    <tr>\n",
              "      <th>3</th>\n",
              "      <td>1737</td>\n",
              "      <td>2020-03-04T14:41:57Z</td>\n",
              "      <td>Bill Gates tried to warn us 4 years ago about ...</td>\n",
              "      <td>Twitter for Android</td>\n",
              "      <td>False</td>\n",
              "      <td>False</td>\n",
              "      <td>39912.0</td>\n",
              "      <td>0.0</td>\n",
              "      <td>Brooklyn, NY</td>\n",
              "      <td>city</td>\n",
              "      <td>1511.0</td>\n",
              "      <td>2619.0</td>\n",
              "      <td>2009-06-19T20:33:46Z</td>\n",
              "    </tr>\n",
              "    <tr>\n",
              "      <th>4</th>\n",
              "      <td>2344</td>\n",
              "      <td>2020-03-04T15:44:59Z</td>\n",
              "      <td>👀😁CoronavirusOutbreak</td>\n",
              "      <td>Twitter for iPhone</td>\n",
              "      <td>False</td>\n",
              "      <td>False</td>\n",
              "      <td>41637.0</td>\n",
              "      <td>0.0</td>\n",
              "      <td>New York, NY</td>\n",
              "      <td>admin</td>\n",
              "      <td>358.0</td>\n",
              "      <td>563.0</td>\n",
              "      <td>2019-05-08T11:02:45Z</td>\n",
              "    </tr>\n",
              "  </tbody>\n",
              "</table>\n",
              "</div>"
            ],
            "text/plain": [
              "   Unnamed: 0            created_at  ... friends_count    account_created_at\n",
              "0          48  2020-03-04T11:22:46Z  ...       13567.0  2009-01-21T21:17:54Z\n",
              "1        1111  2020-03-04T13:46:00Z  ...         829.0  2017-12-03T21:45:57Z\n",
              "2        1701  2020-03-04T14:39:30Z  ...        1309.0  2018-02-06T22:46:58Z\n",
              "3        1737  2020-03-04T14:41:57Z  ...        2619.0  2009-06-19T20:33:46Z\n",
              "4        2344  2020-03-04T15:44:59Z  ...         563.0  2019-05-08T11:02:45Z\n",
              "\n",
              "[5 rows x 13 columns]"
            ]
          },
          "metadata": {
            "tags": []
          },
          "execution_count": 505
        }
      ]
    },
    {
      "cell_type": "code",
      "metadata": {
        "id": "R94Uhbc5AVZh",
        "colab_type": "code",
        "colab": {}
      },
      "source": [
        "df_ny = twitter_df"
      ],
      "execution_count": 0,
      "outputs": []
    },
    {
      "cell_type": "code",
      "metadata": {
        "id": "0b40Rcl0ANTu",
        "colab_type": "code",
        "colab": {}
      },
      "source": [
        "from textblob import TextBlob\n",
        "\n",
        "# Create a function to get the subjectivity\n",
        "def getSubjectivity(text):\n",
        "    return TextBlob(text).sentiment.subjectivity\n",
        "\n",
        "# Create a function to get the polarity\n",
        "def getPolarity(text):\n",
        "    return  TextBlob(text).sentiment.polarity"
      ],
      "execution_count": 0,
      "outputs": []
    },
    {
      "cell_type": "code",
      "metadata": {
        "id": "u7JHZyUNAaU0",
        "colab_type": "code",
        "colab": {
          "base_uri": "https://localhost:8080/",
          "height": 34
        },
        "outputId": "83ade1af-7a5c-457c-ecaf-92d85b79c46d"
      },
      "source": [
        "getSubjectivity(df_ny['text'][0])"
      ],
      "execution_count": 515,
      "outputs": [
        {
          "output_type": "execute_result",
          "data": {
            "text/plain": [
              "0.65"
            ]
          },
          "metadata": {
            "tags": []
          },
          "execution_count": 515
        }
      ]
    },
    {
      "cell_type": "code",
      "metadata": {
        "id": "j5uQ_bEnAuLO",
        "colab_type": "code",
        "colab": {
          "base_uri": "https://localhost:8080/",
          "height": 800
        },
        "outputId": "7e5db567-d58a-4e38-e194-6424a179e627"
      },
      "source": [
        "df_ny.dropna(subset=['text'])"
      ],
      "execution_count": 517,
      "outputs": [
        {
          "output_type": "execute_result",
          "data": {
            "text/html": [
              "<div>\n",
              "<style scoped>\n",
              "    .dataframe tbody tr th:only-of-type {\n",
              "        vertical-align: middle;\n",
              "    }\n",
              "\n",
              "    .dataframe tbody tr th {\n",
              "        vertical-align: top;\n",
              "    }\n",
              "\n",
              "    .dataframe thead th {\n",
              "        text-align: right;\n",
              "    }\n",
              "</style>\n",
              "<table border=\"1\" class=\"dataframe\">\n",
              "  <thead>\n",
              "    <tr style=\"text-align: right;\">\n",
              "      <th></th>\n",
              "      <th>Unnamed: 0</th>\n",
              "      <th>created_at</th>\n",
              "      <th>text</th>\n",
              "      <th>source</th>\n",
              "      <th>is_quote</th>\n",
              "      <th>is_retweet</th>\n",
              "      <th>favourites_count</th>\n",
              "      <th>retweet_count</th>\n",
              "      <th>place_full_name</th>\n",
              "      <th>place_type</th>\n",
              "      <th>followers_count</th>\n",
              "      <th>friends_count</th>\n",
              "      <th>account_created_at</th>\n",
              "    </tr>\n",
              "  </thead>\n",
              "  <tbody>\n",
              "    <tr>\n",
              "      <th>0</th>\n",
              "      <td>48</td>\n",
              "      <td>2020-03-04T11:22:46Z</td>\n",
              "      <td>Can  &amp;amp;  focus on tackling potential Corona...</td>\n",
              "      <td>Twitter for iPhone</td>\n",
              "      <td>False</td>\n",
              "      <td>False</td>\n",
              "      <td>25462.0</td>\n",
              "      <td>0.0</td>\n",
              "      <td>Queens, NY</td>\n",
              "      <td>city</td>\n",
              "      <td>12378.0</td>\n",
              "      <td>13567.0</td>\n",
              "      <td>2009-01-21T21:17:54Z</td>\n",
              "    </tr>\n",
              "    <tr>\n",
              "      <th>1</th>\n",
              "      <td>1111</td>\n",
              "      <td>2020-03-04T13:46:00Z</td>\n",
              "      <td>(3/3) \\n🧳 Self-evaluation of inherent bias/rac...</td>\n",
              "      <td>Twitter for iPhone</td>\n",
              "      <td>False</td>\n",
              "      <td>False</td>\n",
              "      <td>6366.0</td>\n",
              "      <td>0.0</td>\n",
              "      <td>Manhattan, NY</td>\n",
              "      <td>city</td>\n",
              "      <td>656.0</td>\n",
              "      <td>829.0</td>\n",
              "      <td>2017-12-03T21:45:57Z</td>\n",
              "    </tr>\n",
              "    <tr>\n",
              "      <th>2</th>\n",
              "      <td>1701</td>\n",
              "      <td>2020-03-04T14:39:30Z</td>\n",
              "      <td>Sensible feedback on the CoronavirusOutbreak</td>\n",
              "      <td>Twitter for iPhone</td>\n",
              "      <td>True</td>\n",
              "      <td>False</td>\n",
              "      <td>1623.0</td>\n",
              "      <td>0.0</td>\n",
              "      <td>Manhattan, NY</td>\n",
              "      <td>city</td>\n",
              "      <td>248.0</td>\n",
              "      <td>1309.0</td>\n",
              "      <td>2018-02-06T22:46:58Z</td>\n",
              "    </tr>\n",
              "    <tr>\n",
              "      <th>3</th>\n",
              "      <td>1737</td>\n",
              "      <td>2020-03-04T14:41:57Z</td>\n",
              "      <td>Bill Gates tried to warn us 4 years ago about ...</td>\n",
              "      <td>Twitter for Android</td>\n",
              "      <td>False</td>\n",
              "      <td>False</td>\n",
              "      <td>39912.0</td>\n",
              "      <td>0.0</td>\n",
              "      <td>Brooklyn, NY</td>\n",
              "      <td>city</td>\n",
              "      <td>1511.0</td>\n",
              "      <td>2619.0</td>\n",
              "      <td>2009-06-19T20:33:46Z</td>\n",
              "    </tr>\n",
              "    <tr>\n",
              "      <th>4</th>\n",
              "      <td>2344</td>\n",
              "      <td>2020-03-04T15:44:59Z</td>\n",
              "      <td>👀😁CoronavirusOutbreak</td>\n",
              "      <td>Twitter for iPhone</td>\n",
              "      <td>False</td>\n",
              "      <td>False</td>\n",
              "      <td>41637.0</td>\n",
              "      <td>0.0</td>\n",
              "      <td>New York, NY</td>\n",
              "      <td>admin</td>\n",
              "      <td>358.0</td>\n",
              "      <td>563.0</td>\n",
              "      <td>2019-05-08T11:02:45Z</td>\n",
              "    </tr>\n",
              "    <tr>\n",
              "      <th>...</th>\n",
              "      <td>...</td>\n",
              "      <td>...</td>\n",
              "      <td>...</td>\n",
              "      <td>...</td>\n",
              "      <td>...</td>\n",
              "      <td>...</td>\n",
              "      <td>...</td>\n",
              "      <td>...</td>\n",
              "      <td>...</td>\n",
              "      <td>...</td>\n",
              "      <td>...</td>\n",
              "      <td>...</td>\n",
              "      <td>...</td>\n",
              "    </tr>\n",
              "    <tr>\n",
              "      <th>20687</th>\n",
              "      <td>15443927</td>\n",
              "      <td>2020-03-25T23:13:33Z</td>\n",
              "      <td>Takeout in the age of coronavirus:\\n\\nStep 1: ...</td>\n",
              "      <td>Twitter for iPhone</td>\n",
              "      <td>False</td>\n",
              "      <td>False</td>\n",
              "      <td>20.0</td>\n",
              "      <td>0.0</td>\n",
              "      <td>New York, NY</td>\n",
              "      <td>admin</td>\n",
              "      <td>3.0</td>\n",
              "      <td>11.0</td>\n",
              "      <td>2020-03-07T05:35:22Z</td>\n",
              "    </tr>\n",
              "    <tr>\n",
              "      <th>20688</th>\n",
              "      <td>15447672</td>\n",
              "      <td>2020-03-25T23:22:18Z</td>\n",
              "      <td>JOIN US LIVE: We might be isolated and SocialD...</td>\n",
              "      <td>Twitter for Android</td>\n",
              "      <td>False</td>\n",
              "      <td>False</td>\n",
              "      <td>850.0</td>\n",
              "      <td>2.0</td>\n",
              "      <td>New York, NY</td>\n",
              "      <td>admin</td>\n",
              "      <td>1243.0</td>\n",
              "      <td>954.0</td>\n",
              "      <td>2008-12-12T16:25:35Z</td>\n",
              "    </tr>\n",
              "    <tr>\n",
              "      <th>20689</th>\n",
              "      <td>15453231</td>\n",
              "      <td>2020-03-25T23:34:43Z</td>\n",
              "      <td>COVID19</td>\n",
              "      <td>Twitter for iPhone</td>\n",
              "      <td>False</td>\n",
              "      <td>False</td>\n",
              "      <td>17646.0</td>\n",
              "      <td>0.0</td>\n",
              "      <td>New York, USA</td>\n",
              "      <td>admin</td>\n",
              "      <td>1312.0</td>\n",
              "      <td>2165.0</td>\n",
              "      <td>2008-10-27T19:40:19Z</td>\n",
              "    </tr>\n",
              "    <tr>\n",
              "      <th>20690</th>\n",
              "      <td>15453397</td>\n",
              "      <td>2020-03-25T23:35:05Z</td>\n",
              "      <td>Missing the Broadcast Center, missing the  tea...</td>\n",
              "      <td>Twitter for Android</td>\n",
              "      <td>False</td>\n",
              "      <td>False</td>\n",
              "      <td>294926.0</td>\n",
              "      <td>0.0</td>\n",
              "      <td>New York, NY</td>\n",
              "      <td>admin</td>\n",
              "      <td>1394.0</td>\n",
              "      <td>1369.0</td>\n",
              "      <td>2010-09-12T17:17:03Z</td>\n",
              "    </tr>\n",
              "    <tr>\n",
              "      <th>20691</th>\n",
              "      <td>15456638</td>\n",
              "      <td>2020-03-25T23:42:09Z</td>\n",
              "      <td>13 Deaths in a Day: An ‘Apocalyptic’ Coronavir...</td>\n",
              "      <td>Twitter for Android</td>\n",
              "      <td>False</td>\n",
              "      <td>False</td>\n",
              "      <td>82460.0</td>\n",
              "      <td>0.0</td>\n",
              "      <td>New York, USA</td>\n",
              "      <td>admin</td>\n",
              "      <td>7426.0</td>\n",
              "      <td>7566.0</td>\n",
              "      <td>2015-12-03T22:59:35Z</td>\n",
              "    </tr>\n",
              "  </tbody>\n",
              "</table>\n",
              "<p>19478 rows × 13 columns</p>\n",
              "</div>"
            ],
            "text/plain": [
              "       Unnamed: 0            created_at  ... friends_count    account_created_at\n",
              "0              48  2020-03-04T11:22:46Z  ...       13567.0  2009-01-21T21:17:54Z\n",
              "1            1111  2020-03-04T13:46:00Z  ...         829.0  2017-12-03T21:45:57Z\n",
              "2            1701  2020-03-04T14:39:30Z  ...        1309.0  2018-02-06T22:46:58Z\n",
              "3            1737  2020-03-04T14:41:57Z  ...        2619.0  2009-06-19T20:33:46Z\n",
              "4            2344  2020-03-04T15:44:59Z  ...         563.0  2019-05-08T11:02:45Z\n",
              "...           ...                   ...  ...           ...                   ...\n",
              "20687    15443927  2020-03-25T23:13:33Z  ...          11.0  2020-03-07T05:35:22Z\n",
              "20688    15447672  2020-03-25T23:22:18Z  ...         954.0  2008-12-12T16:25:35Z\n",
              "20689    15453231  2020-03-25T23:34:43Z  ...        2165.0  2008-10-27T19:40:19Z\n",
              "20690    15453397  2020-03-25T23:35:05Z  ...        1369.0  2010-09-12T17:17:03Z\n",
              "20691    15456638  2020-03-25T23:42:09Z  ...        7566.0  2015-12-03T22:59:35Z\n",
              "\n",
              "[19478 rows x 13 columns]"
            ]
          },
          "metadata": {
            "tags": []
          },
          "execution_count": 517
        }
      ]
    },
    {
      "cell_type": "code",
      "metadata": {
        "id": "cPVAj4K0-NMg",
        "colab_type": "code",
        "colab": {
          "base_uri": "https://localhost:8080/",
          "height": 384
        },
        "outputId": "80ca395a-d590-4fe1-ae7f-d9e3274a3985"
      },
      "source": [
        "df_ny['Subjectivity'] = df_ny['text'].apply(getSubjectivity)\n",
        "# df_ny['Polarity'] = df_ny['text'].apply(getPolarity)\n"
      ],
      "execution_count": 518,
      "outputs": [
        {
          "output_type": "error",
          "ename": "TypeError",
          "evalue": "ignored",
          "traceback": [
            "\u001b[0;31m---------------------------------------------------------------------------\u001b[0m",
            "\u001b[0;31mTypeError\u001b[0m                                 Traceback (most recent call last)",
            "\u001b[0;32m<ipython-input-518-b7978f3cf8c0>\u001b[0m in \u001b[0;36m<module>\u001b[0;34m()\u001b[0m\n\u001b[0;32m----> 1\u001b[0;31m \u001b[0mdf_ny\u001b[0m\u001b[0;34m[\u001b[0m\u001b[0;34m'Subjectivity'\u001b[0m\u001b[0;34m]\u001b[0m \u001b[0;34m=\u001b[0m \u001b[0mdf_ny\u001b[0m\u001b[0;34m[\u001b[0m\u001b[0;34m'text'\u001b[0m\u001b[0;34m]\u001b[0m\u001b[0;34m.\u001b[0m\u001b[0mapply\u001b[0m\u001b[0;34m(\u001b[0m\u001b[0mgetSubjectivity\u001b[0m\u001b[0;34m)\u001b[0m\u001b[0;34m\u001b[0m\u001b[0;34m\u001b[0m\u001b[0m\n\u001b[0m\u001b[1;32m      2\u001b[0m \u001b[0;31m# df_ny['Polarity'] = df_ny['text'].apply(getPolarity)\u001b[0m\u001b[0;34m\u001b[0m\u001b[0;34m\u001b[0m\u001b[0;34m\u001b[0m\u001b[0m\n",
            "\u001b[0;32m/usr/local/lib/python3.6/dist-packages/pandas/core/series.py\u001b[0m in \u001b[0;36mapply\u001b[0;34m(self, func, convert_dtype, args, **kwds)\u001b[0m\n\u001b[1;32m   3846\u001b[0m             \u001b[0;32melse\u001b[0m\u001b[0;34m:\u001b[0m\u001b[0;34m\u001b[0m\u001b[0;34m\u001b[0m\u001b[0m\n\u001b[1;32m   3847\u001b[0m                 \u001b[0mvalues\u001b[0m \u001b[0;34m=\u001b[0m \u001b[0mself\u001b[0m\u001b[0;34m.\u001b[0m\u001b[0mastype\u001b[0m\u001b[0;34m(\u001b[0m\u001b[0mobject\u001b[0m\u001b[0;34m)\u001b[0m\u001b[0;34m.\u001b[0m\u001b[0mvalues\u001b[0m\u001b[0;34m\u001b[0m\u001b[0;34m\u001b[0m\u001b[0m\n\u001b[0;32m-> 3848\u001b[0;31m                 \u001b[0mmapped\u001b[0m \u001b[0;34m=\u001b[0m \u001b[0mlib\u001b[0m\u001b[0;34m.\u001b[0m\u001b[0mmap_infer\u001b[0m\u001b[0;34m(\u001b[0m\u001b[0mvalues\u001b[0m\u001b[0;34m,\u001b[0m \u001b[0mf\u001b[0m\u001b[0;34m,\u001b[0m \u001b[0mconvert\u001b[0m\u001b[0;34m=\u001b[0m\u001b[0mconvert_dtype\u001b[0m\u001b[0;34m)\u001b[0m\u001b[0;34m\u001b[0m\u001b[0;34m\u001b[0m\u001b[0m\n\u001b[0m\u001b[1;32m   3849\u001b[0m \u001b[0;34m\u001b[0m\u001b[0m\n\u001b[1;32m   3850\u001b[0m         \u001b[0;32mif\u001b[0m \u001b[0mlen\u001b[0m\u001b[0;34m(\u001b[0m\u001b[0mmapped\u001b[0m\u001b[0;34m)\u001b[0m \u001b[0;32mand\u001b[0m \u001b[0misinstance\u001b[0m\u001b[0;34m(\u001b[0m\u001b[0mmapped\u001b[0m\u001b[0;34m[\u001b[0m\u001b[0;36m0\u001b[0m\u001b[0;34m]\u001b[0m\u001b[0;34m,\u001b[0m \u001b[0mSeries\u001b[0m\u001b[0;34m)\u001b[0m\u001b[0;34m:\u001b[0m\u001b[0;34m\u001b[0m\u001b[0;34m\u001b[0m\u001b[0m\n",
            "\u001b[0;32mpandas/_libs/lib.pyx\u001b[0m in \u001b[0;36mpandas._libs.lib.map_infer\u001b[0;34m()\u001b[0m\n",
            "\u001b[0;32m<ipython-input-509-911c167c1376>\u001b[0m in \u001b[0;36mgetSubjectivity\u001b[0;34m(text)\u001b[0m\n\u001b[1;32m      3\u001b[0m \u001b[0;31m# Create a function to get the subjectivity\u001b[0m\u001b[0;34m\u001b[0m\u001b[0;34m\u001b[0m\u001b[0;34m\u001b[0m\u001b[0m\n\u001b[1;32m      4\u001b[0m \u001b[0;32mdef\u001b[0m \u001b[0mgetSubjectivity\u001b[0m\u001b[0;34m(\u001b[0m\u001b[0mtext\u001b[0m\u001b[0;34m)\u001b[0m\u001b[0;34m:\u001b[0m\u001b[0;34m\u001b[0m\u001b[0;34m\u001b[0m\u001b[0m\n\u001b[0;32m----> 5\u001b[0;31m     \u001b[0;32mreturn\u001b[0m \u001b[0mTextBlob\u001b[0m\u001b[0;34m(\u001b[0m\u001b[0mtext\u001b[0m\u001b[0;34m)\u001b[0m\u001b[0;34m.\u001b[0m\u001b[0msentiment\u001b[0m\u001b[0;34m.\u001b[0m\u001b[0msubjectivity\u001b[0m\u001b[0;34m\u001b[0m\u001b[0;34m\u001b[0m\u001b[0m\n\u001b[0m\u001b[1;32m      6\u001b[0m \u001b[0;34m\u001b[0m\u001b[0m\n\u001b[1;32m      7\u001b[0m \u001b[0;31m# Create a function to get the polarity\u001b[0m\u001b[0;34m\u001b[0m\u001b[0;34m\u001b[0m\u001b[0;34m\u001b[0m\u001b[0m\n",
            "\u001b[0;32m/usr/local/lib/python3.6/dist-packages/textblob/blob.py\u001b[0m in \u001b[0;36m__init__\u001b[0;34m(self, text, tokenizer, pos_tagger, np_extractor, analyzer, parser, classifier, clean_html)\u001b[0m\n\u001b[1;32m    368\u001b[0m         \u001b[0;32mif\u001b[0m \u001b[0;32mnot\u001b[0m \u001b[0misinstance\u001b[0m\u001b[0;34m(\u001b[0m\u001b[0mtext\u001b[0m\u001b[0;34m,\u001b[0m \u001b[0mbasestring\u001b[0m\u001b[0;34m)\u001b[0m\u001b[0;34m:\u001b[0m\u001b[0;34m\u001b[0m\u001b[0;34m\u001b[0m\u001b[0m\n\u001b[1;32m    369\u001b[0m             raise TypeError('The `text` argument passed to `__init__(text)` '\n\u001b[0;32m--> 370\u001b[0;31m                             'must be a string, not {0}'.format(type(text)))\n\u001b[0m\u001b[1;32m    371\u001b[0m         \u001b[0;32mif\u001b[0m \u001b[0mclean_html\u001b[0m\u001b[0;34m:\u001b[0m\u001b[0;34m\u001b[0m\u001b[0;34m\u001b[0m\u001b[0m\n\u001b[1;32m    372\u001b[0m             raise NotImplementedError(\"clean_html has been deprecated. \"\n",
            "\u001b[0;31mTypeError\u001b[0m: The `text` argument passed to `__init__(text)` must be a string, not <class 'float'>"
          ]
        }
      ]
    },
    {
      "cell_type": "code",
      "metadata": {
        "id": "9BMofuafAQlP",
        "colab_type": "code",
        "colab": {}
      },
      "source": [
        ""
      ],
      "execution_count": 0,
      "outputs": []
    }
  ]
}