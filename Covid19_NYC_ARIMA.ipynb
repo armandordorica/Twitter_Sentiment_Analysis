{
  "nbformat": 4,
  "nbformat_minor": 0,
  "metadata": {
    "colab": {
      "name": "Covid19 NYC - ARIMA.ipynb",
      "provenance": [],
      "authorship_tag": "ABX9TyNivJCbKGaE7/Nio1YGOF6K",
      "include_colab_link": true
    },
    "kernelspec": {
      "name": "python3",
      "display_name": "Python 3"
    }
  },
  "cells": [
    {
      "cell_type": "markdown",
      "metadata": {
        "id": "view-in-github",
        "colab_type": "text"
      },
      "source": [
        "<a href=\"https://colab.research.google.com/github/armandordorica/Twitter_Sentiment_Analysis/blob/master/Covid19_NYC_ARIMA.ipynb\" target=\"_parent\"><img src=\"https://colab.research.google.com/assets/colab-badge.svg\" alt=\"Open In Colab\"/></a>"
      ]
    },
    {
      "cell_type": "code",
      "metadata": {
        "id": "Rm3OXnt2nQaE",
        "colab_type": "code",
        "colab": {}
      },
      "source": [
        "from pandas import read_csv\n",
        "\n",
        "url = \"https://raw.githubusercontent.com/CSSEGISandData/COVID-19/master/csse_covid_19_data/csse_covid_19_time_series/time_series_covid19_confirmed_US.csv\""
      ],
      "execution_count": 0,
      "outputs": []
    },
    {
      "cell_type": "code",
      "metadata": {
        "id": "a9NbOMgJnZxu",
        "colab_type": "code",
        "colab": {}
      },
      "source": [
        "from pandas import read_csv\n"
      ],
      "execution_count": 0,
      "outputs": []
    },
    {
      "cell_type": "code",
      "metadata": {
        "id": "XGjqQGUzniYF",
        "colab_type": "code",
        "colab": {}
      },
      "source": [
        "series = read_csv(url, header=0)\n"
      ],
      "execution_count": 0,
      "outputs": []
    },
    {
      "cell_type": "code",
      "metadata": {
        "id": "WHZKAH0Onng9",
        "colab_type": "code",
        "colab": {
          "base_uri": "https://localhost:8080/",
          "height": 146
        },
        "outputId": "65bcd7c5-ddd0-433b-a07d-2a2d17441ee9"
      },
      "source": [
        "series[series['Combined_Key'].str.match('New York')]"
      ],
      "execution_count": 118,
      "outputs": [
        {
          "output_type": "execute_result",
          "data": {
            "text/html": [
              "<div>\n",
              "<style scoped>\n",
              "    .dataframe tbody tr th:only-of-type {\n",
              "        vertical-align: middle;\n",
              "    }\n",
              "\n",
              "    .dataframe tbody tr th {\n",
              "        vertical-align: top;\n",
              "    }\n",
              "\n",
              "    .dataframe thead th {\n",
              "        text-align: right;\n",
              "    }\n",
              "</style>\n",
              "<table border=\"1\" class=\"dataframe\">\n",
              "  <thead>\n",
              "    <tr style=\"text-align: right;\">\n",
              "      <th></th>\n",
              "      <th>UID</th>\n",
              "      <th>iso2</th>\n",
              "      <th>iso3</th>\n",
              "      <th>code3</th>\n",
              "      <th>FIPS</th>\n",
              "      <th>Admin2</th>\n",
              "      <th>Province_State</th>\n",
              "      <th>Country_Region</th>\n",
              "      <th>Lat</th>\n",
              "      <th>Long_</th>\n",
              "      <th>Combined_Key</th>\n",
              "      <th>1/22/20</th>\n",
              "      <th>1/23/20</th>\n",
              "      <th>1/24/20</th>\n",
              "      <th>1/25/20</th>\n",
              "      <th>1/26/20</th>\n",
              "      <th>1/27/20</th>\n",
              "      <th>1/28/20</th>\n",
              "      <th>1/29/20</th>\n",
              "      <th>1/30/20</th>\n",
              "      <th>1/31/20</th>\n",
              "      <th>2/1/20</th>\n",
              "      <th>2/2/20</th>\n",
              "      <th>2/3/20</th>\n",
              "      <th>2/4/20</th>\n",
              "      <th>2/5/20</th>\n",
              "      <th>2/6/20</th>\n",
              "      <th>2/7/20</th>\n",
              "      <th>2/8/20</th>\n",
              "      <th>2/9/20</th>\n",
              "      <th>2/10/20</th>\n",
              "      <th>2/11/20</th>\n",
              "      <th>2/12/20</th>\n",
              "      <th>2/13/20</th>\n",
              "      <th>2/14/20</th>\n",
              "      <th>2/15/20</th>\n",
              "      <th>2/16/20</th>\n",
              "      <th>2/17/20</th>\n",
              "      <th>2/18/20</th>\n",
              "      <th>2/19/20</th>\n",
              "      <th>...</th>\n",
              "      <th>3/2/20</th>\n",
              "      <th>3/3/20</th>\n",
              "      <th>3/4/20</th>\n",
              "      <th>3/5/20</th>\n",
              "      <th>3/6/20</th>\n",
              "      <th>3/7/20</th>\n",
              "      <th>3/8/20</th>\n",
              "      <th>3/9/20</th>\n",
              "      <th>3/10/20</th>\n",
              "      <th>3/11/20</th>\n",
              "      <th>3/12/20</th>\n",
              "      <th>3/13/20</th>\n",
              "      <th>3/14/20</th>\n",
              "      <th>3/15/20</th>\n",
              "      <th>3/16/20</th>\n",
              "      <th>3/17/20</th>\n",
              "      <th>3/18/20</th>\n",
              "      <th>3/19/20</th>\n",
              "      <th>3/20/20</th>\n",
              "      <th>3/21/20</th>\n",
              "      <th>3/22/20</th>\n",
              "      <th>3/23/20</th>\n",
              "      <th>3/24/20</th>\n",
              "      <th>3/25/20</th>\n",
              "      <th>3/26/20</th>\n",
              "      <th>3/27/20</th>\n",
              "      <th>3/28/20</th>\n",
              "      <th>3/29/20</th>\n",
              "      <th>3/30/20</th>\n",
              "      <th>3/31/20</th>\n",
              "      <th>4/1/20</th>\n",
              "      <th>4/2/20</th>\n",
              "      <th>4/3/20</th>\n",
              "      <th>4/4/20</th>\n",
              "      <th>4/5/20</th>\n",
              "      <th>4/6/20</th>\n",
              "      <th>4/7/20</th>\n",
              "      <th>4/8/20</th>\n",
              "      <th>4/9/20</th>\n",
              "      <th>4/10/20</th>\n",
              "    </tr>\n",
              "  </thead>\n",
              "  <tbody>\n",
              "    <tr>\n",
              "      <th>1863</th>\n",
              "      <td>84036061</td>\n",
              "      <td>US</td>\n",
              "      <td>USA</td>\n",
              "      <td>840</td>\n",
              "      <td>36061.0</td>\n",
              "      <td>New York</td>\n",
              "      <td>New York</td>\n",
              "      <td>US</td>\n",
              "      <td>40.767273</td>\n",
              "      <td>-73.971526</td>\n",
              "      <td>New York City, New York, US</td>\n",
              "      <td>0</td>\n",
              "      <td>0</td>\n",
              "      <td>0</td>\n",
              "      <td>0</td>\n",
              "      <td>0</td>\n",
              "      <td>0</td>\n",
              "      <td>0</td>\n",
              "      <td>0</td>\n",
              "      <td>0</td>\n",
              "      <td>0</td>\n",
              "      <td>0</td>\n",
              "      <td>0</td>\n",
              "      <td>0</td>\n",
              "      <td>0</td>\n",
              "      <td>0</td>\n",
              "      <td>0</td>\n",
              "      <td>0</td>\n",
              "      <td>0</td>\n",
              "      <td>0</td>\n",
              "      <td>0</td>\n",
              "      <td>0</td>\n",
              "      <td>0</td>\n",
              "      <td>0</td>\n",
              "      <td>0</td>\n",
              "      <td>0</td>\n",
              "      <td>0</td>\n",
              "      <td>0</td>\n",
              "      <td>0</td>\n",
              "      <td>0</td>\n",
              "      <td>...</td>\n",
              "      <td>1</td>\n",
              "      <td>1</td>\n",
              "      <td>1</td>\n",
              "      <td>4</td>\n",
              "      <td>11</td>\n",
              "      <td>11</td>\n",
              "      <td>12</td>\n",
              "      <td>19</td>\n",
              "      <td>25</td>\n",
              "      <td>55</td>\n",
              "      <td>95</td>\n",
              "      <td>154</td>\n",
              "      <td>269</td>\n",
              "      <td>269</td>\n",
              "      <td>463</td>\n",
              "      <td>814</td>\n",
              "      <td>1871</td>\n",
              "      <td>3954</td>\n",
              "      <td>5151</td>\n",
              "      <td>7530</td>\n",
              "      <td>9654</td>\n",
              "      <td>12305</td>\n",
              "      <td>14904</td>\n",
              "      <td>17856</td>\n",
              "      <td>21873</td>\n",
              "      <td>25573</td>\n",
              "      <td>29776</td>\n",
              "      <td>33768</td>\n",
              "      <td>37453</td>\n",
              "      <td>43119</td>\n",
              "      <td>47439</td>\n",
              "      <td>51809</td>\n",
              "      <td>57159</td>\n",
              "      <td>63306</td>\n",
              "      <td>67551</td>\n",
              "      <td>72181</td>\n",
              "      <td>76876</td>\n",
              "      <td>81803</td>\n",
              "      <td>87028</td>\n",
              "      <td>92384</td>\n",
              "    </tr>\n",
              "  </tbody>\n",
              "</table>\n",
              "<p>1 rows × 91 columns</p>\n",
              "</div>"
            ],
            "text/plain": [
              "           UID iso2 iso3  code3  ...  4/7/20 4/8/20 4/9/20 4/10/20\n",
              "1863  84036061   US  USA    840  ...   76876  81803  87028   92384\n",
              "\n",
              "[1 rows x 91 columns]"
            ]
          },
          "metadata": {
            "tags": []
          },
          "execution_count": 118
        }
      ]
    },
    {
      "cell_type": "code",
      "metadata": {
        "id": "I5Xc58IUoJ4Y",
        "colab_type": "code",
        "colab": {}
      },
      "source": [
        "import pandas as pd\n",
        "df = pd.DataFrame(series)"
      ],
      "execution_count": 0,
      "outputs": []
    },
    {
      "cell_type": "code",
      "metadata": {
        "id": "TrbMJQ0ConEj",
        "colab_type": "code",
        "colab": {}
      },
      "source": [
        "df_ny = df.iloc[1863]"
      ],
      "execution_count": 0,
      "outputs": []
    },
    {
      "cell_type": "code",
      "metadata": {
        "id": "VoIEdpvLorXk",
        "colab_type": "code",
        "colab": {}
      },
      "source": [
        "df_ny = pd.DataFrame(df_ny)"
      ],
      "execution_count": 0,
      "outputs": []
    },
    {
      "cell_type": "code",
      "metadata": {
        "id": "mgYENA5Eo3eI",
        "colab_type": "code",
        "colab": {}
      },
      "source": [
        "df_ny = df_ny.T"
      ],
      "execution_count": 0,
      "outputs": []
    },
    {
      "cell_type": "code",
      "metadata": {
        "id": "sxj8JsbepC4f",
        "colab_type": "code",
        "colab": {}
      },
      "source": [
        "cols = list(df_ny.columns)"
      ],
      "execution_count": 0,
      "outputs": []
    },
    {
      "cell_type": "code",
      "metadata": {
        "id": "WcaCFVI3pMq9",
        "colab_type": "code",
        "colab": {}
      },
      "source": [
        "df_ny = df_ny[cols[10:]]"
      ],
      "execution_count": 0,
      "outputs": []
    },
    {
      "cell_type": "code",
      "metadata": {
        "id": "8y7E68gLpYFm",
        "colab_type": "code",
        "colab": {
          "base_uri": "https://localhost:8080/",
          "height": 146
        },
        "outputId": "9373f096-dec5-4ab5-f977-9536f27f8f35"
      },
      "source": [
        "df_ny"
      ],
      "execution_count": 125,
      "outputs": [
        {
          "output_type": "execute_result",
          "data": {
            "text/html": [
              "<div>\n",
              "<style scoped>\n",
              "    .dataframe tbody tr th:only-of-type {\n",
              "        vertical-align: middle;\n",
              "    }\n",
              "\n",
              "    .dataframe tbody tr th {\n",
              "        vertical-align: top;\n",
              "    }\n",
              "\n",
              "    .dataframe thead th {\n",
              "        text-align: right;\n",
              "    }\n",
              "</style>\n",
              "<table border=\"1\" class=\"dataframe\">\n",
              "  <thead>\n",
              "    <tr style=\"text-align: right;\">\n",
              "      <th></th>\n",
              "      <th>Combined_Key</th>\n",
              "      <th>1/22/20</th>\n",
              "      <th>1/23/20</th>\n",
              "      <th>1/24/20</th>\n",
              "      <th>1/25/20</th>\n",
              "      <th>1/26/20</th>\n",
              "      <th>1/27/20</th>\n",
              "      <th>1/28/20</th>\n",
              "      <th>1/29/20</th>\n",
              "      <th>1/30/20</th>\n",
              "      <th>1/31/20</th>\n",
              "      <th>2/1/20</th>\n",
              "      <th>2/2/20</th>\n",
              "      <th>2/3/20</th>\n",
              "      <th>2/4/20</th>\n",
              "      <th>2/5/20</th>\n",
              "      <th>2/6/20</th>\n",
              "      <th>2/7/20</th>\n",
              "      <th>2/8/20</th>\n",
              "      <th>2/9/20</th>\n",
              "      <th>2/10/20</th>\n",
              "      <th>2/11/20</th>\n",
              "      <th>2/12/20</th>\n",
              "      <th>2/13/20</th>\n",
              "      <th>2/14/20</th>\n",
              "      <th>2/15/20</th>\n",
              "      <th>2/16/20</th>\n",
              "      <th>2/17/20</th>\n",
              "      <th>2/18/20</th>\n",
              "      <th>2/19/20</th>\n",
              "      <th>2/20/20</th>\n",
              "      <th>2/21/20</th>\n",
              "      <th>2/22/20</th>\n",
              "      <th>2/23/20</th>\n",
              "      <th>2/24/20</th>\n",
              "      <th>2/25/20</th>\n",
              "      <th>2/26/20</th>\n",
              "      <th>2/27/20</th>\n",
              "      <th>2/28/20</th>\n",
              "      <th>2/29/20</th>\n",
              "      <th>...</th>\n",
              "      <th>3/2/20</th>\n",
              "      <th>3/3/20</th>\n",
              "      <th>3/4/20</th>\n",
              "      <th>3/5/20</th>\n",
              "      <th>3/6/20</th>\n",
              "      <th>3/7/20</th>\n",
              "      <th>3/8/20</th>\n",
              "      <th>3/9/20</th>\n",
              "      <th>3/10/20</th>\n",
              "      <th>3/11/20</th>\n",
              "      <th>3/12/20</th>\n",
              "      <th>3/13/20</th>\n",
              "      <th>3/14/20</th>\n",
              "      <th>3/15/20</th>\n",
              "      <th>3/16/20</th>\n",
              "      <th>3/17/20</th>\n",
              "      <th>3/18/20</th>\n",
              "      <th>3/19/20</th>\n",
              "      <th>3/20/20</th>\n",
              "      <th>3/21/20</th>\n",
              "      <th>3/22/20</th>\n",
              "      <th>3/23/20</th>\n",
              "      <th>3/24/20</th>\n",
              "      <th>3/25/20</th>\n",
              "      <th>3/26/20</th>\n",
              "      <th>3/27/20</th>\n",
              "      <th>3/28/20</th>\n",
              "      <th>3/29/20</th>\n",
              "      <th>3/30/20</th>\n",
              "      <th>3/31/20</th>\n",
              "      <th>4/1/20</th>\n",
              "      <th>4/2/20</th>\n",
              "      <th>4/3/20</th>\n",
              "      <th>4/4/20</th>\n",
              "      <th>4/5/20</th>\n",
              "      <th>4/6/20</th>\n",
              "      <th>4/7/20</th>\n",
              "      <th>4/8/20</th>\n",
              "      <th>4/9/20</th>\n",
              "      <th>4/10/20</th>\n",
              "    </tr>\n",
              "  </thead>\n",
              "  <tbody>\n",
              "    <tr>\n",
              "      <th>1863</th>\n",
              "      <td>New York City, New York, US</td>\n",
              "      <td>0</td>\n",
              "      <td>0</td>\n",
              "      <td>0</td>\n",
              "      <td>0</td>\n",
              "      <td>0</td>\n",
              "      <td>0</td>\n",
              "      <td>0</td>\n",
              "      <td>0</td>\n",
              "      <td>0</td>\n",
              "      <td>0</td>\n",
              "      <td>0</td>\n",
              "      <td>0</td>\n",
              "      <td>0</td>\n",
              "      <td>0</td>\n",
              "      <td>0</td>\n",
              "      <td>0</td>\n",
              "      <td>0</td>\n",
              "      <td>0</td>\n",
              "      <td>0</td>\n",
              "      <td>0</td>\n",
              "      <td>0</td>\n",
              "      <td>0</td>\n",
              "      <td>0</td>\n",
              "      <td>0</td>\n",
              "      <td>0</td>\n",
              "      <td>0</td>\n",
              "      <td>0</td>\n",
              "      <td>0</td>\n",
              "      <td>0</td>\n",
              "      <td>0</td>\n",
              "      <td>0</td>\n",
              "      <td>0</td>\n",
              "      <td>0</td>\n",
              "      <td>0</td>\n",
              "      <td>0</td>\n",
              "      <td>0</td>\n",
              "      <td>0</td>\n",
              "      <td>0</td>\n",
              "      <td>0</td>\n",
              "      <td>...</td>\n",
              "      <td>1</td>\n",
              "      <td>1</td>\n",
              "      <td>1</td>\n",
              "      <td>4</td>\n",
              "      <td>11</td>\n",
              "      <td>11</td>\n",
              "      <td>12</td>\n",
              "      <td>19</td>\n",
              "      <td>25</td>\n",
              "      <td>55</td>\n",
              "      <td>95</td>\n",
              "      <td>154</td>\n",
              "      <td>269</td>\n",
              "      <td>269</td>\n",
              "      <td>463</td>\n",
              "      <td>814</td>\n",
              "      <td>1871</td>\n",
              "      <td>3954</td>\n",
              "      <td>5151</td>\n",
              "      <td>7530</td>\n",
              "      <td>9654</td>\n",
              "      <td>12305</td>\n",
              "      <td>14904</td>\n",
              "      <td>17856</td>\n",
              "      <td>21873</td>\n",
              "      <td>25573</td>\n",
              "      <td>29776</td>\n",
              "      <td>33768</td>\n",
              "      <td>37453</td>\n",
              "      <td>43119</td>\n",
              "      <td>47439</td>\n",
              "      <td>51809</td>\n",
              "      <td>57159</td>\n",
              "      <td>63306</td>\n",
              "      <td>67551</td>\n",
              "      <td>72181</td>\n",
              "      <td>76876</td>\n",
              "      <td>81803</td>\n",
              "      <td>87028</td>\n",
              "      <td>92384</td>\n",
              "    </tr>\n",
              "  </tbody>\n",
              "</table>\n",
              "<p>1 rows × 81 columns</p>\n",
              "</div>"
            ],
            "text/plain": [
              "                     Combined_Key 1/22/20 1/23/20  ... 4/8/20 4/9/20 4/10/20\n",
              "1863  New York City, New York, US       0       0  ...  81803  87028   92384\n",
              "\n",
              "[1 rows x 81 columns]"
            ]
          },
          "metadata": {
            "tags": []
          },
          "execution_count": 125
        }
      ]
    },
    {
      "cell_type": "code",
      "metadata": {
        "id": "y-cjp0DupjjM",
        "colab_type": "code",
        "colab": {}
      },
      "source": [
        "list_of_dates= list(df_ny.columns)"
      ],
      "execution_count": 0,
      "outputs": []
    },
    {
      "cell_type": "code",
      "metadata": {
        "id": "bxbR2t1Bq42W",
        "colab_type": "code",
        "colab": {
          "base_uri": "https://localhost:8080/",
          "height": 34
        },
        "outputId": "837a022b-187a-489a-9f48-4b1268f9a214"
      },
      "source": [
        "len(list_of_dates)"
      ],
      "execution_count": 127,
      "outputs": [
        {
          "output_type": "execute_result",
          "data": {
            "text/plain": [
              "81"
            ]
          },
          "metadata": {
            "tags": []
          },
          "execution_count": 127
        }
      ]
    },
    {
      "cell_type": "code",
      "metadata": {
        "id": "AkKivluHq9VP",
        "colab_type": "code",
        "colab": {
          "base_uri": "https://localhost:8080/",
          "height": 34
        },
        "outputId": "d94a794d-54e1-44c6-b4c3-a7f65f38bcde"
      },
      "source": [
        "len(values)"
      ],
      "execution_count": 128,
      "outputs": [
        {
          "output_type": "execute_result",
          "data": {
            "text/plain": [
              "41"
            ]
          },
          "metadata": {
            "tags": []
          },
          "execution_count": 128
        }
      ]
    },
    {
      "cell_type": "code",
      "metadata": {
        "id": "7aj-0dxdpthR",
        "colab_type": "code",
        "colab": {}
      },
      "source": [
        "list_of_dates = list_of_dates[40:]"
      ],
      "execution_count": 0,
      "outputs": []
    },
    {
      "cell_type": "code",
      "metadata": {
        "id": "X0MqgJZ4puSz",
        "colab_type": "code",
        "colab": {
          "base_uri": "https://localhost:8080/",
          "height": 121
        },
        "outputId": "11c208b9-9616-4426-9380-32ff3e3a6fcc"
      },
      "source": [
        "list(df_ny.values)"
      ],
      "execution_count": 130,
      "outputs": [
        {
          "output_type": "execute_result",
          "data": {
            "text/plain": [
              "[array(['New York City, New York, US', 0, 0, 0, 0, 0, 0, 0, 0, 0, 0, 0, 0,\n",
              "        0, 0, 0, 0, 0, 0, 0, 0, 0, 0, 0, 0, 0, 0, 0, 0, 0, 0, 0, 0, 0, 0,\n",
              "        0, 0, 0, 0, 0, 0, 1, 1, 1, 4, 11, 11, 12, 19, 25, 55, 95, 154, 269,\n",
              "        269, 463, 814, 1871, 3954, 5151, 7530, 9654, 12305, 14904, 17856,\n",
              "        21873, 25573, 29776, 33768, 37453, 43119, 47439, 51809, 57159,\n",
              "        63306, 67551, 72181, 76876, 81803, 87028, 92384], dtype=object)]"
            ]
          },
          "metadata": {
            "tags": []
          },
          "execution_count": 130
        }
      ]
    },
    {
      "cell_type": "code",
      "metadata": {
        "id": "aQUO9PZYqhIK",
        "colab_type": "code",
        "colab": {
          "base_uri": "https://localhost:8080/",
          "height": 34
        },
        "outputId": "5b95d2d5-69c8-47e3-d6bd-c3253ddb20df"
      },
      "source": [
        "values[40]"
      ],
      "execution_count": 131,
      "outputs": [
        {
          "output_type": "execute_result",
          "data": {
            "text/plain": [
              "92384"
            ]
          },
          "metadata": {
            "tags": []
          },
          "execution_count": 131
        }
      ]
    },
    {
      "cell_type": "code",
      "metadata": {
        "id": "MumQqvEUp3ko",
        "colab_type": "code",
        "colab": {}
      },
      "source": [
        "values = list(df_ny.iloc[0])[40:]"
      ],
      "execution_count": 0,
      "outputs": []
    },
    {
      "cell_type": "code",
      "metadata": {
        "id": "zNWU04Rep_n4",
        "colab_type": "code",
        "colab": {}
      },
      "source": [
        "data = {'Date':list_of_dates, 'Num of daily cases': values} \n"
      ],
      "execution_count": 0,
      "outputs": []
    },
    {
      "cell_type": "code",
      "metadata": {
        "id": "qz9kCaIWqY4W",
        "colab_type": "code",
        "colab": {
          "base_uri": "https://localhost:8080/",
          "height": 1000
        },
        "outputId": "e80ae22e-9865-44bb-9057-eb249d5c4e40"
      },
      "source": [
        "df = pd.DataFrame(data)\n",
        "df"
      ],
      "execution_count": 134,
      "outputs": [
        {
          "output_type": "execute_result",
          "data": {
            "text/html": [
              "<div>\n",
              "<style scoped>\n",
              "    .dataframe tbody tr th:only-of-type {\n",
              "        vertical-align: middle;\n",
              "    }\n",
              "\n",
              "    .dataframe tbody tr th {\n",
              "        vertical-align: top;\n",
              "    }\n",
              "\n",
              "    .dataframe thead th {\n",
              "        text-align: right;\n",
              "    }\n",
              "</style>\n",
              "<table border=\"1\" class=\"dataframe\">\n",
              "  <thead>\n",
              "    <tr style=\"text-align: right;\">\n",
              "      <th></th>\n",
              "      <th>Date</th>\n",
              "      <th>Num of daily cases</th>\n",
              "    </tr>\n",
              "  </thead>\n",
              "  <tbody>\n",
              "    <tr>\n",
              "      <th>0</th>\n",
              "      <td>3/1/20</td>\n",
              "      <td>0</td>\n",
              "    </tr>\n",
              "    <tr>\n",
              "      <th>1</th>\n",
              "      <td>3/2/20</td>\n",
              "      <td>1</td>\n",
              "    </tr>\n",
              "    <tr>\n",
              "      <th>2</th>\n",
              "      <td>3/3/20</td>\n",
              "      <td>1</td>\n",
              "    </tr>\n",
              "    <tr>\n",
              "      <th>3</th>\n",
              "      <td>3/4/20</td>\n",
              "      <td>1</td>\n",
              "    </tr>\n",
              "    <tr>\n",
              "      <th>4</th>\n",
              "      <td>3/5/20</td>\n",
              "      <td>4</td>\n",
              "    </tr>\n",
              "    <tr>\n",
              "      <th>5</th>\n",
              "      <td>3/6/20</td>\n",
              "      <td>11</td>\n",
              "    </tr>\n",
              "    <tr>\n",
              "      <th>6</th>\n",
              "      <td>3/7/20</td>\n",
              "      <td>11</td>\n",
              "    </tr>\n",
              "    <tr>\n",
              "      <th>7</th>\n",
              "      <td>3/8/20</td>\n",
              "      <td>12</td>\n",
              "    </tr>\n",
              "    <tr>\n",
              "      <th>8</th>\n",
              "      <td>3/9/20</td>\n",
              "      <td>19</td>\n",
              "    </tr>\n",
              "    <tr>\n",
              "      <th>9</th>\n",
              "      <td>3/10/20</td>\n",
              "      <td>25</td>\n",
              "    </tr>\n",
              "    <tr>\n",
              "      <th>10</th>\n",
              "      <td>3/11/20</td>\n",
              "      <td>55</td>\n",
              "    </tr>\n",
              "    <tr>\n",
              "      <th>11</th>\n",
              "      <td>3/12/20</td>\n",
              "      <td>95</td>\n",
              "    </tr>\n",
              "    <tr>\n",
              "      <th>12</th>\n",
              "      <td>3/13/20</td>\n",
              "      <td>154</td>\n",
              "    </tr>\n",
              "    <tr>\n",
              "      <th>13</th>\n",
              "      <td>3/14/20</td>\n",
              "      <td>269</td>\n",
              "    </tr>\n",
              "    <tr>\n",
              "      <th>14</th>\n",
              "      <td>3/15/20</td>\n",
              "      <td>269</td>\n",
              "    </tr>\n",
              "    <tr>\n",
              "      <th>15</th>\n",
              "      <td>3/16/20</td>\n",
              "      <td>463</td>\n",
              "    </tr>\n",
              "    <tr>\n",
              "      <th>16</th>\n",
              "      <td>3/17/20</td>\n",
              "      <td>814</td>\n",
              "    </tr>\n",
              "    <tr>\n",
              "      <th>17</th>\n",
              "      <td>3/18/20</td>\n",
              "      <td>1871</td>\n",
              "    </tr>\n",
              "    <tr>\n",
              "      <th>18</th>\n",
              "      <td>3/19/20</td>\n",
              "      <td>3954</td>\n",
              "    </tr>\n",
              "    <tr>\n",
              "      <th>19</th>\n",
              "      <td>3/20/20</td>\n",
              "      <td>5151</td>\n",
              "    </tr>\n",
              "    <tr>\n",
              "      <th>20</th>\n",
              "      <td>3/21/20</td>\n",
              "      <td>7530</td>\n",
              "    </tr>\n",
              "    <tr>\n",
              "      <th>21</th>\n",
              "      <td>3/22/20</td>\n",
              "      <td>9654</td>\n",
              "    </tr>\n",
              "    <tr>\n",
              "      <th>22</th>\n",
              "      <td>3/23/20</td>\n",
              "      <td>12305</td>\n",
              "    </tr>\n",
              "    <tr>\n",
              "      <th>23</th>\n",
              "      <td>3/24/20</td>\n",
              "      <td>14904</td>\n",
              "    </tr>\n",
              "    <tr>\n",
              "      <th>24</th>\n",
              "      <td>3/25/20</td>\n",
              "      <td>17856</td>\n",
              "    </tr>\n",
              "    <tr>\n",
              "      <th>25</th>\n",
              "      <td>3/26/20</td>\n",
              "      <td>21873</td>\n",
              "    </tr>\n",
              "    <tr>\n",
              "      <th>26</th>\n",
              "      <td>3/27/20</td>\n",
              "      <td>25573</td>\n",
              "    </tr>\n",
              "    <tr>\n",
              "      <th>27</th>\n",
              "      <td>3/28/20</td>\n",
              "      <td>29776</td>\n",
              "    </tr>\n",
              "    <tr>\n",
              "      <th>28</th>\n",
              "      <td>3/29/20</td>\n",
              "      <td>33768</td>\n",
              "    </tr>\n",
              "    <tr>\n",
              "      <th>29</th>\n",
              "      <td>3/30/20</td>\n",
              "      <td>37453</td>\n",
              "    </tr>\n",
              "    <tr>\n",
              "      <th>30</th>\n",
              "      <td>3/31/20</td>\n",
              "      <td>43119</td>\n",
              "    </tr>\n",
              "    <tr>\n",
              "      <th>31</th>\n",
              "      <td>4/1/20</td>\n",
              "      <td>47439</td>\n",
              "    </tr>\n",
              "    <tr>\n",
              "      <th>32</th>\n",
              "      <td>4/2/20</td>\n",
              "      <td>51809</td>\n",
              "    </tr>\n",
              "    <tr>\n",
              "      <th>33</th>\n",
              "      <td>4/3/20</td>\n",
              "      <td>57159</td>\n",
              "    </tr>\n",
              "    <tr>\n",
              "      <th>34</th>\n",
              "      <td>4/4/20</td>\n",
              "      <td>63306</td>\n",
              "    </tr>\n",
              "    <tr>\n",
              "      <th>35</th>\n",
              "      <td>4/5/20</td>\n",
              "      <td>67551</td>\n",
              "    </tr>\n",
              "    <tr>\n",
              "      <th>36</th>\n",
              "      <td>4/6/20</td>\n",
              "      <td>72181</td>\n",
              "    </tr>\n",
              "    <tr>\n",
              "      <th>37</th>\n",
              "      <td>4/7/20</td>\n",
              "      <td>76876</td>\n",
              "    </tr>\n",
              "    <tr>\n",
              "      <th>38</th>\n",
              "      <td>4/8/20</td>\n",
              "      <td>81803</td>\n",
              "    </tr>\n",
              "    <tr>\n",
              "      <th>39</th>\n",
              "      <td>4/9/20</td>\n",
              "      <td>87028</td>\n",
              "    </tr>\n",
              "    <tr>\n",
              "      <th>40</th>\n",
              "      <td>4/10/20</td>\n",
              "      <td>92384</td>\n",
              "    </tr>\n",
              "  </tbody>\n",
              "</table>\n",
              "</div>"
            ],
            "text/plain": [
              "       Date  Num of daily cases\n",
              "0    3/1/20                   0\n",
              "1    3/2/20                   1\n",
              "2    3/3/20                   1\n",
              "3    3/4/20                   1\n",
              "4    3/5/20                   4\n",
              "5    3/6/20                  11\n",
              "6    3/7/20                  11\n",
              "7    3/8/20                  12\n",
              "8    3/9/20                  19\n",
              "9   3/10/20                  25\n",
              "10  3/11/20                  55\n",
              "11  3/12/20                  95\n",
              "12  3/13/20                 154\n",
              "13  3/14/20                 269\n",
              "14  3/15/20                 269\n",
              "15  3/16/20                 463\n",
              "16  3/17/20                 814\n",
              "17  3/18/20                1871\n",
              "18  3/19/20                3954\n",
              "19  3/20/20                5151\n",
              "20  3/21/20                7530\n",
              "21  3/22/20                9654\n",
              "22  3/23/20               12305\n",
              "23  3/24/20               14904\n",
              "24  3/25/20               17856\n",
              "25  3/26/20               21873\n",
              "26  3/27/20               25573\n",
              "27  3/28/20               29776\n",
              "28  3/29/20               33768\n",
              "29  3/30/20               37453\n",
              "30  3/31/20               43119\n",
              "31   4/1/20               47439\n",
              "32   4/2/20               51809\n",
              "33   4/3/20               57159\n",
              "34   4/4/20               63306\n",
              "35   4/5/20               67551\n",
              "36   4/6/20               72181\n",
              "37   4/7/20               76876\n",
              "38   4/8/20               81803\n",
              "39   4/9/20               87028\n",
              "40  4/10/20               92384"
            ]
          },
          "metadata": {
            "tags": []
          },
          "execution_count": 134
        }
      ]
    },
    {
      "cell_type": "code",
      "metadata": {
        "id": "k_ueW6fdqaZ-",
        "colab_type": "code",
        "colab": {
          "base_uri": "https://localhost:8080/",
          "height": 574
        },
        "outputId": "8fc71e3b-f878-4d15-e893-4f0cb09c8a12"
      },
      "source": [
        "from matplotlib import pyplot as plt\n",
        "\n",
        "plt.figure(figsize = (18,9))\n",
        "plt.title(\"Num of daily cases in NYC\", fontsize = 18)\n",
        "\n",
        "plt.plot(df['Date'], df['Num of daily cases'])\n"
      ],
      "execution_count": 135,
      "outputs": [
        {
          "output_type": "execute_result",
          "data": {
            "text/plain": [
              "[<matplotlib.lines.Line2D at 0x7f56c4109ba8>]"
            ]
          },
          "metadata": {
            "tags": []
          },
          "execution_count": 135
        },
        {
          "output_type": "display_data",
          "data": {
            "image/png": "[encoded data removed]",
            "text/plain": [
              "<Figure size 1296x648 with 1 Axes>"
            ]
          },
          "metadata": {
            "tags": [],
            "needs_background": "light"
          }
        }
      ]
    },
    {
      "cell_type": "code",
      "metadata": {
        "id": "hoh0_qWdqck-",
        "colab_type": "code",
        "colab": {}
      },
      "source": [
        "# create a differenced series\n",
        "def difference(dataset, interval=1):\n",
        "\tdiff = list()\n",
        "\tfor i in range(interval, len(dataset)):\n",
        "\t\tvalue = dataset[i] - dataset[i - interval]\n",
        "\t\tdiff.append(value)\n",
        "\treturn numpy.array(diff)"
      ],
      "execution_count": 0,
      "outputs": []
    },
    {
      "cell_type": "code",
      "metadata": {
        "id": "XhciNq4kr0Z4",
        "colab_type": "code",
        "colab": {}
      },
      "source": [
        "# invert differenced value\n",
        "def inverse_difference(history, yhat, interval=1):\n",
        "\treturn yhat + history[-interval]"
      ],
      "execution_count": 0,
      "outputs": []
    },
    {
      "cell_type": "code",
      "metadata": {
        "id": "rS8DZ4V2r1fr",
        "colab_type": "code",
        "colab": {}
      },
      "source": [
        "series = df['Num of daily cases']"
      ],
      "execution_count": 0,
      "outputs": []
    },
    {
      "cell_type": "code",
      "metadata": {
        "id": "NjMemXldr4Ry",
        "colab_type": "code",
        "colab": {}
      },
      "source": [
        "series.index = df['Date']"
      ],
      "execution_count": 0,
      "outputs": []
    },
    {
      "cell_type": "code",
      "metadata": {
        "id": "PvmcNSo3r6QJ",
        "colab_type": "code",
        "colab": {
          "base_uri": "https://localhost:8080/",
          "height": 762
        },
        "outputId": "4577a9a0-7fa1-4e62-e759-013d9c034923"
      },
      "source": [
        "series"
      ],
      "execution_count": 140,
      "outputs": [
        {
          "output_type": "execute_result",
          "data": {
            "text/plain": [
              "Date\n",
              "3/1/20         0\n",
              "3/2/20         1\n",
              "3/3/20         1\n",
              "3/4/20         1\n",
              "3/5/20         4\n",
              "3/6/20        11\n",
              "3/7/20        11\n",
              "3/8/20        12\n",
              "3/9/20        19\n",
              "3/10/20       25\n",
              "3/11/20       55\n",
              "3/12/20       95\n",
              "3/13/20      154\n",
              "3/14/20      269\n",
              "3/15/20      269\n",
              "3/16/20      463\n",
              "3/17/20      814\n",
              "3/18/20     1871\n",
              "3/19/20     3954\n",
              "3/20/20     5151\n",
              "3/21/20     7530\n",
              "3/22/20     9654\n",
              "3/23/20    12305\n",
              "3/24/20    14904\n",
              "3/25/20    17856\n",
              "3/26/20    21873\n",
              "3/27/20    25573\n",
              "3/28/20    29776\n",
              "3/29/20    33768\n",
              "3/30/20    37453\n",
              "3/31/20    43119\n",
              "4/1/20     47439\n",
              "4/2/20     51809\n",
              "4/3/20     57159\n",
              "4/4/20     63306\n",
              "4/5/20     67551\n",
              "4/6/20     72181\n",
              "4/7/20     76876\n",
              "4/8/20     81803\n",
              "4/9/20     87028\n",
              "4/10/20    92384\n",
              "Name: Num of daily cases, dtype: int64"
            ]
          },
          "metadata": {
            "tags": []
          },
          "execution_count": 140
        }
      ]
    },
    {
      "cell_type": "code",
      "metadata": {
        "id": "RMCxPX5msWop",
        "colab_type": "code",
        "colab": {
          "base_uri": "https://localhost:8080/",
          "height": 34
        },
        "outputId": "8b1f6913-4900-42f2-f73d-58d6c7126326"
      },
      "source": [
        "series.shape"
      ],
      "execution_count": 141,
      "outputs": [
        {
          "output_type": "execute_result",
          "data": {
            "text/plain": [
              "(41,)"
            ]
          },
          "metadata": {
            "tags": []
          },
          "execution_count": 141
        }
      ]
    },
    {
      "cell_type": "code",
      "metadata": {
        "id": "EDVej11tr7bS",
        "colab_type": "code",
        "colab": {}
      },
      "source": [
        "split_point = len(series) -3\n",
        "dataset, validation = series[0:split_point], series[split_point:]"
      ],
      "execution_count": 0,
      "outputs": []
    },
    {
      "cell_type": "code",
      "metadata": {
        "id": "Avcm6z15r9YC",
        "colab_type": "code",
        "colab": {
          "base_uri": "https://localhost:8080/",
          "height": 433
        },
        "outputId": "4088659a-0287-41c1-9266-e0afb9f8298d"
      },
      "source": [
        "from pandas import read_csv\n",
        "from statsmodels.tsa.arima_model import ARIMA\n",
        "import numpy\n",
        " \n",
        "# create a differenced series\n",
        "def difference(dataset, interval=1):\n",
        "\tdiff = list()\n",
        "\tfor i in range(interval, len(dataset)):\n",
        "\t\tvalue = dataset[i] - dataset[i - interval]\n",
        "\t\tdiff.append(value)\n",
        "\treturn numpy.array(diff)\n",
        " \n",
        "# load dataset\n",
        "# seasonal difference\n",
        "X = dataset.values\n",
        "days_in_year = 1\n",
        "differenced = difference(X, days_in_year)\n",
        "# fit model\n",
        "model = ARIMA(differenced, order=(3,0,0))\n",
        "model_fit = model.fit(disp=0)\n",
        "# print summary of fit model\n",
        "print(model_fit.summary())"
      ],
      "execution_count": 187,
      "outputs": [
        {
          "output_type": "stream",
          "text": [
            "                              ARMA Model Results                              \n",
            "==============================================================================\n",
            "Dep. Variable:                      y   No. Observations:                   37\n",
            "Model:                     ARMA(3, 0)   Log Likelihood                -291.697\n",
            "Method:                       css-mle   S.D. of innovations            618.296\n",
            "Date:                Sat, 11 Apr 2020   AIC                            593.394\n",
            "Time:                        19:34:42   BIC                            601.448\n",
            "Sample:                             0   HQIC                           596.233\n",
            "                                                                              \n",
            "==============================================================================\n",
            "                 coef    std err          z      P>|z|      [0.025      0.975]\n",
            "------------------------------------------------------------------------------\n",
            "const       2262.9745   1974.990      1.146      0.260   -1607.935    6133.884\n",
            "ar.L1.y        0.5383      0.160      3.369      0.002       0.225       0.852\n",
            "ar.L2.y        0.2383      0.177      1.345      0.188      -0.109       0.585\n",
            "ar.L3.y        0.1995      0.159      1.252      0.219      -0.113       0.512\n",
            "                                    Roots                                    \n",
            "=============================================================================\n",
            "                  Real          Imaginary           Modulus         Frequency\n",
            "-----------------------------------------------------------------------------\n",
            "AR.1            1.0147           -0.0000j            1.0147           -0.0000\n",
            "AR.2           -1.1044           -1.9286j            2.2224           -0.3328\n",
            "AR.3           -1.1044           +1.9286j            2.2224            0.3328\n",
            "-----------------------------------------------------------------------------\n"
          ],
          "name": "stdout"
        }
      ]
    },
    {
      "cell_type": "code",
      "metadata": {
        "id": "TdaFNFDguGJf",
        "colab_type": "code",
        "colab": {
          "base_uri": "https://localhost:8080/",
          "height": 34
        },
        "outputId": "b30470ec-a54d-46dd-f566-cad17eefdbbc"
      },
      "source": [
        "len(differenced)"
      ],
      "execution_count": 188,
      "outputs": [
        {
          "output_type": "execute_result",
          "data": {
            "text/plain": [
              "37"
            ]
          },
          "metadata": {
            "tags": []
          },
          "execution_count": 188
        }
      ]
    },
    {
      "cell_type": "code",
      "metadata": {
        "id": "P6SlqbZwtIRQ",
        "colab_type": "code",
        "colab": {}
      },
      "source": [
        "# one-step out of sample forecast\n",
        "start_index = len(differenced)\n",
        "end_index = len(differenced)\n",
        "forecast = model_fit.predict(start=start_index, end=end_index)"
      ],
      "execution_count": 0,
      "outputs": []
    },
    {
      "cell_type": "code",
      "metadata": {
        "id": "Mh_SOXmbtPfo",
        "colab_type": "code",
        "colab": {
          "base_uri": "https://localhost:8080/",
          "height": 34
        },
        "outputId": "6eabd880-d31e-488f-f240-9de4f5409c15"
      },
      "source": [
        "from pandas import datetime\n",
        "# invert the differenced forecast to something usable\n",
        "forecast = inverse_difference(X, forecast, days_in_year)\n",
        "print('Forecast: %f' % forecast)"
      ],
      "execution_count": 191,
      "outputs": [
        {
          "output_type": "stream",
          "text": [
            "Forecast: 81407.684366\n"
          ],
          "name": "stdout"
        }
      ]
    },
    {
      "cell_type": "code",
      "metadata": {
        "id": "bZ5q-LBKtQo_",
        "colab_type": "code",
        "colab": {}
      },
      "source": [
        "# multi-step out-of-sample forecast\n",
        "forecast = model_fit.forecast(steps=3)[0]"
      ],
      "execution_count": 0,
      "outputs": []
    },
    {
      "cell_type": "code",
      "metadata": {
        "id": "NQ7ivJQ9tS92",
        "colab_type": "code",
        "colab": {
          "base_uri": "https://localhost:8080/",
          "height": 69
        },
        "outputId": "7303d8cd-0ffc-44a0-8cde-71260ba47ed8"
      },
      "source": [
        "forecast_one_week_ahead = []\n",
        "history = [x for x in X]\n",
        "day = 1\n",
        "for yhat in forecast:\n",
        "\tinverted = inverse_difference(history, yhat, days_in_year)\n",
        "\tprint('Day %d: %f' % (day, inverted))\n",
        "\thistory.append(inverted)\n",
        "\tday += 1"
      ],
      "execution_count": 193,
      "outputs": [
        {
          "output_type": "stream",
          "text": [
            "Day 1: 81407.684366\n",
            "Day 2: 85943.758934\n",
            "Day 3: 90456.254468\n"
          ],
          "name": "stdout"
        }
      ]
    },
    {
      "cell_type": "code",
      "metadata": {
        "id": "XHpjkb8OtUP_",
        "colab_type": "code",
        "colab": {}
      },
      "source": [
        "import numpy as np\n",
        "history_np = np.array(history)"
      ],
      "execution_count": 0,
      "outputs": []
    },
    {
      "cell_type": "code",
      "metadata": {
        "id": "DpHZr-vCtYWO",
        "colab_type": "code",
        "colab": {
          "base_uri": "https://localhost:8080/",
          "height": 282
        },
        "outputId": "e915970b-76d8-4487-8498-f343bc060c54"
      },
      "source": [
        "plt.plot(history_np)"
      ],
      "execution_count": 195,
      "outputs": [
        {
          "output_type": "execute_result",
          "data": {
            "text/plain": [
              "[<matplotlib.lines.Line2D at 0x7f56c3d2bf60>]"
            ]
          },
          "metadata": {
            "tags": []
          },
          "execution_count": 195
        },
        {
          "output_type": "display_data",
          "data": {
            "image/png": "[encoded data removed]",
            "text/plain": [
              "<Figure size 432x288 with 1 Axes>"
            ]
          },
          "metadata": {
            "tags": [],
            "needs_background": "light"
          }
        }
      ]
    },
    {
      "cell_type": "code",
      "metadata": {
        "id": "sUBOUJhBt3-n",
        "colab_type": "code",
        "colab": {
          "base_uri": "https://localhost:8080/",
          "height": 34
        },
        "outputId": "a719775a-a157-4e95-88dc-85d21f76f39e"
      },
      "source": [
        "len(history)"
      ],
      "execution_count": 196,
      "outputs": [
        {
          "output_type": "execute_result",
          "data": {
            "text/plain": [
              "41"
            ]
          },
          "metadata": {
            "tags": []
          },
          "execution_count": 196
        }
      ]
    },
    {
      "cell_type": "code",
      "metadata": {
        "id": "MUmvLFCJta-N",
        "colab_type": "code",
        "colab": {
          "base_uri": "https://localhost:8080/",
          "height": 710
        },
        "outputId": "07aba91c-d1d5-487d-b2d6-23bb252c0aba"
      },
      "source": [
        "dataset"
      ],
      "execution_count": 197,
      "outputs": [
        {
          "output_type": "execute_result",
          "data": {
            "text/plain": [
              "Date\n",
              "3/1/20         0\n",
              "3/2/20         1\n",
              "3/3/20         1\n",
              "3/4/20         1\n",
              "3/5/20         4\n",
              "3/6/20        11\n",
              "3/7/20        11\n",
              "3/8/20        12\n",
              "3/9/20        19\n",
              "3/10/20       25\n",
              "3/11/20       55\n",
              "3/12/20       95\n",
              "3/13/20      154\n",
              "3/14/20      269\n",
              "3/15/20      269\n",
              "3/16/20      463\n",
              "3/17/20      814\n",
              "3/18/20     1871\n",
              "3/19/20     3954\n",
              "3/20/20     5151\n",
              "3/21/20     7530\n",
              "3/22/20     9654\n",
              "3/23/20    12305\n",
              "3/24/20    14904\n",
              "3/25/20    17856\n",
              "3/26/20    21873\n",
              "3/27/20    25573\n",
              "3/28/20    29776\n",
              "3/29/20    33768\n",
              "3/30/20    37453\n",
              "3/31/20    43119\n",
              "4/1/20     47439\n",
              "4/2/20     51809\n",
              "4/3/20     57159\n",
              "4/4/20     63306\n",
              "4/5/20     67551\n",
              "4/6/20     72181\n",
              "4/7/20     76876\n",
              "Name: Num of daily cases, dtype: int64"
            ]
          },
          "metadata": {
            "tags": []
          },
          "execution_count": 197
        }
      ]
    },
    {
      "cell_type": "code",
      "metadata": {
        "id": "xXF0S0rRthRE",
        "colab_type": "code",
        "colab": {
          "base_uri": "https://localhost:8080/",
          "height": 104
        },
        "outputId": "0ca97ec6-df29-4d44-8db2-acf0a01ab7c5"
      },
      "source": [
        "validation"
      ],
      "execution_count": 198,
      "outputs": [
        {
          "output_type": "execute_result",
          "data": {
            "text/plain": [
              "Date\n",
              "4/8/20     81803\n",
              "4/9/20     87028\n",
              "4/10/20    92384\n",
              "Name: Num of daily cases, dtype: int64"
            ]
          },
          "metadata": {
            "tags": []
          },
          "execution_count": 198
        }
      ]
    },
    {
      "cell_type": "code",
      "metadata": {
        "id": "MKMnr7VxtkFk",
        "colab_type": "code",
        "colab": {
          "base_uri": "https://localhost:8080/",
          "height": 282
        },
        "outputId": "212f5958-7371-40e3-a5cb-1b467263dffc"
      },
      "source": [
        "plt.plot(list(series)[-50:], label = 'original dataset')\n",
        "plt.plot(history[-50:], label = 'prediction')\n",
        "plt.legend()"
      ],
      "execution_count": 199,
      "outputs": [
        {
          "output_type": "execute_result",
          "data": {
            "text/plain": [
              "<matplotlib.legend.Legend at 0x7f56c3c93ef0>"
            ]
          },
          "metadata": {
            "tags": []
          },
          "execution_count": 199
        },
        {
          "output_type": "display_data",
          "data": {
            "image/png": "[encoded data removed]",
            "text/plain": [
              "<Figure size 432x288 with 1 Axes>"
            ]
          },
          "metadata": {
            "tags": [],
            "needs_background": "light"
          }
        }
      ]
    },
    {
      "cell_type": "markdown",
      "metadata": {
        "id": "JsWc-4R7vNKq",
        "colab_type": "text"
      },
      "source": [
        "What do we thing will happen in the next 5 days:"
      ]
    },
    {
      "cell_type": "code",
      "metadata": {
        "id": "rroxb6K9tnxc",
        "colab_type": "code",
        "colab": {}
      },
      "source": [
        "split_point = len(series) \n",
        "dataset, validation = series[0:split_point], series[split_point:]"
      ],
      "execution_count": 0,
      "outputs": []
    },
    {
      "cell_type": "code",
      "metadata": {
        "id": "HKh8KnD9vUVk",
        "colab_type": "code",
        "colab": {
          "base_uri": "https://localhost:8080/",
          "height": 502
        },
        "outputId": "1d9f524f-6410-4a12-90cf-2ac1bb8020fc"
      },
      "source": [
        "from pandas import read_csv\n",
        "from statsmodels.tsa.arima_model import ARIMA\n",
        "import numpy\n",
        " \n",
        "# create a differenced series\n",
        "def difference(dataset, interval=1):\n",
        "\tdiff = list()\n",
        "\tfor i in range(interval, len(dataset)):\n",
        "\t\tvalue = dataset[i] - dataset[i - interval]\n",
        "\t\tdiff.append(value)\n",
        "\treturn numpy.array(diff)\n",
        " \n",
        "# load dataset\n",
        "# seasonal difference\n",
        "X = dataset.values\n",
        "days_in_year = 1\n",
        "differenced = difference(X, days_in_year)\n",
        "# fit model\n",
        "model = ARIMA(differenced, order=(5,0,0))\n",
        "model_fit = model.fit(disp=0)\n",
        "# print summary of fit model\n",
        "print(model_fit.summary())"
      ],
      "execution_count": 201,
      "outputs": [
        {
          "output_type": "stream",
          "text": [
            "                              ARMA Model Results                              \n",
            "==============================================================================\n",
            "Dep. Variable:                      y   No. Observations:                   40\n",
            "Model:                     ARMA(5, 0)   Log Likelihood                -312.773\n",
            "Method:                       css-mle   S.D. of innovations            577.013\n",
            "Date:                Sat, 11 Apr 2020   AIC                            639.546\n",
            "Time:                        19:35:41   BIC                            651.368\n",
            "Sample:                             0   HQIC                           643.821\n",
            "                                                                              \n",
            "==============================================================================\n",
            "                 coef    std err          z      P>|z|      [0.025      0.975]\n",
            "------------------------------------------------------------------------------\n",
            "const       2622.5349   2037.920      1.287      0.207   -1371.714    6616.784\n",
            "ar.L1.y        0.5539      0.150      3.688      0.001       0.260       0.848\n",
            "ar.L2.y        0.3282      0.173      1.900      0.066      -0.010       0.667\n",
            "ar.L3.y        0.2953      0.170      1.736      0.092      -0.038       0.629\n",
            "ar.L4.y        0.0529      0.169      0.314      0.756      -0.278       0.384\n",
            "ar.L5.y       -0.2563      0.148     -1.737      0.091      -0.546       0.033\n",
            "                                    Roots                                    \n",
            "=============================================================================\n",
            "                  Real          Imaginary           Modulus         Frequency\n",
            "-----------------------------------------------------------------------------\n",
            "AR.1           -1.4770           -0.0000j            1.4770           -0.5000\n",
            "AR.2           -0.3914           -1.2783j            1.3369           -0.2973\n",
            "AR.3           -0.3914           +1.2783j            1.3369            0.2973\n",
            "AR.4            1.0261           -0.0000j            1.0261           -0.0000\n",
            "AR.5            1.4403           -0.0000j            1.4403           -0.0000\n",
            "-----------------------------------------------------------------------------\n"
          ],
          "name": "stdout"
        }
      ]
    },
    {
      "cell_type": "code",
      "metadata": {
        "id": "-0Aw_l0cvZN1",
        "colab_type": "code",
        "colab": {}
      },
      "source": [
        "# one-step out of sample forecast\n",
        "start_index = len(differenced)\n",
        "end_index = len(differenced)\n",
        "forecast = model_fit.predict(start=start_index, end=end_index)"
      ],
      "execution_count": 0,
      "outputs": []
    },
    {
      "cell_type": "code",
      "metadata": {
        "id": "47C7IkHNvbu8",
        "colab_type": "code",
        "colab": {
          "base_uri": "https://localhost:8080/",
          "height": 34
        },
        "outputId": "8b435720-ef0c-4b57-b8d9-93f664b4837f"
      },
      "source": [
        "from pandas import datetime\n",
        "# invert the differenced forecast to something usable\n",
        "forecast = inverse_difference(X, forecast, days_in_year)\n",
        "print('Forecast: %f' % forecast)"
      ],
      "execution_count": 203,
      "outputs": [
        {
          "output_type": "stream",
          "text": [
            "Forecast: 97650.323856\n"
          ],
          "name": "stdout"
        }
      ]
    },
    {
      "cell_type": "code",
      "metadata": {
        "id": "27ags9juvgKU",
        "colab_type": "code",
        "colab": {}
      },
      "source": [
        "# multi-step out-of-sample forecast\n",
        "days_forward = 5\n",
        "forecast = model_fit.forecast(steps=5)[0]"
      ],
      "execution_count": 0,
      "outputs": []
    },
    {
      "cell_type": "code",
      "metadata": {
        "id": "IULwLKHqvjPb",
        "colab_type": "code",
        "colab": {
          "base_uri": "https://localhost:8080/",
          "height": 104
        },
        "outputId": "8e626c2b-bab3-4227-fb28-10de2754c855"
      },
      "source": [
        "forecast_one_week_ahead = []\n",
        "history = [x for x in X]\n",
        "day = 1\n",
        "for yhat in forecast:\n",
        "\tinverted = inverse_difference(history, yhat, days_in_year)\n",
        "\tprint('Day %d: %f' % (day, inverted))\n",
        "\thistory.append(inverted)\n",
        "\tday += 1"
      ],
      "execution_count": 213,
      "outputs": [
        {
          "output_type": "stream",
          "text": [
            "Day 1: 97650.323856\n",
            "Day 2: 102993.595790\n",
            "Day 3: 108345.056254\n",
            "Day 4: 113630.374964\n",
            "Day 5: 118866.144412\n"
          ],
          "name": "stdout"
        }
      ]
    },
    {
      "cell_type": "code",
      "metadata": {
        "id": "2gLIRQ_ovk4b",
        "colab_type": "code",
        "colab": {}
      },
      "source": [
        "import numpy as np\n",
        "history_np = np.array(history)"
      ],
      "execution_count": 0,
      "outputs": []
    },
    {
      "cell_type": "code",
      "metadata": {
        "id": "xApfvwNev_g1",
        "colab_type": "code",
        "colab": {
          "base_uri": "https://localhost:8080/",
          "height": 34
        },
        "outputId": "55d43996-a4e3-434a-ece3-8c30190cb6f3"
      },
      "source": [
        "len(series)"
      ],
      "execution_count": 215,
      "outputs": [
        {
          "output_type": "execute_result",
          "data": {
            "text/plain": [
              "41"
            ]
          },
          "metadata": {
            "tags": []
          },
          "execution_count": 215
        }
      ]
    },
    {
      "cell_type": "code",
      "metadata": {
        "id": "DcB9vjeWwJ4L",
        "colab_type": "code",
        "colab": {}
      },
      "source": [
        "days_from_today = 40"
      ],
      "execution_count": 0,
      "outputs": []
    },
    {
      "cell_type": "code",
      "metadata": {
        "id": "cZIcWWyJxAKf",
        "colab_type": "code",
        "colab": {}
      },
      "source": [
        "import datetime\n",
        "base = datetime.datetime.today()\n",
        "date_list = [base - datetime.timedelta(days=x) for x in range(days_from_today + days_forward)]"
      ],
      "execution_count": 0,
      "outputs": []
    },
    {
      "cell_type": "code",
      "metadata": {
        "id": "72i3u86Xyn43",
        "colab_type": "code",
        "colab": {
          "base_uri": "https://localhost:8080/",
          "height": 797
        },
        "outputId": "722b3007-d803-440d-e65a-599163c3b3d7"
      },
      "source": [
        "list_of_dates =  []\n",
        "for i in range(0, len(date_list)):\n",
        "  list_of_dates.append(date_list[i].strftime(\"%b-%d\"))\n",
        "list_of_dates"
      ],
      "execution_count": 259,
      "outputs": [
        {
          "output_type": "execute_result",
          "data": {
            "text/plain": [
              "['Apr-11',\n",
              " 'Apr-10',\n",
              " 'Apr-09',\n",
              " 'Apr-08',\n",
              " 'Apr-07',\n",
              " 'Apr-06',\n",
              " 'Apr-05',\n",
              " 'Apr-04',\n",
              " 'Apr-03',\n",
              " 'Apr-02',\n",
              " 'Apr-01',\n",
              " 'Mar-31',\n",
              " 'Mar-30',\n",
              " 'Mar-29',\n",
              " 'Mar-28',\n",
              " 'Mar-27',\n",
              " 'Mar-26',\n",
              " 'Mar-25',\n",
              " 'Mar-24',\n",
              " 'Mar-23',\n",
              " 'Mar-22',\n",
              " 'Mar-21',\n",
              " 'Mar-20',\n",
              " 'Mar-19',\n",
              " 'Mar-18',\n",
              " 'Mar-17',\n",
              " 'Mar-16',\n",
              " 'Mar-15',\n",
              " 'Mar-14',\n",
              " 'Mar-13',\n",
              " 'Mar-12',\n",
              " 'Mar-11',\n",
              " 'Mar-10',\n",
              " 'Mar-09',\n",
              " 'Mar-08',\n",
              " 'Mar-07',\n",
              " 'Mar-06',\n",
              " 'Mar-05',\n",
              " 'Mar-04',\n",
              " 'Mar-03',\n",
              " 'Mar-02',\n",
              " 'Mar-01',\n",
              " 'Feb-29',\n",
              " 'Feb-28',\n",
              " 'Feb-27']"
            ]
          },
          "metadata": {
            "tags": []
          },
          "execution_count": 259
        }
      ]
    },
    {
      "cell_type": "code",
      "metadata": {
        "id": "RpKp7DVvyxeE",
        "colab_type": "code",
        "colab": {}
      },
      "source": [
        "list_of_dates.reverse()"
      ],
      "execution_count": 0,
      "outputs": []
    },
    {
      "cell_type": "code",
      "metadata": {
        "id": "BzpbwjRBy0d9",
        "colab_type": "code",
        "colab": {
          "base_uri": "https://localhost:8080/",
          "height": 34
        },
        "outputId": "88fb7479-f137-403e-8e5b-f4efbee4d7b9"
      },
      "source": [
        "len( history[-days_from_today-days_forward:])"
      ],
      "execution_count": 261,
      "outputs": [
        {
          "output_type": "execute_result",
          "data": {
            "text/plain": [
              "45"
            ]
          },
          "metadata": {
            "tags": []
          },
          "execution_count": 261
        }
      ]
    },
    {
      "cell_type": "code",
      "metadata": {
        "id": "ZaoMu0Sl0DcA",
        "colab_type": "code",
        "colab": {}
      },
      "source": [
        "x_ticks= [list_of_dates[i] for i in range(0, len(list_of_dates), 5)]"
      ],
      "execution_count": 0,
      "outputs": []
    },
    {
      "cell_type": "code",
      "metadata": {
        "id": "Ln_tTDCrvpG0",
        "colab_type": "code",
        "colab": {
          "base_uri": "https://localhost:8080/",
          "height": 574
        },
        "outputId": "e45a7c8d-4f7e-414d-b4c7-fc9a6c9bb123"
      },
      "source": [
        "plt.figure(figsize = (18,9))\n",
        "plt.plot(list(series)[-days_from_today:], label = 'original dataset')\n",
        "plt.plot(list_of_dates, history[-days_from_today-days_forward:], label = 'prediction' , ls = 'dashed')\n",
        "plt.ylabel(\"Number of cases\")\n",
        "plt.title(\"Expected number of cases in NYC in the next {} days \".format(days_forward), fontsize = 18)\n",
        "plt.xticks(x_ticks)\n",
        "plt.legend()"
      ],
      "execution_count": 266,
      "outputs": [
        {
          "output_type": "execute_result",
          "data": {
            "text/plain": [
              "<matplotlib.legend.Legend at 0x7f56c40e0240>"
            ]
          },
          "metadata": {
            "tags": []
          },
          "execution_count": 266
        },
        {
          "output_type": "display_data",
          "data": {
            "image/png": "[encoded data removed]",
            "text/plain": [
              "<Figure size 1296x648 with 1 Axes>"
            ]
          },
          "metadata": {
            "tags": [],
            "needs_background": "light"
          }
        }
      ]
    },
    {
      "cell_type": "code",
      "metadata": {
        "id": "ikboLvkgv9sw",
        "colab_type": "code",
        "colab": {}
      },
      "source": [
        ""
      ],
      "execution_count": 0,
      "outputs": []
    }
  ]
}