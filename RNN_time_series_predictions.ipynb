{
  "nbformat": 4,
  "nbformat_minor": 0,
  "metadata": {
    "colab": {
      "name": "RNN time series predictions.ipynb",
      "provenance": [],
      "toc_visible": true,
      "authorship_tag": "ABX9TyMGaom5zYWvEWn5Wsduwd8n",
      "include_colab_link": true
    },
    "kernelspec": {
      "name": "python3",
      "display_name": "Python 3"
    },
    "accelerator": "GPU"
  },
  "cells": [
    {
      "cell_type": "markdown",
      "metadata": {
        "id": "view-in-github",
        "colab_type": "text"
      },
      "source": [
        "<a href=\"https://colab.research.google.com/github/armandordorica/Twitter_Sentiment_Analysis/blob/master/RNN_time_series_predictions.ipynb\" target=\"_parent\"><img src=\"https://colab.research.google.com/assets/colab-badge.svg\" alt=\"Open In Colab\"/></a>"
      ]
    },
    {
      "cell_type": "code",
      "metadata": {
        "id": "IkY8bH4uuXWv",
        "colab_type": "code",
        "colab": {
          "base_uri": "https://localhost:8080/",
          "height": 34
        },
        "outputId": "f650e86a-dbf0-43e2-aa1d-2cce71de0276"
      },
      "source": [
        "!pwd"
      ],
      "execution_count": 1,
      "outputs": [
        {
          "output_type": "stream",
          "text": [
            "/content\n"
          ],
          "name": "stdout"
        }
      ]
    },
    {
      "cell_type": "code",
      "metadata": {
        "id": "PmMZs-Mmp5ub",
        "colab_type": "code",
        "outputId": "2415b6b6-6e3c-4961-d94b-2909eaed8310",
        "colab": {
          "base_uri": "https://localhost:8080/",
          "height": 138
        }
      },
      "source": [
        "!git clone https://github.com/Hvass-Labs/TensorFlow-Tutorials.git"
      ],
      "execution_count": 2,
      "outputs": [
        {
          "output_type": "stream",
          "text": [
            "Cloning into 'TensorFlow-Tutorials'...\n",
            "remote: Enumerating objects: 26, done.\u001b[K\n",
            "remote: Counting objects: 100% (26/26), done.\u001b[K\n",
            "remote: Compressing objects: 100% (25/25), done.\u001b[K\n",
            "remote: Total 506 (delta 1), reused 14 (delta 1), pack-reused 480\u001b[K\n",
            "Receiving objects: 100% (506/506), 76.90 MiB | 12.69 MiB/s, done.\n",
            "Resolving deltas: 100% (228/228), done.\n"
          ],
          "name": "stdout"
        }
      ]
    },
    {
      "cell_type": "code",
      "metadata": {
        "id": "PqQt9a3JuZyq",
        "colab_type": "code",
        "colab": {
          "base_uri": "https://localhost:8080/",
          "height": 34
        },
        "outputId": "778f6fa3-d922-4213-f029-df46b9b0484a"
      },
      "source": [
        "ls"
      ],
      "execution_count": 3,
      "outputs": [
        {
          "output_type": "stream",
          "text": [
            "\u001b[0m\u001b[01;34msample_data\u001b[0m/  \u001b[01;34mTensorFlow-Tutorials\u001b[0m/\n"
          ],
          "name": "stdout"
        }
      ]
    },
    {
      "cell_type": "code",
      "metadata": {
        "id": "3aPgTebKvg2n",
        "colab_type": "code",
        "colab": {
          "base_uri": "https://localhost:8080/",
          "height": 34
        },
        "outputId": "932a0a3a-892c-46aa-dcc4-3f98758e1cd8"
      },
      "source": [
        "cd TensorFlow-Tutorials/"
      ],
      "execution_count": 4,
      "outputs": [
        {
          "output_type": "stream",
          "text": [
            "/content/TensorFlow-Tutorials\n"
          ],
          "name": "stdout"
        }
      ]
    },
    {
      "cell_type": "code",
      "metadata": {
        "id": "g-_uEpVJvi1i",
        "colab_type": "code",
        "colab": {
          "base_uri": "https://localhost:8080/",
          "height": 416
        },
        "outputId": "b9657f52-38fd-45b0-c289-89d0d00fec01"
      },
      "source": [
        "ls"
      ],
      "execution_count": 5,
      "outputs": [
        {
          "output_type": "stream",
          "text": [
            "01_Simple_Linear_Model.ipynb           21_Machine_Translation.ipynb\n",
            "02_Convolutional_Neural_Network.ipynb  22_Image_Captioning.ipynb\n",
            "03B_Layers_API.ipynb                   23_Time-Series-Prediction.ipynb\n",
            "03C_Keras_API.ipynb                    cache.py\n",
            "03_PrettyTensor.ipynb                  cifar10.py\n",
            "04_Save_Restore.ipynb                  coco.py\n",
            "05_Ensemble_Learning.ipynb             \u001b[0m\u001b[01;32mconvert.py\u001b[0m*\n",
            "06_CIFAR-10.ipynb                      dataset.py\n",
            "07_Inception_Model.ipynb               download.py\n",
            "08_Transfer_Learning.ipynb             europarl.py\n",
            "09_Video_Data.ipynb                    forks.md\n",
            "10_Fine-Tuning.ipynb                   \u001b[01;34mimages\u001b[0m/\n",
            "11_Adversarial_Examples.ipynb          imdb.py\n",
            "12_Adversarial_Noise_MNIST.ipynb       inception5h.py\n",
            "13B_Visual_Analysis_MNIST.ipynb        inception.py\n",
            "13_Visual_Analysis.ipynb               knifey.py\n",
            "14_DeepDream.ipynb                     LICENSE\n",
            "15_Style_Transfer.ipynb                mnist.py\n",
            "16_Reinforcement_Learning.ipynb        README.md\n",
            "17_Estimator_API.ipynb                 reinforcement_learning.py\n",
            "18_TFRecords_Dataset_API.ipynb         requirements.txt\n",
            "19_Hyper-Parameters.ipynb              vgg16.py\n",
            "20_Natural_Language_Processing.ipynb   weather.py\n"
          ],
          "name": "stdout"
        }
      ]
    },
    {
      "cell_type": "code",
      "metadata": {
        "id": "AfON5-DzuiWd",
        "colab_type": "code",
        "colab": {}
      },
      "source": [
        "%matplotlib inline\n",
        "import matplotlib.pyplot as plt\n",
        "import tensorflow as tf\n",
        "import numpy as np\n",
        "import pandas as pd\n",
        "import os\n",
        "from sklearn.preprocessing import MinMaxScaler"
      ],
      "execution_count": 0,
      "outputs": []
    },
    {
      "cell_type": "code",
      "metadata": {
        "id": "wt6nf_S_vArj",
        "colab_type": "code",
        "colab": {}
      },
      "source": [
        "from tensorflow.keras.models import Sequential\n",
        "from tensorflow.keras.layers import Input, Dense, GRU, Embedding\n",
        "from tensorflow.keras.optimizers import RMSprop\n",
        "from tensorflow.keras.callbacks import EarlyStopping, ModelCheckpoint, TensorBoard, ReduceLROnPlateau\n",
        "from tensorflow.keras.backend import square, mean"
      ],
      "execution_count": 0,
      "outputs": []
    },
    {
      "cell_type": "code",
      "metadata": {
        "id": "0wk3QDWKvDJW",
        "colab_type": "code",
        "colab": {}
      },
      "source": [
        "import weather\n"
      ],
      "execution_count": 0,
      "outputs": []
    },
    {
      "cell_type": "code",
      "metadata": {
        "id": "zuzzygStvDHj",
        "colab_type": "code",
        "colab": {
          "base_uri": "https://localhost:8080/",
          "height": 69
        },
        "outputId": "bda897f9-73eb-4e96-8d1c-5cffcd7d0603"
      },
      "source": [
        "weather.maybe_download_and_extract()\n"
      ],
      "execution_count": 9,
      "outputs": [
        {
          "output_type": "stream",
          "text": [
            "- Download progress: 100.0%\n",
            "Download finished. Extracting files.\n",
            "Done.\n"
          ],
          "name": "stdout"
        }
      ]
    },
    {
      "cell_type": "code",
      "metadata": {
        "id": "FDK6O9G5vDFQ",
        "colab_type": "code",
        "colab": {
          "base_uri": "https://localhost:8080/",
          "height": 34
        },
        "outputId": "503e4ce9-f386-48e2-bb26-723e8d4d8bd5"
      },
      "source": [
        "\n",
        "cities = weather.cities\n",
        "cities"
      ],
      "execution_count": 10,
      "outputs": [
        {
          "output_type": "execute_result",
          "data": {
            "text/plain": [
              "['Aalborg', 'Aarhus', 'Esbjerg', 'Odense', 'Roskilde']"
            ]
          },
          "metadata": {
            "tags": []
          },
          "execution_count": 10
        }
      ]
    },
    {
      "cell_type": "code",
      "metadata": {
        "id": "9GNcFz_evC8Y",
        "colab_type": "code",
        "colab": {}
      },
      "source": [
        "\n",
        "# %%time\n",
        "df = weather.load_resampled_data()"
      ],
      "execution_count": 0,
      "outputs": []
    },
    {
      "cell_type": "code",
      "metadata": {
        "id": "sBuv1S1qreZX",
        "colab_type": "code",
        "colab": {
          "base_uri": "https://localhost:8080/",
          "height": 457
        },
        "outputId": "c207f3e1-d32f-46e6-e541-5dfa9d3eaadd"
      },
      "source": [
        "df.head()\n"
      ],
      "execution_count": 12,
      "outputs": [
        {
          "output_type": "execute_result",
          "data": {
            "text/html": [
              "<div>\n",
              "<style scoped>\n",
              "    .dataframe tbody tr th:only-of-type {\n",
              "        vertical-align: middle;\n",
              "    }\n",
              "\n",
              "    .dataframe tbody tr th {\n",
              "        vertical-align: top;\n",
              "    }\n",
              "\n",
              "    .dataframe thead tr th {\n",
              "        text-align: left;\n",
              "    }\n",
              "\n",
              "    .dataframe thead tr:last-of-type th {\n",
              "        text-align: right;\n",
              "    }\n",
              "</style>\n",
              "<table border=\"1\" class=\"dataframe\">\n",
              "  <thead>\n",
              "    <tr>\n",
              "      <th></th>\n",
              "      <th colspan=\"4\" halign=\"left\">Aalborg</th>\n",
              "      <th colspan=\"4\" halign=\"left\">Aarhus</th>\n",
              "      <th colspan=\"4\" halign=\"left\">Esbjerg</th>\n",
              "      <th colspan=\"4\" halign=\"left\">Odense</th>\n",
              "      <th colspan=\"4\" halign=\"left\">Roskilde</th>\n",
              "    </tr>\n",
              "    <tr>\n",
              "      <th></th>\n",
              "      <th>Temp</th>\n",
              "      <th>Pressure</th>\n",
              "      <th>WindSpeed</th>\n",
              "      <th>WindDir</th>\n",
              "      <th>Temp</th>\n",
              "      <th>Pressure</th>\n",
              "      <th>WindSpeed</th>\n",
              "      <th>WindDir</th>\n",
              "      <th>Temp</th>\n",
              "      <th>Pressure</th>\n",
              "      <th>WindSpeed</th>\n",
              "      <th>WindDir</th>\n",
              "      <th>Temp</th>\n",
              "      <th>Pressure</th>\n",
              "      <th>WindSpeed</th>\n",
              "      <th>WindDir</th>\n",
              "      <th>Temp</th>\n",
              "      <th>Pressure</th>\n",
              "      <th>WindSpeed</th>\n",
              "      <th>WindDir</th>\n",
              "    </tr>\n",
              "    <tr>\n",
              "      <th>DateTime</th>\n",
              "      <th></th>\n",
              "      <th></th>\n",
              "      <th></th>\n",
              "      <th></th>\n",
              "      <th></th>\n",
              "      <th></th>\n",
              "      <th></th>\n",
              "      <th></th>\n",
              "      <th></th>\n",
              "      <th></th>\n",
              "      <th></th>\n",
              "      <th></th>\n",
              "      <th></th>\n",
              "      <th></th>\n",
              "      <th></th>\n",
              "      <th></th>\n",
              "      <th></th>\n",
              "      <th></th>\n",
              "      <th></th>\n",
              "      <th></th>\n",
              "    </tr>\n",
              "  </thead>\n",
              "  <tbody>\n",
              "    <tr>\n",
              "      <th>1980-03-01 11:00:00</th>\n",
              "      <td>5.000000</td>\n",
              "      <td>1007.766667</td>\n",
              "      <td>10.2</td>\n",
              "      <td>280.000000</td>\n",
              "      <td>5.0</td>\n",
              "      <td>1008.300000</td>\n",
              "      <td>15.4</td>\n",
              "      <td>290.0</td>\n",
              "      <td>6.083333</td>\n",
              "      <td>NaN</td>\n",
              "      <td>12.383333</td>\n",
              "      <td>310.000000</td>\n",
              "      <td>6.142857</td>\n",
              "      <td>1011.066667</td>\n",
              "      <td>12.585714</td>\n",
              "      <td>290.0</td>\n",
              "      <td>5.000000</td>\n",
              "      <td>NaN</td>\n",
              "      <td>11.466667</td>\n",
              "      <td>280.000000</td>\n",
              "    </tr>\n",
              "    <tr>\n",
              "      <th>1980-03-01 12:00:00</th>\n",
              "      <td>5.000000</td>\n",
              "      <td>1008.000000</td>\n",
              "      <td>10.3</td>\n",
              "      <td>290.000000</td>\n",
              "      <td>5.0</td>\n",
              "      <td>1008.600000</td>\n",
              "      <td>13.4</td>\n",
              "      <td>280.0</td>\n",
              "      <td>6.583333</td>\n",
              "      <td>NaN</td>\n",
              "      <td>12.883333</td>\n",
              "      <td>310.000000</td>\n",
              "      <td>7.000000</td>\n",
              "      <td>1011.200000</td>\n",
              "      <td>11.300000</td>\n",
              "      <td>290.0</td>\n",
              "      <td>5.000000</td>\n",
              "      <td>NaN</td>\n",
              "      <td>12.466667</td>\n",
              "      <td>280.000000</td>\n",
              "    </tr>\n",
              "    <tr>\n",
              "      <th>1980-03-01 13:00:00</th>\n",
              "      <td>5.000000</td>\n",
              "      <td>1008.066667</td>\n",
              "      <td>9.7</td>\n",
              "      <td>290.000000</td>\n",
              "      <td>5.0</td>\n",
              "      <td>1008.433333</td>\n",
              "      <td>15.4</td>\n",
              "      <td>280.0</td>\n",
              "      <td>6.888889</td>\n",
              "      <td>NaN</td>\n",
              "      <td>13.244444</td>\n",
              "      <td>309.444444</td>\n",
              "      <td>7.000000</td>\n",
              "      <td>1011.300000</td>\n",
              "      <td>12.118182</td>\n",
              "      <td>290.0</td>\n",
              "      <td>5.166667</td>\n",
              "      <td>NaN</td>\n",
              "      <td>13.133333</td>\n",
              "      <td>278.333333</td>\n",
              "    </tr>\n",
              "    <tr>\n",
              "      <th>1980-03-01 14:00:00</th>\n",
              "      <td>4.333333</td>\n",
              "      <td>1008.133333</td>\n",
              "      <td>11.1</td>\n",
              "      <td>283.333333</td>\n",
              "      <td>5.0</td>\n",
              "      <td>1008.266667</td>\n",
              "      <td>14.9</td>\n",
              "      <td>300.0</td>\n",
              "      <td>6.222222</td>\n",
              "      <td>NaN</td>\n",
              "      <td>12.911111</td>\n",
              "      <td>306.111111</td>\n",
              "      <td>6.857143</td>\n",
              "      <td>1011.400000</td>\n",
              "      <td>12.742857</td>\n",
              "      <td>290.0</td>\n",
              "      <td>5.833333</td>\n",
              "      <td>NaN</td>\n",
              "      <td>12.300000</td>\n",
              "      <td>270.000000</td>\n",
              "    </tr>\n",
              "    <tr>\n",
              "      <th>1980-03-01 15:00:00</th>\n",
              "      <td>4.000000</td>\n",
              "      <td>1008.200000</td>\n",
              "      <td>11.3</td>\n",
              "      <td>280.000000</td>\n",
              "      <td>5.0</td>\n",
              "      <td>1008.100000</td>\n",
              "      <td>17.0</td>\n",
              "      <td>290.0</td>\n",
              "      <td>5.555556</td>\n",
              "      <td>NaN</td>\n",
              "      <td>12.577778</td>\n",
              "      <td>302.777778</td>\n",
              "      <td>6.000000</td>\n",
              "      <td>1011.500000</td>\n",
              "      <td>12.400000</td>\n",
              "      <td>290.0</td>\n",
              "      <td>4.833333</td>\n",
              "      <td>NaN</td>\n",
              "      <td>12.300000</td>\n",
              "      <td>270.000000</td>\n",
              "    </tr>\n",
              "  </tbody>\n",
              "</table>\n",
              "</div>"
            ],
            "text/plain": [
              "                      Aalborg               ...   Roskilde            \n",
              "                         Temp     Pressure  ...  WindSpeed     WindDir\n",
              "DateTime                                    ...                       \n",
              "1980-03-01 11:00:00  5.000000  1007.766667  ...  11.466667  280.000000\n",
              "1980-03-01 12:00:00  5.000000  1008.000000  ...  12.466667  280.000000\n",
              "1980-03-01 13:00:00  5.000000  1008.066667  ...  13.133333  278.333333\n",
              "1980-03-01 14:00:00  4.333333  1008.133333  ...  12.300000  270.000000\n",
              "1980-03-01 15:00:00  4.000000  1008.200000  ...  12.300000  270.000000\n",
              "\n",
              "[5 rows x 20 columns]"
            ]
          },
          "metadata": {
            "tags": []
          },
          "execution_count": 12
        }
      ]
    },
    {
      "cell_type": "markdown",
      "metadata": {
        "id": "yHDQx5swwMq1",
        "colab_type": "text"
      },
      "source": [
        "Generate this data by creating a predictive model that generates the missing data from all the other input signals. Then you could add these generated values back into the data-set to fill the gaps."
      ]
    },
    {
      "cell_type": "code",
      "metadata": {
        "id": "jvX7hHuLvT6R",
        "colab_type": "code",
        "colab": {
          "base_uri": "https://localhost:8080/",
          "height": 278
        },
        "outputId": "a12abd1e-0a3f-4c30-afd9-7f1c567ee184"
      },
      "source": [
        "df['Esbjerg']['Pressure'].plot();\n"
      ],
      "execution_count": 13,
      "outputs": [
        {
          "output_type": "display_data",
          "data": {
            "image/png": "[encoded data removed]",
            "text/plain": [
              "<Figure size 432x288 with 1 Axes>"
            ]
          },
          "metadata": {
            "tags": [],
            "needs_background": "light"
          }
        }
      ]
    },
    {
      "cell_type": "code",
      "metadata": {
        "id": "rDQGaQ90wWY7",
        "colab_type": "code",
        "colab": {
          "base_uri": "https://localhost:8080/",
          "height": 278
        },
        "outputId": "99cd8770-96bd-4387-bc86-4e55253a1b05"
      },
      "source": [
        "df['Roskilde']['Pressure'].plot();\n"
      ],
      "execution_count": 14,
      "outputs": [
        {
          "output_type": "display_data",
          "data": {
            "image/png": "[encoded data removed]",
            "text/plain": [
              "<Figure size 432x288 with 1 Axes>"
            ]
          },
          "metadata": {
            "tags": [],
            "needs_background": "light"
          }
        }
      ]
    },
    {
      "cell_type": "markdown",
      "metadata": {
        "id": "u04gux0TwaWt",
        "colab_type": "text"
      },
      "source": [
        "Before removing these two signals, there are 20 input-signals in the data-set.\n",
        "\n"
      ]
    },
    {
      "cell_type": "code",
      "metadata": {
        "id": "UUguZJ1kwYBx",
        "colab_type": "code",
        "colab": {
          "base_uri": "https://localhost:8080/",
          "height": 34
        },
        "outputId": "97ce3745-618f-4001-9120-e0f678423583"
      },
      "source": [
        "df.values.shape\n"
      ],
      "execution_count": 15,
      "outputs": [
        {
          "output_type": "execute_result",
          "data": {
            "text/plain": [
              "(333109, 20)"
            ]
          },
          "metadata": {
            "tags": []
          },
          "execution_count": 15
        }
      ]
    },
    {
      "cell_type": "markdown",
      "metadata": {
        "id": "aUFPe68Mwghs",
        "colab_type": "text"
      },
      "source": [
        "## Removing signals with missing data"
      ]
    },
    {
      "cell_type": "code",
      "metadata": {
        "id": "sCwhzUVrwbWR",
        "colab_type": "code",
        "colab": {}
      },
      "source": [
        "df.drop(('Esbjerg', 'Pressure'), axis=1, inplace=True)\n",
        "df.drop(('Roskilde', 'Pressure'), axis=1, inplace=True)"
      ],
      "execution_count": 0,
      "outputs": []
    },
    {
      "cell_type": "markdown",
      "metadata": {
        "id": "8jcJxtGPwlbU",
        "colab_type": "text"
      },
      "source": [
        "Now we're only left with 18 input signals in the data"
      ]
    },
    {
      "cell_type": "code",
      "metadata": {
        "id": "CbdUEgMwwkQx",
        "colab_type": "code",
        "colab": {
          "base_uri": "https://localhost:8080/",
          "height": 34
        },
        "outputId": "aecb014f-07e2-4474-aae5-3bfb3cd5f820"
      },
      "source": [
        "df.values.shape\n"
      ],
      "execution_count": 17,
      "outputs": [
        {
          "output_type": "execute_result",
          "data": {
            "text/plain": [
              "(333109, 18)"
            ]
          },
          "metadata": {
            "tags": []
          },
          "execution_count": 17
        }
      ]
    },
    {
      "cell_type": "markdown",
      "metadata": {
        "id": "t9dzDKAawsGY",
        "colab_type": "text"
      },
      "source": [
        "We can verify that those two columns (Pressure for Esbjerg and Roskilde have been removed)"
      ]
    },
    {
      "cell_type": "code",
      "metadata": {
        "id": "rhBrothlwoTo",
        "colab_type": "code",
        "colab": {
          "base_uri": "https://localhost:8080/",
          "height": 196
        },
        "outputId": "4dc1a873-4773-4f11-8cbd-f6eb02d87b59"
      },
      "source": [
        "df.head(1)\n"
      ],
      "execution_count": 18,
      "outputs": [
        {
          "output_type": "execute_result",
          "data": {
            "text/html": [
              "<div>\n",
              "<style scoped>\n",
              "    .dataframe tbody tr th:only-of-type {\n",
              "        vertical-align: middle;\n",
              "    }\n",
              "\n",
              "    .dataframe tbody tr th {\n",
              "        vertical-align: top;\n",
              "    }\n",
              "\n",
              "    .dataframe thead tr th {\n",
              "        text-align: left;\n",
              "    }\n",
              "\n",
              "    .dataframe thead tr:last-of-type th {\n",
              "        text-align: right;\n",
              "    }\n",
              "</style>\n",
              "<table border=\"1\" class=\"dataframe\">\n",
              "  <thead>\n",
              "    <tr>\n",
              "      <th></th>\n",
              "      <th colspan=\"4\" halign=\"left\">Aalborg</th>\n",
              "      <th colspan=\"4\" halign=\"left\">Aarhus</th>\n",
              "      <th colspan=\"3\" halign=\"left\">Esbjerg</th>\n",
              "      <th colspan=\"4\" halign=\"left\">Odense</th>\n",
              "      <th colspan=\"3\" halign=\"left\">Roskilde</th>\n",
              "    </tr>\n",
              "    <tr>\n",
              "      <th></th>\n",
              "      <th>Temp</th>\n",
              "      <th>Pressure</th>\n",
              "      <th>WindSpeed</th>\n",
              "      <th>WindDir</th>\n",
              "      <th>Temp</th>\n",
              "      <th>Pressure</th>\n",
              "      <th>WindSpeed</th>\n",
              "      <th>WindDir</th>\n",
              "      <th>Temp</th>\n",
              "      <th>WindSpeed</th>\n",
              "      <th>WindDir</th>\n",
              "      <th>Temp</th>\n",
              "      <th>Pressure</th>\n",
              "      <th>WindSpeed</th>\n",
              "      <th>WindDir</th>\n",
              "      <th>Temp</th>\n",
              "      <th>WindSpeed</th>\n",
              "      <th>WindDir</th>\n",
              "    </tr>\n",
              "    <tr>\n",
              "      <th>DateTime</th>\n",
              "      <th></th>\n",
              "      <th></th>\n",
              "      <th></th>\n",
              "      <th></th>\n",
              "      <th></th>\n",
              "      <th></th>\n",
              "      <th></th>\n",
              "      <th></th>\n",
              "      <th></th>\n",
              "      <th></th>\n",
              "      <th></th>\n",
              "      <th></th>\n",
              "      <th></th>\n",
              "      <th></th>\n",
              "      <th></th>\n",
              "      <th></th>\n",
              "      <th></th>\n",
              "      <th></th>\n",
              "    </tr>\n",
              "  </thead>\n",
              "  <tbody>\n",
              "    <tr>\n",
              "      <th>1980-03-01 11:00:00</th>\n",
              "      <td>5.0</td>\n",
              "      <td>1007.766667</td>\n",
              "      <td>10.2</td>\n",
              "      <td>280.0</td>\n",
              "      <td>5.0</td>\n",
              "      <td>1008.3</td>\n",
              "      <td>15.4</td>\n",
              "      <td>290.0</td>\n",
              "      <td>6.083333</td>\n",
              "      <td>12.383333</td>\n",
              "      <td>310.0</td>\n",
              "      <td>6.142857</td>\n",
              "      <td>1011.066667</td>\n",
              "      <td>12.585714</td>\n",
              "      <td>290.0</td>\n",
              "      <td>5.0</td>\n",
              "      <td>11.466667</td>\n",
              "      <td>280.0</td>\n",
              "    </tr>\n",
              "  </tbody>\n",
              "</table>\n",
              "</div>"
            ],
            "text/plain": [
              "                    Aalborg                         ... Roskilde                   \n",
              "                       Temp     Pressure WindSpeed  ...     Temp  WindSpeed WindDir\n",
              "DateTime                                            ...                            \n",
              "1980-03-01 11:00:00     5.0  1007.766667      10.2  ...      5.0  11.466667   280.0\n",
              "\n",
              "[1 rows x 18 columns]"
            ]
          },
          "metadata": {
            "tags": []
          },
          "execution_count": 18
        }
      ]
    },
    {
      "cell_type": "markdown",
      "metadata": {
        "id": "4yTenUHyxCgk",
        "colab_type": "text"
      },
      "source": [
        "The spikes there are noise. "
      ]
    },
    {
      "cell_type": "code",
      "metadata": {
        "id": "J229ntVexCEc",
        "colab_type": "code",
        "colab": {}
      },
      "source": [
        ""
      ],
      "execution_count": 0,
      "outputs": []
    },
    {
      "cell_type": "code",
      "metadata": {
        "id": "sfl2dSEDwzCO",
        "colab_type": "code",
        "colab": {
          "base_uri": "https://localhost:8080/",
          "height": 290
        },
        "outputId": "4869bbc7-7301-4821-abf8-66abfcbf691d"
      },
      "source": [
        "df['Odense']['Temp']['2006-05':'2006-07'].plot();"
      ],
      "execution_count": 19,
      "outputs": [
        {
          "output_type": "display_data",
          "data": {
            "image/png": "[encoded data removed]",
            "text/plain": [
              "<Figure size 432x288 with 1 Axes>"
            ]
          },
          "metadata": {
            "tags": [],
            "needs_background": "light"
          }
        }
      ]
    },
    {
      "cell_type": "code",
      "metadata": {
        "id": "nAxr74bdxAh9",
        "colab_type": "code",
        "colab": {
          "base_uri": "https://localhost:8080/",
          "height": 290
        },
        "outputId": "a17bfb6e-e4f9-4b20-f76f-8ba869cedf6f"
      },
      "source": [
        "df['Aarhus']['Temp']['2006-05':'2006-07'].plot();\n"
      ],
      "execution_count": 20,
      "outputs": [
        {
          "output_type": "display_data",
          "data": {
            "image/png": "[encoded data removed]",
            "text/plain": [
              "<Figure size 432x288 with 1 Axes>"
            ]
          },
          "metadata": {
            "tags": [],
            "needs_background": "light"
          }
        }
      ]
    },
    {
      "cell_type": "code",
      "metadata": {
        "id": "9ShF4K-kxFbk",
        "colab_type": "code",
        "colab": {
          "base_uri": "https://localhost:8080/",
          "height": 290
        },
        "outputId": "a396292e-b99e-4cd5-be6f-d2e9b9656cf4"
      },
      "source": [
        "df['Roskilde']['Temp']['2006-05':'2006-07'].plot();\n"
      ],
      "execution_count": 21,
      "outputs": [
        {
          "output_type": "display_data",
          "data": {
            "image/png": "[encoded data removed]",
            "text/plain": [
              "<Figure size 432x288 with 1 Axes>"
            ]
          },
          "metadata": {
            "tags": [],
            "needs_background": "light"
          }
        }
      ]
    },
    {
      "cell_type": "code",
      "metadata": {
        "id": "6feMKooOxHJG",
        "colab_type": "code",
        "colab": {}
      },
      "source": [
        "df['Various', 'Day'] = df.index.dayofyear\n",
        "df['Various', 'Hour'] = df.index.hour"
      ],
      "execution_count": 0,
      "outputs": []
    },
    {
      "cell_type": "markdown",
      "metadata": {
        "id": "vREnhyKQxU4t",
        "colab_type": "text"
      },
      "source": [
        "### Creating a model that predicts future weather data for a city"
      ]
    },
    {
      "cell_type": "code",
      "metadata": {
        "id": "BsCBlzgVxR1r",
        "colab_type": "code",
        "colab": {}
      },
      "source": [
        "target_city = 'Odense'\n"
      ],
      "execution_count": 0,
      "outputs": []
    },
    {
      "cell_type": "code",
      "metadata": {
        "id": "xbp2CZ08xZYi",
        "colab_type": "code",
        "colab": {}
      },
      "source": [
        "target_names = ['Temp', 'WindSpeed', 'Pressure']\n"
      ],
      "execution_count": 0,
      "outputs": []
    },
    {
      "cell_type": "markdown",
      "metadata": {
        "id": "GnNXzxtVxhC8",
        "colab_type": "text"
      },
      "source": [
        "\n",
        "The following is the number of time-steps that we will shift the target-data. Our data-set is resampled to have an observation for each hour, so there are 24 observations for 24 hours.\n",
        "\n",
        "**If we want to predict the weather 24 hours into the future, we shift the data 24 time-steps. If we want to predict the weather 7 days into the future, we shift the data 7 * 24 time-steps.**\n",
        "\n"
      ]
    },
    {
      "cell_type": "code",
      "metadata": {
        "id": "HdmP2ixyxaoK",
        "colab_type": "code",
        "colab": {}
      },
      "source": [
        "shift_days = 1\n",
        "shift_steps = shift_days * 24  # Number of hours."
      ],
      "execution_count": 0,
      "outputs": []
    },
    {
      "cell_type": "markdown",
      "metadata": {
        "id": "D1vZ-Pn7yQtl",
        "colab_type": "text"
      },
      "source": [
        "Create a new data-frame with the time-shifted data.\n",
        "\n",
        "**Note the negative time-shift!**\n",
        "\n",
        "\n"
      ]
    },
    {
      "cell_type": "code",
      "metadata": {
        "id": "wGDC1FGixmSI",
        "colab_type": "code",
        "colab": {}
      },
      "source": [
        "df_targets = df[target_city][target_names].shift(-shift_steps)\n"
      ],
      "execution_count": 0,
      "outputs": []
    },
    {
      "cell_type": "markdown",
      "metadata": {
        "id": "r2jn3mtVyYGX",
        "colab_type": "text"
      },
      "source": [
        "WARNING! You should double-check that you have shifted the data in the right direction! We want to predict the future, not the past!\n",
        "\n",
        "The shifted data-frame is confusing because Pandas keeps the original time-stamps even though we have shifted the data. You can check the time-shift is correct by comparing the original and time-shifted data-frames.\n",
        "\n",
        "This is the first shift_steps + 5 rows of the original data-frame:"
      ]
    },
    {
      "cell_type": "code",
      "metadata": {
        "id": "gI382KB-ys5K",
        "colab_type": "code",
        "colab": {
          "base_uri": "https://localhost:8080/",
          "height": 233
        },
        "outputId": "f2e33056-54fb-4803-abe0-8529191633ae"
      },
      "source": [
        "df_targets.head(5)\n"
      ],
      "execution_count": 30,
      "outputs": [
        {
          "output_type": "execute_result",
          "data": {
            "text/html": [
              "<div>\n",
              "<style scoped>\n",
              "    .dataframe tbody tr th:only-of-type {\n",
              "        vertical-align: middle;\n",
              "    }\n",
              "\n",
              "    .dataframe tbody tr th {\n",
              "        vertical-align: top;\n",
              "    }\n",
              "\n",
              "    .dataframe thead th {\n",
              "        text-align: right;\n",
              "    }\n",
              "</style>\n",
              "<table border=\"1\" class=\"dataframe\">\n",
              "  <thead>\n",
              "    <tr style=\"text-align: right;\">\n",
              "      <th></th>\n",
              "      <th>Temp</th>\n",
              "      <th>WindSpeed</th>\n",
              "      <th>Pressure</th>\n",
              "    </tr>\n",
              "    <tr>\n",
              "      <th>DateTime</th>\n",
              "      <th></th>\n",
              "      <th></th>\n",
              "      <th></th>\n",
              "    </tr>\n",
              "  </thead>\n",
              "  <tbody>\n",
              "    <tr>\n",
              "      <th>1980-03-01 11:00:00</th>\n",
              "      <td>2.000000</td>\n",
              "      <td>6.828571</td>\n",
              "      <td>1005.833333</td>\n",
              "    </tr>\n",
              "    <tr>\n",
              "      <th>1980-03-01 12:00:00</th>\n",
              "      <td>2.000000</td>\n",
              "      <td>8.200000</td>\n",
              "      <td>1005.200000</td>\n",
              "    </tr>\n",
              "    <tr>\n",
              "      <th>1980-03-01 13:00:00</th>\n",
              "      <td>0.166667</td>\n",
              "      <td>9.216667</td>\n",
              "      <td>1004.766667</td>\n",
              "    </tr>\n",
              "    <tr>\n",
              "      <th>1980-03-01 14:00:00</th>\n",
              "      <td>1.000000</td>\n",
              "      <td>11.885714</td>\n",
              "      <td>1004.333333</td>\n",
              "    </tr>\n",
              "    <tr>\n",
              "      <th>1980-03-01 15:00:00</th>\n",
              "      <td>1.000000</td>\n",
              "      <td>12.400000</td>\n",
              "      <td>1003.900000</td>\n",
              "    </tr>\n",
              "  </tbody>\n",
              "</table>\n",
              "</div>"
            ],
            "text/plain": [
              "                         Temp  WindSpeed     Pressure\n",
              "DateTime                                             \n",
              "1980-03-01 11:00:00  2.000000   6.828571  1005.833333\n",
              "1980-03-01 12:00:00  2.000000   8.200000  1005.200000\n",
              "1980-03-01 13:00:00  0.166667   9.216667  1004.766667\n",
              "1980-03-01 14:00:00  1.000000  11.885714  1004.333333\n",
              "1980-03-01 15:00:00  1.000000  12.400000  1003.900000"
            ]
          },
          "metadata": {
            "tags": []
          },
          "execution_count": 30
        }
      ]
    },
    {
      "cell_type": "markdown",
      "metadata": {
        "id": "5FriV8L2yvlL",
        "colab_type": "text"
      },
      "source": [
        "**Note that the last five row items are the same as the df above except for the shifted datetime**"
      ]
    },
    {
      "cell_type": "code",
      "metadata": {
        "id": "0FckzxJcyWl2",
        "colab_type": "code",
        "colab": {
          "base_uri": "https://localhost:8080/",
          "height": 969
        },
        "outputId": "c1251038-a3a3-4d0b-892a-7c0a829dd738"
      },
      "source": [
        "df[target_city][target_names].head(shift_steps + 5)\n"
      ],
      "execution_count": 27,
      "outputs": [
        {
          "output_type": "execute_result",
          "data": {
            "text/html": [
              "<div>\n",
              "<style scoped>\n",
              "    .dataframe tbody tr th:only-of-type {\n",
              "        vertical-align: middle;\n",
              "    }\n",
              "\n",
              "    .dataframe tbody tr th {\n",
              "        vertical-align: top;\n",
              "    }\n",
              "\n",
              "    .dataframe thead th {\n",
              "        text-align: right;\n",
              "    }\n",
              "</style>\n",
              "<table border=\"1\" class=\"dataframe\">\n",
              "  <thead>\n",
              "    <tr style=\"text-align: right;\">\n",
              "      <th></th>\n",
              "      <th>Temp</th>\n",
              "      <th>WindSpeed</th>\n",
              "      <th>Pressure</th>\n",
              "    </tr>\n",
              "    <tr>\n",
              "      <th>DateTime</th>\n",
              "      <th></th>\n",
              "      <th></th>\n",
              "      <th></th>\n",
              "    </tr>\n",
              "  </thead>\n",
              "  <tbody>\n",
              "    <tr>\n",
              "      <th>1980-03-01 11:00:00</th>\n",
              "      <td>6.142857</td>\n",
              "      <td>12.585714</td>\n",
              "      <td>1011.066667</td>\n",
              "    </tr>\n",
              "    <tr>\n",
              "      <th>1980-03-01 12:00:00</th>\n",
              "      <td>7.000000</td>\n",
              "      <td>11.300000</td>\n",
              "      <td>1011.200000</td>\n",
              "    </tr>\n",
              "    <tr>\n",
              "      <th>1980-03-01 13:00:00</th>\n",
              "      <td>7.000000</td>\n",
              "      <td>12.118182</td>\n",
              "      <td>1011.300000</td>\n",
              "    </tr>\n",
              "    <tr>\n",
              "      <th>1980-03-01 14:00:00</th>\n",
              "      <td>6.857143</td>\n",
              "      <td>12.742857</td>\n",
              "      <td>1011.400000</td>\n",
              "    </tr>\n",
              "    <tr>\n",
              "      <th>1980-03-01 15:00:00</th>\n",
              "      <td>6.000000</td>\n",
              "      <td>12.400000</td>\n",
              "      <td>1011.500000</td>\n",
              "    </tr>\n",
              "    <tr>\n",
              "      <th>1980-03-01 16:00:00</th>\n",
              "      <td>4.909091</td>\n",
              "      <td>12.618182</td>\n",
              "      <td>1011.688889</td>\n",
              "    </tr>\n",
              "    <tr>\n",
              "      <th>1980-03-01 17:00:00</th>\n",
              "      <td>3.953488</td>\n",
              "      <td>12.646512</td>\n",
              "      <td>1011.877778</td>\n",
              "    </tr>\n",
              "    <tr>\n",
              "      <th>1980-03-01 18:00:00</th>\n",
              "      <td>3.674419</td>\n",
              "      <td>11.725581</td>\n",
              "      <td>1012.066667</td>\n",
              "    </tr>\n",
              "    <tr>\n",
              "      <th>1980-03-01 19:00:00</th>\n",
              "      <td>3.395349</td>\n",
              "      <td>10.804651</td>\n",
              "      <td>1012.255556</td>\n",
              "    </tr>\n",
              "    <tr>\n",
              "      <th>1980-03-01 20:00:00</th>\n",
              "      <td>3.116279</td>\n",
              "      <td>9.883721</td>\n",
              "      <td>1012.444444</td>\n",
              "    </tr>\n",
              "    <tr>\n",
              "      <th>1980-03-01 21:00:00</th>\n",
              "      <td>2.837209</td>\n",
              "      <td>8.962791</td>\n",
              "      <td>1012.633333</td>\n",
              "    </tr>\n",
              "    <tr>\n",
              "      <th>1980-03-01 22:00:00</th>\n",
              "      <td>2.558140</td>\n",
              "      <td>8.041860</td>\n",
              "      <td>1012.822222</td>\n",
              "    </tr>\n",
              "    <tr>\n",
              "      <th>1980-03-01 23:00:00</th>\n",
              "      <td>2.279070</td>\n",
              "      <td>7.120930</td>\n",
              "      <td>1013.011111</td>\n",
              "    </tr>\n",
              "    <tr>\n",
              "      <th>1980-03-02 00:00:00</th>\n",
              "      <td>2.000000</td>\n",
              "      <td>6.200000</td>\n",
              "      <td>1013.200000</td>\n",
              "    </tr>\n",
              "    <tr>\n",
              "      <th>1980-03-02 01:00:00</th>\n",
              "      <td>2.076923</td>\n",
              "      <td>7.738462</td>\n",
              "      <td>1012.366667</td>\n",
              "    </tr>\n",
              "    <tr>\n",
              "      <th>1980-03-02 02:00:00</th>\n",
              "      <td>2.538462</td>\n",
              "      <td>7.969231</td>\n",
              "      <td>1011.533333</td>\n",
              "    </tr>\n",
              "    <tr>\n",
              "      <th>1980-03-02 03:00:00</th>\n",
              "      <td>3.000000</td>\n",
              "      <td>8.200000</td>\n",
              "      <td>1010.700000</td>\n",
              "    </tr>\n",
              "    <tr>\n",
              "      <th>1980-03-02 04:00:00</th>\n",
              "      <td>3.000000</td>\n",
              "      <td>7.927273</td>\n",
              "      <td>1010.100000</td>\n",
              "    </tr>\n",
              "    <tr>\n",
              "      <th>1980-03-02 05:00:00</th>\n",
              "      <td>2.916667</td>\n",
              "      <td>7.658333</td>\n",
              "      <td>1009.500000</td>\n",
              "    </tr>\n",
              "    <tr>\n",
              "      <th>1980-03-02 06:00:00</th>\n",
              "      <td>2.416667</td>\n",
              "      <td>7.408333</td>\n",
              "      <td>1008.900000</td>\n",
              "    </tr>\n",
              "    <tr>\n",
              "      <th>1980-03-02 07:00:00</th>\n",
              "      <td>2.000000</td>\n",
              "      <td>7.100000</td>\n",
              "      <td>1008.300000</td>\n",
              "    </tr>\n",
              "    <tr>\n",
              "      <th>1980-03-02 08:00:00</th>\n",
              "      <td>2.142857</td>\n",
              "      <td>6.542857</td>\n",
              "      <td>1007.700000</td>\n",
              "    </tr>\n",
              "    <tr>\n",
              "      <th>1980-03-02 09:00:00</th>\n",
              "      <td>3.000000</td>\n",
              "      <td>6.200000</td>\n",
              "      <td>1007.100000</td>\n",
              "    </tr>\n",
              "    <tr>\n",
              "      <th>1980-03-02 10:00:00</th>\n",
              "      <td>2.833333</td>\n",
              "      <td>8.350000</td>\n",
              "      <td>1006.466667</td>\n",
              "    </tr>\n",
              "    <tr>\n",
              "      <th>1980-03-02 11:00:00</th>\n",
              "      <td>2.000000</td>\n",
              "      <td>6.828571</td>\n",
              "      <td>1005.833333</td>\n",
              "    </tr>\n",
              "    <tr>\n",
              "      <th>1980-03-02 12:00:00</th>\n",
              "      <td>2.000000</td>\n",
              "      <td>8.200000</td>\n",
              "      <td>1005.200000</td>\n",
              "    </tr>\n",
              "    <tr>\n",
              "      <th>1980-03-02 13:00:00</th>\n",
              "      <td>0.166667</td>\n",
              "      <td>9.216667</td>\n",
              "      <td>1004.766667</td>\n",
              "    </tr>\n",
              "    <tr>\n",
              "      <th>1980-03-02 14:00:00</th>\n",
              "      <td>1.000000</td>\n",
              "      <td>11.885714</td>\n",
              "      <td>1004.333333</td>\n",
              "    </tr>\n",
              "    <tr>\n",
              "      <th>1980-03-02 15:00:00</th>\n",
              "      <td>1.000000</td>\n",
              "      <td>12.400000</td>\n",
              "      <td>1003.900000</td>\n",
              "    </tr>\n",
              "  </tbody>\n",
              "</table>\n",
              "</div>"
            ],
            "text/plain": [
              "                         Temp  WindSpeed     Pressure\n",
              "DateTime                                             \n",
              "1980-03-01 11:00:00  6.142857  12.585714  1011.066667\n",
              "1980-03-01 12:00:00  7.000000  11.300000  1011.200000\n",
              "1980-03-01 13:00:00  7.000000  12.118182  1011.300000\n",
              "1980-03-01 14:00:00  6.857143  12.742857  1011.400000\n",
              "1980-03-01 15:00:00  6.000000  12.400000  1011.500000\n",
              "1980-03-01 16:00:00  4.909091  12.618182  1011.688889\n",
              "1980-03-01 17:00:00  3.953488  12.646512  1011.877778\n",
              "1980-03-01 18:00:00  3.674419  11.725581  1012.066667\n",
              "1980-03-01 19:00:00  3.395349  10.804651  1012.255556\n",
              "1980-03-01 20:00:00  3.116279   9.883721  1012.444444\n",
              "1980-03-01 21:00:00  2.837209   8.962791  1012.633333\n",
              "1980-03-01 22:00:00  2.558140   8.041860  1012.822222\n",
              "1980-03-01 23:00:00  2.279070   7.120930  1013.011111\n",
              "1980-03-02 00:00:00  2.000000   6.200000  1013.200000\n",
              "1980-03-02 01:00:00  2.076923   7.738462  1012.366667\n",
              "1980-03-02 02:00:00  2.538462   7.969231  1011.533333\n",
              "1980-03-02 03:00:00  3.000000   8.200000  1010.700000\n",
              "1980-03-02 04:00:00  3.000000   7.927273  1010.100000\n",
              "1980-03-02 05:00:00  2.916667   7.658333  1009.500000\n",
              "1980-03-02 06:00:00  2.416667   7.408333  1008.900000\n",
              "1980-03-02 07:00:00  2.000000   7.100000  1008.300000\n",
              "1980-03-02 08:00:00  2.142857   6.542857  1007.700000\n",
              "1980-03-02 09:00:00  3.000000   6.200000  1007.100000\n",
              "1980-03-02 10:00:00  2.833333   8.350000  1006.466667\n",
              "1980-03-02 11:00:00  2.000000   6.828571  1005.833333\n",
              "1980-03-02 12:00:00  2.000000   8.200000  1005.200000\n",
              "1980-03-02 13:00:00  0.166667   9.216667  1004.766667\n",
              "1980-03-02 14:00:00  1.000000  11.885714  1004.333333\n",
              "1980-03-02 15:00:00  1.000000  12.400000  1003.900000"
            ]
          },
          "metadata": {
            "tags": []
          },
          "execution_count": 27
        }
      ]
    },
    {
      "cell_type": "markdown",
      "metadata": {
        "id": "wp22nm42y6RO",
        "colab_type": "text"
      },
      "source": [
        "\n",
        "The time-shifted data-frame has the same length as the original data-frame, but the last observations are NaN (not a number) because the data has been shifted backwards so we are trying to shift data that does not exist in the original data-frame."
      ]
    },
    {
      "cell_type": "code",
      "metadata": {
        "id": "4znShzcoyaD2",
        "colab_type": "code",
        "colab": {
          "base_uri": "https://localhost:8080/",
          "height": 233
        },
        "outputId": "49af65e4-50cf-4e03-d9e1-fb1b72f07045"
      },
      "source": [
        "df_targets.tail()\n"
      ],
      "execution_count": 31,
      "outputs": [
        {
          "output_type": "execute_result",
          "data": {
            "text/html": [
              "<div>\n",
              "<style scoped>\n",
              "    .dataframe tbody tr th:only-of-type {\n",
              "        vertical-align: middle;\n",
              "    }\n",
              "\n",
              "    .dataframe tbody tr th {\n",
              "        vertical-align: top;\n",
              "    }\n",
              "\n",
              "    .dataframe thead th {\n",
              "        text-align: right;\n",
              "    }\n",
              "</style>\n",
              "<table border=\"1\" class=\"dataframe\">\n",
              "  <thead>\n",
              "    <tr style=\"text-align: right;\">\n",
              "      <th></th>\n",
              "      <th>Temp</th>\n",
              "      <th>WindSpeed</th>\n",
              "      <th>Pressure</th>\n",
              "    </tr>\n",
              "    <tr>\n",
              "      <th>DateTime</th>\n",
              "      <th></th>\n",
              "      <th></th>\n",
              "      <th></th>\n",
              "    </tr>\n",
              "  </thead>\n",
              "  <tbody>\n",
              "    <tr>\n",
              "      <th>2018-03-01 19:00:00</th>\n",
              "      <td>NaN</td>\n",
              "      <td>NaN</td>\n",
              "      <td>NaN</td>\n",
              "    </tr>\n",
              "    <tr>\n",
              "      <th>2018-03-01 20:00:00</th>\n",
              "      <td>NaN</td>\n",
              "      <td>NaN</td>\n",
              "      <td>NaN</td>\n",
              "    </tr>\n",
              "    <tr>\n",
              "      <th>2018-03-01 21:00:00</th>\n",
              "      <td>NaN</td>\n",
              "      <td>NaN</td>\n",
              "      <td>NaN</td>\n",
              "    </tr>\n",
              "    <tr>\n",
              "      <th>2018-03-01 22:00:00</th>\n",
              "      <td>NaN</td>\n",
              "      <td>NaN</td>\n",
              "      <td>NaN</td>\n",
              "    </tr>\n",
              "    <tr>\n",
              "      <th>2018-03-01 23:00:00</th>\n",
              "      <td>NaN</td>\n",
              "      <td>NaN</td>\n",
              "      <td>NaN</td>\n",
              "    </tr>\n",
              "  </tbody>\n",
              "</table>\n",
              "</div>"
            ],
            "text/plain": [
              "                     Temp  WindSpeed  Pressure\n",
              "DateTime                                      \n",
              "2018-03-01 19:00:00   NaN        NaN       NaN\n",
              "2018-03-01 20:00:00   NaN        NaN       NaN\n",
              "2018-03-01 21:00:00   NaN        NaN       NaN\n",
              "2018-03-01 22:00:00   NaN        NaN       NaN\n",
              "2018-03-01 23:00:00   NaN        NaN       NaN"
            ]
          },
          "metadata": {
            "tags": []
          },
          "execution_count": 31
        }
      ]
    },
    {
      "cell_type": "markdown",
      "metadata": {
        "id": "YbcBOw5fzFzB",
        "colab_type": "text"
      },
      "source": [
        "**NumPy Arrays**\n",
        "\n",
        "We now convert the Pandas data-frames to NumPy arrays that can be input to the neural network. We also remove the last part of the numpy arrays, because the target-data has NaN for the shifted period, and we only want to have valid data and we need the same array-shapes for the input- and output-data.\n",
        "\n",
        "These are the input-signals:"
      ]
    },
    {
      "cell_type": "code",
      "metadata": {
        "id": "AlDKzzxey_Jp",
        "colab_type": "code",
        "colab": {}
      },
      "source": [
        "x_data = df.values[0:-shift_steps]\n"
      ],
      "execution_count": 0,
      "outputs": []
    },
    {
      "cell_type": "code",
      "metadata": {
        "id": "M8zkepjSzJJI",
        "colab_type": "code",
        "colab": {
          "base_uri": "https://localhost:8080/",
          "height": 52
        },
        "outputId": "47b3264d-56bf-4c1a-d9e9-6deba2c7df5b"
      },
      "source": [
        "print(type(x_data))\n",
        "print(\"Shape:\", x_data.shape)"
      ],
      "execution_count": 33,
      "outputs": [
        {
          "output_type": "stream",
          "text": [
            "<class 'numpy.ndarray'>\n",
            "Shape: (333085, 20)\n"
          ],
          "name": "stdout"
        }
      ]
    },
    {
      "cell_type": "markdown",
      "metadata": {
        "id": "6LANu8yozOeP",
        "colab_type": "text"
      },
      "source": [
        "### **Output signals (target signals)**"
      ]
    },
    {
      "cell_type": "code",
      "metadata": {
        "id": "JOosBVIWzKuY",
        "colab_type": "code",
        "colab": {}
      },
      "source": [
        "y_data = df_targets.values[:-shift_steps]"
      ],
      "execution_count": 0,
      "outputs": []
    },
    {
      "cell_type": "code",
      "metadata": {
        "id": "3frGFmlezMOf",
        "colab_type": "code",
        "colab": {
          "base_uri": "https://localhost:8080/",
          "height": 52
        },
        "outputId": "4286a69b-ecc8-4269-edc0-31511ee8ee2f"
      },
      "source": [
        "\n",
        "print(type(y_data))\n",
        "print(\"Shape:\", y_data.shape)"
      ],
      "execution_count": 35,
      "outputs": [
        {
          "output_type": "stream",
          "text": [
            "<class 'numpy.ndarray'>\n",
            "Shape: (333085, 3)\n"
          ],
          "name": "stdout"
        }
      ]
    },
    {
      "cell_type": "markdown",
      "metadata": {
        "id": "zOZtNHlazVz0",
        "colab_type": "text"
      },
      "source": [
        "### **Num of observations (data points or samples) in the data set**"
      ]
    },
    {
      "cell_type": "code",
      "metadata": {
        "id": "S20Lg9IrzNsX",
        "colab_type": "code",
        "colab": {
          "base_uri": "https://localhost:8080/",
          "height": 34
        },
        "outputId": "6602cb9b-5545-4d75-f175-2f6979e62676"
      },
      "source": [
        "num_data = len(x_data)\n",
        "num_data"
      ],
      "execution_count": 37,
      "outputs": [
        {
          "output_type": "execute_result",
          "data": {
            "text/plain": [
              "333085"
            ]
          },
          "metadata": {
            "tags": []
          },
          "execution_count": 37
        }
      ]
    },
    {
      "cell_type": "code",
      "metadata": {
        "id": "-ZejCzxMzch4",
        "colab_type": "code",
        "colab": {}
      },
      "source": [
        "train_split = 0.9\n"
      ],
      "execution_count": 0,
      "outputs": []
    },
    {
      "cell_type": "code",
      "metadata": {
        "id": "hu_Xbb2dzdPe",
        "colab_type": "code",
        "colab": {
          "base_uri": "https://localhost:8080/",
          "height": 34
        },
        "outputId": "0c35bb7f-4a9f-4fa8-f064-5aa1a6c48a37"
      },
      "source": [
        "\n",
        "num_train = int(train_split * num_data)\n",
        "num_train"
      ],
      "execution_count": 39,
      "outputs": [
        {
          "output_type": "execute_result",
          "data": {
            "text/plain": [
              "299776"
            ]
          },
          "metadata": {
            "tags": []
          },
          "execution_count": 39
        }
      ]
    },
    {
      "cell_type": "code",
      "metadata": {
        "id": "8kgA6btfzez9",
        "colab_type": "code",
        "colab": {
          "base_uri": "https://localhost:8080/",
          "height": 34
        },
        "outputId": "7f2489bb-f85c-45a2-c5f9-80030a1a811b"
      },
      "source": [
        "\n",
        "num_test = num_data - num_train\n",
        "num_test"
      ],
      "execution_count": 40,
      "outputs": [
        {
          "output_type": "execute_result",
          "data": {
            "text/plain": [
              "33309"
            ]
          },
          "metadata": {
            "tags": []
          },
          "execution_count": 40
        }
      ]
    },
    {
      "cell_type": "code",
      "metadata": {
        "id": "kXkG0wJQzgbt",
        "colab_type": "code",
        "colab": {
          "base_uri": "https://localhost:8080/",
          "height": 34
        },
        "outputId": "9d41c6c5-28c2-48f4-82e4-30ad57db5131"
      },
      "source": [
        "\n",
        "x_train = x_data[0:num_train]\n",
        "x_test = x_data[num_train:]\n",
        "len(x_train) + len(x_test)"
      ],
      "execution_count": 41,
      "outputs": [
        {
          "output_type": "execute_result",
          "data": {
            "text/plain": [
              "333085"
            ]
          },
          "metadata": {
            "tags": []
          },
          "execution_count": 41
        }
      ]
    },
    {
      "cell_type": "markdown",
      "metadata": {
        "id": "p09sR0XczkE6",
        "colab_type": "text"
      },
      "source": [
        "### **These are the output-signals for the training- and test-sets:**"
      ]
    },
    {
      "cell_type": "code",
      "metadata": {
        "id": "LF1E7ZN4ziMO",
        "colab_type": "code",
        "colab": {
          "base_uri": "https://localhost:8080/",
          "height": 34
        },
        "outputId": "d9b7b8b2-2e99-410f-85b7-7cd33e18ada6"
      },
      "source": [
        "\n",
        "y_train = y_data[0:num_train]\n",
        "y_test = y_data[num_train:]\n",
        "len(y_train) + len(y_test)"
      ],
      "execution_count": 42,
      "outputs": [
        {
          "output_type": "execute_result",
          "data": {
            "text/plain": [
              "333085"
            ]
          },
          "metadata": {
            "tags": []
          },
          "execution_count": 42
        }
      ]
    },
    {
      "cell_type": "markdown",
      "metadata": {
        "id": "5A8zV2OAznXb",
        "colab_type": "text"
      },
      "source": [
        "**This is the number of input-signals or columns**\n",
        "They are the following: \n",
        "```\n",
        "MultiIndex([( 'Aalborg',      'Temp'),\n",
        "            ( 'Aalborg',  'Pressure'),\n",
        "            ( 'Aalborg', 'WindSpeed'),\n",
        "            ( 'Aalborg',   'WindDir'),\n",
        "            (  'Aarhus',      'Temp'),\n",
        "            (  'Aarhus',  'Pressure'),\n",
        "            (  'Aarhus', 'WindSpeed'),\n",
        "            (  'Aarhus',   'WindDir'),\n",
        "            ( 'Esbjerg',      'Temp'),\n",
        "            ( 'Esbjerg', 'WindSpeed'),\n",
        "            ( 'Esbjerg',   'WindDir'),\n",
        "            (  'Odense',      'Temp'),\n",
        "            (  'Odense',  'Pressure'),\n",
        "            (  'Odense', 'WindSpeed'),\n",
        "            (  'Odense',   'WindDir'),\n",
        "            ('Roskilde',      'Temp'),\n",
        "            ('Roskilde', 'WindSpeed'),\n",
        "            ('Roskilde',   'WindDir'),\n",
        "            ( 'Various',       'Day'),\n",
        "            ( 'Various',      'Hour')],\n",
        "           )\n",
        "```"
      ]
    },
    {
      "cell_type": "code",
      "metadata": {
        "id": "GHPE0QbqzmE0",
        "colab_type": "code",
        "colab": {
          "base_uri": "https://localhost:8080/",
          "height": 34
        },
        "outputId": "cab8eba6-114a-4aba-9853-cdac02b8131c"
      },
      "source": [
        "num_x_signals = x_data.shape[1]\n",
        "num_x_signals"
      ],
      "execution_count": 43,
      "outputs": [
        {
          "output_type": "execute_result",
          "data": {
            "text/plain": [
              "20"
            ]
          },
          "metadata": {
            "tags": []
          },
          "execution_count": 43
        }
      ]
    },
    {
      "cell_type": "markdown",
      "metadata": {
        "id": "WEJnkxRb0Sok",
        "colab_type": "text"
      },
      "source": [
        "The target variables are 3 and they're the following: \n",
        "```\n",
        "df_targets[:-shift_steps].columns\n",
        "```"
      ]
    },
    {
      "cell_type": "code",
      "metadata": {
        "id": "MwZwXRgmzqY6",
        "colab_type": "code",
        "colab": {
          "base_uri": "https://localhost:8080/",
          "height": 34
        },
        "outputId": "f491e6fa-6969-4e59-dc33-f61334bbc6d1"
      },
      "source": [
        "num_y_signals = y_data.shape[1]\n",
        "num_y_signals"
      ],
      "execution_count": 44,
      "outputs": [
        {
          "output_type": "execute_result",
          "data": {
            "text/plain": [
              "3"
            ]
          },
          "metadata": {
            "tags": []
          },
          "execution_count": 44
        }
      ]
    },
    {
      "cell_type": "markdown",
      "metadata": {
        "id": "NDUjGwbJ0fIv",
        "colab_type": "text"
      },
      "source": [
        "### Data scaling. Neural networks work best when values are between -1 and 1. Therefore we'll us MinMaxScaler from Scikit learn to rescale the values that are currently between -27 and 1050.8\n",
        "\n",
        "**We'll rescale both `x_train` and `x_test`**"
      ]
    },
    {
      "cell_type": "code",
      "metadata": {
        "id": "E3Avzo18z5CB",
        "colab_type": "code",
        "colab": {
          "base_uri": "https://localhost:8080/",
          "height": 52
        },
        "outputId": "1d836b86-2620-4b3f-d355-16fe4fee1d5f"
      },
      "source": [
        "\n",
        "print(\"Min:\", np.min(x_train))\n",
        "print(\"Max:\", np.max(x_train))"
      ],
      "execution_count": 59,
      "outputs": [
        {
          "output_type": "stream",
          "text": [
            "Min: -27.0\n",
            "Max: 1050.8\n"
          ],
          "name": "stdout"
        }
      ]
    },
    {
      "cell_type": "code",
      "metadata": {
        "id": "mAYg2mXF0cV2",
        "colab_type": "code",
        "colab": {}
      },
      "source": [
        "x_scaler = MinMaxScaler()\n"
      ],
      "execution_count": 0,
      "outputs": []
    },
    {
      "cell_type": "code",
      "metadata": {
        "id": "sFEsLcPA0s7k",
        "colab_type": "code",
        "colab": {}
      },
      "source": [
        "x_train_scaled = x_scaler.fit_transform(x_train)\n"
      ],
      "execution_count": 0,
      "outputs": []
    },
    {
      "cell_type": "code",
      "metadata": {
        "id": "EG3Gi8pb0ty6",
        "colab_type": "code",
        "colab": {
          "base_uri": "https://localhost:8080/",
          "height": 52
        },
        "outputId": "1bcc15db-7afc-4c2f-bb8d-825af13ecd31"
      },
      "source": [
        "print(\"Min:\", np.min(x_train_scaled))\n",
        "print(\"Max:\", np.max(x_train_scaled))"
      ],
      "execution_count": 62,
      "outputs": [
        {
          "output_type": "stream",
          "text": [
            "Min: 0.0\n",
            "Max: 1.0000000000000002\n"
          ],
          "name": "stdout"
        }
      ]
    },
    {
      "cell_type": "code",
      "metadata": {
        "id": "gzzOX7GD0vML",
        "colab_type": "code",
        "colab": {}
      },
      "source": [
        "x_test_scaled = x_scaler.transform(x_test)\n"
      ],
      "execution_count": 0,
      "outputs": []
    },
    {
      "cell_type": "markdown",
      "metadata": {
        "id": "Cek5eGgy1BrL",
        "colab_type": "text"
      },
      "source": [
        "**Apply rescaling to target variables as well**"
      ]
    },
    {
      "cell_type": "code",
      "metadata": {
        "id": "3tjePLFQ01ra",
        "colab_type": "code",
        "colab": {}
      },
      "source": [
        "y_scaler = MinMaxScaler()\n",
        "y_train_scaled = y_scaler.fit_transform(y_train)\n",
        "y_test_scaled = y_scaler.transform(y_test)"
      ],
      "execution_count": 0,
      "outputs": []
    },
    {
      "cell_type": "markdown",
      "metadata": {
        "id": "feBIPUU31bJe",
        "colab_type": "text"
      },
      "source": [
        "\n",
        "Data Generator\n",
        "The data-set has now been prepared as 2-dimensional numpy arrays. The training-data has almost 300k observations, consisting of 20 input-signals and 3 output-signals.\n",
        "\n",
        "These are the array-shapes of the input and output data:"
      ]
    },
    {
      "cell_type": "code",
      "metadata": {
        "id": "_YJBlDCd1FSo",
        "colab_type": "code",
        "colab": {
          "base_uri": "https://localhost:8080/",
          "height": 52
        },
        "outputId": "f92f1cf9-67d0-4cb4-c91d-66f7549f87bb"
      },
      "source": [
        "\n",
        "print(x_train_scaled.shape)\n",
        "print(y_train_scaled.shape)"
      ],
      "execution_count": 65,
      "outputs": [
        {
          "output_type": "stream",
          "text": [
            "(299776, 20)\n",
            "(299776, 3)\n"
          ],
          "name": "stdout"
        }
      ]
    },
    {
      "cell_type": "markdown",
      "metadata": {
        "id": "fVQTb-oF61OE",
        "colab_type": "text"
      },
      "source": [
        "Instead of trying to train all the ~300k samples at once, we'll train on smaller sub-batches picked at random. "
      ]
    },
    {
      "cell_type": "code",
      "metadata": {
        "id": "wMkGrBfb6xXU",
        "colab_type": "code",
        "colab": {}
      },
      "source": [
        "def batch_generator(batch_size, sequence_length):\n",
        "    \"\"\"\n",
        "    Generator function for creating random batches of training-data.\n",
        "    \"\"\"\n",
        "\n",
        "    # Infinite loop.\n",
        "    while True:\n",
        "        # Allocate a new array for the batch of input-signals.\n",
        "        x_shape = (batch_size, sequence_length, num_x_signals)\n",
        "        x_batch = np.zeros(shape=x_shape, dtype=np.float16)\n",
        "\n",
        "        # Allocate a new array for the batch of output-signals.\n",
        "        y_shape = (batch_size, sequence_length, num_y_signals)\n",
        "        y_batch = np.zeros(shape=y_shape, dtype=np.float16)\n",
        "\n",
        "        # Fill the batch with random sequences of data.\n",
        "        for i in range(batch_size):\n",
        "            # Get a random start-index.\n",
        "            # This points somewhere into the training-data.\n",
        "            idx = np.random.randint(num_train - sequence_length)\n",
        "            \n",
        "            # Copy the sequences of data starting at this index.\n",
        "            x_batch[i] = x_train_scaled[idx:idx+sequence_length]\n",
        "            y_batch[i] = y_train_scaled[idx:idx+sequence_length]\n",
        "        \n",
        "        yield (x_batch, y_batch)"
      ],
      "execution_count": 0,
      "outputs": []
    },
    {
      "cell_type": "markdown",
      "metadata": {
        "id": "0PziRebU7DG7",
        "colab_type": "text"
      },
      "source": [
        "The larger the batch-size, the more we can increase GPU utilization. "
      ]
    },
    {
      "cell_type": "code",
      "metadata": {
        "id": "0BinJHQV6-24",
        "colab_type": "code",
        "colab": {}
      },
      "source": [
        "batch_size = 256\n"
      ],
      "execution_count": 0,
      "outputs": []
    },
    {
      "cell_type": "markdown",
      "metadata": {
        "id": "mG94c7NI7QMO",
        "colab_type": "text"
      },
      "source": [
        "The length of each sequence on each batch will be 8 weeks, which is 24 x 7 x 8 = 1344"
      ]
    },
    {
      "cell_type": "code",
      "metadata": {
        "id": "27vjkai67JJH",
        "colab_type": "code",
        "colab": {
          "base_uri": "https://localhost:8080/",
          "height": 34
        },
        "outputId": "4204a9b2-489f-4f61-b7c7-bacbf649cd06"
      },
      "source": [
        "sequence_length = 24 * 7 * 8\n",
        "sequence_length"
      ],
      "execution_count": 68,
      "outputs": [
        {
          "output_type": "execute_result",
          "data": {
            "text/plain": [
              "1344"
            ]
          },
          "metadata": {
            "tags": []
          },
          "execution_count": 68
        }
      ]
    },
    {
      "cell_type": "markdown",
      "metadata": {
        "id": "KT9gLbhI7lH0",
        "colab_type": "text"
      },
      "source": [
        "**Batch size** is how many concurrent items we'll feed into the model, whereas **sequence length** is the size of the sequence that we want to learn. A good rule of thumb to select sequence length is `total_length`/`batch_size` which in this case is 1171, close to our sequence length of 1344. "
      ]
    },
    {
      "cell_type": "code",
      "metadata": {
        "id": "BCC2NeWx7adM",
        "colab_type": "code",
        "colab": {}
      },
      "source": [
        "generator = batch_generator(batch_size=batch_size,\n",
        "                            sequence_length=sequence_length)"
      ],
      "execution_count": 0,
      "outputs": []
    },
    {
      "cell_type": "code",
      "metadata": {
        "id": "O4cHHc307-yy",
        "colab_type": "code",
        "colab": {}
      },
      "source": [
        "x_batch, y_batch = next(generator)\n"
      ],
      "execution_count": 0,
      "outputs": []
    },
    {
      "cell_type": "markdown",
      "metadata": {
        "id": "mJYw-PVF8ESO",
        "colab_type": "text"
      },
      "source": [
        "## **This gives us a random batch of 256 sequences, each sequence having 1344 observations, and each observation having 20 input-signals and 3 output-signals.**"
      ]
    },
    {
      "cell_type": "code",
      "metadata": {
        "id": "MyZcfB0I8D_f",
        "colab_type": "code",
        "colab": {
          "base_uri": "https://localhost:8080/",
          "height": 52
        },
        "outputId": "32aeb75a-9604-4c37-e37c-c7a535b00002"
      },
      "source": [
        "\n",
        "print(x_batch.shape)\n",
        "print(y_batch.shape)"
      ],
      "execution_count": 71,
      "outputs": [
        {
          "output_type": "stream",
          "text": [
            "(256, 1344, 20)\n",
            "(256, 1344, 3)\n"
          ],
          "name": "stdout"
        }
      ]
    },
    {
      "cell_type": "markdown",
      "metadata": {
        "id": "DcrMFE768O67",
        "colab_type": "text"
      },
      "source": [
        "Plotting one of the 20 input signals as an example"
      ]
    },
    {
      "cell_type": "code",
      "metadata": {
        "id": "9YqvYffa7_oH",
        "colab_type": "code",
        "colab": {
          "base_uri": "https://localhost:8080/",
          "height": 282
        },
        "outputId": "ac519ec3-c60b-488a-b37b-e54af70604eb"
      },
      "source": [
        "batch = 0   # First sequence in the batch.\n",
        "signal = 0  # First signal from the 20 input-signals.\n",
        "seq = x_batch[batch, :, signal]\n",
        "plt.plot(seq)"
      ],
      "execution_count": 72,
      "outputs": [
        {
          "output_type": "execute_result",
          "data": {
            "text/plain": [
              "[<matplotlib.lines.Line2D at 0x7f5275167908>]"
            ]
          },
          "metadata": {
            "tags": []
          },
          "execution_count": 72
        },
        {
          "output_type": "display_data",
          "data": {
            "image/png": "[encoded data removed]",
            "text/plain": [
              "<Figure size 432x288 with 1 Axes>"
            ]
          },
          "metadata": {
            "tags": [],
            "needs_background": "light"
          }
        }
      ]
    },
    {
      "cell_type": "markdown",
      "metadata": {
        "id": "Yx3hAP1d8WN5",
        "colab_type": "text"
      },
      "source": [
        "The following plot shows one of the output signals that we want to be able to predict given the 20 input signals. Note that the x axis represents the hours in the 8-day sequence. "
      ]
    },
    {
      "cell_type": "code",
      "metadata": {
        "id": "geVotEG78OIt",
        "colab_type": "code",
        "colab": {
          "base_uri": "https://localhost:8080/",
          "height": 282
        },
        "outputId": "87335b1f-d377-4232-d3cb-60826627c9b6"
      },
      "source": [
        "seq = y_batch[batch, :, signal]\n",
        "plt.plot(seq)"
      ],
      "execution_count": 73,
      "outputs": [
        {
          "output_type": "execute_result",
          "data": {
            "text/plain": [
              "[<matplotlib.lines.Line2D at 0x7f527514c128>]"
            ]
          },
          "metadata": {
            "tags": []
          },
          "execution_count": 73
        },
        {
          "output_type": "display_data",
          "data": {
            "image/png": "[encoded data removed]",
            "text/plain": [
              "<Figure size 432x288 with 1 Axes>"
            ]
          },
          "metadata": {
            "tags": [],
            "needs_background": "light"
          }
        }
      ]
    },
    {
      "cell_type": "markdown",
      "metadata": {
        "id": "0UxrZ70P80aY",
        "colab_type": "text"
      },
      "source": [
        "This neural network trains quickly and we can therefore train over many epochs.To avoid overfitting and therefore poor generalization of the model, we'll monitor the performance on the `test set` after each epoch and will only save the weights at each iteration if they're showing improved performance. "
      ]
    },
    {
      "cell_type": "markdown",
      "metadata": {
        "id": "udMTi2-a9Q15",
        "colab_type": "text"
      },
      "source": [
        "Even though we're only using batches of data for the training, we'll validate on the entire sequence of test data. "
      ]
    },
    {
      "cell_type": "code",
      "metadata": {
        "id": "Ij1egmDk8ecC",
        "colab_type": "code",
        "colab": {}
      },
      "source": [
        "validation_data = (np.expand_dims(x_test_scaled, axis=0),\n",
        "                   np.expand_dims(y_test_scaled, axis=0))"
      ],
      "execution_count": 0,
      "outputs": []
    },
    {
      "cell_type": "markdown",
      "metadata": {
        "id": "WNTNk1Vl9e63",
        "colab_type": "text"
      },
      "source": [
        "### Creating the RNN"
      ]
    },
    {
      "cell_type": "code",
      "metadata": {
        "id": "HMgi-0u29bl0",
        "colab_type": "code",
        "colab": {}
      },
      "source": [
        "model = Sequential()"
      ],
      "execution_count": 0,
      "outputs": []
    },
    {
      "cell_type": "markdown",
      "metadata": {
        "id": "e4sfv7Bh9nvu",
        "colab_type": "text"
      },
      "source": [
        "**We can now add a Gated Recurrent Unit (GRU) to the network. This will have 512 outputs for each time-step in the sequence. Also, each observation will have `num_x_signals=20`**\n",
        "\n"
      ]
    },
    {
      "cell_type": "markdown",
      "metadata": {
        "id": "6Q1dTHNl90jV",
        "colab_type": "text"
      },
      "source": [
        "The keyword `None` below states that the length of the batch of sequences will be arbitrary "
      ]
    },
    {
      "cell_type": "code",
      "metadata": {
        "id": "AN0Ozmrf9ge0",
        "colab_type": "code",
        "colab": {}
      },
      "source": [
        "model.add(GRU(units=512,\n",
        "              return_sequences=True,\n",
        "              input_shape=(None, num_x_signals,)))"
      ],
      "execution_count": 0,
      "outputs": []
    },
    {
      "cell_type": "markdown",
      "metadata": {
        "id": "7EGuZChh-K0K",
        "colab_type": "text"
      },
      "source": [
        "The GRU outputs a batch of sequences of 512 values but we only want to predict 3 output signals, so we add a fully-connected (or dense) layer that maps those 512 values down to only 3. "
      ]
    },
    {
      "cell_type": "code",
      "metadata": {
        "id": "exNPaFN-9xdR",
        "colab_type": "code",
        "colab": {}
      },
      "source": [
        "model.add(Dense(num_y_signals, activation='sigmoid'))\n"
      ],
      "execution_count": 0,
      "outputs": []
    },
    {
      "cell_type": "code",
      "metadata": {
        "id": "OvS0_lWn9_i1",
        "colab_type": "code",
        "colab": {}
      },
      "source": [
        "\n",
        "if False:\n",
        "    from tensorflow.python.keras.initializers import RandomUniform\n",
        "\n",
        "    # Maybe use lower init-ranges.\n",
        "    init = RandomUniform(minval=-0.05, maxval=0.05)\n",
        "\n",
        "    model.add(Dense(num_y_signals,\n",
        "                    activation='linear',\n",
        "                    kernel_initializer=init))"
      ],
      "execution_count": 0,
      "outputs": []
    },
    {
      "cell_type": "markdown",
      "metadata": {
        "id": "fUwzg4f9-uGn",
        "colab_type": "text"
      },
      "source": [
        "### **Loss function**\n",
        "\n",
        "We'll give the loss function 50 warmup steps so that we ignore the first values during training and won't count them towards our measurement of accuracy since the system isn't stable at the beginning. "
      ]
    },
    {
      "cell_type": "code",
      "metadata": {
        "id": "pp32SuC3-lVD",
        "colab_type": "code",
        "colab": {}
      },
      "source": [
        "warmup_steps = 50\n"
      ],
      "execution_count": 0,
      "outputs": []
    },
    {
      "cell_type": "code",
      "metadata": {
        "id": "79U77Uns-8_G",
        "colab_type": "code",
        "colab": {}
      },
      "source": [
        "def loss_mse_warmup(y_true, y_pred):\n",
        "    \"\"\"\n",
        "    Calculate the Mean Squared Error between y_true and y_pred,\n",
        "    but ignore the beginning \"warmup\" part of the sequences.\n",
        "    \n",
        "    y_true is the desired output.\n",
        "    y_pred is the model's output.\n",
        "    \"\"\"\n",
        "\n",
        "    # The shape of both input tensors are:\n",
        "    # [batch_size, sequence_length, num_y_signals].\n",
        "\n",
        "    # Ignore the \"warmup\" parts of the sequences\n",
        "    # by taking slices of the tensors.\n",
        "    y_true_slice = y_true[:, warmup_steps:, :]\n",
        "    y_pred_slice = y_pred[:, warmup_steps:, :]\n",
        "\n",
        "    # These sliced tensors both have this shape:\n",
        "    # [batch_size, sequence_length - warmup_steps, num_y_signals]\n",
        "\n",
        "    # Calculat the Mean Squared Error and use it as loss.\n",
        "    mse = mean(square(y_true_slice - y_pred_slice))\n",
        "    \n",
        "    return mse"
      ],
      "execution_count": 0,
      "outputs": []
    },
    {
      "cell_type": "code",
      "metadata": {
        "id": "E-abWds4--CA",
        "colab_type": "code",
        "colab": {}
      },
      "source": [
        "optimizer = RMSprop(lr=1e-3)\n"
      ],
      "execution_count": 0,
      "outputs": []
    },
    {
      "cell_type": "code",
      "metadata": {
        "id": "D1JtpW-1--8m",
        "colab_type": "code",
        "colab": {}
      },
      "source": [
        "model.compile(loss=loss_mse_warmup, optimizer=optimizer)\n"
      ],
      "execution_count": 0,
      "outputs": []
    },
    {
      "cell_type": "code",
      "metadata": {
        "id": "cU9ulGr-_AGX",
        "colab_type": "code",
        "colab": {
          "base_uri": "https://localhost:8080/",
          "height": 225
        },
        "outputId": "35b5d72c-26fa-41ef-83fe-bb2e2efbc8f8"
      },
      "source": [
        "model.summary()\n"
      ],
      "execution_count": 84,
      "outputs": [
        {
          "output_type": "stream",
          "text": [
            "Model: \"sequential\"\n",
            "_________________________________________________________________\n",
            "Layer (type)                 Output Shape              Param #   \n",
            "=================================================================\n",
            "gru (GRU)                    (None, None, 512)         820224    \n",
            "_________________________________________________________________\n",
            "dense (Dense)                (None, None, 3)           1539      \n",
            "=================================================================\n",
            "Total params: 821,763\n",
            "Trainable params: 821,763\n",
            "Non-trainable params: 0\n",
            "_________________________________________________________________\n"
          ],
          "name": "stdout"
        }
      ]
    },
    {
      "cell_type": "markdown",
      "metadata": {
        "id": "bPqvNgbS_WXR",
        "colab_type": "text"
      },
      "source": [
        "### Callback functions \n",
        "The following cell creates a ModelCheckpoint object so that we can save checkpoints and log the progress to TensorBoard to be able to create the appropriate callbacks to Keras as needed. "
      ]
    },
    {
      "cell_type": "code",
      "metadata": {
        "id": "t8kBzDx1_ReF",
        "colab_type": "code",
        "colab": {}
      },
      "source": [
        "\n",
        "path_checkpoint = '23_checkpoint.keras'\n",
        "callback_checkpoint = ModelCheckpoint(filepath=path_checkpoint,\n",
        "                                      monitor='val_loss',\n",
        "                                      verbose=1,\n",
        "                                      save_weights_only=True,\n",
        "                                      save_best_only=True)"
      ],
      "execution_count": 0,
      "outputs": []
    },
    {
      "cell_type": "markdown",
      "metadata": {
        "id": "Jqg3scpP_nbn",
        "colab_type": "text"
      },
      "source": [
        "### Early stopping\n",
        "If the performance starts to worsen on the validation set, then stop the optimization of the model after 5 epochs of no improvement, as determined by `patience = 5`. "
      ]
    },
    {
      "cell_type": "code",
      "metadata": {
        "id": "fjJ3sp_o_kej",
        "colab_type": "code",
        "colab": {}
      },
      "source": [
        "\n",
        "callback_early_stopping = EarlyStopping(monitor='val_loss',\n",
        "                                        patience=5, verbose=1)"
      ],
      "execution_count": 0,
      "outputs": []
    },
    {
      "cell_type": "markdown",
      "metadata": {
        "id": "mivEl5Kx_wC9",
        "colab_type": "text"
      },
      "source": [
        "### Calling back TensorBoard log during training"
      ]
    },
    {
      "cell_type": "code",
      "metadata": {
        "id": "DkqziE1s_lvD",
        "colab_type": "code",
        "colab": {}
      },
      "source": [
        "callback_tensorboard = TensorBoard(log_dir='./23_logs/',\n",
        "                                   histogram_freq=0,\n",
        "                                   write_graph=False)"
      ],
      "execution_count": 0,
      "outputs": []
    },
    {
      "cell_type": "markdown",
      "metadata": {
        "id": "8I72iHqP_8mi",
        "colab_type": "text"
      },
      "source": [
        "If the validation loss has not improved since the last epoch (as indicate by `patience = 0`), the learning rate will drop to `min_lr` which is `1e-4` in this case. "
      ]
    },
    {
      "cell_type": "code",
      "metadata": {
        "id": "v2fgUdJ6_vOp",
        "colab_type": "code",
        "colab": {}
      },
      "source": [
        "callback_reduce_lr = ReduceLROnPlateau(monitor='val_loss',\n",
        "                                       factor=0.1,\n",
        "                                       min_lr=1e-4,\n",
        "                                       patience=0,\n",
        "                                       verbose=1)"
      ],
      "execution_count": 0,
      "outputs": []
    },
    {
      "cell_type": "code",
      "metadata": {
        "id": "Xh0CsyuVAJQ8",
        "colab_type": "code",
        "colab": {}
      },
      "source": [
        "\n",
        "callbacks = [callback_early_stopping,\n",
        "             callback_checkpoint,\n",
        "             callback_tensorboard,\n",
        "             callback_reduce_lr]"
      ],
      "execution_count": 0,
      "outputs": []
    },
    {
      "cell_type": "code",
      "metadata": {
        "id": "FpIq9nbzAJlG",
        "colab_type": "code",
        "colab": {}
      },
      "source": [
        ""
      ],
      "execution_count": 0,
      "outputs": []
    }
  ]
}