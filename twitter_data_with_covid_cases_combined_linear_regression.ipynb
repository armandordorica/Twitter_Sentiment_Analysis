{
  "nbformat": 4,
  "nbformat_minor": 0,
  "metadata": {
    "colab": {
      "name": "twitter data with covid cases combined - linear regression.ipynb",
      "provenance": []
    },
    "kernelspec": {
      "name": "python3",
      "display_name": "Python 3"
    }
  },
  "cells": [
    {
      "cell_type": "code",
      "metadata": {
        "id": "PpLNZSLJbkyR",
        "colab_type": "code",
        "colab": {}
      },
      "source": [
        "from pandas import read_csv\n",
        "\n",
        "url = \"https://raw.githubusercontent.com/CSSEGISandData/COVID-19/master/csse_covid_19_data/csse_covid_19_time_series/time_series_covid19_confirmed_US.csv\""
      ],
      "execution_count": 0,
      "outputs": []
    },
    {
      "cell_type": "code",
      "metadata": {
        "id": "v52UuDYncl4g",
        "colab_type": "code",
        "colab": {
          "base_uri": "https://localhost:8080/",
          "height": 146
        },
        "outputId": "0a2b9f48-1cd0-4f98-c696-337afffff50d"
      },
      "source": [
        "from pandas import read_csv\n",
        "series = read_csv(url, header=0)\n",
        "series[series['Combined_Key'].str.match('New York')]"
      ],
      "execution_count": 2,
      "outputs": [
        {
          "output_type": "execute_result",
          "data": {
            "text/html": [
              "<div>\n",
              "<style scoped>\n",
              "    .dataframe tbody tr th:only-of-type {\n",
              "        vertical-align: middle;\n",
              "    }\n",
              "\n",
              "    .dataframe tbody tr th {\n",
              "        vertical-align: top;\n",
              "    }\n",
              "\n",
              "    .dataframe thead th {\n",
              "        text-align: right;\n",
              "    }\n",
              "</style>\n",
              "<table border=\"1\" class=\"dataframe\">\n",
              "  <thead>\n",
              "    <tr style=\"text-align: right;\">\n",
              "      <th></th>\n",
              "      <th>UID</th>\n",
              "      <th>iso2</th>\n",
              "      <th>iso3</th>\n",
              "      <th>code3</th>\n",
              "      <th>FIPS</th>\n",
              "      <th>Admin2</th>\n",
              "      <th>Province_State</th>\n",
              "      <th>Country_Region</th>\n",
              "      <th>Lat</th>\n",
              "      <th>Long_</th>\n",
              "      <th>Combined_Key</th>\n",
              "      <th>1/22/20</th>\n",
              "      <th>1/23/20</th>\n",
              "      <th>1/24/20</th>\n",
              "      <th>1/25/20</th>\n",
              "      <th>1/26/20</th>\n",
              "      <th>1/27/20</th>\n",
              "      <th>1/28/20</th>\n",
              "      <th>1/29/20</th>\n",
              "      <th>1/30/20</th>\n",
              "      <th>1/31/20</th>\n",
              "      <th>2/1/20</th>\n",
              "      <th>2/2/20</th>\n",
              "      <th>2/3/20</th>\n",
              "      <th>2/4/20</th>\n",
              "      <th>2/5/20</th>\n",
              "      <th>2/6/20</th>\n",
              "      <th>2/7/20</th>\n",
              "      <th>2/8/20</th>\n",
              "      <th>2/9/20</th>\n",
              "      <th>2/10/20</th>\n",
              "      <th>2/11/20</th>\n",
              "      <th>2/12/20</th>\n",
              "      <th>2/13/20</th>\n",
              "      <th>2/14/20</th>\n",
              "      <th>2/15/20</th>\n",
              "      <th>2/16/20</th>\n",
              "      <th>2/17/20</th>\n",
              "      <th>2/18/20</th>\n",
              "      <th>2/19/20</th>\n",
              "      <th>...</th>\n",
              "      <th>3/7/20</th>\n",
              "      <th>3/8/20</th>\n",
              "      <th>3/9/20</th>\n",
              "      <th>3/10/20</th>\n",
              "      <th>3/11/20</th>\n",
              "      <th>3/12/20</th>\n",
              "      <th>3/13/20</th>\n",
              "      <th>3/14/20</th>\n",
              "      <th>3/15/20</th>\n",
              "      <th>3/16/20</th>\n",
              "      <th>3/17/20</th>\n",
              "      <th>3/18/20</th>\n",
              "      <th>3/19/20</th>\n",
              "      <th>3/20/20</th>\n",
              "      <th>3/21/20</th>\n",
              "      <th>3/22/20</th>\n",
              "      <th>3/23/20</th>\n",
              "      <th>3/24/20</th>\n",
              "      <th>3/25/20</th>\n",
              "      <th>3/26/20</th>\n",
              "      <th>3/27/20</th>\n",
              "      <th>3/28/20</th>\n",
              "      <th>3/29/20</th>\n",
              "      <th>3/30/20</th>\n",
              "      <th>3/31/20</th>\n",
              "      <th>4/1/20</th>\n",
              "      <th>4/2/20</th>\n",
              "      <th>4/3/20</th>\n",
              "      <th>4/4/20</th>\n",
              "      <th>4/5/20</th>\n",
              "      <th>4/6/20</th>\n",
              "      <th>4/7/20</th>\n",
              "      <th>4/8/20</th>\n",
              "      <th>4/9/20</th>\n",
              "      <th>4/10/20</th>\n",
              "      <th>4/11/20</th>\n",
              "      <th>4/12/20</th>\n",
              "      <th>4/13/20</th>\n",
              "      <th>4/14/20</th>\n",
              "      <th>4/15/20</th>\n",
              "    </tr>\n",
              "  </thead>\n",
              "  <tbody>\n",
              "    <tr>\n",
              "      <th>1863</th>\n",
              "      <td>84036061.0</td>\n",
              "      <td>US</td>\n",
              "      <td>USA</td>\n",
              "      <td>840</td>\n",
              "      <td>36061.0</td>\n",
              "      <td>New York</td>\n",
              "      <td>New York</td>\n",
              "      <td>US</td>\n",
              "      <td>40.767273</td>\n",
              "      <td>-73.971526</td>\n",
              "      <td>New York City, New York, US</td>\n",
              "      <td>0</td>\n",
              "      <td>0</td>\n",
              "      <td>0</td>\n",
              "      <td>0</td>\n",
              "      <td>0</td>\n",
              "      <td>0</td>\n",
              "      <td>0</td>\n",
              "      <td>0</td>\n",
              "      <td>0</td>\n",
              "      <td>0</td>\n",
              "      <td>0</td>\n",
              "      <td>0</td>\n",
              "      <td>0</td>\n",
              "      <td>0</td>\n",
              "      <td>0</td>\n",
              "      <td>0</td>\n",
              "      <td>0</td>\n",
              "      <td>0</td>\n",
              "      <td>0</td>\n",
              "      <td>0</td>\n",
              "      <td>0</td>\n",
              "      <td>0</td>\n",
              "      <td>0</td>\n",
              "      <td>0</td>\n",
              "      <td>0</td>\n",
              "      <td>0</td>\n",
              "      <td>0</td>\n",
              "      <td>0</td>\n",
              "      <td>0</td>\n",
              "      <td>...</td>\n",
              "      <td>11</td>\n",
              "      <td>12</td>\n",
              "      <td>19</td>\n",
              "      <td>25</td>\n",
              "      <td>55</td>\n",
              "      <td>95</td>\n",
              "      <td>154</td>\n",
              "      <td>269</td>\n",
              "      <td>269</td>\n",
              "      <td>463</td>\n",
              "      <td>814</td>\n",
              "      <td>1871</td>\n",
              "      <td>3954</td>\n",
              "      <td>5151</td>\n",
              "      <td>7530</td>\n",
              "      <td>9654</td>\n",
              "      <td>12305</td>\n",
              "      <td>14904</td>\n",
              "      <td>17856</td>\n",
              "      <td>21873</td>\n",
              "      <td>25573</td>\n",
              "      <td>29776</td>\n",
              "      <td>33768</td>\n",
              "      <td>37453</td>\n",
              "      <td>43119</td>\n",
              "      <td>47439</td>\n",
              "      <td>51809</td>\n",
              "      <td>57159</td>\n",
              "      <td>63306</td>\n",
              "      <td>67551</td>\n",
              "      <td>72181</td>\n",
              "      <td>76876</td>\n",
              "      <td>81803</td>\n",
              "      <td>87028</td>\n",
              "      <td>92384</td>\n",
              "      <td>98308</td>\n",
              "      <td>103208</td>\n",
              "      <td>106763</td>\n",
              "      <td>110465</td>\n",
              "      <td>118302</td>\n",
              "    </tr>\n",
              "  </tbody>\n",
              "</table>\n",
              "<p>1 rows × 96 columns</p>\n",
              "</div>"
            ],
            "text/plain": [
              "             UID iso2 iso3  code3  ...  4/12/20 4/13/20 4/14/20 4/15/20\n",
              "1863  84036061.0   US  USA    840  ...   103208  106763  110465  118302\n",
              "\n",
              "[1 rows x 96 columns]"
            ]
          },
          "metadata": {
            "tags": []
          },
          "execution_count": 2
        }
      ]
    },
    {
      "cell_type": "code",
      "metadata": {
        "id": "1MOX46AAcsJ8",
        "colab_type": "code",
        "colab": {}
      },
      "source": [
        "import pandas as pd\n",
        "df = pd.DataFrame(series)"
      ],
      "execution_count": 0,
      "outputs": []
    },
    {
      "cell_type": "code",
      "metadata": {
        "id": "gFil9Dbvcuws",
        "colab_type": "code",
        "colab": {}
      },
      "source": [
        "df_ny = df.iloc[1863]"
      ],
      "execution_count": 0,
      "outputs": []
    },
    {
      "cell_type": "code",
      "metadata": {
        "id": "Z1dH7Cfgcw6U",
        "colab_type": "code",
        "colab": {}
      },
      "source": [
        "df_ny = pd.DataFrame(df_ny)"
      ],
      "execution_count": 0,
      "outputs": []
    },
    {
      "cell_type": "code",
      "metadata": {
        "id": "usa98EdUcyBL",
        "colab_type": "code",
        "colab": {}
      },
      "source": [
        "df_ny = df_ny.T"
      ],
      "execution_count": 0,
      "outputs": []
    },
    {
      "cell_type": "code",
      "metadata": {
        "id": "J1kcMRAiczNb",
        "colab_type": "code",
        "colab": {
          "base_uri": "https://localhost:8080/",
          "height": 146
        },
        "outputId": "2b5c7dfd-f410-4630-b4fe-aa848757030e"
      },
      "source": [
        "df_ny"
      ],
      "execution_count": 17,
      "outputs": [
        {
          "output_type": "execute_result",
          "data": {
            "text/html": [
              "<div>\n",
              "<style scoped>\n",
              "    .dataframe tbody tr th:only-of-type {\n",
              "        vertical-align: middle;\n",
              "    }\n",
              "\n",
              "    .dataframe tbody tr th {\n",
              "        vertical-align: top;\n",
              "    }\n",
              "\n",
              "    .dataframe thead th {\n",
              "        text-align: right;\n",
              "    }\n",
              "</style>\n",
              "<table border=\"1\" class=\"dataframe\">\n",
              "  <thead>\n",
              "    <tr style=\"text-align: right;\">\n",
              "      <th></th>\n",
              "      <th>UID</th>\n",
              "      <th>iso2</th>\n",
              "      <th>iso3</th>\n",
              "      <th>code3</th>\n",
              "      <th>FIPS</th>\n",
              "      <th>Admin2</th>\n",
              "      <th>Province_State</th>\n",
              "      <th>Country_Region</th>\n",
              "      <th>Lat</th>\n",
              "      <th>Long_</th>\n",
              "      <th>Combined_Key</th>\n",
              "      <th>1/22/20</th>\n",
              "      <th>1/23/20</th>\n",
              "      <th>1/24/20</th>\n",
              "      <th>1/25/20</th>\n",
              "      <th>1/26/20</th>\n",
              "      <th>1/27/20</th>\n",
              "      <th>1/28/20</th>\n",
              "      <th>1/29/20</th>\n",
              "      <th>1/30/20</th>\n",
              "      <th>1/31/20</th>\n",
              "      <th>2/1/20</th>\n",
              "      <th>2/2/20</th>\n",
              "      <th>2/3/20</th>\n",
              "      <th>2/4/20</th>\n",
              "      <th>2/5/20</th>\n",
              "      <th>2/6/20</th>\n",
              "      <th>2/7/20</th>\n",
              "      <th>2/8/20</th>\n",
              "      <th>2/9/20</th>\n",
              "      <th>2/10/20</th>\n",
              "      <th>2/11/20</th>\n",
              "      <th>2/12/20</th>\n",
              "      <th>2/13/20</th>\n",
              "      <th>2/14/20</th>\n",
              "      <th>2/15/20</th>\n",
              "      <th>2/16/20</th>\n",
              "      <th>2/17/20</th>\n",
              "      <th>2/18/20</th>\n",
              "      <th>2/19/20</th>\n",
              "      <th>...</th>\n",
              "      <th>3/7/20</th>\n",
              "      <th>3/8/20</th>\n",
              "      <th>3/9/20</th>\n",
              "      <th>3/10/20</th>\n",
              "      <th>3/11/20</th>\n",
              "      <th>3/12/20</th>\n",
              "      <th>3/13/20</th>\n",
              "      <th>3/14/20</th>\n",
              "      <th>3/15/20</th>\n",
              "      <th>3/16/20</th>\n",
              "      <th>3/17/20</th>\n",
              "      <th>3/18/20</th>\n",
              "      <th>3/19/20</th>\n",
              "      <th>3/20/20</th>\n",
              "      <th>3/21/20</th>\n",
              "      <th>3/22/20</th>\n",
              "      <th>3/23/20</th>\n",
              "      <th>3/24/20</th>\n",
              "      <th>3/25/20</th>\n",
              "      <th>3/26/20</th>\n",
              "      <th>3/27/20</th>\n",
              "      <th>3/28/20</th>\n",
              "      <th>3/29/20</th>\n",
              "      <th>3/30/20</th>\n",
              "      <th>3/31/20</th>\n",
              "      <th>4/1/20</th>\n",
              "      <th>4/2/20</th>\n",
              "      <th>4/3/20</th>\n",
              "      <th>4/4/20</th>\n",
              "      <th>4/5/20</th>\n",
              "      <th>4/6/20</th>\n",
              "      <th>4/7/20</th>\n",
              "      <th>4/8/20</th>\n",
              "      <th>4/9/20</th>\n",
              "      <th>4/10/20</th>\n",
              "      <th>4/11/20</th>\n",
              "      <th>4/12/20</th>\n",
              "      <th>4/13/20</th>\n",
              "      <th>4/14/20</th>\n",
              "      <th>4/15/20</th>\n",
              "    </tr>\n",
              "  </thead>\n",
              "  <tbody>\n",
              "    <tr>\n",
              "      <th>1863</th>\n",
              "      <td>8.40361e+07</td>\n",
              "      <td>US</td>\n",
              "      <td>USA</td>\n",
              "      <td>840</td>\n",
              "      <td>36061</td>\n",
              "      <td>New York</td>\n",
              "      <td>New York</td>\n",
              "      <td>US</td>\n",
              "      <td>40.7673</td>\n",
              "      <td>-73.9715</td>\n",
              "      <td>New York City, New York, US</td>\n",
              "      <td>0</td>\n",
              "      <td>0</td>\n",
              "      <td>0</td>\n",
              "      <td>0</td>\n",
              "      <td>0</td>\n",
              "      <td>0</td>\n",
              "      <td>0</td>\n",
              "      <td>0</td>\n",
              "      <td>0</td>\n",
              "      <td>0</td>\n",
              "      <td>0</td>\n",
              "      <td>0</td>\n",
              "      <td>0</td>\n",
              "      <td>0</td>\n",
              "      <td>0</td>\n",
              "      <td>0</td>\n",
              "      <td>0</td>\n",
              "      <td>0</td>\n",
              "      <td>0</td>\n",
              "      <td>0</td>\n",
              "      <td>0</td>\n",
              "      <td>0</td>\n",
              "      <td>0</td>\n",
              "      <td>0</td>\n",
              "      <td>0</td>\n",
              "      <td>0</td>\n",
              "      <td>0</td>\n",
              "      <td>0</td>\n",
              "      <td>0</td>\n",
              "      <td>...</td>\n",
              "      <td>11</td>\n",
              "      <td>12</td>\n",
              "      <td>19</td>\n",
              "      <td>25</td>\n",
              "      <td>55</td>\n",
              "      <td>95</td>\n",
              "      <td>154</td>\n",
              "      <td>269</td>\n",
              "      <td>269</td>\n",
              "      <td>463</td>\n",
              "      <td>814</td>\n",
              "      <td>1871</td>\n",
              "      <td>3954</td>\n",
              "      <td>5151</td>\n",
              "      <td>7530</td>\n",
              "      <td>9654</td>\n",
              "      <td>12305</td>\n",
              "      <td>14904</td>\n",
              "      <td>17856</td>\n",
              "      <td>21873</td>\n",
              "      <td>25573</td>\n",
              "      <td>29776</td>\n",
              "      <td>33768</td>\n",
              "      <td>37453</td>\n",
              "      <td>43119</td>\n",
              "      <td>47439</td>\n",
              "      <td>51809</td>\n",
              "      <td>57159</td>\n",
              "      <td>63306</td>\n",
              "      <td>67551</td>\n",
              "      <td>72181</td>\n",
              "      <td>76876</td>\n",
              "      <td>81803</td>\n",
              "      <td>87028</td>\n",
              "      <td>92384</td>\n",
              "      <td>98308</td>\n",
              "      <td>103208</td>\n",
              "      <td>106763</td>\n",
              "      <td>110465</td>\n",
              "      <td>118302</td>\n",
              "    </tr>\n",
              "  </tbody>\n",
              "</table>\n",
              "<p>1 rows × 96 columns</p>\n",
              "</div>"
            ],
            "text/plain": [
              "              UID iso2 iso3 code3  ... 4/12/20 4/13/20 4/14/20 4/15/20\n",
              "1863  8.40361e+07   US  USA   840  ...  103208  106763  110465  118302\n",
              "\n",
              "[1 rows x 96 columns]"
            ]
          },
          "metadata": {
            "tags": []
          },
          "execution_count": 17
        }
      ]
    },
    {
      "cell_type": "code",
      "metadata": {
        "id": "dsd8jcYyczm7",
        "colab_type": "code",
        "colab": {}
      },
      "source": [
        "cols = list(df_ny.columns)"
      ],
      "execution_count": 0,
      "outputs": []
    },
    {
      "cell_type": "code",
      "metadata": {
        "id": "MLlhVqwKc1I7",
        "colab_type": "code",
        "colab": {}
      },
      "source": [
        "df_ny = df_ny[cols[10:]]"
      ],
      "execution_count": 0,
      "outputs": []
    },
    {
      "cell_type": "code",
      "metadata": {
        "id": "ZJOyQwa9daJ9",
        "colab_type": "code",
        "colab": {
          "base_uri": "https://localhost:8080/",
          "height": 277
        },
        "outputId": "48d6c0e1-c832-4309-9a2f-1090999b1730"
      },
      "source": [
        "df_ny.columns"
      ],
      "execution_count": 21,
      "outputs": [
        {
          "output_type": "execute_result",
          "data": {
            "text/plain": [
              "Index(['Combined_Key', '1/22/20', '1/23/20', '1/24/20', '1/25/20', '1/26/20',\n",
              "       '1/27/20', '1/28/20', '1/29/20', '1/30/20', '1/31/20', '2/1/20',\n",
              "       '2/2/20', '2/3/20', '2/4/20', '2/5/20', '2/6/20', '2/7/20', '2/8/20',\n",
              "       '2/9/20', '2/10/20', '2/11/20', '2/12/20', '2/13/20', '2/14/20',\n",
              "       '2/15/20', '2/16/20', '2/17/20', '2/18/20', '2/19/20', '2/20/20',\n",
              "       '2/21/20', '2/22/20', '2/23/20', '2/24/20', '2/25/20', '2/26/20',\n",
              "       '2/27/20', '2/28/20', '2/29/20', '3/1/20', '3/2/20', '3/3/20', '3/4/20',\n",
              "       '3/5/20', '3/6/20', '3/7/20', '3/8/20', '3/9/20', '3/10/20', '3/11/20',\n",
              "       '3/12/20', '3/13/20', '3/14/20', '3/15/20', '3/16/20', '3/17/20',\n",
              "       '3/18/20', '3/19/20', '3/20/20', '3/21/20', '3/22/20', '3/23/20',\n",
              "       '3/24/20', '3/25/20', '3/26/20', '3/27/20', '3/28/20', '3/29/20',\n",
              "       '3/30/20', '3/31/20', '4/1/20', '4/2/20', '4/3/20', '4/4/20', '4/5/20',\n",
              "       '4/6/20', '4/7/20', '4/8/20', '4/9/20', '4/10/20', '4/11/20', '4/12/20',\n",
              "       '4/13/20', '4/14/20', '4/15/20'],\n",
              "      dtype='object')"
            ]
          },
          "metadata": {
            "tags": []
          },
          "execution_count": 21
        }
      ]
    },
    {
      "cell_type": "code",
      "metadata": {
        "id": "SWh_YssNc2MJ",
        "colab_type": "code",
        "colab": {}
      },
      "source": [
        "df_ny = df_ny[['Combined_Key','3/4/20',\n",
        "       '3/5/20', '3/6/20', '3/7/20', '3/8/20', '3/9/20', '3/10/20', '3/11/20',\n",
        "       '3/12/20', '3/13/20', '3/14/20', '3/15/20', '3/16/20', '3/17/20',\n",
        "       '3/18/20', '3/19/20', '3/20/20', '3/21/20', '3/22/20', '3/23/20',\n",
        "       '3/24/20', '3/25/20', '3/26/20', '3/27/20', '3/28/20']]"
      ],
      "execution_count": 0,
      "outputs": []
    },
    {
      "cell_type": "code",
      "metadata": {
        "id": "h1xdFnp1c3Ib",
        "colab_type": "code",
        "colab": {
          "base_uri": "https://localhost:8080/",
          "height": 846
        },
        "outputId": "791e1cb2-84a5-438a-d9ce-e3874381f832"
      },
      "source": [
        "df_ny.T"
      ],
      "execution_count": 24,
      "outputs": [
        {
          "output_type": "execute_result",
          "data": {
            "text/html": [
              "<div>\n",
              "<style scoped>\n",
              "    .dataframe tbody tr th:only-of-type {\n",
              "        vertical-align: middle;\n",
              "    }\n",
              "\n",
              "    .dataframe tbody tr th {\n",
              "        vertical-align: top;\n",
              "    }\n",
              "\n",
              "    .dataframe thead th {\n",
              "        text-align: right;\n",
              "    }\n",
              "</style>\n",
              "<table border=\"1\" class=\"dataframe\">\n",
              "  <thead>\n",
              "    <tr style=\"text-align: right;\">\n",
              "      <th></th>\n",
              "      <th>1863</th>\n",
              "    </tr>\n",
              "  </thead>\n",
              "  <tbody>\n",
              "    <tr>\n",
              "      <th>Combined_Key</th>\n",
              "      <td>New York City, New York, US</td>\n",
              "    </tr>\n",
              "    <tr>\n",
              "      <th>3/4/20</th>\n",
              "      <td>1</td>\n",
              "    </tr>\n",
              "    <tr>\n",
              "      <th>3/5/20</th>\n",
              "      <td>4</td>\n",
              "    </tr>\n",
              "    <tr>\n",
              "      <th>3/6/20</th>\n",
              "      <td>11</td>\n",
              "    </tr>\n",
              "    <tr>\n",
              "      <th>3/7/20</th>\n",
              "      <td>11</td>\n",
              "    </tr>\n",
              "    <tr>\n",
              "      <th>3/8/20</th>\n",
              "      <td>12</td>\n",
              "    </tr>\n",
              "    <tr>\n",
              "      <th>3/9/20</th>\n",
              "      <td>19</td>\n",
              "    </tr>\n",
              "    <tr>\n",
              "      <th>3/10/20</th>\n",
              "      <td>25</td>\n",
              "    </tr>\n",
              "    <tr>\n",
              "      <th>3/11/20</th>\n",
              "      <td>55</td>\n",
              "    </tr>\n",
              "    <tr>\n",
              "      <th>3/12/20</th>\n",
              "      <td>95</td>\n",
              "    </tr>\n",
              "    <tr>\n",
              "      <th>3/13/20</th>\n",
              "      <td>154</td>\n",
              "    </tr>\n",
              "    <tr>\n",
              "      <th>3/14/20</th>\n",
              "      <td>269</td>\n",
              "    </tr>\n",
              "    <tr>\n",
              "      <th>3/15/20</th>\n",
              "      <td>269</td>\n",
              "    </tr>\n",
              "    <tr>\n",
              "      <th>3/16/20</th>\n",
              "      <td>463</td>\n",
              "    </tr>\n",
              "    <tr>\n",
              "      <th>3/17/20</th>\n",
              "      <td>814</td>\n",
              "    </tr>\n",
              "    <tr>\n",
              "      <th>3/18/20</th>\n",
              "      <td>1871</td>\n",
              "    </tr>\n",
              "    <tr>\n",
              "      <th>3/19/20</th>\n",
              "      <td>3954</td>\n",
              "    </tr>\n",
              "    <tr>\n",
              "      <th>3/20/20</th>\n",
              "      <td>5151</td>\n",
              "    </tr>\n",
              "    <tr>\n",
              "      <th>3/21/20</th>\n",
              "      <td>7530</td>\n",
              "    </tr>\n",
              "    <tr>\n",
              "      <th>3/22/20</th>\n",
              "      <td>9654</td>\n",
              "    </tr>\n",
              "    <tr>\n",
              "      <th>3/23/20</th>\n",
              "      <td>12305</td>\n",
              "    </tr>\n",
              "    <tr>\n",
              "      <th>3/24/20</th>\n",
              "      <td>14904</td>\n",
              "    </tr>\n",
              "    <tr>\n",
              "      <th>3/25/20</th>\n",
              "      <td>17856</td>\n",
              "    </tr>\n",
              "    <tr>\n",
              "      <th>3/26/20</th>\n",
              "      <td>21873</td>\n",
              "    </tr>\n",
              "    <tr>\n",
              "      <th>3/27/20</th>\n",
              "      <td>25573</td>\n",
              "    </tr>\n",
              "    <tr>\n",
              "      <th>3/28/20</th>\n",
              "      <td>29776</td>\n",
              "    </tr>\n",
              "  </tbody>\n",
              "</table>\n",
              "</div>"
            ],
            "text/plain": [
              "                                     1863\n",
              "Combined_Key  New York City, New York, US\n",
              "3/4/20                                  1\n",
              "3/5/20                                  4\n",
              "3/6/20                                 11\n",
              "3/7/20                                 11\n",
              "3/8/20                                 12\n",
              "3/9/20                                 19\n",
              "3/10/20                                25\n",
              "3/11/20                                55\n",
              "3/12/20                                95\n",
              "3/13/20                               154\n",
              "3/14/20                               269\n",
              "3/15/20                               269\n",
              "3/16/20                               463\n",
              "3/17/20                               814\n",
              "3/18/20                              1871\n",
              "3/19/20                              3954\n",
              "3/20/20                              5151\n",
              "3/21/20                              7530\n",
              "3/22/20                              9654\n",
              "3/23/20                             12305\n",
              "3/24/20                             14904\n",
              "3/25/20                             17856\n",
              "3/26/20                             21873\n",
              "3/27/20                             25573\n",
              "3/28/20                             29776"
            ]
          },
          "metadata": {
            "tags": []
          },
          "execution_count": 24
        }
      ]
    },
    {
      "cell_type": "code",
      "metadata": {
        "id": "zoKycdB1dUzH",
        "colab_type": "code",
        "colab": {}
      },
      "source": [
        "import datetime\n",
        "base = datetime.datetime(2020, 3, 28)\n"
      ],
      "execution_count": 0,
      "outputs": []
    },
    {
      "cell_type": "code",
      "metadata": {
        "id": "KP0X0KZTd9CL",
        "colab_type": "code",
        "colab": {}
      },
      "source": [
        "date_list = [base - datetime.timedelta(days=x) for x in range(25)]"
      ],
      "execution_count": 0,
      "outputs": []
    },
    {
      "cell_type": "code",
      "metadata": {
        "id": "if5hroWteN_i",
        "colab_type": "code",
        "colab": {
          "base_uri": "https://localhost:8080/",
          "height": 450
        },
        "outputId": "3c2ddf26-7c80-4126-da4e-fea2fb5b824e"
      },
      "source": [
        "list_of_dates =  []\n",
        "for i in range(0, len(date_list)):\n",
        "  list_of_dates.append(date_list[i].strftime(\"%Y-%m-%d\"))\n",
        "list_of_dates"
      ],
      "execution_count": 36,
      "outputs": [
        {
          "output_type": "execute_result",
          "data": {
            "text/plain": [
              "['2020-03-28',\n",
              " '2020-03-27',\n",
              " '2020-03-26',\n",
              " '2020-03-25',\n",
              " '2020-03-24',\n",
              " '2020-03-23',\n",
              " '2020-03-22',\n",
              " '2020-03-21',\n",
              " '2020-03-20',\n",
              " '2020-03-19',\n",
              " '2020-03-18',\n",
              " '2020-03-17',\n",
              " '2020-03-16',\n",
              " '2020-03-15',\n",
              " '2020-03-14',\n",
              " '2020-03-13',\n",
              " '2020-03-12',\n",
              " '2020-03-11',\n",
              " '2020-03-10',\n",
              " '2020-03-09',\n",
              " '2020-03-08',\n",
              " '2020-03-07',\n",
              " '2020-03-06',\n",
              " '2020-03-05',\n",
              " '2020-03-04']"
            ]
          },
          "metadata": {
            "tags": []
          },
          "execution_count": 36
        }
      ]
    },
    {
      "cell_type": "code",
      "metadata": {
        "id": "4r0yzmJGeOyn",
        "colab_type": "code",
        "colab": {}
      },
      "source": [
        "list_of_dates.reverse()"
      ],
      "execution_count": 0,
      "outputs": []
    },
    {
      "cell_type": "code",
      "metadata": {
        "id": "1hZfdcSPecbG",
        "colab_type": "code",
        "colab": {
          "base_uri": "https://localhost:8080/",
          "height": 450
        },
        "outputId": "cebc72be-795c-4097-efe3-5c629d8ff798"
      },
      "source": [
        "list_of_dates"
      ],
      "execution_count": 38,
      "outputs": [
        {
          "output_type": "execute_result",
          "data": {
            "text/plain": [
              "['2020-03-04',\n",
              " '2020-03-05',\n",
              " '2020-03-06',\n",
              " '2020-03-07',\n",
              " '2020-03-08',\n",
              " '2020-03-09',\n",
              " '2020-03-10',\n",
              " '2020-03-11',\n",
              " '2020-03-12',\n",
              " '2020-03-13',\n",
              " '2020-03-14',\n",
              " '2020-03-15',\n",
              " '2020-03-16',\n",
              " '2020-03-17',\n",
              " '2020-03-18',\n",
              " '2020-03-19',\n",
              " '2020-03-20',\n",
              " '2020-03-21',\n",
              " '2020-03-22',\n",
              " '2020-03-23',\n",
              " '2020-03-24',\n",
              " '2020-03-25',\n",
              " '2020-03-26',\n",
              " '2020-03-27',\n",
              " '2020-03-28']"
            ]
          },
          "metadata": {
            "tags": []
          },
          "execution_count": 38
        }
      ]
    },
    {
      "cell_type": "code",
      "metadata": {
        "id": "oU9AQKife0s_",
        "colab_type": "code",
        "colab": {
          "base_uri": "https://localhost:8080/",
          "height": 450
        },
        "outputId": "99dfdd0c-f8b0-438f-ce7f-31377f0bd695"
      },
      "source": [
        "df_ny.iloc[1:].values"
      ],
      "execution_count": 45,
      "outputs": [
        {
          "output_type": "execute_result",
          "data": {
            "text/plain": [
              "array([[1],\n",
              "       [4],\n",
              "       [11],\n",
              "       [11],\n",
              "       [12],\n",
              "       [19],\n",
              "       [25],\n",
              "       [55],\n",
              "       [95],\n",
              "       [154],\n",
              "       [269],\n",
              "       [269],\n",
              "       [463],\n",
              "       [814],\n",
              "       [1871],\n",
              "       [3954],\n",
              "       [5151],\n",
              "       [7530],\n",
              "       [9654],\n",
              "       [12305],\n",
              "       [14904],\n",
              "       [17856],\n",
              "       [21873],\n",
              "       [25573],\n",
              "       [29776]], dtype=object)"
            ]
          },
          "metadata": {
            "tags": []
          },
          "execution_count": 45
        }
      ]
    },
    {
      "cell_type": "code",
      "metadata": {
        "id": "a4_Vj-HmedCO",
        "colab_type": "code",
        "colab": {}
      },
      "source": [
        "df_ny = df_ny.T"
      ],
      "execution_count": 0,
      "outputs": []
    },
    {
      "cell_type": "code",
      "metadata": {
        "id": "PY-es2p9fBbD",
        "colab_type": "code",
        "colab": {}
      },
      "source": [
        "list_of_lists = df_ny.iloc[1:].values"
      ],
      "execution_count": 0,
      "outputs": []
    },
    {
      "cell_type": "code",
      "metadata": {
        "id": "ZS_odiu8fM-P",
        "colab_type": "code",
        "colab": {}
      },
      "source": [
        "flattened  = [val for sublist in list_of_lists for val in sublist]"
      ],
      "execution_count": 0,
      "outputs": []
    },
    {
      "cell_type": "code",
      "metadata": {
        "id": "4i-SPfFlfOcN",
        "colab_type": "code",
        "colab": {
          "base_uri": "https://localhost:8080/",
          "height": 34
        },
        "outputId": "d19d4382-5b20-42c0-fa7a-879db351d1fc"
      },
      "source": [
        "len(flattened)"
      ],
      "execution_count": 52,
      "outputs": [
        {
          "output_type": "execute_result",
          "data": {
            "text/plain": [
              "25"
            ]
          },
          "metadata": {
            "tags": []
          },
          "execution_count": 52
        }
      ]
    },
    {
      "cell_type": "code",
      "metadata": {
        "id": "QYAdqqyHfQ2w",
        "colab_type": "code",
        "colab": {
          "base_uri": "https://localhost:8080/",
          "height": 34
        },
        "outputId": "31003d2b-6dcf-4e2c-a1e6-8e19238dc947"
      },
      "source": [
        "len(list_of_dates)"
      ],
      "execution_count": 53,
      "outputs": [
        {
          "output_type": "execute_result",
          "data": {
            "text/plain": [
              "25"
            ]
          },
          "metadata": {
            "tags": []
          },
          "execution_count": 53
        }
      ]
    },
    {
      "cell_type": "code",
      "metadata": {
        "id": "m7aDrUv_eiO9",
        "colab_type": "code",
        "colab": {}
      },
      "source": [
        "d = {'date': list_of_dates, 'Num of Cases in NY': flattened}"
      ],
      "execution_count": 0,
      "outputs": []
    },
    {
      "cell_type": "code",
      "metadata": {
        "id": "liSExyJ1eofE",
        "colab_type": "code",
        "colab": {}
      },
      "source": [
        "df = pd.DataFrame(data=d)"
      ],
      "execution_count": 0,
      "outputs": []
    },
    {
      "cell_type": "code",
      "metadata": {
        "id": "TqK_cQnWe_hB",
        "colab_type": "code",
        "colab": {
          "base_uri": "https://localhost:8080/",
          "height": 816
        },
        "outputId": "344239b5-9c0c-47b1-ecc0-7c97381a38b6"
      },
      "source": [
        "df"
      ],
      "execution_count": 65,
      "outputs": [
        {
          "output_type": "execute_result",
          "data": {
            "text/html": [
              "<div>\n",
              "<style scoped>\n",
              "    .dataframe tbody tr th:only-of-type {\n",
              "        vertical-align: middle;\n",
              "    }\n",
              "\n",
              "    .dataframe tbody tr th {\n",
              "        vertical-align: top;\n",
              "    }\n",
              "\n",
              "    .dataframe thead th {\n",
              "        text-align: right;\n",
              "    }\n",
              "</style>\n",
              "<table border=\"1\" class=\"dataframe\">\n",
              "  <thead>\n",
              "    <tr style=\"text-align: right;\">\n",
              "      <th></th>\n",
              "      <th>date</th>\n",
              "      <th>Num of Cases in NY</th>\n",
              "    </tr>\n",
              "  </thead>\n",
              "  <tbody>\n",
              "    <tr>\n",
              "      <th>0</th>\n",
              "      <td>2020-03-04</td>\n",
              "      <td>1</td>\n",
              "    </tr>\n",
              "    <tr>\n",
              "      <th>1</th>\n",
              "      <td>2020-03-05</td>\n",
              "      <td>4</td>\n",
              "    </tr>\n",
              "    <tr>\n",
              "      <th>2</th>\n",
              "      <td>2020-03-06</td>\n",
              "      <td>11</td>\n",
              "    </tr>\n",
              "    <tr>\n",
              "      <th>3</th>\n",
              "      <td>2020-03-07</td>\n",
              "      <td>11</td>\n",
              "    </tr>\n",
              "    <tr>\n",
              "      <th>4</th>\n",
              "      <td>2020-03-08</td>\n",
              "      <td>12</td>\n",
              "    </tr>\n",
              "    <tr>\n",
              "      <th>5</th>\n",
              "      <td>2020-03-09</td>\n",
              "      <td>19</td>\n",
              "    </tr>\n",
              "    <tr>\n",
              "      <th>6</th>\n",
              "      <td>2020-03-10</td>\n",
              "      <td>25</td>\n",
              "    </tr>\n",
              "    <tr>\n",
              "      <th>7</th>\n",
              "      <td>2020-03-11</td>\n",
              "      <td>55</td>\n",
              "    </tr>\n",
              "    <tr>\n",
              "      <th>8</th>\n",
              "      <td>2020-03-12</td>\n",
              "      <td>95</td>\n",
              "    </tr>\n",
              "    <tr>\n",
              "      <th>9</th>\n",
              "      <td>2020-03-13</td>\n",
              "      <td>154</td>\n",
              "    </tr>\n",
              "    <tr>\n",
              "      <th>10</th>\n",
              "      <td>2020-03-14</td>\n",
              "      <td>269</td>\n",
              "    </tr>\n",
              "    <tr>\n",
              "      <th>11</th>\n",
              "      <td>2020-03-15</td>\n",
              "      <td>269</td>\n",
              "    </tr>\n",
              "    <tr>\n",
              "      <th>12</th>\n",
              "      <td>2020-03-16</td>\n",
              "      <td>463</td>\n",
              "    </tr>\n",
              "    <tr>\n",
              "      <th>13</th>\n",
              "      <td>2020-03-17</td>\n",
              "      <td>814</td>\n",
              "    </tr>\n",
              "    <tr>\n",
              "      <th>14</th>\n",
              "      <td>2020-03-18</td>\n",
              "      <td>1871</td>\n",
              "    </tr>\n",
              "    <tr>\n",
              "      <th>15</th>\n",
              "      <td>2020-03-19</td>\n",
              "      <td>3954</td>\n",
              "    </tr>\n",
              "    <tr>\n",
              "      <th>16</th>\n",
              "      <td>2020-03-20</td>\n",
              "      <td>5151</td>\n",
              "    </tr>\n",
              "    <tr>\n",
              "      <th>17</th>\n",
              "      <td>2020-03-21</td>\n",
              "      <td>7530</td>\n",
              "    </tr>\n",
              "    <tr>\n",
              "      <th>18</th>\n",
              "      <td>2020-03-22</td>\n",
              "      <td>9654</td>\n",
              "    </tr>\n",
              "    <tr>\n",
              "      <th>19</th>\n",
              "      <td>2020-03-23</td>\n",
              "      <td>12305</td>\n",
              "    </tr>\n",
              "    <tr>\n",
              "      <th>20</th>\n",
              "      <td>2020-03-24</td>\n",
              "      <td>14904</td>\n",
              "    </tr>\n",
              "    <tr>\n",
              "      <th>21</th>\n",
              "      <td>2020-03-25</td>\n",
              "      <td>17856</td>\n",
              "    </tr>\n",
              "    <tr>\n",
              "      <th>22</th>\n",
              "      <td>2020-03-26</td>\n",
              "      <td>21873</td>\n",
              "    </tr>\n",
              "    <tr>\n",
              "      <th>23</th>\n",
              "      <td>2020-03-27</td>\n",
              "      <td>25573</td>\n",
              "    </tr>\n",
              "    <tr>\n",
              "      <th>24</th>\n",
              "      <td>2020-03-28</td>\n",
              "      <td>29776</td>\n",
              "    </tr>\n",
              "  </tbody>\n",
              "</table>\n",
              "</div>"
            ],
            "text/plain": [
              "          date  Num of Cases in NY\n",
              "0   2020-03-04                   1\n",
              "1   2020-03-05                   4\n",
              "2   2020-03-06                  11\n",
              "3   2020-03-07                  11\n",
              "4   2020-03-08                  12\n",
              "5   2020-03-09                  19\n",
              "6   2020-03-10                  25\n",
              "7   2020-03-11                  55\n",
              "8   2020-03-12                  95\n",
              "9   2020-03-13                 154\n",
              "10  2020-03-14                 269\n",
              "11  2020-03-15                 269\n",
              "12  2020-03-16                 463\n",
              "13  2020-03-17                 814\n",
              "14  2020-03-18                1871\n",
              "15  2020-03-19                3954\n",
              "16  2020-03-20                5151\n",
              "17  2020-03-21                7530\n",
              "18  2020-03-22                9654\n",
              "19  2020-03-23               12305\n",
              "20  2020-03-24               14904\n",
              "21  2020-03-25               17856\n",
              "22  2020-03-26               21873\n",
              "23  2020-03-27               25573\n",
              "24  2020-03-28               29776"
            ]
          },
          "metadata": {
            "tags": []
          },
          "execution_count": 65
        }
      ]
    },
    {
      "cell_type": "markdown",
      "metadata": {
        "id": "jnSE00A1fXcR",
        "colab_type": "text"
      },
      "source": [
        "### Getting Twitter data"
      ]
    },
    {
      "cell_type": "code",
      "metadata": {
        "id": "pVQ64yuJfTe3",
        "colab_type": "code",
        "colab": {}
      },
      "source": [
        "url = \"https://raw.githubusercontent.com/armandordorica/Twitter_Sentiment_Analysis/master/sentiment_analysis_time_series_nyc_twitter.csv\""
      ],
      "execution_count": 0,
      "outputs": []
    },
    {
      "cell_type": "code",
      "metadata": {
        "id": "kiJCUCP_fbb9",
        "colab_type": "code",
        "colab": {
          "base_uri": "https://localhost:8080/",
          "height": 816
        },
        "outputId": "2f15b460-614e-4ef4-a18b-9dca45119879"
      },
      "source": [
        "from pandas import read_csv\n",
        "twitter_df = read_csv(url, header=0)\n",
        "twitter_df "
      ],
      "execution_count": 62,
      "outputs": [
        {
          "output_type": "execute_result",
          "data": {
            "text/html": [
              "<div>\n",
              "<style scoped>\n",
              "    .dataframe tbody tr th:only-of-type {\n",
              "        vertical-align: middle;\n",
              "    }\n",
              "\n",
              "    .dataframe tbody tr th {\n",
              "        vertical-align: top;\n",
              "    }\n",
              "\n",
              "    .dataframe thead th {\n",
              "        text-align: right;\n",
              "    }\n",
              "</style>\n",
              "<table border=\"1\" class=\"dataframe\">\n",
              "  <thead>\n",
              "    <tr style=\"text-align: right;\">\n",
              "      <th></th>\n",
              "      <th>date</th>\n",
              "      <th>all tweets</th>\n",
              "      <th>positive tweets</th>\n",
              "      <th>negative tweets</th>\n",
              "      <th>neutral tweets</th>\n",
              "      <th>Total</th>\n",
              "    </tr>\n",
              "  </thead>\n",
              "  <tbody>\n",
              "    <tr>\n",
              "      <th>0</th>\n",
              "      <td>2020-03-04</td>\n",
              "      <td>17</td>\n",
              "      <td>7</td>\n",
              "      <td>2</td>\n",
              "      <td>8</td>\n",
              "      <td>17</td>\n",
              "    </tr>\n",
              "    <tr>\n",
              "      <th>1</th>\n",
              "      <td>2020-03-05</td>\n",
              "      <td>30</td>\n",
              "      <td>5</td>\n",
              "      <td>8</td>\n",
              "      <td>17</td>\n",
              "      <td>30</td>\n",
              "    </tr>\n",
              "    <tr>\n",
              "      <th>2</th>\n",
              "      <td>2020-03-06</td>\n",
              "      <td>15</td>\n",
              "      <td>9</td>\n",
              "      <td>2</td>\n",
              "      <td>4</td>\n",
              "      <td>15</td>\n",
              "    </tr>\n",
              "    <tr>\n",
              "      <th>3</th>\n",
              "      <td>2020-03-07</td>\n",
              "      <td>9</td>\n",
              "      <td>3</td>\n",
              "      <td>1</td>\n",
              "      <td>5</td>\n",
              "      <td>9</td>\n",
              "    </tr>\n",
              "    <tr>\n",
              "      <th>4</th>\n",
              "      <td>2020-03-08</td>\n",
              "      <td>13</td>\n",
              "      <td>4</td>\n",
              "      <td>5</td>\n",
              "      <td>4</td>\n",
              "      <td>13</td>\n",
              "    </tr>\n",
              "    <tr>\n",
              "      <th>5</th>\n",
              "      <td>2020-03-09</td>\n",
              "      <td>71</td>\n",
              "      <td>22</td>\n",
              "      <td>17</td>\n",
              "      <td>32</td>\n",
              "      <td>71</td>\n",
              "    </tr>\n",
              "    <tr>\n",
              "      <th>6</th>\n",
              "      <td>2020-03-10</td>\n",
              "      <td>287</td>\n",
              "      <td>127</td>\n",
              "      <td>67</td>\n",
              "      <td>93</td>\n",
              "      <td>287</td>\n",
              "    </tr>\n",
              "    <tr>\n",
              "      <th>7</th>\n",
              "      <td>2020-03-11</td>\n",
              "      <td>438</td>\n",
              "      <td>175</td>\n",
              "      <td>106</td>\n",
              "      <td>157</td>\n",
              "      <td>438</td>\n",
              "    </tr>\n",
              "    <tr>\n",
              "      <th>8</th>\n",
              "      <td>2020-03-12</td>\n",
              "      <td>975</td>\n",
              "      <td>393</td>\n",
              "      <td>207</td>\n",
              "      <td>375</td>\n",
              "      <td>975</td>\n",
              "    </tr>\n",
              "    <tr>\n",
              "      <th>9</th>\n",
              "      <td>2020-03-13</td>\n",
              "      <td>1712</td>\n",
              "      <td>794</td>\n",
              "      <td>383</td>\n",
              "      <td>535</td>\n",
              "      <td>1712</td>\n",
              "    </tr>\n",
              "    <tr>\n",
              "      <th>10</th>\n",
              "      <td>2020-03-14</td>\n",
              "      <td>842</td>\n",
              "      <td>397</td>\n",
              "      <td>195</td>\n",
              "      <td>250</td>\n",
              "      <td>842</td>\n",
              "    </tr>\n",
              "    <tr>\n",
              "      <th>11</th>\n",
              "      <td>2020-03-15</td>\n",
              "      <td>961</td>\n",
              "      <td>442</td>\n",
              "      <td>204</td>\n",
              "      <td>315</td>\n",
              "      <td>961</td>\n",
              "    </tr>\n",
              "    <tr>\n",
              "      <th>12</th>\n",
              "      <td>2020-03-16</td>\n",
              "      <td>1035</td>\n",
              "      <td>493</td>\n",
              "      <td>205</td>\n",
              "      <td>337</td>\n",
              "      <td>1035</td>\n",
              "    </tr>\n",
              "    <tr>\n",
              "      <th>13</th>\n",
              "      <td>2020-03-17</td>\n",
              "      <td>1431</td>\n",
              "      <td>673</td>\n",
              "      <td>257</td>\n",
              "      <td>501</td>\n",
              "      <td>1431</td>\n",
              "    </tr>\n",
              "    <tr>\n",
              "      <th>14</th>\n",
              "      <td>2020-03-18</td>\n",
              "      <td>961</td>\n",
              "      <td>434</td>\n",
              "      <td>207</td>\n",
              "      <td>320</td>\n",
              "      <td>961</td>\n",
              "    </tr>\n",
              "    <tr>\n",
              "      <th>15</th>\n",
              "      <td>2020-03-19</td>\n",
              "      <td>1302</td>\n",
              "      <td>617</td>\n",
              "      <td>278</td>\n",
              "      <td>407</td>\n",
              "      <td>1302</td>\n",
              "    </tr>\n",
              "    <tr>\n",
              "      <th>16</th>\n",
              "      <td>2020-03-20</td>\n",
              "      <td>1238</td>\n",
              "      <td>582</td>\n",
              "      <td>246</td>\n",
              "      <td>410</td>\n",
              "      <td>1238</td>\n",
              "    </tr>\n",
              "    <tr>\n",
              "      <th>17</th>\n",
              "      <td>2020-03-21</td>\n",
              "      <td>1247</td>\n",
              "      <td>568</td>\n",
              "      <td>238</td>\n",
              "      <td>441</td>\n",
              "      <td>1247</td>\n",
              "    </tr>\n",
              "    <tr>\n",
              "      <th>18</th>\n",
              "      <td>2020-03-22</td>\n",
              "      <td>1073</td>\n",
              "      <td>515</td>\n",
              "      <td>195</td>\n",
              "      <td>363</td>\n",
              "      <td>1073</td>\n",
              "    </tr>\n",
              "    <tr>\n",
              "      <th>19</th>\n",
              "      <td>2020-03-23</td>\n",
              "      <td>911</td>\n",
              "      <td>453</td>\n",
              "      <td>194</td>\n",
              "      <td>264</td>\n",
              "      <td>911</td>\n",
              "    </tr>\n",
              "    <tr>\n",
              "      <th>20</th>\n",
              "      <td>2020-03-24</td>\n",
              "      <td>869</td>\n",
              "      <td>459</td>\n",
              "      <td>154</td>\n",
              "      <td>256</td>\n",
              "      <td>869</td>\n",
              "    </tr>\n",
              "    <tr>\n",
              "      <th>21</th>\n",
              "      <td>2020-03-25</td>\n",
              "      <td>915</td>\n",
              "      <td>473</td>\n",
              "      <td>159</td>\n",
              "      <td>283</td>\n",
              "      <td>915</td>\n",
              "    </tr>\n",
              "    <tr>\n",
              "      <th>22</th>\n",
              "      <td>2020-03-26</td>\n",
              "      <td>1199</td>\n",
              "      <td>573</td>\n",
              "      <td>227</td>\n",
              "      <td>399</td>\n",
              "      <td>1199</td>\n",
              "    </tr>\n",
              "    <tr>\n",
              "      <th>23</th>\n",
              "      <td>2020-03-27</td>\n",
              "      <td>947</td>\n",
              "      <td>489</td>\n",
              "      <td>170</td>\n",
              "      <td>288</td>\n",
              "      <td>947</td>\n",
              "    </tr>\n",
              "    <tr>\n",
              "      <th>24</th>\n",
              "      <td>2020-03-28</td>\n",
              "      <td>980</td>\n",
              "      <td>457</td>\n",
              "      <td>167</td>\n",
              "      <td>356</td>\n",
              "      <td>980</td>\n",
              "    </tr>\n",
              "  </tbody>\n",
              "</table>\n",
              "</div>"
            ],
            "text/plain": [
              "          date  all tweets  ...  neutral tweets  Total\n",
              "0   2020-03-04          17  ...               8     17\n",
              "1   2020-03-05          30  ...              17     30\n",
              "2   2020-03-06          15  ...               4     15\n",
              "3   2020-03-07           9  ...               5      9\n",
              "4   2020-03-08          13  ...               4     13\n",
              "5   2020-03-09          71  ...              32     71\n",
              "6   2020-03-10         287  ...              93    287\n",
              "7   2020-03-11         438  ...             157    438\n",
              "8   2020-03-12         975  ...             375    975\n",
              "9   2020-03-13        1712  ...             535   1712\n",
              "10  2020-03-14         842  ...             250    842\n",
              "11  2020-03-15         961  ...             315    961\n",
              "12  2020-03-16        1035  ...             337   1035\n",
              "13  2020-03-17        1431  ...             501   1431\n",
              "14  2020-03-18         961  ...             320    961\n",
              "15  2020-03-19        1302  ...             407   1302\n",
              "16  2020-03-20        1238  ...             410   1238\n",
              "17  2020-03-21        1247  ...             441   1247\n",
              "18  2020-03-22        1073  ...             363   1073\n",
              "19  2020-03-23         911  ...             264    911\n",
              "20  2020-03-24         869  ...             256    869\n",
              "21  2020-03-25         915  ...             283    915\n",
              "22  2020-03-26        1199  ...             399   1199\n",
              "23  2020-03-27         947  ...             288    947\n",
              "24  2020-03-28         980  ...             356    980\n",
              "\n",
              "[25 rows x 6 columns]"
            ]
          },
          "metadata": {
            "tags": []
          },
          "execution_count": 62
        }
      ]
    },
    {
      "cell_type": "code",
      "metadata": {
        "id": "bYTwKwIofjej",
        "colab_type": "code",
        "colab": {
          "base_uri": "https://localhost:8080/",
          "height": 1000
        },
        "outputId": "a5add57b-df11-4544-a8a9-7236b8eedeef"
      },
      "source": [
        "merged_df = pd.merge(df, twitter_df, on='date', how='left')\n",
        "merged_df"
      ],
      "execution_count": 67,
      "outputs": [
        {
          "output_type": "execute_result",
          "data": {
            "text/html": [
              "<div>\n",
              "<style scoped>\n",
              "    .dataframe tbody tr th:only-of-type {\n",
              "        vertical-align: middle;\n",
              "    }\n",
              "\n",
              "    .dataframe tbody tr th {\n",
              "        vertical-align: top;\n",
              "    }\n",
              "\n",
              "    .dataframe thead th {\n",
              "        text-align: right;\n",
              "    }\n",
              "</style>\n",
              "<table border=\"1\" class=\"dataframe\">\n",
              "  <thead>\n",
              "    <tr style=\"text-align: right;\">\n",
              "      <th></th>\n",
              "      <th>date</th>\n",
              "      <th>Num of Cases in NY</th>\n",
              "      <th>all tweets</th>\n",
              "      <th>positive tweets</th>\n",
              "      <th>negative tweets</th>\n",
              "      <th>neutral tweets</th>\n",
              "      <th>Total</th>\n",
              "    </tr>\n",
              "  </thead>\n",
              "  <tbody>\n",
              "    <tr>\n",
              "      <th>0</th>\n",
              "      <td>2020-03-04</td>\n",
              "      <td>1</td>\n",
              "      <td>17</td>\n",
              "      <td>7</td>\n",
              "      <td>2</td>\n",
              "      <td>8</td>\n",
              "      <td>17</td>\n",
              "    </tr>\n",
              "    <tr>\n",
              "      <th>1</th>\n",
              "      <td>2020-03-05</td>\n",
              "      <td>4</td>\n",
              "      <td>30</td>\n",
              "      <td>5</td>\n",
              "      <td>8</td>\n",
              "      <td>17</td>\n",
              "      <td>30</td>\n",
              "    </tr>\n",
              "    <tr>\n",
              "      <th>2</th>\n",
              "      <td>2020-03-06</td>\n",
              "      <td>11</td>\n",
              "      <td>15</td>\n",
              "      <td>9</td>\n",
              "      <td>2</td>\n",
              "      <td>4</td>\n",
              "      <td>15</td>\n",
              "    </tr>\n",
              "    <tr>\n",
              "      <th>3</th>\n",
              "      <td>2020-03-07</td>\n",
              "      <td>11</td>\n",
              "      <td>9</td>\n",
              "      <td>3</td>\n",
              "      <td>1</td>\n",
              "      <td>5</td>\n",
              "      <td>9</td>\n",
              "    </tr>\n",
              "    <tr>\n",
              "      <th>4</th>\n",
              "      <td>2020-03-08</td>\n",
              "      <td>12</td>\n",
              "      <td>13</td>\n",
              "      <td>4</td>\n",
              "      <td>5</td>\n",
              "      <td>4</td>\n",
              "      <td>13</td>\n",
              "    </tr>\n",
              "    <tr>\n",
              "      <th>5</th>\n",
              "      <td>2020-03-09</td>\n",
              "      <td>19</td>\n",
              "      <td>71</td>\n",
              "      <td>22</td>\n",
              "      <td>17</td>\n",
              "      <td>32</td>\n",
              "      <td>71</td>\n",
              "    </tr>\n",
              "    <tr>\n",
              "      <th>6</th>\n",
              "      <td>2020-03-10</td>\n",
              "      <td>25</td>\n",
              "      <td>287</td>\n",
              "      <td>127</td>\n",
              "      <td>67</td>\n",
              "      <td>93</td>\n",
              "      <td>287</td>\n",
              "    </tr>\n",
              "    <tr>\n",
              "      <th>7</th>\n",
              "      <td>2020-03-11</td>\n",
              "      <td>55</td>\n",
              "      <td>438</td>\n",
              "      <td>175</td>\n",
              "      <td>106</td>\n",
              "      <td>157</td>\n",
              "      <td>438</td>\n",
              "    </tr>\n",
              "    <tr>\n",
              "      <th>8</th>\n",
              "      <td>2020-03-12</td>\n",
              "      <td>95</td>\n",
              "      <td>975</td>\n",
              "      <td>393</td>\n",
              "      <td>207</td>\n",
              "      <td>375</td>\n",
              "      <td>975</td>\n",
              "    </tr>\n",
              "    <tr>\n",
              "      <th>9</th>\n",
              "      <td>2020-03-13</td>\n",
              "      <td>154</td>\n",
              "      <td>1712</td>\n",
              "      <td>794</td>\n",
              "      <td>383</td>\n",
              "      <td>535</td>\n",
              "      <td>1712</td>\n",
              "    </tr>\n",
              "    <tr>\n",
              "      <th>10</th>\n",
              "      <td>2020-03-14</td>\n",
              "      <td>269</td>\n",
              "      <td>842</td>\n",
              "      <td>397</td>\n",
              "      <td>195</td>\n",
              "      <td>250</td>\n",
              "      <td>842</td>\n",
              "    </tr>\n",
              "    <tr>\n",
              "      <th>11</th>\n",
              "      <td>2020-03-15</td>\n",
              "      <td>269</td>\n",
              "      <td>961</td>\n",
              "      <td>442</td>\n",
              "      <td>204</td>\n",
              "      <td>315</td>\n",
              "      <td>961</td>\n",
              "    </tr>\n",
              "    <tr>\n",
              "      <th>12</th>\n",
              "      <td>2020-03-16</td>\n",
              "      <td>463</td>\n",
              "      <td>1035</td>\n",
              "      <td>493</td>\n",
              "      <td>205</td>\n",
              "      <td>337</td>\n",
              "      <td>1035</td>\n",
              "    </tr>\n",
              "    <tr>\n",
              "      <th>13</th>\n",
              "      <td>2020-03-17</td>\n",
              "      <td>814</td>\n",
              "      <td>1431</td>\n",
              "      <td>673</td>\n",
              "      <td>257</td>\n",
              "      <td>501</td>\n",
              "      <td>1431</td>\n",
              "    </tr>\n",
              "    <tr>\n",
              "      <th>14</th>\n",
              "      <td>2020-03-18</td>\n",
              "      <td>1871</td>\n",
              "      <td>961</td>\n",
              "      <td>434</td>\n",
              "      <td>207</td>\n",
              "      <td>320</td>\n",
              "      <td>961</td>\n",
              "    </tr>\n",
              "    <tr>\n",
              "      <th>15</th>\n",
              "      <td>2020-03-19</td>\n",
              "      <td>3954</td>\n",
              "      <td>1302</td>\n",
              "      <td>617</td>\n",
              "      <td>278</td>\n",
              "      <td>407</td>\n",
              "      <td>1302</td>\n",
              "    </tr>\n",
              "    <tr>\n",
              "      <th>16</th>\n",
              "      <td>2020-03-20</td>\n",
              "      <td>5151</td>\n",
              "      <td>1238</td>\n",
              "      <td>582</td>\n",
              "      <td>246</td>\n",
              "      <td>410</td>\n",
              "      <td>1238</td>\n",
              "    </tr>\n",
              "    <tr>\n",
              "      <th>17</th>\n",
              "      <td>2020-03-21</td>\n",
              "      <td>7530</td>\n",
              "      <td>1247</td>\n",
              "      <td>568</td>\n",
              "      <td>238</td>\n",
              "      <td>441</td>\n",
              "      <td>1247</td>\n",
              "    </tr>\n",
              "    <tr>\n",
              "      <th>18</th>\n",
              "      <td>2020-03-22</td>\n",
              "      <td>9654</td>\n",
              "      <td>1073</td>\n",
              "      <td>515</td>\n",
              "      <td>195</td>\n",
              "      <td>363</td>\n",
              "      <td>1073</td>\n",
              "    </tr>\n",
              "    <tr>\n",
              "      <th>19</th>\n",
              "      <td>2020-03-23</td>\n",
              "      <td>12305</td>\n",
              "      <td>911</td>\n",
              "      <td>453</td>\n",
              "      <td>194</td>\n",
              "      <td>264</td>\n",
              "      <td>911</td>\n",
              "    </tr>\n",
              "    <tr>\n",
              "      <th>20</th>\n",
              "      <td>2020-03-24</td>\n",
              "      <td>14904</td>\n",
              "      <td>869</td>\n",
              "      <td>459</td>\n",
              "      <td>154</td>\n",
              "      <td>256</td>\n",
              "      <td>869</td>\n",
              "    </tr>\n",
              "    <tr>\n",
              "      <th>21</th>\n",
              "      <td>2020-03-25</td>\n",
              "      <td>17856</td>\n",
              "      <td>915</td>\n",
              "      <td>473</td>\n",
              "      <td>159</td>\n",
              "      <td>283</td>\n",
              "      <td>915</td>\n",
              "    </tr>\n",
              "    <tr>\n",
              "      <th>22</th>\n",
              "      <td>2020-03-26</td>\n",
              "      <td>21873</td>\n",
              "      <td>1199</td>\n",
              "      <td>573</td>\n",
              "      <td>227</td>\n",
              "      <td>399</td>\n",
              "      <td>1199</td>\n",
              "    </tr>\n",
              "    <tr>\n",
              "      <th>23</th>\n",
              "      <td>2020-03-27</td>\n",
              "      <td>25573</td>\n",
              "      <td>947</td>\n",
              "      <td>489</td>\n",
              "      <td>170</td>\n",
              "      <td>288</td>\n",
              "      <td>947</td>\n",
              "    </tr>\n",
              "    <tr>\n",
              "      <th>24</th>\n",
              "      <td>2020-03-28</td>\n",
              "      <td>29776</td>\n",
              "      <td>980</td>\n",
              "      <td>457</td>\n",
              "      <td>167</td>\n",
              "      <td>356</td>\n",
              "      <td>980</td>\n",
              "    </tr>\n",
              "  </tbody>\n",
              "</table>\n",
              "</div>"
            ],
            "text/plain": [
              "          date  Num of Cases in NY  ...  neutral tweets  Total\n",
              "0   2020-03-04                   1  ...               8     17\n",
              "1   2020-03-05                   4  ...              17     30\n",
              "2   2020-03-06                  11  ...               4     15\n",
              "3   2020-03-07                  11  ...               5      9\n",
              "4   2020-03-08                  12  ...               4     13\n",
              "5   2020-03-09                  19  ...              32     71\n",
              "6   2020-03-10                  25  ...              93    287\n",
              "7   2020-03-11                  55  ...             157    438\n",
              "8   2020-03-12                  95  ...             375    975\n",
              "9   2020-03-13                 154  ...             535   1712\n",
              "10  2020-03-14                 269  ...             250    842\n",
              "11  2020-03-15                 269  ...             315    961\n",
              "12  2020-03-16                 463  ...             337   1035\n",
              "13  2020-03-17                 814  ...             501   1431\n",
              "14  2020-03-18                1871  ...             320    961\n",
              "15  2020-03-19                3954  ...             407   1302\n",
              "16  2020-03-20                5151  ...             410   1238\n",
              "17  2020-03-21                7530  ...             441   1247\n",
              "18  2020-03-22                9654  ...             363   1073\n",
              "19  2020-03-23               12305  ...             264    911\n",
              "20  2020-03-24               14904  ...             256    869\n",
              "21  2020-03-25               17856  ...             283    915\n",
              "22  2020-03-26               21873  ...             399   1199\n",
              "23  2020-03-27               25573  ...             288    947\n",
              "24  2020-03-28               29776  ...             356    980\n",
              "\n",
              "[25 rows x 7 columns]"
            ]
          },
          "metadata": {
            "tags": []
          },
          "execution_count": 67
        }
      ]
    },
    {
      "cell_type": "code",
      "metadata": {
        "id": "FLIlNr_qiDp6",
        "colab_type": "code",
        "colab": {}
      },
      "source": [
        "merged_df = merged_df[['Num of Cases in NY','positive tweets',\n",
        "       'negative tweets', 'neutral tweets', 'Total']]"
      ],
      "execution_count": 0,
      "outputs": []
    },
    {
      "cell_type": "code",
      "metadata": {
        "id": "ZBzm3DBfg5WG",
        "colab_type": "code",
        "colab": {}
      },
      "source": [
        "merged_df = merged_df.set_index('date')"
      ],
      "execution_count": 0,
      "outputs": []
    },
    {
      "cell_type": "code",
      "metadata": {
        "id": "KeXqqhzgg8l1",
        "colab_type": "code",
        "colab": {
          "base_uri": "https://localhost:8080/",
          "height": 312
        },
        "outputId": "6b31e727-5605-4f62-bbd2-2fca9290365e"
      },
      "source": [
        "merged_df['Num of Cases in NY'].plot(logy=True, title=\"Log growth of number of cases in NYC\")"
      ],
      "execution_count": 82,
      "outputs": [
        {
          "output_type": "execute_result",
          "data": {
            "text/plain": [
              "<matplotlib.axes._subplots.AxesSubplot at 0x7f0bc4c8cda0>"
            ]
          },
          "metadata": {
            "tags": []
          },
          "execution_count": 82
        },
        {
          "output_type": "display_data",
          "data": {
            "image/png": "[encoded data removed]",
            "text/plain": [
              "<Figure size 432x288 with 1 Axes>"
            ]
          },
          "metadata": {
            "tags": [],
            "needs_background": "light"
          }
        }
      ]
    },
    {
      "cell_type": "code",
      "metadata": {
        "id": "4qvOgZKTgqjz",
        "colab_type": "code",
        "colab": {
          "base_uri": "https://localhost:8080/",
          "height": 69
        },
        "outputId": "1588b042-c846-4218-d81d-4eb21486d460"
      },
      "source": [
        "merged_df.columns"
      ],
      "execution_count": 76,
      "outputs": [
        {
          "output_type": "execute_result",
          "data": {
            "text/plain": [
              "Index(['Num of Cases in NY', 'all tweets', 'positive tweets',\n",
              "       'negative tweets', 'neutral tweets', 'Total'],\n",
              "      dtype='object')"
            ]
          },
          "metadata": {
            "tags": []
          },
          "execution_count": 76
        }
      ]
    },
    {
      "cell_type": "code",
      "metadata": {
        "id": "B-xdcnjrf8Nr",
        "colab_type": "code",
        "colab": {
          "base_uri": "https://localhost:8080/",
          "height": 312
        },
        "outputId": "b72c4a36-a521-4ccb-bb6d-8e19b03e8c12"
      },
      "source": [
        "merged_df[['Total']].plot(title= 'Total number of tweets regarding covid in NYC area')"
      ],
      "execution_count": 83,
      "outputs": [
        {
          "output_type": "execute_result",
          "data": {
            "text/plain": [
              "<matplotlib.axes._subplots.AxesSubplot at 0x7f0bc4b45a58>"
            ]
          },
          "metadata": {
            "tags": []
          },
          "execution_count": 83
        },
        {
          "output_type": "display_data",
          "data": {
            "image/png": "[encoded data removed]",
            "text/plain": [
              "<Figure size 432x288 with 1 Axes>"
            ]
          },
          "metadata": {
            "tags": [],
            "needs_background": "light"
          }
        }
      ]
    },
    {
      "cell_type": "code",
      "metadata": {
        "id": "7y4Ta39fgY51",
        "colab_type": "code",
        "colab": {
          "base_uri": "https://localhost:8080/",
          "height": 312
        },
        "outputId": "c3d3c9fe-b8a5-4b2e-f20d-5ccd11346cae"
      },
      "source": [
        "merged_df[['positive tweets',\n",
        "       'negative tweets', 'neutral tweets']].plot(title= 'Breakdown of tweet sentiement over time regarding Covid 19 in NYC')"
      ],
      "execution_count": 84,
      "outputs": [
        {
          "output_type": "execute_result",
          "data": {
            "text/plain": [
              "<matplotlib.axes._subplots.AxesSubplot at 0x7f0bc4b46e48>"
            ]
          },
          "metadata": {
            "tags": []
          },
          "execution_count": 84
        },
        {
          "output_type": "display_data",
          "data": {
            "image/png": "[encoded data removed]",
            "text/plain": [
              "<Figure size 432x288 with 1 Axes>"
            ]
          },
          "metadata": {
            "tags": [],
            "needs_background": "light"
          }
        }
      ]
    },
    {
      "cell_type": "code",
      "metadata": {
        "id": "Fz1R9DRoiMtE",
        "colab_type": "code",
        "colab": {
          "base_uri": "https://localhost:8080/",
          "height": 156
        },
        "outputId": "c8151200-7045-4714-c339-b7911ad58ac0"
      },
      "source": [
        "# generate random integer values\n",
        "from random import seed\n",
        "from random import randint\n",
        "# seed random number generator\n",
        "seed(1)\n",
        "test_indices = []\n",
        "# generate some integers\n",
        "for _ in range(8):\n",
        "  value = randint(0, 24)\n",
        "  test_indices.append(value)\n",
        "  print(value)"
      ],
      "execution_count": 95,
      "outputs": [
        {
          "output_type": "stream",
          "text": [
            "4\n",
            "18\n",
            "24\n",
            "2\n",
            "8\n",
            "3\n",
            "15\n",
            "24\n"
          ],
          "name": "stdout"
        }
      ]
    },
    {
      "cell_type": "code",
      "metadata": {
        "id": "eIqyPKVCmjXT",
        "colab_type": "code",
        "colab": {}
      },
      "source": [
        "merged_df['log_cases'] = np.log(merged_df['Num of Cases in NY'])"
      ],
      "execution_count": 0,
      "outputs": []
    },
    {
      "cell_type": "code",
      "metadata": {
        "id": "7ytI0ncHj1fY",
        "colab_type": "code",
        "colab": {
          "base_uri": "https://localhost:8080/",
          "height": 34
        },
        "outputId": "4100f3aa-44f5-4bfd-ff3e-07310f327835"
      },
      "source": [
        "test_indices"
      ],
      "execution_count": 131,
      "outputs": [
        {
          "output_type": "execute_result",
          "data": {
            "text/plain": [
              "[4, 18, 24, 2, 8, 3, 15, 24]"
            ]
          },
          "metadata": {
            "tags": []
          },
          "execution_count": 131
        }
      ]
    },
    {
      "cell_type": "code",
      "metadata": {
        "id": "CXz6mYl8kpVf",
        "colab_type": "code",
        "colab": {}
      },
      "source": [
        "import numpy as np\n",
        "all_indices = list(np.arange(0,24))"
      ],
      "execution_count": 0,
      "outputs": []
    },
    {
      "cell_type": "code",
      "metadata": {
        "id": "18YoxcRmkn6i",
        "colab_type": "code",
        "colab": {}
      },
      "source": [
        "train_indices = list(set(all_indices) - set(test_indices))"
      ],
      "execution_count": 0,
      "outputs": []
    },
    {
      "cell_type": "code",
      "metadata": {
        "id": "jT866T0Pk3wl",
        "colab_type": "code",
        "colab": {}
      },
      "source": [
        "train = merged_df.iloc[train_indices]"
      ],
      "execution_count": 0,
      "outputs": []
    },
    {
      "cell_type": "code",
      "metadata": {
        "id": "uBfkFjgYlBkD",
        "colab_type": "code",
        "colab": {}
      },
      "source": [
        "test = merged_df.iloc[test_indices]"
      ],
      "execution_count": 0,
      "outputs": []
    },
    {
      "cell_type": "code",
      "metadata": {
        "id": "L5MQ14SGlIBS",
        "colab_type": "code",
        "colab": {}
      },
      "source": [
        "X_train = train[['positive tweets', 'negative tweets',\n",
        "       'neutral tweets', 'Total']]"
      ],
      "execution_count": 0,
      "outputs": []
    },
    {
      "cell_type": "code",
      "metadata": {
        "id": "OdUK9vtanUHQ",
        "colab_type": "code",
        "colab": {}
      },
      "source": [
        "X_train =  X_train.sort_index()"
      ],
      "execution_count": 0,
      "outputs": []
    },
    {
      "cell_type": "code",
      "metadata": {
        "id": "Iq5MDcjEla69",
        "colab_type": "code",
        "colab": {}
      },
      "source": [
        "X_test = test[['positive tweets', 'negative tweets',\n",
        "       'neutral tweets', 'Total']]"
      ],
      "execution_count": 0,
      "outputs": []
    },
    {
      "cell_type": "code",
      "metadata": {
        "id": "Vvsa6fBRnYrK",
        "colab_type": "code",
        "colab": {}
      },
      "source": [
        "X_test =  X_test.sort_index()"
      ],
      "execution_count": 0,
      "outputs": []
    },
    {
      "cell_type": "code",
      "metadata": {
        "id": "vu5AMJ9Rld-f",
        "colab_type": "code",
        "colab": {
          "base_uri": "https://localhost:8080/",
          "height": 325
        },
        "outputId": "f05f40da-5c3d-43cc-d63d-714517761643"
      },
      "source": [
        "X_test"
      ],
      "execution_count": 158,
      "outputs": [
        {
          "output_type": "execute_result",
          "data": {
            "text/html": [
              "<div>\n",
              "<style scoped>\n",
              "    .dataframe tbody tr th:only-of-type {\n",
              "        vertical-align: middle;\n",
              "    }\n",
              "\n",
              "    .dataframe tbody tr th {\n",
              "        vertical-align: top;\n",
              "    }\n",
              "\n",
              "    .dataframe thead th {\n",
              "        text-align: right;\n",
              "    }\n",
              "</style>\n",
              "<table border=\"1\" class=\"dataframe\">\n",
              "  <thead>\n",
              "    <tr style=\"text-align: right;\">\n",
              "      <th></th>\n",
              "      <th>positive tweets</th>\n",
              "      <th>negative tweets</th>\n",
              "      <th>neutral tweets</th>\n",
              "      <th>Total</th>\n",
              "    </tr>\n",
              "    <tr>\n",
              "      <th>date</th>\n",
              "      <th></th>\n",
              "      <th></th>\n",
              "      <th></th>\n",
              "      <th></th>\n",
              "    </tr>\n",
              "  </thead>\n",
              "  <tbody>\n",
              "    <tr>\n",
              "      <th>2020-03-06</th>\n",
              "      <td>9</td>\n",
              "      <td>2</td>\n",
              "      <td>4</td>\n",
              "      <td>15</td>\n",
              "    </tr>\n",
              "    <tr>\n",
              "      <th>2020-03-07</th>\n",
              "      <td>3</td>\n",
              "      <td>1</td>\n",
              "      <td>5</td>\n",
              "      <td>9</td>\n",
              "    </tr>\n",
              "    <tr>\n",
              "      <th>2020-03-08</th>\n",
              "      <td>4</td>\n",
              "      <td>5</td>\n",
              "      <td>4</td>\n",
              "      <td>13</td>\n",
              "    </tr>\n",
              "    <tr>\n",
              "      <th>2020-03-12</th>\n",
              "      <td>393</td>\n",
              "      <td>207</td>\n",
              "      <td>375</td>\n",
              "      <td>975</td>\n",
              "    </tr>\n",
              "    <tr>\n",
              "      <th>2020-03-19</th>\n",
              "      <td>617</td>\n",
              "      <td>278</td>\n",
              "      <td>407</td>\n",
              "      <td>1302</td>\n",
              "    </tr>\n",
              "    <tr>\n",
              "      <th>2020-03-22</th>\n",
              "      <td>515</td>\n",
              "      <td>195</td>\n",
              "      <td>363</td>\n",
              "      <td>1073</td>\n",
              "    </tr>\n",
              "    <tr>\n",
              "      <th>2020-03-28</th>\n",
              "      <td>457</td>\n",
              "      <td>167</td>\n",
              "      <td>356</td>\n",
              "      <td>980</td>\n",
              "    </tr>\n",
              "    <tr>\n",
              "      <th>2020-03-28</th>\n",
              "      <td>457</td>\n",
              "      <td>167</td>\n",
              "      <td>356</td>\n",
              "      <td>980</td>\n",
              "    </tr>\n",
              "  </tbody>\n",
              "</table>\n",
              "</div>"
            ],
            "text/plain": [
              "            positive tweets  negative tweets  neutral tweets  Total\n",
              "date                                                               \n",
              "2020-03-06                9                2               4     15\n",
              "2020-03-07                3                1               5      9\n",
              "2020-03-08                4                5               4     13\n",
              "2020-03-12              393              207             375    975\n",
              "2020-03-19              617              278             407   1302\n",
              "2020-03-22              515              195             363   1073\n",
              "2020-03-28              457              167             356    980\n",
              "2020-03-28              457              167             356    980"
            ]
          },
          "metadata": {
            "tags": []
          },
          "execution_count": 158
        }
      ]
    },
    {
      "cell_type": "code",
      "metadata": {
        "id": "2Edgohf7lIdi",
        "colab_type": "code",
        "colab": {
          "base_uri": "https://localhost:8080/",
          "height": 632
        },
        "outputId": "2213895e-57cc-4734-b34c-ec188bcfbe43"
      },
      "source": [
        "X_train"
      ],
      "execution_count": 159,
      "outputs": [
        {
          "output_type": "execute_result",
          "data": {
            "text/html": [
              "<div>\n",
              "<style scoped>\n",
              "    .dataframe tbody tr th:only-of-type {\n",
              "        vertical-align: middle;\n",
              "    }\n",
              "\n",
              "    .dataframe tbody tr th {\n",
              "        vertical-align: top;\n",
              "    }\n",
              "\n",
              "    .dataframe thead th {\n",
              "        text-align: right;\n",
              "    }\n",
              "</style>\n",
              "<table border=\"1\" class=\"dataframe\">\n",
              "  <thead>\n",
              "    <tr style=\"text-align: right;\">\n",
              "      <th></th>\n",
              "      <th>positive tweets</th>\n",
              "      <th>negative tweets</th>\n",
              "      <th>neutral tweets</th>\n",
              "      <th>Total</th>\n",
              "    </tr>\n",
              "    <tr>\n",
              "      <th>date</th>\n",
              "      <th></th>\n",
              "      <th></th>\n",
              "      <th></th>\n",
              "      <th></th>\n",
              "    </tr>\n",
              "  </thead>\n",
              "  <tbody>\n",
              "    <tr>\n",
              "      <th>2020-03-04</th>\n",
              "      <td>7</td>\n",
              "      <td>2</td>\n",
              "      <td>8</td>\n",
              "      <td>17</td>\n",
              "    </tr>\n",
              "    <tr>\n",
              "      <th>2020-03-05</th>\n",
              "      <td>5</td>\n",
              "      <td>8</td>\n",
              "      <td>17</td>\n",
              "      <td>30</td>\n",
              "    </tr>\n",
              "    <tr>\n",
              "      <th>2020-03-09</th>\n",
              "      <td>22</td>\n",
              "      <td>17</td>\n",
              "      <td>32</td>\n",
              "      <td>71</td>\n",
              "    </tr>\n",
              "    <tr>\n",
              "      <th>2020-03-10</th>\n",
              "      <td>127</td>\n",
              "      <td>67</td>\n",
              "      <td>93</td>\n",
              "      <td>287</td>\n",
              "    </tr>\n",
              "    <tr>\n",
              "      <th>2020-03-11</th>\n",
              "      <td>175</td>\n",
              "      <td>106</td>\n",
              "      <td>157</td>\n",
              "      <td>438</td>\n",
              "    </tr>\n",
              "    <tr>\n",
              "      <th>2020-03-13</th>\n",
              "      <td>794</td>\n",
              "      <td>383</td>\n",
              "      <td>535</td>\n",
              "      <td>1712</td>\n",
              "    </tr>\n",
              "    <tr>\n",
              "      <th>2020-03-14</th>\n",
              "      <td>397</td>\n",
              "      <td>195</td>\n",
              "      <td>250</td>\n",
              "      <td>842</td>\n",
              "    </tr>\n",
              "    <tr>\n",
              "      <th>2020-03-15</th>\n",
              "      <td>442</td>\n",
              "      <td>204</td>\n",
              "      <td>315</td>\n",
              "      <td>961</td>\n",
              "    </tr>\n",
              "    <tr>\n",
              "      <th>2020-03-16</th>\n",
              "      <td>493</td>\n",
              "      <td>205</td>\n",
              "      <td>337</td>\n",
              "      <td>1035</td>\n",
              "    </tr>\n",
              "    <tr>\n",
              "      <th>2020-03-17</th>\n",
              "      <td>673</td>\n",
              "      <td>257</td>\n",
              "      <td>501</td>\n",
              "      <td>1431</td>\n",
              "    </tr>\n",
              "    <tr>\n",
              "      <th>2020-03-18</th>\n",
              "      <td>434</td>\n",
              "      <td>207</td>\n",
              "      <td>320</td>\n",
              "      <td>961</td>\n",
              "    </tr>\n",
              "    <tr>\n",
              "      <th>2020-03-20</th>\n",
              "      <td>582</td>\n",
              "      <td>246</td>\n",
              "      <td>410</td>\n",
              "      <td>1238</td>\n",
              "    </tr>\n",
              "    <tr>\n",
              "      <th>2020-03-21</th>\n",
              "      <td>568</td>\n",
              "      <td>238</td>\n",
              "      <td>441</td>\n",
              "      <td>1247</td>\n",
              "    </tr>\n",
              "    <tr>\n",
              "      <th>2020-03-23</th>\n",
              "      <td>453</td>\n",
              "      <td>194</td>\n",
              "      <td>264</td>\n",
              "      <td>911</td>\n",
              "    </tr>\n",
              "    <tr>\n",
              "      <th>2020-03-24</th>\n",
              "      <td>459</td>\n",
              "      <td>154</td>\n",
              "      <td>256</td>\n",
              "      <td>869</td>\n",
              "    </tr>\n",
              "    <tr>\n",
              "      <th>2020-03-25</th>\n",
              "      <td>473</td>\n",
              "      <td>159</td>\n",
              "      <td>283</td>\n",
              "      <td>915</td>\n",
              "    </tr>\n",
              "    <tr>\n",
              "      <th>2020-03-26</th>\n",
              "      <td>573</td>\n",
              "      <td>227</td>\n",
              "      <td>399</td>\n",
              "      <td>1199</td>\n",
              "    </tr>\n",
              "    <tr>\n",
              "      <th>2020-03-27</th>\n",
              "      <td>489</td>\n",
              "      <td>170</td>\n",
              "      <td>288</td>\n",
              "      <td>947</td>\n",
              "    </tr>\n",
              "  </tbody>\n",
              "</table>\n",
              "</div>"
            ],
            "text/plain": [
              "            positive tweets  negative tweets  neutral tweets  Total\n",
              "date                                                               \n",
              "2020-03-04                7                2               8     17\n",
              "2020-03-05                5                8              17     30\n",
              "2020-03-09               22               17              32     71\n",
              "2020-03-10              127               67              93    287\n",
              "2020-03-11              175              106             157    438\n",
              "2020-03-13              794              383             535   1712\n",
              "2020-03-14              397              195             250    842\n",
              "2020-03-15              442              204             315    961\n",
              "2020-03-16              493              205             337   1035\n",
              "2020-03-17              673              257             501   1431\n",
              "2020-03-18              434              207             320    961\n",
              "2020-03-20              582              246             410   1238\n",
              "2020-03-21              568              238             441   1247\n",
              "2020-03-23              453              194             264    911\n",
              "2020-03-24              459              154             256    869\n",
              "2020-03-25              473              159             283    915\n",
              "2020-03-26              573              227             399   1199\n",
              "2020-03-27              489              170             288    947"
            ]
          },
          "metadata": {
            "tags": []
          },
          "execution_count": 159
        }
      ]
    },
    {
      "cell_type": "code",
      "metadata": {
        "id": "y7Gs9J9wlWpQ",
        "colab_type": "code",
        "colab": {
          "base_uri": "https://localhost:8080/",
          "height": 69
        },
        "outputId": "52a54f1e-14aa-4d58-98be-aeb34b822c1a"
      },
      "source": [
        "merged_df.columns"
      ],
      "execution_count": 160,
      "outputs": [
        {
          "output_type": "execute_result",
          "data": {
            "text/plain": [
              "Index(['Num of Cases in NY', 'positive tweets', 'negative tweets',\n",
              "       'neutral tweets', 'Total', 'log_cases'],\n",
              "      dtype='object')"
            ]
          },
          "metadata": {
            "tags": []
          },
          "execution_count": 160
        }
      ]
    },
    {
      "cell_type": "code",
      "metadata": {
        "id": "tDb51qTYlmxe",
        "colab_type": "code",
        "colab": {}
      },
      "source": [
        "Y_train = train[['log_cases']]"
      ],
      "execution_count": 0,
      "outputs": []
    },
    {
      "cell_type": "code",
      "metadata": {
        "id": "ML6ImkuDmxZJ",
        "colab_type": "code",
        "colab": {}
      },
      "source": [
        "Y_train =  Y_train.sort_index()"
      ],
      "execution_count": 0,
      "outputs": []
    },
    {
      "cell_type": "code",
      "metadata": {
        "id": "QDVEpIH9lrSe",
        "colab_type": "code",
        "colab": {}
      },
      "source": [
        "Y_test =  test[['log_cases']]"
      ],
      "execution_count": 0,
      "outputs": []
    },
    {
      "cell_type": "code",
      "metadata": {
        "id": "W9Qaxw0snhyE",
        "colab_type": "code",
        "colab": {}
      },
      "source": [
        "Y_test =  Y_test.sort_index()"
      ],
      "execution_count": 0,
      "outputs": []
    },
    {
      "cell_type": "code",
      "metadata": {
        "id": "OyccqrVDltix",
        "colab_type": "code",
        "colab": {}
      },
      "source": [
        "import matplotlib.pyplot as plt\n",
        "import numpy as np\n",
        "from sklearn import datasets, linear_model\n",
        "from sklearn.metrics import mean_squared_error, r2_score"
      ],
      "execution_count": 0,
      "outputs": []
    },
    {
      "cell_type": "code",
      "metadata": {
        "id": "Z8HkYIselw7u",
        "colab_type": "code",
        "colab": {}
      },
      "source": [
        "# Create linear regression object\n",
        "regr = linear_model.LinearRegression()"
      ],
      "execution_count": 0,
      "outputs": []
    },
    {
      "cell_type": "code",
      "metadata": {
        "id": "3l6-tXvClzGF",
        "colab_type": "code",
        "colab": {
          "base_uri": "https://localhost:8080/",
          "height": 34
        },
        "outputId": "db1a5beb-b7ca-453b-f780-75fdea0d08d2"
      },
      "source": [
        "regr.fit(X_train, Y_train)"
      ],
      "execution_count": 166,
      "outputs": [
        {
          "output_type": "execute_result",
          "data": {
            "text/plain": [
              "LinearRegression(copy_X=True, fit_intercept=True, n_jobs=None, normalize=False)"
            ]
          },
          "metadata": {
            "tags": []
          },
          "execution_count": 166
        }
      ]
    },
    {
      "cell_type": "code",
      "metadata": {
        "id": "X17sXHl3l2b0",
        "colab_type": "code",
        "colab": {}
      },
      "source": [
        "Y_pred = regr.predict(X_test)\n"
      ],
      "execution_count": 0,
      "outputs": []
    },
    {
      "cell_type": "code",
      "metadata": {
        "id": "g9ntn3Asl69C",
        "colab_type": "code",
        "colab": {
          "base_uri": "https://localhost:8080/",
          "height": 69
        },
        "outputId": "2effc718-cc07-4c76-e404-a686bb580c53"
      },
      "source": [
        "print('Coefficients: \\n', regr.coef_)\n",
        "# The mean squared error\n",
        "print('Mean squared error: %.2f'\n",
        "      % mean_squared_error(Y_test, Y_pred))"
      ],
      "execution_count": 168,
      "outputs": [
        {
          "output_type": "stream",
          "text": [
            "Coefficients: \n",
            " [[ 0.04457472 -0.03968036 -0.01050136 -0.00560699]]\n",
            "Mean squared error: 2.72\n"
          ],
          "name": "stdout"
        }
      ]
    },
    {
      "cell_type": "code",
      "metadata": {
        "id": "evvuTpK8mVbW",
        "colab_type": "code",
        "colab": {}
      },
      "source": [
        "Y_test = Y_test.sort_index()"
      ],
      "execution_count": 0,
      "outputs": []
    },
    {
      "cell_type": "code",
      "metadata": {
        "id": "BrDmWgtlnN3j",
        "colab_type": "code",
        "colab": {
          "base_uri": "https://localhost:8080/",
          "height": 325
        },
        "outputId": "b9d6bb0f-6e20-4d4c-882f-dc63c5e242c2"
      },
      "source": [
        "Y_test"
      ],
      "execution_count": 170,
      "outputs": [
        {
          "output_type": "execute_result",
          "data": {
            "text/html": [
              "<div>\n",
              "<style scoped>\n",
              "    .dataframe tbody tr th:only-of-type {\n",
              "        vertical-align: middle;\n",
              "    }\n",
              "\n",
              "    .dataframe tbody tr th {\n",
              "        vertical-align: top;\n",
              "    }\n",
              "\n",
              "    .dataframe thead th {\n",
              "        text-align: right;\n",
              "    }\n",
              "</style>\n",
              "<table border=\"1\" class=\"dataframe\">\n",
              "  <thead>\n",
              "    <tr style=\"text-align: right;\">\n",
              "      <th></th>\n",
              "      <th>log_cases</th>\n",
              "    </tr>\n",
              "    <tr>\n",
              "      <th>date</th>\n",
              "      <th></th>\n",
              "    </tr>\n",
              "  </thead>\n",
              "  <tbody>\n",
              "    <tr>\n",
              "      <th>2020-03-06</th>\n",
              "      <td>2.397895</td>\n",
              "    </tr>\n",
              "    <tr>\n",
              "      <th>2020-03-07</th>\n",
              "      <td>2.397895</td>\n",
              "    </tr>\n",
              "    <tr>\n",
              "      <th>2020-03-08</th>\n",
              "      <td>2.484907</td>\n",
              "    </tr>\n",
              "    <tr>\n",
              "      <th>2020-03-12</th>\n",
              "      <td>4.553877</td>\n",
              "    </tr>\n",
              "    <tr>\n",
              "      <th>2020-03-19</th>\n",
              "      <td>8.282483</td>\n",
              "    </tr>\n",
              "    <tr>\n",
              "      <th>2020-03-22</th>\n",
              "      <td>9.175128</td>\n",
              "    </tr>\n",
              "    <tr>\n",
              "      <th>2020-03-28</th>\n",
              "      <td>10.301458</td>\n",
              "    </tr>\n",
              "    <tr>\n",
              "      <th>2020-03-28</th>\n",
              "      <td>10.301458</td>\n",
              "    </tr>\n",
              "  </tbody>\n",
              "</table>\n",
              "</div>"
            ],
            "text/plain": [
              "            log_cases\n",
              "date                 \n",
              "2020-03-06   2.397895\n",
              "2020-03-07   2.397895\n",
              "2020-03-08   2.484907\n",
              "2020-03-12   4.553877\n",
              "2020-03-19   8.282483\n",
              "2020-03-22   9.175128\n",
              "2020-03-28  10.301458\n",
              "2020-03-28  10.301458"
            ]
          },
          "metadata": {
            "tags": []
          },
          "execution_count": 170
        }
      ]
    },
    {
      "cell_type": "code",
      "metadata": {
        "id": "TULNDzzrl7oc",
        "colab_type": "code",
        "colab": {
          "base_uri": "https://localhost:8080/",
          "height": 156
        },
        "outputId": "7708d15c-20aa-48ac-823f-67afd3f8f346"
      },
      "source": [
        "Y_pred"
      ],
      "execution_count": 171,
      "outputs": [
        {
          "output_type": "execute_result",
          "data": {
            "text/plain": [
              "array([[3.08478416],\n",
              "       [2.8801568 ],\n",
              "       [2.75408348],\n",
              "       [2.78828485],\n",
              "       [7.78618619],\n",
              "       [8.27909581],\n",
              "       [7.39977201],\n",
              "       [7.39977201]])"
            ]
          },
          "metadata": {
            "tags": []
          },
          "execution_count": 171
        }
      ]
    },
    {
      "cell_type": "code",
      "metadata": {
        "id": "4XUZAgNwmRj5",
        "colab_type": "code",
        "colab": {}
      },
      "source": [
        ""
      ],
      "execution_count": 0,
      "outputs": []
    }
  ]
}